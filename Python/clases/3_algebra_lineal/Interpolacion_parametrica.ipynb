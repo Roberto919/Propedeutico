{
 "cells": [
  {
   "cell_type": "markdown",
   "metadata": {},
   "source": [
    "[![Binder](https://mybinder.org/badge_logo.svg)](https://mybinder.org/v2/gh/palmoreck/dockerfiles-for-binder/jupyterlab_prope_r_kernel_tidyerse) esta opción crea una máquina individual en un servidor de Google, clona el repositorio y permite la ejecución de los notebooks de jupyter."
   ]
  },
  {
   "cell_type": "code",
   "execution_count": 1,
   "metadata": {},
   "outputs": [],
   "source": [
    "import numpy as np\n",
    "from scipy.interpolate import interp1d"
   ]
  },
  {
   "cell_type": "code",
   "execution_count": 2,
   "metadata": {},
   "outputs": [],
   "source": [
    "x = [0.9, 1.3, 1.9, 2.1, 2.6, 3.0, 3.9,\n",
    "     4.4, 4.7, 5.0, 6.0, 7.0, 8.0, 9.2,\n",
    "     10.5, 11.3, 11.6, 12.0, 12.6, 13.0, 13.3]"
   ]
  },
  {
   "cell_type": "code",
   "execution_count": 3,
   "metadata": {},
   "outputs": [],
   "source": [
    "y = [1.3, 1.5, 1.85, 2.1, 2.6, 2.7, 2.4,\n",
    "     2.15, 2.05, 2.1, 2.25, 2.3, 2.25, 1.95,\n",
    "     1.4, 0.9, 0.7, 0.6, 0.5, 0.4, 0.25]"
   ]
  },
  {
   "cell_type": "code",
   "execution_count": 4,
   "metadata": {},
   "outputs": [],
   "source": [
    "t = np.linspace(0,1, len(x))"
   ]
  },
  {
   "cell_type": "code",
   "execution_count": 5,
   "metadata": {},
   "outputs": [
    {
     "data": {
      "text/plain": [
       "array([0.  , 0.05, 0.1 , 0.15, 0.2 , 0.25, 0.3 , 0.35, 0.4 , 0.45, 0.5 ,\n",
       "       0.55, 0.6 , 0.65, 0.7 , 0.75, 0.8 , 0.85, 0.9 , 0.95, 1.  ])"
      ]
     },
     "execution_count": 5,
     "metadata": {},
     "output_type": "execute_result"
    }
   ],
   "source": [
    "t"
   ]
  },
  {
   "cell_type": "code",
   "execution_count": 6,
   "metadata": {},
   "outputs": [
    {
     "data": {
      "text/plain": [
       "21"
      ]
     },
     "execution_count": 6,
     "metadata": {},
     "output_type": "execute_result"
    }
   ],
   "source": [
    "len(t)"
   ]
  },
  {
   "cell_type": "code",
   "execution_count": 7,
   "metadata": {},
   "outputs": [],
   "source": [
    "#t = np.arange(0,1,step = 1/len(x))"
   ]
  },
  {
   "cell_type": "code",
   "execution_count": 8,
   "metadata": {},
   "outputs": [
    {
     "data": {
      "text/plain": [
       "21"
      ]
     },
     "execution_count": 8,
     "metadata": {},
     "output_type": "execute_result"
    }
   ],
   "source": [
    "len(x)"
   ]
  },
  {
   "cell_type": "code",
   "execution_count": 9,
   "metadata": {},
   "outputs": [
    {
     "data": {
      "text/plain": [
       "21"
      ]
     },
     "execution_count": 9,
     "metadata": {},
     "output_type": "execute_result"
    }
   ],
   "source": [
    "len(t)"
   ]
  },
  {
   "cell_type": "code",
   "execution_count": 10,
   "metadata": {},
   "outputs": [],
   "source": [
    "pw_spline_x = interp1d(t, x, kind = 'cubic') #spline piecewise \n"
   ]
  },
  {
   "cell_type": "code",
   "execution_count": 11,
   "metadata": {},
   "outputs": [
    {
     "data": {
      "text/plain": [
       "<scipy.interpolate.interpolate.interp1d at 0x7f33032f1778>"
      ]
     },
     "execution_count": 11,
     "metadata": {},
     "output_type": "execute_result"
    }
   ],
   "source": [
    "pw_spline_x"
   ]
  },
  {
   "cell_type": "code",
   "execution_count": 12,
   "metadata": {},
   "outputs": [],
   "source": [
    "pw_spline_y = interp1d(t,y, kind = 'cubic') #spline piecewise \n"
   ]
  },
  {
   "cell_type": "code",
   "execution_count": 13,
   "metadata": {},
   "outputs": [
    {
     "data": {
      "text/plain": [
       "<scipy.interpolate.interpolate.interp1d at 0x7f33032f1a98>"
      ]
     },
     "execution_count": 13,
     "metadata": {},
     "output_type": "execute_result"
    }
   ],
   "source": [
    "pw_spline_y"
   ]
  },
  {
   "cell_type": "code",
   "execution_count": 14,
   "metadata": {},
   "outputs": [],
   "source": [
    "import matplotlib.pyplot as plt"
   ]
  },
  {
   "cell_type": "code",
   "execution_count": 15,
   "metadata": {},
   "outputs": [],
   "source": [
    "neval = 100\n",
    "teval = np.linspace(min(t),max(t), neval)\n"
   ]
  },
  {
   "cell_type": "code",
   "execution_count": 16,
   "metadata": {},
   "outputs": [],
   "source": [
    "xeval = pw_spline_x(teval)"
   ]
  },
  {
   "cell_type": "code",
   "execution_count": 17,
   "metadata": {},
   "outputs": [],
   "source": [
    "yeval = pw_spline_y(teval)"
   ]
  },
  {
   "cell_type": "code",
   "execution_count": 18,
   "metadata": {},
   "outputs": [
    {
     "name": "stdout",
     "output_type": "stream",
     "text": [
      "xeval.shape: 100\n",
      "yeval.shape: 100\n"
     ]
    }
   ],
   "source": [
    "print('xeval.shape:', xeval.shape[0])\n",
    "print('yeval.shape:', yeval.shape[0])"
   ]
  },
  {
   "cell_type": "code",
   "execution_count": 19,
   "metadata": {},
   "outputs": [
    {
     "data": {
      "image/png": "[encoded data removed]",
      "text/plain": [
       "<Figure size 432x288 with 1 Axes>"
      ]
     },
     "metadata": {
      "needs_background": "light"
     },
     "output_type": "display_data"
    }
   ],
   "source": [
    "plt.plot(x, y, 'r*',xeval, yeval, 'k-')\n",
    "plt.legend(['datos','cubic splines piecewise'], loc='best')\n",
    "plt.show()"
   ]
  },
  {
   "cell_type": "code",
   "execution_count": 20,
   "metadata": {},
   "outputs": [
    {
     "data": {
      "image/png": "[encoded data removed]",
      "text/plain": [
       "<Figure size 432x288 with 1 Axes>"
      ]
     },
     "metadata": {
      "needs_background": "light"
     },
     "output_type": "display_data"
    }
   ],
   "source": [
    "plt.plot(x, y, 'r*',xeval, yeval, 'k-')\n",
    "plt.legend(['datos','cubic splines piecewise'], loc='best')\n",
    "plt.xlim(0, 14)\n",
    "plt.ylim(-6, 4)\n",
    "plt.grid()\n",
    "plt.show()"
   ]
  },
  {
   "cell_type": "code",
   "execution_count": null,
   "metadata": {},
   "outputs": [],
   "source": [
    "%matplotlib notebook\n",
    "import matplotlib.pylab as plt\n",
    "import numpy as np\n",
    "img=plt.imread('hummingbird.png')\n",
    "fig, ax = plt.subplots()\n",
    "pos = []\n",
    "def onclick(event):\n",
    "    pos.append([event.xdata,event.ydata])\n",
    "fig.canvas.mpl_connect('button_press_event', onclick)\n",
    "im = ax.imshow(img)"
   ]
  },
  {
   "cell_type": "markdown",
   "metadata": {},
   "source": [
    "https://stackoverflow.com/questions/29379502/how-get-a-x-y-position-pointing-with-mouse-in-a-interactive-plot-python"
   ]
  },
  {
   "cell_type": "markdown",
   "metadata": {},
   "source": [
    "https://github.com/fomightez/animated_matplotlib-binder"
   ]
  },
  {
   "cell_type": "markdown",
   "metadata": {},
   "source": [
    "https://matplotlib.org/3.1.1/gallery/subplots_axes_and_figures/invert_axes.html"
   ]
  },
  {
   "cell_type": "code",
   "execution_count": null,
   "metadata": {},
   "outputs": [],
   "source": [
    "%matplotlib notebook\n",
    "import matplotlib.pylab as plt\n",
    "import numpy as np\n",
    "img=plt.imread('hummingbird.png')\n",
    "fig, ax = plt.subplots()\n",
    "pos = []\n",
    "def onclick(event):\n",
    "    pos.append([event.xdata,event.ydata])\n",
    "fig.canvas.mpl_connect('button_press_event', onclick)\n",
    "im = plt.imshow(img)"
   ]
  },
  {
   "cell_type": "code",
   "execution_count": null,
   "metadata": {},
   "outputs": [],
   "source": [
    "import numpy as np\n",
    "from scipy.interpolate import interp1d\n",
    "import matplotlib.pyplot as plt"
   ]
  },
  {
   "cell_type": "code",
   "execution_count": null,
   "metadata": {},
   "outputs": [],
   "source": [
    "a =np.array([[40.10117543208122, 866.8725649350652],\n",
    " [57.354963310869095, 763.3498376623379],\n",
    " [42.566002271908076, 625.3195346320348],\n",
    " [47.49565595156179, 452.78165584415603],\n",
    " [114.04598062688643, 336.9347943722945],\n",
    " [185.5259589818649, 137.28382034632045],\n",
    " [316.16178149268745, 139.7486471861473],\n",
    " [399.9658940468, 147.14312770562788],\n",
    " [557.7148117957179, 60.874188311688386],\n",
    " [634.12444383035, 31.296266233766346],\n",
    " [545.3906775965836, 105.24107142857156],\n",
    " [456.6569113628173, 152.07278138528147],\n",
    " [397.5010672069731, 211.22862554112567],\n",
    " [377.7824524883584, 267.919642857143],\n",
    " [380.24727932818524, 339.39962121212136],\n",
    " [399.9658940468, 435.52786796536816],\n",
    " [399.9658940468, 521.7968073593075],\n",
    " [382.7121061680121, 600.6712662337663],\n",
    " [353.13418409009006, 674.6160714285716],\n",
    " [318.6266083325142, 674.6160714285716],\n",
    " [291.513513094419, 679.5457251082253],\n",
    " [269.3300715359774, 768.2794913419915],\n",
    " [249.6114568173627, 854.5484307359309],\n",
    " [212.6390542199601, 884.126352813853],\n",
    " [128.83494166584757, 876.7318722943725],\n",
    " [37.63634859225448, 889.0560064935066],\n",
    " [37.63634859225448, 817.5760281385283],\n",
    " [64.74944383034966, 711.5884740259742],\n",
    " [54.890136471042354, 649.9678030303032]])"
   ]
  },
  {
   "cell_type": "code",
   "execution_count": 3,
   "metadata": {},
   "outputs": [],
   "source": [
    "a = np.array(\n",
    "[[52.4253096312155, 901.3801406926409],\n",
    " [37.63634859225448, 849.6187770562772],\n",
    " [47.49565595156179, 805.2518939393941],\n",
    " [59.81979015069595, 736.2367424242426],\n",
    " [62.28461699052281, 674.6160714285716],\n",
    " [45.03082911173493, 625.3195346320348],\n",
    " [25.3122143931202, 576.022997835498],\n",
    " [30.24186807277391, 529.191287878788],\n",
    " [42.566002271908076, 465.1057900432902],\n",
    " [89.3977122286181, 361.58306277056295],\n",
    " [114.04598062688643, 329.54031385281394],\n",
    " [151.01838322428904, 198.9044913419915],\n",
    " [202.77974686065278, 132.35416666666674],\n",
    " [259.4707641766701, 115.10037878787887],\n",
    " [323.5562620121679, 142.21347402597416],\n",
    " [362.99349144939737, 159.46726190476204],\n",
    " [402.43072088662683, 139.7486471861473],\n",
    " [476.37552608143204, 105.24107142857156],\n",
    " [528.1368897177956, 75.66314935064952],\n",
    " [567.5741191550251, 55.94453463203479],\n",
    " [597.1520412329473, 31.296266233766346],\n",
    " [639.0540975100037, 38.69074675324691],\n",
    " [609.4761754320814, 60.874188311688386],\n",
    " [567.5741191550251, 85.52245670995683],\n",
    " [537.996197077103, 102.7762445887447],\n",
    " [481.30517976108575, 129.88933982684],\n",
    " [424.6141624450684, 161.9320887445889],\n",
    " [397.5010672069731, 196.43966450216465],\n",
    " [375.31762564853153, 255.59550865800884],\n",
    " [377.7824524883584, 314.7513528138529],\n",
    " [387.6417598476658, 373.9071969696971],\n",
    " [395.03624036714626, 410.8795995670997],\n",
    " [399.9658940468, 467.57061688311705],\n",
    " [399.9658940468, 519.3319805194807],\n",
    " [392.5714135273194, 576.022997835498],\n",
    " [372.8527988087047, 640.1084956709958],\n",
    " [360.5286646095705, 659.8271103896105],\n",
    " [353.13418409009006, 679.5457251082253],\n",
    " [318.6266083325142, 674.6160714285716],\n",
    " [296.4431667740727, 674.6160714285716],\n",
    " [281.6542057351116, 721.4477813852816],\n",
    " [269.3300715359774, 760.885010822511],\n",
    " [259.4707641766701, 802.7870670995673],\n",
    " [257.00593733684326, 827.4353354978357],\n",
    " [244.68180313770898, 859.4780844155846],\n",
    " [222.4983615792675, 876.7318722943725],\n",
    " [200.31492002082592, 891.5208333333335],\n",
    " [148.5535563844623, 884.126352813853],\n",
    " [89.3977122286181, 879.1966991341993],\n",
    " [57.354963310869095, 884.126352813853],\n",
    " [52.4253096312155, 886.5911796536798]])"
   ]
  },
  {
   "cell_type": "code",
   "execution_count": 4,
   "metadata": {},
   "outputs": [
    {
     "data": {
      "text/plain": [
       "array([[ 52.42530963, 901.38014069],\n",
       "       [ 37.63634859, 849.61877706],\n",
       "       [ 47.49565595, 805.25189394],\n",
       "       [ 59.81979015, 736.23674242],\n",
       "       [ 62.28461699, 674.61607143],\n",
       "       [ 45.03082911, 625.31953463],\n",
       "       [ 25.31221439, 576.02299784],\n",
       "       [ 30.24186807, 529.19128788],\n",
       "       [ 42.56600227, 465.10579004],\n",
       "       [ 89.39771223, 361.58306277],\n",
       "       [114.04598063, 329.54031385],\n",
       "       [151.01838322, 198.90449134],\n",
       "       [202.77974686, 132.35416667],\n",
       "       [259.47076418, 115.10037879],\n",
       "       [323.55626201, 142.21347403],\n",
       "       [362.99349145, 159.4672619 ],\n",
       "       [402.43072089, 139.74864719],\n",
       "       [476.37552608, 105.24107143],\n",
       "       [528.13688972,  75.66314935],\n",
       "       [567.57411916,  55.94453463],\n",
       "       [597.15204123,  31.29626623],\n",
       "       [639.05409751,  38.69074675],\n",
       "       [609.47617543,  60.87418831],\n",
       "       [567.57411916,  85.52245671],\n",
       "       [537.99619708, 102.77624459],\n",
       "       [481.30517976, 129.88933983],\n",
       "       [424.61416245, 161.93208874],\n",
       "       [397.50106721, 196.4396645 ],\n",
       "       [375.31762565, 255.59550866],\n",
       "       [377.78245249, 314.75135281],\n",
       "       [387.64175985, 373.90719697],\n",
       "       [395.03624037, 410.87959957],\n",
       "       [399.96589405, 467.57061688],\n",
       "       [399.96589405, 519.33198052],\n",
       "       [392.57141353, 576.02299784],\n",
       "       [372.85279881, 640.10849567],\n",
       "       [360.52866461, 659.82711039],\n",
       "       [353.13418409, 679.54572511],\n",
       "       [318.62660833, 674.61607143],\n",
       "       [296.44316677, 674.61607143],\n",
       "       [281.65420574, 721.44778139],\n",
       "       [269.33007154, 760.88501082],\n",
       "       [259.47076418, 802.7870671 ],\n",
       "       [257.00593734, 827.4353355 ],\n",
       "       [244.68180314, 859.47808442],\n",
       "       [222.49836158, 876.73187229],\n",
       "       [200.31492002, 891.52083333],\n",
       "       [148.55355638, 884.12635281],\n",
       "       [ 89.39771223, 879.19669913],\n",
       "       [ 57.35496331, 884.12635281],\n",
       "       [ 52.42530963, 886.59117965]])"
      ]
     },
     "execution_count": 4,
     "metadata": {},
     "output_type": "execute_result"
    }
   ],
   "source": [
    "a"
   ]
  },
  {
   "cell_type": "code",
   "execution_count": 5,
   "metadata": {},
   "outputs": [],
   "source": [
    "x = a[:,0]"
   ]
  },
  {
   "cell_type": "code",
   "execution_count": 6,
   "metadata": {},
   "outputs": [
    {
     "data": {
      "text/plain": [
       "array([ 52.42530963,  37.63634859,  47.49565595,  59.81979015,\n",
       "        62.28461699,  45.03082911,  25.31221439,  30.24186807,\n",
       "        42.56600227,  89.39771223, 114.04598063, 151.01838322,\n",
       "       202.77974686, 259.47076418, 323.55626201, 362.99349145,\n",
       "       402.43072089, 476.37552608, 528.13688972, 567.57411916,\n",
       "       597.15204123, 639.05409751, 609.47617543, 567.57411916,\n",
       "       537.99619708, 481.30517976, 424.61416245, 397.50106721,\n",
       "       375.31762565, 377.78245249, 387.64175985, 395.03624037,\n",
       "       399.96589405, 399.96589405, 392.57141353, 372.85279881,\n",
       "       360.52866461, 353.13418409, 318.62660833, 296.44316677,\n",
       "       281.65420574, 269.33007154, 259.47076418, 257.00593734,\n",
       "       244.68180314, 222.49836158, 200.31492002, 148.55355638,\n",
       "        89.39771223,  57.35496331,  52.42530963])"
      ]
     },
     "execution_count": 6,
     "metadata": {},
     "output_type": "execute_result"
    }
   ],
   "source": [
    "x"
   ]
  },
  {
   "cell_type": "code",
   "execution_count": 7,
   "metadata": {},
   "outputs": [],
   "source": [
    "y = a[:,1]"
   ]
  },
  {
   "cell_type": "code",
   "execution_count": 8,
   "metadata": {},
   "outputs": [],
   "source": [
    "t = np.linspace(0,1, len(x))"
   ]
  },
  {
   "cell_type": "code",
   "execution_count": 9,
   "metadata": {},
   "outputs": [
    {
     "data": {
      "text/plain": [
       "array([0.  , 0.02, 0.04, 0.06, 0.08, 0.1 , 0.12, 0.14, 0.16, 0.18, 0.2 ,\n",
       "       0.22, 0.24, 0.26, 0.28, 0.3 , 0.32, 0.34, 0.36, 0.38, 0.4 , 0.42,\n",
       "       0.44, 0.46, 0.48, 0.5 , 0.52, 0.54, 0.56, 0.58, 0.6 , 0.62, 0.64,\n",
       "       0.66, 0.68, 0.7 , 0.72, 0.74, 0.76, 0.78, 0.8 , 0.82, 0.84, 0.86,\n",
       "       0.88, 0.9 , 0.92, 0.94, 0.96, 0.98, 1.  ])"
      ]
     },
     "execution_count": 9,
     "metadata": {},
     "output_type": "execute_result"
    }
   ],
   "source": [
    "t"
   ]
  },
  {
   "cell_type": "code",
   "execution_count": 10,
   "metadata": {},
   "outputs": [
    {
     "data": {
      "text/plain": [
       "51"
      ]
     },
     "execution_count": 10,
     "metadata": {},
     "output_type": "execute_result"
    }
   ],
   "source": [
    "len(t)"
   ]
  },
  {
   "cell_type": "code",
   "execution_count": 11,
   "metadata": {},
   "outputs": [
    {
     "data": {
      "text/plain": [
       "51"
      ]
     },
     "execution_count": 11,
     "metadata": {},
     "output_type": "execute_result"
    }
   ],
   "source": [
    "len(x)"
   ]
  },
  {
   "cell_type": "code",
   "execution_count": 12,
   "metadata": {},
   "outputs": [],
   "source": [
    "pw_spline_x = interp1d(t, x, kind = 'cubic') #spline piecewise \n"
   ]
  },
  {
   "cell_type": "code",
   "execution_count": 13,
   "metadata": {},
   "outputs": [
    {
     "data": {
      "text/plain": [
       "<scipy.interpolate.interpolate.interp1d at 0x7f640c7c5e08>"
      ]
     },
     "execution_count": 13,
     "metadata": {},
     "output_type": "execute_result"
    }
   ],
   "source": [
    "pw_spline_x"
   ]
  },
  {
   "cell_type": "code",
   "execution_count": 14,
   "metadata": {},
   "outputs": [],
   "source": [
    "pw_spline_y = interp1d(t,y, kind = 'cubic') #spline piecewise \n"
   ]
  },
  {
   "cell_type": "code",
   "execution_count": 15,
   "metadata": {},
   "outputs": [
    {
     "data": {
      "text/plain": [
       "<scipy.interpolate.interpolate.interp1d at 0x7f640caa90e8>"
      ]
     },
     "execution_count": 15,
     "metadata": {},
     "output_type": "execute_result"
    }
   ],
   "source": [
    "pw_spline_y"
   ]
  },
  {
   "cell_type": "code",
   "execution_count": 16,
   "metadata": {},
   "outputs": [],
   "source": [
    "neval = 100\n",
    "teval = np.linspace(min(t),max(t), neval)\n"
   ]
  },
  {
   "cell_type": "code",
   "execution_count": 17,
   "metadata": {},
   "outputs": [],
   "source": [
    "xeval = pw_spline_x(teval)"
   ]
  },
  {
   "cell_type": "code",
   "execution_count": 18,
   "metadata": {},
   "outputs": [],
   "source": [
    "yeval = pw_spline_y(teval)"
   ]
  },
  {
   "cell_type": "code",
   "execution_count": 19,
   "metadata": {},
   "outputs": [
    {
     "name": "stdout",
     "output_type": "stream",
     "text": [
      "xeval.shape: 100\n",
      "yeval.shape: 100\n"
     ]
    }
   ],
   "source": [
    "print('xeval.shape:', xeval.shape[0])\n",
    "print('yeval.shape:', yeval.shape[0])"
   ]
  },
  {
   "cell_type": "code",
   "execution_count": 20,
   "metadata": {},
   "outputs": [
    {
     "data": {
      "text/plain": [
       "array([ 52.42530963,  40.31644347,  37.65484324,  41.21593352,\n",
       "        47.77516238,  54.52044518,  60.10326582,  63.26522947,\n",
       "        61.96475013,  54.92541995,  43.79820142,  31.78569011,\n",
       "        24.98814684,  26.67017008,  30.65259707,  33.81369464,\n",
       "        45.45048667,  69.69634572,  92.73121895, 105.49827855,\n",
       "       116.68523899, 133.85212323, 156.32681069, 182.19456069,\n",
       "       209.28087779, 237.0028309 , 267.99106319, 301.68550887,\n",
       "       330.81410029, 351.54919327, 367.5917541 , 385.10304024,\n",
       "       412.9614424 , 451.56661892, 487.3966635 , 513.73964575,\n",
       "       536.10342916, 556.92959234, 572.87833723, 586.15912184,\n",
       "       606.84854606, 631.48202504, 638.71917458, 622.87533115,\n",
       "       598.88660307, 577.12717424, 560.92197575, 547.26188797,\n",
       "       526.83487679, 497.51252561, 465.09729648, 435.77391401,\n",
       "       415.39702319, 402.81014582, 390.59903719, 378.7080215 ,\n",
       "       373.59722459, 375.80354994, 380.72456693, 385.77253427,\n",
       "       390.17194279, 393.7948677 , 396.93474667, 399.37412845,\n",
       "       400.548413  , 400.32761386, 398.78273141, 394.72769376,\n",
       "       386.46949251, 375.87585483, 366.84796997, 361.33550813,\n",
       "       359.50430249, 355.60290831, 341.92532648, 322.82495542,\n",
       "       307.99572255, 298.26190237, 290.2748393 , 283.01176373,\n",
       "       276.51347669, 270.42411788, 264.44462119, 259.92246612,\n",
       "       258.32106317, 257.31726471, 253.47779064, 245.8519067 ,\n",
       "       234.87049565, 223.5064776 , 214.20878026, 201.69164262,\n",
       "       179.71577603, 150.43723625, 118.80539081,  90.38631861,\n",
       "        69.91274483,  57.52804848,  52.08225335,  52.42530963])"
      ]
     },
     "execution_count": 20,
     "metadata": {},
     "output_type": "execute_result"
    }
   ],
   "source": [
    "xeval"
   ]
  },
  {
   "cell_type": "code",
   "execution_count": 21,
   "metadata": {},
   "outputs": [
    {
     "data": {
      "text/plain": [
       "array([901.38014069, 871.15316506, 849.21908125, 829.04040231,\n",
       "       804.0797955 , 770.50971508, 734.11780447, 701.17841233,\n",
       "       672.4656131 , 647.13581844, 622.86636175, 597.910386  ,\n",
       "       573.09529706, 549.2583378 , 525.92393937, 499.18799133,\n",
       "       456.71258626, 398.24882497, 357.11849101, 346.59430315,\n",
       "       320.56045347, 253.75760938, 186.49726219, 148.47316739,\n",
       "       128.27447041, 116.26451983, 116.71960049, 130.08961266,\n",
       "       146.48734208, 157.36244384, 158.6545631 , 149.65038355,\n",
       "       134.51303802, 116.98676847,  99.38004323,  83.75413682,\n",
       "        71.93104402,  62.72710587,  50.78618452,  36.79523805,\n",
       "        30.00823931,  33.73562786,  42.81628062,  53.9207161 ,\n",
       "        66.64087776,  79.51862862,  89.77528922,  97.94191048,\n",
       "       108.20111649, 122.06616827, 138.03020508, 154.41652848,\n",
       "       169.7161731 , 186.4808947 , 210.7517754 , 241.69692298,\n",
       "       272.48702311, 301.90557613, 333.32849284, 363.80887113,\n",
       "       385.88511911, 403.10060295, 426.75240047, 456.80570306,\n",
       "       485.30955174, 510.79703142, 536.42700636, 565.47122835,\n",
       "       600.28345152, 632.89891518, 650.59444144, 657.74371678,\n",
       "       667.34218783, 677.85776197, 680.60418248, 676.147203  ,\n",
       "       670.3549607 , 672.16168221, 690.00122109, 716.44211856,\n",
       "       738.45970006, 757.25760451, 779.00938293, 800.02063218,\n",
       "       814.04743901, 825.53348868, 841.43182871, 857.85202705,\n",
       "       868.40438797, 875.91308496, 884.90489486, 891.32610809,\n",
       "       889.96848142, 884.4496519 , 880.34372916, 879.17771638,\n",
       "       880.93092927, 884.06316087, 886.60604213, 886.59117965])"
      ]
     },
     "execution_count": 21,
     "metadata": {},
     "output_type": "execute_result"
    }
   ],
   "source": [
    "yeval"
   ]
  },
  {
   "cell_type": "code",
   "execution_count": 22,
   "metadata": {},
   "outputs": [
    {
     "data": {
      "text/plain": [
       "(25.3122143931202, 639.0540975100037)"
      ]
     },
     "execution_count": 22,
     "metadata": {},
     "output_type": "execute_result"
    }
   ],
   "source": [
    "np.min(x),np.max(x)"
   ]
  },
  {
   "cell_type": "code",
   "execution_count": 23,
   "metadata": {},
   "outputs": [
    {
     "data": {
      "text/plain": [
       "(31.296266233766346, 901.3801406926409)"
      ]
     },
     "execution_count": 23,
     "metadata": {},
     "output_type": "execute_result"
    }
   ],
   "source": [
    "np.min(y), np.max(y)"
   ]
  },
  {
   "cell_type": "code",
   "execution_count": 23,
   "metadata": {},
   "outputs": [
    {
     "data": {
      "image/png": "[encoded data removed]",
      "text/plain": [
       "<Figure size 432x288 with 1 Axes>"
      ]
     },
     "metadata": {
      "needs_background": "light"
     },
     "output_type": "display_data"
    }
   ],
   "source": [
    "plt.plot(x, y, 'r*',xeval, yeval, 'k-')\n",
    "plt.legend(['datos','cubic splines piecewise'], loc='best')\n",
    "plt.xlim(0, 660)\n",
    "plt.ylim(0, 911)\n",
    "plt.show()"
   ]
  },
  {
   "cell_type": "code",
   "execution_count": 24,
   "metadata": {},
   "outputs": [
    {
     "data": {
      "image/png": "[encoded data removed]",
      "text/plain": [
       "<Figure size 432x288 with 1 Axes>"
      ]
     },
     "metadata": {
      "needs_background": "light"
     },
     "output_type": "display_data"
    }
   ],
   "source": [
    "plt.plot(x, y, 'r*',xeval, yeval, 'k-')\n",
    "plt.legend(['datos','cubic splines piecewise'], loc='best')\n",
    "plt.xlim(np.min(x), np.max(x))\n",
    "plt.ylim(np.min(y), np.max(y))\n",
    "plt.show()"
   ]
  },
  {
   "cell_type": "code",
   "execution_count": 25,
   "metadata": {},
   "outputs": [
    {
     "data": {
      "image/png": "[encoded data removed]",
      "text/plain": [
       "<Figure size 432x288 with 1 Axes>"
      ]
     },
     "metadata": {
      "needs_background": "light"
     },
     "output_type": "display_data"
    }
   ],
   "source": [
    "plt.plot(y, x, 'r*',yeval, xeval, 'k-')\n",
    "plt.legend(['datos','cubic splines piecewise'], loc='best')\n",
    "plt.xlim(0,911)\n",
    "plt.ylim(0, 660)\n",
    "plt.show()"
   ]
  },
  {
   "cell_type": "code",
   "execution_count": 26,
   "metadata": {},
   "outputs": [
    {
     "data": {
      "image/png": "[encoded data removed]",
      "text/plain": [
       "<Figure size 432x288 with 1 Axes>"
      ]
     },
     "metadata": {
      "needs_background": "light"
     },
     "output_type": "display_data"
    }
   ],
   "source": [
    "plt.plot(y, x, 'r*',yeval, xeval, 'k-')\n",
    "plt.legend(['datos','cubic splines piecewise'], loc='best')\n",
    "plt.xlim(np.min(y)-100,np.max(y)+100)\n",
    "plt.ylim(np.min(x)-100, np.max(x)+100)\n",
    "plt.show()"
   ]
  },
  {
   "cell_type": "code",
   "execution_count": 37,
   "metadata": {},
   "outputs": [
    {
     "data": {
      "image/png": "[encoded data removed]",
      "text/plain": [
       "<Figure size 432x288 with 1 Axes>"
      ]
     },
     "metadata": {
      "needs_background": "light"
     },
     "output_type": "display_data"
    }
   ],
   "source": [
    "fig, ax = plt.subplots()\n",
    "ax.plot(xeval,yeval)\n",
    "ax.set_ylim(np.max(y)+50,np.min(y)-50)\n",
    "plt.xlim(np.min(x)-500,np.max(x)+500)\n",
    "plt.show()"
   ]
  },
  {
   "cell_type": "code",
   "execution_count": 29,
   "metadata": {},
   "outputs": [
    {
     "data": {
      "image/png": "[encoded data removed]",
      "text/plain": [
       "<Figure size 432x288 with 1 Axes>"
      ]
     },
     "metadata": {
      "needs_background": "light"
     },
     "output_type": "display_data"
    }
   ],
   "source": [
    "plt.plot(y, x, 'r*',yeval, xeval, 'k-')\n",
    "plt.legend(['datos','cubic splines piecewise'], loc='best')\n",
    "plt.xlim(0,911)\n",
    "plt.ylim(0, 660)\n",
    "plt.gca().invert_yaxis()\n",
    "plt.show()"
   ]
  },
  {
   "cell_type": "code",
   "execution_count": 53,
   "metadata": {},
   "outputs": [],
   "source": [
    "a = np.array([[20.10712553412361, 1022.6723658078677],\n",
    " [22.945328997327124, 951.7172792277811],\n",
    " [25.783532460530523, 889.276803037305],\n",
    " [28.621735923734036, 792.7778852883871],\n",
    " [34.29814285014095, 699.1171710026729],\n",
    " [45.65095670295477, 596.9418463273481],\n",
    " [57.0037705557686, 508.9575389680408],\n",
    " [65.51838094537902, 426.6496385351403],\n",
    " [71.19478787178593, 341.5035346390364],\n",
    " [85.38580518780327, 219.4607857212875],\n",
    " [88.22400865100678, 131.47647836198007],\n",
    " [82.54760172459976, 91.74162987713157],\n",
    " [71.19478787178593, 54.84498485548647],\n",
    " [93.9004155774137, 20.786543297045],\n",
    " [122.28245020944826, 15.110136370638202],\n",
    " [147.82628137827942, 15.110136370638202],\n",
    " [167.69370562070367, 26.462950223452026],\n",
    " [181.884722936721, 37.81576407626585],\n",
    " [181.884722936721, 71.87420563470732],\n",
    " [179.0465194735176, 103.0944437299454],\n",
    " [164.85550215750027, 139.9910887515905],\n",
    " [173.37011254711058, 205.26976840527016],\n",
    " [173.37011254711058, 259.195634206136],\n",
    " [173.37011254711058, 279.06305844856024],\n",
    " [173.37011254711058, 335.8271277126295],\n",
    " [184.72292639992452, 395.4294004399022],\n",
    " [196.07574025273834, 466.3844870199888],\n",
    " [198.91394371594174, 551.5305909160927],\n",
    " [210.26675756875568, 636.6766948121966],\n",
    " [221.6195714215695, 718.9845952450971],\n",
    " [224.45777488477302, 772.9104610459628],\n",
    " [224.45777488477302, 818.3217164572184],\n",
    " [230.13418181117993, 869.4093787948807],\n",
    " [230.13418181117993, 923.3352445957464],\n",
    " [241.48699566399375, 999.96673810224],\n",
    " [230.13418181117993, 1022.6723658078677],\n",
    " [181.884722936721, 1031.186976197478],\n",
    " [136.4734675254656, 1031.186976197478],\n",
    " [76.87119479819285, 1031.186976197478],\n",
    " [20.10712553412361, 1031.186976197478]])"
   ]
  },
  {
   "cell_type": "code",
   "execution_count": 54,
   "metadata": {},
   "outputs": [],
   "source": [
    "x = a[:,0]"
   ]
  },
  {
   "cell_type": "code",
   "execution_count": 55,
   "metadata": {},
   "outputs": [
    {
     "data": {
      "text/plain": [
       "array([ 20.10712553,  22.945329  ,  25.78353246,  28.62173592,\n",
       "        34.29814285,  45.6509567 ,  57.00377056,  65.51838095,\n",
       "        71.19478787,  85.38580519,  88.22400865,  82.54760172,\n",
       "        71.19478787,  93.90041558, 122.28245021, 147.82628138,\n",
       "       167.69370562, 181.88472294, 181.88472294, 179.04651947,\n",
       "       164.85550216, 173.37011255, 173.37011255, 173.37011255,\n",
       "       173.37011255, 184.7229264 , 196.07574025, 198.91394372,\n",
       "       210.26675757, 221.61957142, 224.45777488, 224.45777488,\n",
       "       230.13418181, 230.13418181, 241.48699566, 230.13418181,\n",
       "       181.88472294, 136.47346753,  76.8711948 ,  20.10712553])"
      ]
     },
     "execution_count": 55,
     "metadata": {},
     "output_type": "execute_result"
    }
   ],
   "source": [
    "x"
   ]
  },
  {
   "cell_type": "code",
   "execution_count": 56,
   "metadata": {},
   "outputs": [],
   "source": [
    "y = a[:,1]"
   ]
  },
  {
   "cell_type": "code",
   "execution_count": 57,
   "metadata": {},
   "outputs": [],
   "source": [
    "t = np.linspace(0,1, len(x))"
   ]
  },
  {
   "cell_type": "code",
   "execution_count": 58,
   "metadata": {},
   "outputs": [
    {
     "data": {
      "text/plain": [
       "array([0.        , 0.02564103, 0.05128205, 0.07692308, 0.1025641 ,\n",
       "       0.12820513, 0.15384615, 0.17948718, 0.20512821, 0.23076923,\n",
       "       0.25641026, 0.28205128, 0.30769231, 0.33333333, 0.35897436,\n",
       "       0.38461538, 0.41025641, 0.43589744, 0.46153846, 0.48717949,\n",
       "       0.51282051, 0.53846154, 0.56410256, 0.58974359, 0.61538462,\n",
       "       0.64102564, 0.66666667, 0.69230769, 0.71794872, 0.74358974,\n",
       "       0.76923077, 0.79487179, 0.82051282, 0.84615385, 0.87179487,\n",
       "       0.8974359 , 0.92307692, 0.94871795, 0.97435897, 1.        ])"
      ]
     },
     "execution_count": 58,
     "metadata": {},
     "output_type": "execute_result"
    }
   ],
   "source": [
    "t"
   ]
  },
  {
   "cell_type": "code",
   "execution_count": 59,
   "metadata": {},
   "outputs": [
    {
     "data": {
      "text/plain": [
       "40"
      ]
     },
     "execution_count": 59,
     "metadata": {},
     "output_type": "execute_result"
    }
   ],
   "source": [
    "len(t)"
   ]
  },
  {
   "cell_type": "code",
   "execution_count": 60,
   "metadata": {},
   "outputs": [
    {
     "data": {
      "text/plain": [
       "40"
      ]
     },
     "execution_count": 60,
     "metadata": {},
     "output_type": "execute_result"
    }
   ],
   "source": [
    "len(x)"
   ]
  },
  {
   "cell_type": "code",
   "execution_count": 61,
   "metadata": {},
   "outputs": [],
   "source": [
    "pw_spline_x = interp1d(t, x, kind = 'cubic') #spline piecewise \n"
   ]
  },
  {
   "cell_type": "code",
   "execution_count": 62,
   "metadata": {},
   "outputs": [
    {
     "data": {
      "text/plain": [
       "<scipy.interpolate.interpolate.interp1d at 0x7fa7e17483b8>"
      ]
     },
     "execution_count": 62,
     "metadata": {},
     "output_type": "execute_result"
    }
   ],
   "source": [
    "pw_spline_x"
   ]
  },
  {
   "cell_type": "code",
   "execution_count": 63,
   "metadata": {},
   "outputs": [],
   "source": [
    "pw_spline_y = interp1d(t,y, kind = 'cubic') #spline piecewise \n"
   ]
  },
  {
   "cell_type": "code",
   "execution_count": 64,
   "metadata": {},
   "outputs": [
    {
     "data": {
      "text/plain": [
       "<scipy.interpolate.interpolate.interp1d at 0x7fa7e25e25e8>"
      ]
     },
     "execution_count": 64,
     "metadata": {},
     "output_type": "execute_result"
    }
   ],
   "source": [
    "pw_spline_y"
   ]
  },
  {
   "cell_type": "code",
   "execution_count": 65,
   "metadata": {},
   "outputs": [],
   "source": [
    "neval = 100\n",
    "teval = np.linspace(min(t),max(t), neval)\n"
   ]
  },
  {
   "cell_type": "code",
   "execution_count": 66,
   "metadata": {},
   "outputs": [],
   "source": [
    "xeval = pw_spline_x(teval)"
   ]
  },
  {
   "cell_type": "code",
   "execution_count": 67,
   "metadata": {},
   "outputs": [],
   "source": [
    "yeval = pw_spline_y(teval)"
   ]
  },
  {
   "cell_type": "code",
   "execution_count": 68,
   "metadata": {},
   "outputs": [
    {
     "name": "stdout",
     "output_type": "stream",
     "text": [
      "xeval.shape: 100\n",
      "yeval.shape: 100\n"
     ]
    }
   ],
   "source": [
    "print('xeval.shape:', xeval.shape[0])\n",
    "print('yeval.shape:', yeval.shape[0])"
   ]
  },
  {
   "cell_type": "code",
   "execution_count": 69,
   "metadata": {},
   "outputs": [
    {
     "data": {
      "text/plain": [
       "array([ 20.10712553,  21.18826855,  22.32377188,  23.47830132,\n",
       "        24.61652266,  25.70310171,  26.73049557,  27.83129193,\n",
       "        29.1839764 ,  31.0451403 ,  33.77701272,  37.64994237,\n",
       "        42.29962712,  47.11517367,  51.70435303,  56.0389755 ,\n",
       "        60.09048761,  63.54705   ,  65.96310027,  67.57265834,\n",
       "        70.00337448,  74.81153361,  80.98661975,  85.97443524,\n",
       "        88.16397101,  88.3964153 ,  87.79956612,  86.12940635,\n",
       "        82.12831679,  75.80887579,  71.29839462,  73.30969955,\n",
       "        82.1008152 ,  93.90041558, 105.49672726, 116.49689769,\n",
       "       127.20025096, 137.55769129, 147.13491415, 155.59805057,\n",
       "       163.22016772, 170.44750513, 176.97168536, 181.46340921,\n",
       "       182.86639213, 182.33066278, 181.85197119, 181.82666889,\n",
       "       179.99218437, 174.3983891 , 167.69428276, 164.75510167,\n",
       "       167.58397966, 172.27115236, 174.55930065, 174.18378746,\n",
       "       173.2828897 , 173.23946304, 173.43157898, 173.02072084,\n",
       "       172.53965076, 173.53460014, 177.00377347, 182.12712197,\n",
       "       187.72838387, 192.71614597, 196.07574025, 197.314753  ,\n",
       "       198.01872711, 200.23916502, 204.54187473, 209.85009822,\n",
       "       215.07817634, 219.52417416, 222.61578514, 224.16284079,\n",
       "       224.49206012, 224.05230704, 223.83817404, 225.04291766,\n",
       "       227.69840145, 229.90737967, 229.97166688, 229.30424314,\n",
       "       230.82420948, 235.52874568, 240.45807757, 242.26669636,\n",
       "       238.6566849 , 227.96505585, 210.19359654, 189.55494657,\n",
       "       170.60546818, 153.45471895, 134.92547682, 112.8349515 ,\n",
       "        88.40762576,  63.54372755,  40.14348482,  20.10712553])"
      ]
     },
     "execution_count": 69,
     "metadata": {},
     "output_type": "execute_result"
    }
   ],
   "source": [
    "xeval"
   ]
  },
  {
   "cell_type": "code",
   "execution_count": 70,
   "metadata": {},
   "outputs": [
    {
     "data": {
      "text/plain": [
       "array([1022.67236581,  989.34743061,  963.75530817,  941.72855906,\n",
       "        919.0997438 ,  891.70142294,  856.59687212,  817.05493449,\n",
       "        778.2162448 ,  741.82291431,  705.01865078,  665.27990838,\n",
       "        624.2926184 ,  585.37295076,  549.99831811,  516.58667344,\n",
       "        483.48628344,  450.83211181,  419.61863456,  388.93441457,\n",
       "        353.95281071,  310.08804625,  260.39361931,  212.51977565,\n",
       "        172.33973527,  141.04762914,  118.91769674,  103.58690823,\n",
       "         90.74306376,   76.99950503,   62.05806174,   46.30559152,\n",
       "         31.53002205,   20.7865433 ,   16.10118759,   15.20071858,\n",
       "         14.82410544,   14.12559871,   14.92975507,   18.62469387,\n",
       "         23.70112901,   27.79529555,   30.96066243,   36.52112377,\n",
       "         47.32281102,   61.67826429,   76.13858474,   88.82204314,\n",
       "        100.45596054,  112.1449969 ,  126.06653586,  144.90914462,\n",
       "        169.49877765,  196.83969387,  223.47034284,  245.9518105 ,\n",
       "        260.86625748,  267.90534371,  274.66654766,  289.41336845,\n",
       "        312.35191276,  337.73271074,  361.35452388,  384.38339958,\n",
       "        408.99417549,  436.2858822 ,  466.38448702,  499.10690234,\n",
       "        533.17405888,  567.07334941,  600.41504844,  634.05087504,\n",
       "        668.36354979,  701.04704898,  729.00171737,  751.34164656,\n",
       "        770.1760486 ,  787.70863606,  805.38890142,  824.35573784,\n",
       "        844.7308614 ,  864.9483514 ,  883.77110556,  903.94698428,\n",
       "        930.13998687,  962.63388788,  992.71524783, 1011.46816447,\n",
       "       1019.51384461, 1023.21296305, 1027.01899834, 1030.33542295,\n",
       "       1031.87492505, 1031.75880216, 1031.1495172 , 1030.93787388,\n",
       "       1031.0731945 , 1031.31808268, 1031.43514204, 1031.1869762 ])"
      ]
     },
     "execution_count": 70,
     "metadata": {},
     "output_type": "execute_result"
    }
   ],
   "source": [
    "yeval"
   ]
  },
  {
   "cell_type": "code",
   "execution_count": 74,
   "metadata": {},
   "outputs": [
    {
     "data": {
      "text/plain": [
       "(20.10712553412361, 241.48699566399375)"
      ]
     },
     "execution_count": 74,
     "metadata": {},
     "output_type": "execute_result"
    }
   ],
   "source": [
    "np.min(x),np.max(x)"
   ]
  },
  {
   "cell_type": "code",
   "execution_count": 75,
   "metadata": {},
   "outputs": [
    {
     "data": {
      "text/plain": [
       "(15.110136370638202, 1031.186976197478)"
      ]
     },
     "execution_count": 75,
     "metadata": {},
     "output_type": "execute_result"
    }
   ],
   "source": [
    "np.min(y),np.max(y)"
   ]
  },
  {
   "cell_type": "code",
   "execution_count": 76,
   "metadata": {},
   "outputs": [
    {
     "data": {
      "image/png": "[encoded data removed]",
      "text/plain": [
       "<Figure size 432x288 with 1 Axes>"
      ]
     },
     "metadata": {
      "needs_background": "light"
     },
     "output_type": "display_data"
    }
   ],
   "source": [
    "plt.plot(x, y, 'r*',xeval, yeval, 'k-')\n",
    "plt.legend(['datos','cubic splines piecewise'], loc='best')\n",
    "plt.xlim(np.min(x), np.max(x))\n",
    "plt.ylim(np.min(y), np.max(y))\n",
    "plt.show()"
   ]
  },
  {
   "cell_type": "code",
   "execution_count": 78,
   "metadata": {},
   "outputs": [
    {
     "data": {
      "image/png": "[encoded data removed]",
      "text/plain": [
       "<Figure size 432x288 with 1 Axes>"
      ]
     },
     "metadata": {
      "needs_background": "light"
     },
     "output_type": "display_data"
    }
   ],
   "source": [
    "plt.plot(y, x, 'r*',yeval, xeval, 'k-')\n",
    "plt.legend(['datos','cubic splines piecewise'], loc='best')\n",
    "plt.xlim(np.min(y)-100,np.max(y)+100)\n",
    "plt.ylim(np.min(x)-100, np.max(x)+100)\n",
    "plt.show()"
   ]
  },
  {
   "cell_type": "code",
   "execution_count": 84,
   "metadata": {},
   "outputs": [
    {
     "data": {
      "image/png": "[encoded data removed]",
      "text/plain": [
       "<Figure size 432x288 with 1 Axes>"
      ]
     },
     "metadata": {
      "needs_background": "light"
     },
     "output_type": "display_data"
    }
   ],
   "source": [
    "fig, ax = plt.subplots()\n",
    "ax.plot(xeval,yeval)\n",
    "ax.set_ylim(np.max(y)+300,np.min(y)-300)\n",
    "plt.xlim(np.min(x)-300,np.max(x)+300)\n",
    "plt.show()"
   ]
  },
  {
   "cell_type": "code",
   "execution_count": null,
   "metadata": {},
   "outputs": [],
   "source": []
  },
  {
   "cell_type": "code",
   "execution_count": 61,
   "metadata": {},
   "outputs": [],
   "source": [
    "!pip3 install --user -q pillow"
   ]
  },
  {
   "cell_type": "code",
   "execution_count": 69,
   "metadata": {},
   "outputs": [],
   "source": [
    "img=plt.imread('hummingbird.png')"
   ]
  },
  {
   "cell_type": "code",
   "execution_count": 70,
   "metadata": {},
   "outputs": [
    {
     "data": {
      "text/plain": [
       "array([[[0.80784315, 0.69803923, 0.64705884, 1.        ],\n",
       "        [0.8039216 , 0.69411767, 0.6431373 , 1.        ],\n",
       "        [0.8039216 , 0.69411767, 0.6431373 , 1.        ],\n",
       "        ...,\n",
       "        [0.9098039 , 0.8666667 , 0.7058824 , 1.        ],\n",
       "        [0.9098039 , 0.8666667 , 0.7058824 , 1.        ],\n",
       "        [0.9098039 , 0.8666667 , 0.7058824 , 1.        ]],\n",
       "\n",
       "       [[0.80784315, 0.69803923, 0.64705884, 1.        ],\n",
       "        [0.8039216 , 0.69411767, 0.6431373 , 1.        ],\n",
       "        [0.8039216 , 0.69411767, 0.6431373 , 1.        ],\n",
       "        ...,\n",
       "        [0.9098039 , 0.8666667 , 0.7058824 , 1.        ],\n",
       "        [0.9098039 , 0.8666667 , 0.7058824 , 1.        ],\n",
       "        [0.9098039 , 0.8666667 , 0.7058824 , 1.        ]],\n",
       "\n",
       "       [[0.8039216 , 0.69411767, 0.6431373 , 1.        ],\n",
       "        [0.8039216 , 0.69411767, 0.6431373 , 1.        ],\n",
       "        [0.8039216 , 0.69411767, 0.6431373 , 1.        ],\n",
       "        ...,\n",
       "        [0.9098039 , 0.8666667 , 0.7058824 , 1.        ],\n",
       "        [0.9098039 , 0.8666667 , 0.7058824 , 1.        ],\n",
       "        [0.9098039 , 0.8666667 , 0.7058824 , 1.        ]],\n",
       "\n",
       "       ...,\n",
       "\n",
       "       [[0.78431374, 0.7764706 , 0.54509807, 1.        ],\n",
       "        [0.8       , 0.78039217, 0.5529412 , 1.        ],\n",
       "        [0.8       , 0.78039217, 0.5529412 , 1.        ],\n",
       "        ...,\n",
       "        [0.79607844, 0.7921569 , 0.6666667 , 1.        ],\n",
       "        [0.79607844, 0.7921569 , 0.6666667 , 1.        ],\n",
       "        [0.8       , 0.79607844, 0.67058825, 1.        ]],\n",
       "\n",
       "       [[0.78431374, 0.7764706 , 0.54509807, 1.        ],\n",
       "        [0.8       , 0.78039217, 0.5529412 , 1.        ],\n",
       "        [0.8       , 0.78039217, 0.5529412 , 1.        ],\n",
       "        ...,\n",
       "        [0.79607844, 0.7921569 , 0.6666667 , 1.        ],\n",
       "        [0.79607844, 0.7921569 , 0.6666667 , 1.        ],\n",
       "        [0.8       , 0.79607844, 0.67058825, 1.        ]],\n",
       "\n",
       "       [[0.78431374, 0.7764706 , 0.54509807, 1.        ],\n",
       "        [0.79607844, 0.7764706 , 0.54901963, 1.        ],\n",
       "        [0.79607844, 0.7764706 , 0.54901963, 1.        ],\n",
       "        ...,\n",
       "        [0.79607844, 0.7921569 , 0.6666667 , 1.        ],\n",
       "        [0.79607844, 0.7921569 , 0.6666667 , 1.        ],\n",
       "        [0.8       , 0.79607844, 0.67058825, 1.        ]]], dtype=float32)"
      ]
     },
     "execution_count": 70,
     "metadata": {},
     "output_type": "execute_result"
    }
   ],
   "source": [
    "img"
   ]
  },
  {
   "cell_type": "code",
   "execution_count": 71,
   "metadata": {},
   "outputs": [
    {
     "data": {
      "text/plain": [
       "(911, 656, 4)"
      ]
     },
     "execution_count": 71,
     "metadata": {},
     "output_type": "execute_result"
    }
   ],
   "source": [
    "img.shape"
   ]
  },
  {
   "cell_type": "code",
   "execution_count": 72,
   "metadata": {},
   "outputs": [
    {
     "data": {
      "text/plain": [
       "(911, 656)"
      ]
     },
     "execution_count": 72,
     "metadata": {},
     "output_type": "execute_result"
    }
   ],
   "source": [
    "img[:,:,0].shape"
   ]
  },
  {
   "cell_type": "code",
   "execution_count": 73,
   "metadata": {},
   "outputs": [],
   "source": [
    "img = img[:,:,0]"
   ]
  },
  {
   "cell_type": "code",
   "execution_count": 74,
   "metadata": {},
   "outputs": [
    {
     "data": {
      "text/plain": [
       "Text(0.5, 1.0, 'Imagen en escala de grises')"
      ]
     },
     "execution_count": 74,
     "metadata": {},
     "output_type": "execute_result"
    },
    {
     "data": {
      "image/png": "[encoded data removed]",
      "text/plain": [
       "<Figure size 432x288 with 1 Axes>"
      ]
     },
     "metadata": {
      "needs_background": "light"
     },
     "output_type": "display_data"
    }
   ],
   "source": [
    "imgplot = plt.imshow(img, cmap='gray')\n",
    "plt.title('Imagen en escala de grises')"
   ]
  }
 ],
 "metadata": {
  "kernelspec": {
   "display_name": "Python 3",
   "language": "python",
   "name": "python3"
  },
  "language_info": {
   "codemirror_mode": {
    "name": "ipython",
    "version": 3
   },
   "file_extension": ".py",
   "mimetype": "text/x-python",
   "name": "python",
   "nbconvert_exporter": "python",
   "pygments_lexer": "ipython3",
   "version": "3.6.9"
  }
 },
 "nbformat": 4,
 "nbformat_minor": 4
}
