{
 "cells": [
  {
   "cell_type": "markdown",
   "metadata": {},
   "source": [
    "**Notas para contenedor de docker:**"
   ]
  },
  {
   "cell_type": "markdown",
   "metadata": {},
   "source": [
    "Comando de docker para ejecución de la nota de forma local:\n",
    "\n",
    "nota: cambiar `dir_montar` por la ruta de directorio que se desea mapear a `/datos` dentro del contenedor de docker.\n",
    "\n",
    "```\n",
    "dir_montar=<ruta completa de mi máquina a mi directorio>#aquí colocar la ruta al directorio a montar, por ejemplo: \n",
    "#dir_montar=/Users/erick/midirectorio.\n",
    "```\n",
    "\n",
    "Ejecutar:\n",
    "\n",
    "```\n",
    "$docker run --rm -v $dir_montar:/datos --name jupyterlab_prope_r_kernel_tidyverse -p 8888:8888 -d palmoreck/jupyterlab_prope_r_kernel_tidyverse:2.1.4   \n",
    "\n",
    "```"
   ]
  },
  {
   "cell_type": "markdown",
   "metadata": {},
   "source": [
    "Ir a `localhost:8888` y escribir el password para jupyterlab: `qwerty`\n",
    "\n",
    "Detener el contenedor de docker:\n",
    "\n",
    "```\n",
    "docker stop jupyterlab_prope_r_kernel_tidyverse\n",
    "```\n"
   ]
  },
  {
   "cell_type": "markdown",
   "metadata": {},
   "source": [
    "Documentación de la imagen de docker `palmoreck/jupyterlab_prope_r_kernel_tidyverse:2.1.4` en [liga](https://github.com/palmoreck/dockerfiles/tree/master/jupyterlab/prope_r_kernel_tidyverse)."
   ]
  },
  {
   "cell_type": "markdown",
   "metadata": {},
   "source": [
    "---"
   ]
  },
  {
   "cell_type": "markdown",
   "metadata": {},
   "source": [
    "Para ejecución de la nota usar:\n",
    "\n",
    "[docker](https://www.docker.com/) (instalación de forma **local** con [Get docker](https://docs.docker.com/install/)) y ejecutar comandos que están al inicio de la nota de forma **local**. \n",
    "\n",
    "O bien dar click en alguno de los botones siguientes:"
   ]
  },
  {
   "cell_type": "markdown",
   "metadata": {},
   "source": [
    "[![Binder](https://mybinder.org/badge_logo.svg)](https://mybinder.org/v2/gh/palmoreck/dockerfiles-for-binder/jupyterlab_prope_r_kernel_tidyerse?urlpath=lab/tree/Propedeutico/R/clases/2_probabilidad/4_probabilidad_condicional.ipynb) esta opción crea una máquina individual en un servidor de Google, clona el repositorio y permite la ejecución de los notebooks de jupyter."
   ]
  },
  {
   "cell_type": "markdown",
   "metadata": {},
   "source": [
    "[![Run on Repl.it](https://repl.it/badge/github/palmoreck/dummy)](https://repl.it/languages/Rlang) esta opción no clona el repositorio, no ejecuta los notebooks de jupyter pero permite ejecución de instrucciones de Python de forma colaborativa con [repl.it](https://repl.it/). Al dar click se crearán nuevos ***repl*** debajo de sus users de ***repl.it***.\n"
   ]
  },
  {
   "cell_type": "markdown",
   "metadata": {},
   "source": [
    "### Lo siguiente está basado los libros:\n",
    "\n",
    "### * B. Rumbos, Pensando Antes de Actuar: Fundamentos de Elección Racional, 2009.\n",
    "\n",
    "### * G. J. Kerns, Introduction to Probability and Statistics Using R, 2014."
   ]
  },
  {
   "cell_type": "markdown",
   "metadata": {},
   "source": [
    "### El libro de G. J. Kerns tiene github: [jkerns/IPSUR](https://github.com/gjkerns/IPSUR)"
   ]
  },
  {
   "cell_type": "markdown",
   "metadata": {},
   "source": [
    "**Notas:**\n",
    "\n",
    "* Se utilizará el paquete [prob](https://cran.r-project.org/web/packages/prob/index.html) de R para los experimentos descritos en la nota y aunque con funciones nativas de R se pueden crear los experimentos, se le da preferencia a mostrar cómo en R se tienen paquetes para muchas aplicaciones.\n",
    "\n",
    "* En algunas líneas no es necesario colocar `print` y sólo se ha realizado para mostrar los resultados de las funciones en un formato similar al de R pues la nota se escribió con jupyterlab y R.\n",
    "\n",
    "* Cuidado al utilizar las funciones del paquete `prob` para construir espacios de probabilidad grandes como lanzar un dado 9 veces... (tal experimento tiene 10 millones de posibles resultados)"
   ]
  },
  {
   "cell_type": "code",
   "execution_count": 1,
   "metadata": {
    "ExecuteTime": {
     "end_time": "2020-07-01T23:32:15.429036Z",
     "start_time": "2020-07-01T23:32:15.364Z"
    }
   },
   "outputs": [],
   "source": [
    "options(repr.plot.width=8, repr.plot.height=8) #esta línea sólo se ejecuta para jupyterlab con R"
   ]
  },
  {
   "cell_type": "code",
   "execution_count": 2,
   "metadata": {
    "ExecuteTime": {
     "end_time": "2020-07-01T23:32:16.773790Z",
     "start_time": "2020-07-01T23:32:15.965Z"
    }
   },
   "outputs": [
    {
     "name": "stderr",
     "output_type": "stream",
     "text": [
      "Loading required package: combinat\n",
      "\n",
      "\n",
      "Attaching package: ‘combinat’\n",
      "\n",
      "\n",
      "The following object is masked from ‘package:utils’:\n",
      "\n",
      "    combn\n",
      "\n",
      "\n",
      "Loading required package: fAsianOptions\n",
      "\n",
      "Loading required package: timeDate\n",
      "\n",
      "Loading required package: timeSeries\n",
      "\n",
      "Loading required package: fBasics\n",
      "\n",
      "Loading required package: fOptions\n",
      "\n",
      "\n",
      "Attaching package: ‘prob’\n",
      "\n",
      "\n",
      "The following objects are masked from ‘package:base’:\n",
      "\n",
      "    intersect, setdiff, union\n",
      "\n",
      "\n"
     ]
    }
   ],
   "source": [
    "library(prob)\n",
    "library(ggplot2)"
   ]
  },
  {
   "cell_type": "markdown",
   "metadata": {},
   "source": [
    "# Ejemplos"
   ]
  },
  {
   "cell_type": "markdown",
   "metadata": {},
   "source": [
    "1) Supongamos que nos hacen la siguiente pregunta: ¿cuál es la probabilidad de obtener un $6$ si lanzamos un dado? La respuesta es simple, si $E$ es el evento {obtener $6$} entonces la probabilidad de obtener un $6$ es: $P(E) = \\frac{1}{6}$. Si la pregunta es ¿cuál es la probabilidad de obtener un $6$ dado que el número es par? La respuesta cambia pues ahora el espacio muestral se reduce a $\\{2,4,6\\}$ y si $F$ es el evento {número par} entonces la probabilidad de tener un $6$ dado que el número es par se denota por: $P(E|F)$ y en este caso es igual a: $P(E|F) = \\frac{1}{3}$."
   ]
  },
  {
   "cell_type": "markdown",
   "metadata": {},
   "source": [
    "2) Considérese una baraja y los eventos: $E=${primer carta extraída es as} y $F$={segunda carta extraída es as}. Calcular las probabilidades $P(E)$, $P(F|E)$ y $P(F|E^c)$."
   ]
  },
  {
   "cell_type": "markdown",
   "metadata": {},
   "source": [
    "3) Iguales enunciados que 1 y 2 pero calcúlese $P(E \\cap F)$ en ambos casos.\n",
    "\n",
    "**Solución:**\n",
    "\n",
    "1) En el caso del dado, la probabilidad $P(E\\cap F)$ puede pensarse como un **producto de probabilidades** que involucran los eventos {obtener $6$} y {el número es par dado que se obtuvo $6$}: $P(E)P(F|E) = \\frac{1}{6} \\cdot 1$ o bien como el producto $P(F)P(E|F) = \\frac{3}{6} \\cdot \\frac{1}{3}$ {obtener par} y {obtener $6$ dado que se tiene un número par}.\n",
    "\n",
    "2) $P(E \\cap F)$ se puede calcular como:\n",
    "\n",
    "a) $P(E|F)P(F)$ con eventos en cada probabilidad: $E|F =${primer carta extraída es as dado que se extrajo una segunda carta que es as}, $F=${segunda carta extraída es as}.\n"
   ]
  },
  {
   "cell_type": "code",
   "execution_count": 3,
   "metadata": {
    "ExecuteTime": {
     "end_time": "2020-07-01T23:32:23.521583Z",
     "start_time": "2020-07-01T23:32:23.454Z"
    }
   },
   "outputs": [
    {
     "data": {
      "text/html": [
       "0.00452488687782805"
      ],
      "text/latex": [
       "0.00452488687782805"
      ],
      "text/markdown": [
       "0.00452488687782805"
      ],
      "text/plain": [
       "[1] 0.004524887"
      ]
     },
     "metadata": {},
     "output_type": "display_data"
    }
   ],
   "source": [
    "3/51*4/52"
   ]
  },
  {
   "cell_type": "markdown",
   "metadata": {},
   "source": [
    "b) $P(F|E)P(E)$ con eventos en cada probabilidad: $F|E=$ {segunda carta extraída es as dado que se extrajo una primer carta que es as}, $E=${primer carta extraída es as}."
   ]
  },
  {
   "cell_type": "code",
   "execution_count": 4,
   "metadata": {
    "ExecuteTime": {
     "end_time": "2020-07-01T23:32:24.379441Z",
     "start_time": "2020-07-01T23:32:24.366Z"
    }
   },
   "outputs": [
    {
     "data": {
      "text/html": [
       "0.00452488687782805"
      ],
      "text/latex": [
       "0.00452488687782805"
      ],
      "text/markdown": [
       "0.00452488687782805"
      ],
      "text/plain": [
       "[1] 0.004524887"
      ]
     },
     "metadata": {},
     "output_type": "display_data"
    }
   ],
   "source": [
    "3/51*4/52"
   ]
  },
  {
   "cell_type": "markdown",
   "metadata": {},
   "source": [
    "# Probabilidad condicional\n",
    "\n",
    "La probabilidad condicional de $F$ dado $E$ se denota como $P(F|E)$ y está definida por:\n",
    "\n",
    "$$P(F|E) = \\frac{P(F \\cap E)}{P(E)}, \\quad \\text{ si } P(E)>0.$$"
   ]
  },
  {
   "cell_type": "markdown",
   "metadata": {},
   "source": [
    "**Obs:** obsérvese como en los ejemplos anteriores que a partir de esta igualdad se tiene: $P(F \\cap E) = P(F|E)P(E)$ si $P(E)>0$."
   ]
  },
  {
   "cell_type": "markdown",
   "metadata": {},
   "source": [
    "## Ejemplos"
   ]
  },
  {
   "cell_type": "markdown",
   "metadata": {},
   "source": [
    "1) **Experimento:** lanzar dos veces una moneda. Sean $E=${sale sol}, $F=${sale sol y águila}. Calcular $P(E), P(F), P(E\\cap F), P(E|F), P(F|E)$.\n",
    "\n",
    "2) **Experimento:** se lanzan dos dados y nos dicen que la suma de los números que se obtuvieron es 7. ¿Cuál es la probabilidad de que los números obtenidos sean 5 y 2? \n"
   ]
  },
  {
   "cell_type": "markdown",
   "metadata": {},
   "source": [
    "**Solución 1)**\n",
    "\n",
    "S = {SS, SA, AS, AA}\n",
    "\n",
    "$P(E) = \\frac{3}{4}$\n",
    "\n",
    "$P(F) = P({SA, AS}) = \\frac{3}{4}$\n",
    "\n",
    "$P(E \\cap F) = P(F) = \\frac{2}{4}$\n",
    "\n",
    "$P(E|F) = \\frac{P(E \\cap F)}{P(F)} = \\frac{\\frac{2}{4}}{\\frac{2}{4}} = 1$"
   ]
  },
  {
   "cell_type": "markdown",
   "metadata": {},
   "source": [
    "**Solución 2)**\n",
    "\n",
    "S = {(1, 1), (1,2), ..., (1,6),\n",
    "    (2, 1), (2,2), ..., (2,6),\n",
    "    ...\n",
    "    (6, 1), (6,2), ..., (6,6)}"
   ]
  },
  {
   "cell_type": "markdown",
   "metadata": {},
   "source": [
    "E = {(1, 6), (2, 5), (3, 4), (4, 3), (5, 2), (6, 1)}"
   ]
  },
  {
   "cell_type": "markdown",
   "metadata": {},
   "source": [
    "P({sea 5 y 2} | {suma es 7}) = $\\frac{2}{6}$"
   ]
  },
  {
   "cell_type": "markdown",
   "metadata": {},
   "source": [
    "### En R ..."
   ]
  },
  {
   "cell_type": "markdown",
   "metadata": {},
   "source": [
    "**Experimento:** lanzamiento de dos dados de 6 lados. Sean $E=${resultados de ambos dados conciden}, $F=${suma de los resultados es al menos 8}. Calcular $P(E), P(F), P(E\\cap F), P(E|F), P(F|E)$."
   ]
  },
  {
   "cell_type": "markdown",
   "metadata": {},
   "source": [
    "**Solución:** El espacio de resultados se puede representar como una matriz pues el espacio de resultados es: $S=\\{(1,1),(1,2),\\dots,(6,6)\\}$ y $\\#(S)=36$."
   ]
  },
  {
   "cell_type": "code",
   "execution_count": 9,
   "metadata": {
    "ExecuteTime": {
     "end_time": "2020-07-01T23:49:28.857814Z",
     "start_time": "2020-07-01T23:49:28.741Z"
    }
   },
   "outputs": [],
   "source": [
    "S<-rolldie(2)\n",
    "E<-subset(S, X1 == X2)\n",
    "F<-subset(S, X1+X2>=8)"
   ]
  },
  {
   "cell_type": "code",
   "execution_count": 10,
   "metadata": {
    "ExecuteTime": {
     "end_time": "2020-07-01T23:50:27.372128Z",
     "start_time": "2020-07-01T23:50:27.351Z"
    }
   },
   "outputs": [],
   "source": [
    "E$etiqueta <- rep('X', nrow(E))\n",
    "F$etiqueta <- rep('O', nrow(F))"
   ]
  },
  {
   "cell_type": "code",
   "execution_count": 12,
   "metadata": {
    "ExecuteTime": {
     "end_time": "2020-07-01T23:50:56.659472Z",
     "start_time": "2020-07-01T23:50:56.637Z"
    }
   },
   "outputs": [
    {
     "data": {
      "text/html": [
       "<table>\n",
       "<caption>A data.frame: 6 × 3</caption>\n",
       "<thead>\n",
       "\t<tr><th></th><th scope=col>X1</th><th scope=col>X2</th><th scope=col>etiqueta</th></tr>\n",
       "\t<tr><th></th><th scope=col>&lt;int&gt;</th><th scope=col>&lt;int&gt;</th><th scope=col>&lt;chr&gt;</th></tr>\n",
       "</thead>\n",
       "<tbody>\n",
       "\t<tr><th scope=row>1</th><td>1</td><td>1</td><td>X</td></tr>\n",
       "\t<tr><th scope=row>8</th><td>2</td><td>2</td><td>X</td></tr>\n",
       "\t<tr><th scope=row>15</th><td>3</td><td>3</td><td>X</td></tr>\n",
       "\t<tr><th scope=row>22</th><td>4</td><td>4</td><td>X</td></tr>\n",
       "\t<tr><th scope=row>29</th><td>5</td><td>5</td><td>X</td></tr>\n",
       "\t<tr><th scope=row>36</th><td>6</td><td>6</td><td>X</td></tr>\n",
       "</tbody>\n",
       "</table>\n"
      ],
      "text/latex": [
       "A data.frame: 6 × 3\n",
       "\\begin{tabular}{r|lll}\n",
       "  & X1 & X2 & etiqueta\\\\\n",
       "  & <int> & <int> & <chr>\\\\\n",
       "\\hline\n",
       "\t1 & 1 & 1 & X\\\\\n",
       "\t8 & 2 & 2 & X\\\\\n",
       "\t15 & 3 & 3 & X\\\\\n",
       "\t22 & 4 & 4 & X\\\\\n",
       "\t29 & 5 & 5 & X\\\\\n",
       "\t36 & 6 & 6 & X\\\\\n",
       "\\end{tabular}\n"
      ],
      "text/markdown": [
       "\n",
       "A data.frame: 6 × 3\n",
       "\n",
       "| <!--/--> | X1 &lt;int&gt; | X2 &lt;int&gt; | etiqueta &lt;chr&gt; |\n",
       "|---|---|---|---|\n",
       "| 1 | 1 | 1 | X |\n",
       "| 8 | 2 | 2 | X |\n",
       "| 15 | 3 | 3 | X |\n",
       "| 22 | 4 | 4 | X |\n",
       "| 29 | 5 | 5 | X |\n",
       "| 36 | 6 | 6 | X |\n",
       "\n"
      ],
      "text/plain": [
       "   X1 X2 etiqueta\n",
       "1  1  1  X       \n",
       "8  2  2  X       \n",
       "15 3  3  X       \n",
       "22 4  4  X       \n",
       "29 5  5  X       \n",
       "36 6  6  X       "
      ]
     },
     "metadata": {},
     "output_type": "display_data"
    }
   ],
   "source": [
    "E"
   ]
  },
  {
   "cell_type": "code",
   "execution_count": 13,
   "metadata": {
    "ExecuteTime": {
     "end_time": "2020-07-01T23:51:33.283515Z",
     "start_time": "2020-07-01T23:51:33.262Z"
    }
   },
   "outputs": [
    {
     "data": {
      "text/html": [
       "<table>\n",
       "<caption>A data.frame: 15 × 3</caption>\n",
       "<thead>\n",
       "\t<tr><th></th><th scope=col>X1</th><th scope=col>X2</th><th scope=col>etiqueta</th></tr>\n",
       "\t<tr><th></th><th scope=col>&lt;int&gt;</th><th scope=col>&lt;int&gt;</th><th scope=col>&lt;chr&gt;</th></tr>\n",
       "</thead>\n",
       "<tbody>\n",
       "\t<tr><th scope=row>12</th><td>6</td><td>2</td><td>O</td></tr>\n",
       "\t<tr><th scope=row>17</th><td>5</td><td>3</td><td>O</td></tr>\n",
       "\t<tr><th scope=row>18</th><td>6</td><td>3</td><td>O</td></tr>\n",
       "\t<tr><th scope=row>22</th><td>4</td><td>4</td><td>O</td></tr>\n",
       "\t<tr><th scope=row>23</th><td>5</td><td>4</td><td>O</td></tr>\n",
       "\t<tr><th scope=row>24</th><td>6</td><td>4</td><td>O</td></tr>\n",
       "\t<tr><th scope=row>27</th><td>3</td><td>5</td><td>O</td></tr>\n",
       "\t<tr><th scope=row>28</th><td>4</td><td>5</td><td>O</td></tr>\n",
       "\t<tr><th scope=row>29</th><td>5</td><td>5</td><td>O</td></tr>\n",
       "\t<tr><th scope=row>30</th><td>6</td><td>5</td><td>O</td></tr>\n",
       "\t<tr><th scope=row>32</th><td>2</td><td>6</td><td>O</td></tr>\n",
       "\t<tr><th scope=row>33</th><td>3</td><td>6</td><td>O</td></tr>\n",
       "\t<tr><th scope=row>34</th><td>4</td><td>6</td><td>O</td></tr>\n",
       "\t<tr><th scope=row>35</th><td>5</td><td>6</td><td>O</td></tr>\n",
       "\t<tr><th scope=row>36</th><td>6</td><td>6</td><td>O</td></tr>\n",
       "</tbody>\n",
       "</table>\n"
      ],
      "text/latex": [
       "A data.frame: 15 × 3\n",
       "\\begin{tabular}{r|lll}\n",
       "  & X1 & X2 & etiqueta\\\\\n",
       "  & <int> & <int> & <chr>\\\\\n",
       "\\hline\n",
       "\t12 & 6 & 2 & O\\\\\n",
       "\t17 & 5 & 3 & O\\\\\n",
       "\t18 & 6 & 3 & O\\\\\n",
       "\t22 & 4 & 4 & O\\\\\n",
       "\t23 & 5 & 4 & O\\\\\n",
       "\t24 & 6 & 4 & O\\\\\n",
       "\t27 & 3 & 5 & O\\\\\n",
       "\t28 & 4 & 5 & O\\\\\n",
       "\t29 & 5 & 5 & O\\\\\n",
       "\t30 & 6 & 5 & O\\\\\n",
       "\t32 & 2 & 6 & O\\\\\n",
       "\t33 & 3 & 6 & O\\\\\n",
       "\t34 & 4 & 6 & O\\\\\n",
       "\t35 & 5 & 6 & O\\\\\n",
       "\t36 & 6 & 6 & O\\\\\n",
       "\\end{tabular}\n"
      ],
      "text/markdown": [
       "\n",
       "A data.frame: 15 × 3\n",
       "\n",
       "| <!--/--> | X1 &lt;int&gt; | X2 &lt;int&gt; | etiqueta &lt;chr&gt; |\n",
       "|---|---|---|---|\n",
       "| 12 | 6 | 2 | O |\n",
       "| 17 | 5 | 3 | O |\n",
       "| 18 | 6 | 3 | O |\n",
       "| 22 | 4 | 4 | O |\n",
       "| 23 | 5 | 4 | O |\n",
       "| 24 | 6 | 4 | O |\n",
       "| 27 | 3 | 5 | O |\n",
       "| 28 | 4 | 5 | O |\n",
       "| 29 | 5 | 5 | O |\n",
       "| 30 | 6 | 5 | O |\n",
       "| 32 | 2 | 6 | O |\n",
       "| 33 | 3 | 6 | O |\n",
       "| 34 | 4 | 6 | O |\n",
       "| 35 | 5 | 6 | O |\n",
       "| 36 | 6 | 6 | O |\n",
       "\n"
      ],
      "text/plain": [
       "   X1 X2 etiqueta\n",
       "12 6  2  O       \n",
       "17 5  3  O       \n",
       "18 6  3  O       \n",
       "22 4  4  O       \n",
       "23 5  4  O       \n",
       "24 6  4  O       \n",
       "27 3  5  O       \n",
       "28 4  5  O       \n",
       "29 5  5  O       \n",
       "30 6  5  O       \n",
       "32 2  6  O       \n",
       "33 3  6  O       \n",
       "34 4  6  O       \n",
       "35 5  6  O       \n",
       "36 6  6  O       "
      ]
     },
     "metadata": {},
     "output_type": "display_data"
    }
   ],
   "source": [
    "F"
   ]
  },
  {
   "cell_type": "code",
   "execution_count": 14,
   "metadata": {
    "ExecuteTime": {
     "end_time": "2020-07-01T23:52:14.779265Z",
     "start_time": "2020-07-01T23:52:11.321Z"
    }
   },
   "outputs": [
    {
     "data": {
      "image/png": "[encoded data removed]",
      "text/plain": [
       "plot without title"
      ]
     },
     "metadata": {
      "image/png": {
       "height": 480,
       "width": 480
      },
      "text/plain": {
       "height": 480,
       "width": 480
      }
     },
     "output_type": "display_data"
    }
   ],
   "source": [
    "graf <- ggplot(rbind(E, F), aes(x=X1, y=X2, label=etiqueta)) #aes help us to map variables\n",
    "                                                             #in the data frame to objects\n",
    "                                                             #in the graph\n",
    "\n",
    "graf + \n",
    "geom_text(size = 8) + \n",
    "xlab(\"Primer lanzamiento\") + ylab(\"Segundo lanzamiento\")\n",
    "                                                            "
   ]
  },
  {
   "cell_type": "markdown",
   "metadata": {},
   "source": [
    "Entonces: $P(E) = \\frac{6}{36}$, $P(F)=\\frac{15}{36}$, $P(E \\cap F) =\\frac{3}{36}$, $P(E|F) = \\frac{3}{15}$, $P(F|E)=\\frac{3}{6}$."
   ]
  },
  {
   "cell_type": "markdown",
   "metadata": {},
   "source": [
    "$P(F|E)=\\frac{3}{6}$ --> empiezas discriminando solo los taches... de ahí te fijas en los que también son círculos"
   ]
  },
  {
   "cell_type": "markdown",
   "metadata": {},
   "source": [
    "**Otra opción podría ser:**"
   ]
  },
  {
   "cell_type": "code",
   "execution_count": 16,
   "metadata": {
    "ExecuteTime": {
     "end_time": "2020-07-02T00:16:17.084148Z",
     "start_time": "2020-07-02T00:16:16.949Z"
    }
   },
   "outputs": [],
   "source": [
    "S <- rolldie(2, makespace = TRUE)  # se asume el modelo equiprobable"
   ]
  },
  {
   "cell_type": "code",
   "execution_count": 17,
   "metadata": {
    "ExecuteTime": {
     "end_time": "2020-07-02T00:16:17.377170Z",
     "start_time": "2020-07-02T00:16:17.320Z"
    }
   },
   "outputs": [
    {
     "data": {
      "text/html": [
       "<table>\n",
       "<caption>A data.frame: 6 × 3</caption>\n",
       "<thead>\n",
       "\t<tr><th></th><th scope=col>X1</th><th scope=col>X2</th><th scope=col>probs</th></tr>\n",
       "\t<tr><th></th><th scope=col>&lt;int&gt;</th><th scope=col>&lt;int&gt;</th><th scope=col>&lt;dbl&gt;</th></tr>\n",
       "</thead>\n",
       "<tbody>\n",
       "\t<tr><th scope=row>1</th><td>1</td><td>1</td><td>0.02777778</td></tr>\n",
       "\t<tr><th scope=row>2</th><td>2</td><td>1</td><td>0.02777778</td></tr>\n",
       "\t<tr><th scope=row>3</th><td>3</td><td>1</td><td>0.02777778</td></tr>\n",
       "\t<tr><th scope=row>4</th><td>4</td><td>1</td><td>0.02777778</td></tr>\n",
       "\t<tr><th scope=row>5</th><td>5</td><td>1</td><td>0.02777778</td></tr>\n",
       "\t<tr><th scope=row>6</th><td>6</td><td>1</td><td>0.02777778</td></tr>\n",
       "</tbody>\n",
       "</table>\n"
      ],
      "text/latex": [
       "A data.frame: 6 × 3\n",
       "\\begin{tabular}{r|lll}\n",
       "  & X1 & X2 & probs\\\\\n",
       "  & <int> & <int> & <dbl>\\\\\n",
       "\\hline\n",
       "\t1 & 1 & 1 & 0.02777778\\\\\n",
       "\t2 & 2 & 1 & 0.02777778\\\\\n",
       "\t3 & 3 & 1 & 0.02777778\\\\\n",
       "\t4 & 4 & 1 & 0.02777778\\\\\n",
       "\t5 & 5 & 1 & 0.02777778\\\\\n",
       "\t6 & 6 & 1 & 0.02777778\\\\\n",
       "\\end{tabular}\n"
      ],
      "text/markdown": [
       "\n",
       "A data.frame: 6 × 3\n",
       "\n",
       "| <!--/--> | X1 &lt;int&gt; | X2 &lt;int&gt; | probs &lt;dbl&gt; |\n",
       "|---|---|---|---|\n",
       "| 1 | 1 | 1 | 0.02777778 |\n",
       "| 2 | 2 | 1 | 0.02777778 |\n",
       "| 3 | 3 | 1 | 0.02777778 |\n",
       "| 4 | 4 | 1 | 0.02777778 |\n",
       "| 5 | 5 | 1 | 0.02777778 |\n",
       "| 6 | 6 | 1 | 0.02777778 |\n",
       "\n"
      ],
      "text/plain": [
       "  X1 X2 probs     \n",
       "1 1  1  0.02777778\n",
       "2 2  1  0.02777778\n",
       "3 3  1  0.02777778\n",
       "4 4  1  0.02777778\n",
       "5 5  1  0.02777778\n",
       "6 6  1  0.02777778"
      ]
     },
     "metadata": {},
     "output_type": "display_data"
    }
   ],
   "source": [
    "head(S)"
   ]
  },
  {
   "cell_type": "code",
   "execution_count": 18,
   "metadata": {
    "ExecuteTime": {
     "end_time": "2020-07-02T00:17:28.964118Z",
     "start_time": "2020-07-02T00:17:28.845Z"
    }
   },
   "outputs": [
    {
     "data": {
      "text/html": [
       "0.2"
      ],
      "text/latex": [
       "0.2"
      ],
      "text/markdown": [
       "0.2"
      ],
      "text/plain": [
       "[1] 0.2"
      ]
     },
     "metadata": {},
     "output_type": "display_data"
    },
    {
     "data": {
      "text/html": [
       "0.5"
      ],
      "text/latex": [
       "0.5"
      ],
      "text/markdown": [
       "0.5"
      ],
      "text/plain": [
       "[1] 0.5"
      ]
     },
     "metadata": {},
     "output_type": "display_data"
    }
   ],
   "source": [
    "#Eventos\n",
    "E <- subset(S, X1 == X2)\n",
    "F <- subset(S, X1 + X2 >= 8)\n",
    "Prob(E, given = F) #this one also could be computed as: Prob(S, X1==X2, given = (X1 + X2 >= 8))\n",
    "                   #using same S\n",
    "Prob(F, given = E) #this one also could be computed as: Prob(S, X1+X2 >= 8, given = (X1==X2))\n",
    "                   #using same S"
   ]
  },
  {
   "cell_type": "markdown",
   "metadata": {},
   "source": [
    "## Propiedades y reglas"
   ]
  },
  {
   "cell_type": "markdown",
   "metadata": {},
   "source": [
    "Las probabilidades condicionales se comportan como probabilidades sin condicionar:\n",
    "\n",
    "Para cualquier evento $E$ fijo con $P(E)>0$ se tiene:\n",
    "\n",
    "1) $P(F|E) \\geq 0$, para todos los eventos $F \\in S$.\n",
    "\n",
    "2) $P(S|E) = 1$.\n",
    "\n",
    "3) Si los eventos $F_1, F_2, F_3, \\dots $ son ajenos entonces:\n",
    "\n",
    "$P(\\displaystyle \\cup_{i=1}^n F_i | E ) =  \\sum_{i=1}^nP(F_i | E)$ para toda $n$ y aún más: $P(\\displaystyle \\cup_{i=1}^\\infty F_i| E ) = \\sum_{i=1}^\\infty P(F_i|E)$"
   ]
  },
  {
   "cell_type": "markdown",
   "metadata": {},
   "source": [
    "Y se tienen las siguientes propiedades:\n",
    "\n",
    "1)  $P(F^c | E) = 1-P(F|E)$.\n",
    "\n",
    "2) Si $F \\subset G$ entonces $P(F|E) \\leq P(G|E)$.\n",
    "\n",
    "3) $P(F \\cup G|E) = P(F|E) + P(G|E) - P(F \\cap G|E)$ \n",
    "\n",
    "4) La **regla de la multiplicación** para cualquier par de eventos $E, F$: $P(E \\cap F) = P(E|F)P(F) = P(F|E)P(E)$ y en general: $P(\\displaystyle \\cap_{i=1}^n E_i) = P(E_1)P(E_2|E_1)P(E_3|E_1 \\cap E_2) \\cdots P(E_n |\\displaystyle \\cap_{i=1}^{n-1} E_i)$"
   ]
  },
  {
   "cell_type": "markdown",
   "metadata": {},
   "source": [
    "### Ejemplos de la regla de la multiplicación"
   ]
  },
  {
   "cell_type": "markdown",
   "metadata": {},
   "source": [
    "\n",
    "1)**Problema:** calcular la probabilidad de extraer $2$ aces de una baraja.\n",
    "\n",
    "**Solución:**\n",
    "\n",
    "Si $E=${extraer un as} y $F=${extraer un as} entonces $P(E\\cap F)=P(E|F)P(F) = \\frac{3}{51} \\cdot \\frac{4}{52}  \\approx 0.00452$"
   ]
  },
  {
   "cell_type": "markdown",
   "metadata": {},
   "source": [
    "#### En R ..."
   ]
  },
  {
   "cell_type": "code",
   "execution_count": 19,
   "metadata": {
    "ExecuteTime": {
     "end_time": "2020-07-02T00:27:30.963344Z",
     "start_time": "2020-07-02T00:27:30.785Z"
    }
   },
   "outputs": [
    {
     "data": {
      "text/html": [
       "<table>\n",
       "<caption>A data.frame: 6 × 2</caption>\n",
       "<thead>\n",
       "\t<tr><th></th><th scope=col>rank</th><th scope=col>suit</th></tr>\n",
       "\t<tr><th></th><th scope=col>&lt;fct&gt;</th><th scope=col>&lt;fct&gt;</th></tr>\n",
       "</thead>\n",
       "<tbody>\n",
       "\t<tr><th scope=row>1</th><td>2</td><td>Club</td></tr>\n",
       "\t<tr><th scope=row>2</th><td>3</td><td>Club</td></tr>\n",
       "\t<tr><th scope=row>3</th><td>4</td><td>Club</td></tr>\n",
       "\t<tr><th scope=row>4</th><td>5</td><td>Club</td></tr>\n",
       "\t<tr><th scope=row>5</th><td>6</td><td>Club</td></tr>\n",
       "\t<tr><th scope=row>6</th><td>7</td><td>Club</td></tr>\n",
       "</tbody>\n",
       "</table>\n"
      ],
      "text/latex": [
       "A data.frame: 6 × 2\n",
       "\\begin{tabular}{r|ll}\n",
       "  & rank & suit\\\\\n",
       "  & <fct> & <fct>\\\\\n",
       "\\hline\n",
       "\t1 & 2 & Club\\\\\n",
       "\t2 & 3 & Club\\\\\n",
       "\t3 & 4 & Club\\\\\n",
       "\t4 & 5 & Club\\\\\n",
       "\t5 & 6 & Club\\\\\n",
       "\t6 & 7 & Club\\\\\n",
       "\\end{tabular}\n"
      ],
      "text/markdown": [
       "\n",
       "A data.frame: 6 × 2\n",
       "\n",
       "| <!--/--> | rank &lt;fct&gt; | suit &lt;fct&gt; |\n",
       "|---|---|---|\n",
       "| 1 | 2 | Club |\n",
       "| 2 | 3 | Club |\n",
       "| 3 | 4 | Club |\n",
       "| 4 | 5 | Club |\n",
       "| 5 | 6 | Club |\n",
       "| 6 | 7 | Club |\n",
       "\n"
      ],
      "text/plain": [
       "  rank suit\n",
       "1 2    Club\n",
       "2 3    Club\n",
       "3 4    Club\n",
       "4 5    Club\n",
       "5 6    Club\n",
       "6 7    Club"
      ]
     },
     "metadata": {},
     "output_type": "display_data"
    }
   ],
   "source": [
    "L <- cards() #this one is a dataframe\n",
    "head(L)"
   ]
  },
  {
   "cell_type": "markdown",
   "metadata": {},
   "source": [
    "Usamos la función de [urnsamples](https://www.rdocumentation.org/packages/prob/versions/1.0-1/topics/urnsamples) aplicada al `dataframe` anterior que permite realizar la extracción de dos renglones (canicas) "
   ]
  },
  {
   "cell_type": "code",
   "execution_count": 20,
   "metadata": {
    "ExecuteTime": {
     "end_time": "2020-07-02T00:27:31.548924Z",
     "start_time": "2020-07-02T00:27:31.203Z"
    }
   },
   "outputs": [],
   "source": [
    "M <- urnsamples(L, size = 2, replace=F, ordered = F) #no replacement, no order"
   ]
  },
  {
   "cell_type": "markdown",
   "metadata": {},
   "source": [
    "$M$ es una lista de una dimensión que contiene todas las combinaciones posibles de pares de renglones del data frame $L$. La cantidad de combinaciones de pares de renglones es $\\binom{52}{2}:$"
   ]
  },
  {
   "cell_type": "code",
   "execution_count": 21,
   "metadata": {
    "ExecuteTime": {
     "end_time": "2020-07-02T00:27:34.335667Z",
     "start_time": "2020-07-02T00:27:34.319Z"
    }
   },
   "outputs": [
    {
     "data": {
      "text/html": [
       "'list'"
      ],
      "text/latex": [
       "'list'"
      ],
      "text/markdown": [
       "'list'"
      ],
      "text/plain": [
       "[1] \"list\""
      ]
     },
     "metadata": {},
     "output_type": "display_data"
    }
   ],
   "source": [
    "class(M)"
   ]
  },
  {
   "cell_type": "code",
   "execution_count": 22,
   "metadata": {
    "ExecuteTime": {
     "end_time": "2020-07-02T00:27:34.554508Z",
     "start_time": "2020-07-02T00:27:34.535Z"
    }
   },
   "outputs": [
    {
     "data": {
      "text/html": [
       "1"
      ],
      "text/latex": [
       "1"
      ],
      "text/markdown": [
       "1"
      ],
      "text/plain": [
       "[1] 1"
      ]
     },
     "metadata": {},
     "output_type": "display_data"
    }
   ],
   "source": [
    "NCOL(M)"
   ]
  },
  {
   "cell_type": "code",
   "execution_count": 23,
   "metadata": {
    "ExecuteTime": {
     "end_time": "2020-07-02T00:27:34.777464Z",
     "start_time": "2020-07-02T00:27:34.760Z"
    }
   },
   "outputs": [
    {
     "data": {
      "text/html": [
       "1326"
      ],
      "text/latex": [
       "1326"
      ],
      "text/markdown": [
       "1326"
      ],
      "text/plain": [
       "[1] 1326"
      ]
     },
     "metadata": {},
     "output_type": "display_data"
    }
   ],
   "source": [
    "NROW(M)"
   ]
  },
  {
   "cell_type": "code",
   "execution_count": 24,
   "metadata": {
    "ExecuteTime": {
     "end_time": "2020-07-02T00:27:35.060733Z",
     "start_time": "2020-07-02T00:27:35.040Z"
    }
   },
   "outputs": [
    {
     "data": {
      "text/html": [
       "1326"
      ],
      "text/latex": [
       "1326"
      ],
      "text/markdown": [
       "1326"
      ],
      "text/plain": [
       "[1] 1326"
      ]
     },
     "metadata": {},
     "output_type": "display_data"
    }
   ],
   "source": [
    "choose(52,2) #just to check number of possible pairs"
   ]
  },
  {
   "cell_type": "code",
   "execution_count": 25,
   "metadata": {
    "ExecuteTime": {
     "end_time": "2020-07-02T00:27:35.474798Z",
     "start_time": "2020-07-02T00:27:35.432Z"
    }
   },
   "outputs": [
    {
     "data": {
      "text/html": [
       "<ol>\n",
       "\t<li><table>\n",
       "<caption>A data.frame: 2 × 2</caption>\n",
       "<thead>\n",
       "\t<tr><th></th><th scope=col>rank</th><th scope=col>suit</th></tr>\n",
       "\t<tr><th></th><th scope=col>&lt;fct&gt;</th><th scope=col>&lt;fct&gt;</th></tr>\n",
       "</thead>\n",
       "<tbody>\n",
       "\t<tr><th scope=row>1</th><td>2</td><td>Club</td></tr>\n",
       "\t<tr><th scope=row>2</th><td>3</td><td>Club</td></tr>\n",
       "</tbody>\n",
       "</table>\n",
       "</li>\n",
       "\t<li><table>\n",
       "<caption>A data.frame: 2 × 2</caption>\n",
       "<thead>\n",
       "\t<tr><th></th><th scope=col>rank</th><th scope=col>suit</th></tr>\n",
       "\t<tr><th></th><th scope=col>&lt;fct&gt;</th><th scope=col>&lt;fct&gt;</th></tr>\n",
       "</thead>\n",
       "<tbody>\n",
       "\t<tr><th scope=row>1</th><td>2</td><td>Club</td></tr>\n",
       "\t<tr><th scope=row>3</th><td>4</td><td>Club</td></tr>\n",
       "</tbody>\n",
       "</table>\n",
       "</li>\n",
       "\t<li><table>\n",
       "<caption>A data.frame: 2 × 2</caption>\n",
       "<thead>\n",
       "\t<tr><th></th><th scope=col>rank</th><th scope=col>suit</th></tr>\n",
       "\t<tr><th></th><th scope=col>&lt;fct&gt;</th><th scope=col>&lt;fct&gt;</th></tr>\n",
       "</thead>\n",
       "<tbody>\n",
       "\t<tr><th scope=row>1</th><td>2</td><td>Club</td></tr>\n",
       "\t<tr><th scope=row>4</th><td>5</td><td>Club</td></tr>\n",
       "</tbody>\n",
       "</table>\n",
       "</li>\n",
       "\t<li><table>\n",
       "<caption>A data.frame: 2 × 2</caption>\n",
       "<thead>\n",
       "\t<tr><th></th><th scope=col>rank</th><th scope=col>suit</th></tr>\n",
       "\t<tr><th></th><th scope=col>&lt;fct&gt;</th><th scope=col>&lt;fct&gt;</th></tr>\n",
       "</thead>\n",
       "<tbody>\n",
       "\t<tr><th scope=row>1</th><td>2</td><td>Club</td></tr>\n",
       "\t<tr><th scope=row>5</th><td>6</td><td>Club</td></tr>\n",
       "</tbody>\n",
       "</table>\n",
       "</li>\n",
       "\t<li><table>\n",
       "<caption>A data.frame: 2 × 2</caption>\n",
       "<thead>\n",
       "\t<tr><th></th><th scope=col>rank</th><th scope=col>suit</th></tr>\n",
       "\t<tr><th></th><th scope=col>&lt;fct&gt;</th><th scope=col>&lt;fct&gt;</th></tr>\n",
       "</thead>\n",
       "<tbody>\n",
       "\t<tr><th scope=row>1</th><td>2</td><td>Club</td></tr>\n",
       "\t<tr><th scope=row>6</th><td>7</td><td>Club</td></tr>\n",
       "</tbody>\n",
       "</table>\n",
       "</li>\n",
       "\t<li><table>\n",
       "<caption>A data.frame: 2 × 2</caption>\n",
       "<thead>\n",
       "\t<tr><th></th><th scope=col>rank</th><th scope=col>suit</th></tr>\n",
       "\t<tr><th></th><th scope=col>&lt;fct&gt;</th><th scope=col>&lt;fct&gt;</th></tr>\n",
       "</thead>\n",
       "<tbody>\n",
       "\t<tr><th scope=row>1</th><td>2</td><td>Club</td></tr>\n",
       "\t<tr><th scope=row>7</th><td>8</td><td>Club</td></tr>\n",
       "</tbody>\n",
       "</table>\n",
       "</li>\n",
       "</ol>\n"
      ],
      "text/latex": [
       "\\begin{enumerate}\n",
       "\\item A data.frame: 2 × 2\n",
       "\\begin{tabular}{r|ll}\n",
       "  & rank & suit\\\\\n",
       "  & <fct> & <fct>\\\\\n",
       "\\hline\n",
       "\t1 & 2 & Club\\\\\n",
       "\t2 & 3 & Club\\\\\n",
       "\\end{tabular}\n",
       "\n",
       "\\item A data.frame: 2 × 2\n",
       "\\begin{tabular}{r|ll}\n",
       "  & rank & suit\\\\\n",
       "  & <fct> & <fct>\\\\\n",
       "\\hline\n",
       "\t1 & 2 & Club\\\\\n",
       "\t3 & 4 & Club\\\\\n",
       "\\end{tabular}\n",
       "\n",
       "\\item A data.frame: 2 × 2\n",
       "\\begin{tabular}{r|ll}\n",
       "  & rank & suit\\\\\n",
       "  & <fct> & <fct>\\\\\n",
       "\\hline\n",
       "\t1 & 2 & Club\\\\\n",
       "\t4 & 5 & Club\\\\\n",
       "\\end{tabular}\n",
       "\n",
       "\\item A data.frame: 2 × 2\n",
       "\\begin{tabular}{r|ll}\n",
       "  & rank & suit\\\\\n",
       "  & <fct> & <fct>\\\\\n",
       "\\hline\n",
       "\t1 & 2 & Club\\\\\n",
       "\t5 & 6 & Club\\\\\n",
       "\\end{tabular}\n",
       "\n",
       "\\item A data.frame: 2 × 2\n",
       "\\begin{tabular}{r|ll}\n",
       "  & rank & suit\\\\\n",
       "  & <fct> & <fct>\\\\\n",
       "\\hline\n",
       "\t1 & 2 & Club\\\\\n",
       "\t6 & 7 & Club\\\\\n",
       "\\end{tabular}\n",
       "\n",
       "\\item A data.frame: 2 × 2\n",
       "\\begin{tabular}{r|ll}\n",
       "  & rank & suit\\\\\n",
       "  & <fct> & <fct>\\\\\n",
       "\\hline\n",
       "\t1 & 2 & Club\\\\\n",
       "\t7 & 8 & Club\\\\\n",
       "\\end{tabular}\n",
       "\n",
       "\\end{enumerate}\n"
      ],
      "text/markdown": [
       "1. \n",
       "A data.frame: 2 × 2\n",
       "\n",
       "| <!--/--> | rank &lt;fct&gt; | suit &lt;fct&gt; |\n",
       "|---|---|---|\n",
       "| 1 | 2 | Club |\n",
       "| 2 | 3 | Club |\n",
       "\n",
       "\n",
       "2. \n",
       "A data.frame: 2 × 2\n",
       "\n",
       "| <!--/--> | rank &lt;fct&gt; | suit &lt;fct&gt; |\n",
       "|---|---|---|\n",
       "| 1 | 2 | Club |\n",
       "| 3 | 4 | Club |\n",
       "\n",
       "\n",
       "3. \n",
       "A data.frame: 2 × 2\n",
       "\n",
       "| <!--/--> | rank &lt;fct&gt; | suit &lt;fct&gt; |\n",
       "|---|---|---|\n",
       "| 1 | 2 | Club |\n",
       "| 4 | 5 | Club |\n",
       "\n",
       "\n",
       "4. \n",
       "A data.frame: 2 × 2\n",
       "\n",
       "| <!--/--> | rank &lt;fct&gt; | suit &lt;fct&gt; |\n",
       "|---|---|---|\n",
       "| 1 | 2 | Club |\n",
       "| 5 | 6 | Club |\n",
       "\n",
       "\n",
       "5. \n",
       "A data.frame: 2 × 2\n",
       "\n",
       "| <!--/--> | rank &lt;fct&gt; | suit &lt;fct&gt; |\n",
       "|---|---|---|\n",
       "| 1 | 2 | Club |\n",
       "| 6 | 7 | Club |\n",
       "\n",
       "\n",
       "6. \n",
       "A data.frame: 2 × 2\n",
       "\n",
       "| <!--/--> | rank &lt;fct&gt; | suit &lt;fct&gt; |\n",
       "|---|---|---|\n",
       "| 1 | 2 | Club |\n",
       "| 7 | 8 | Club |\n",
       "\n",
       "\n",
       "\n",
       "\n"
      ],
      "text/plain": [
       "[[1]]\n",
       "  rank suit\n",
       "1    2 Club\n",
       "2    3 Club\n",
       "\n",
       "[[2]]\n",
       "  rank suit\n",
       "1    2 Club\n",
       "3    4 Club\n",
       "\n",
       "[[3]]\n",
       "  rank suit\n",
       "1    2 Club\n",
       "4    5 Club\n",
       "\n",
       "[[4]]\n",
       "  rank suit\n",
       "1    2 Club\n",
       "5    6 Club\n",
       "\n",
       "[[5]]\n",
       "  rank suit\n",
       "1    2 Club\n",
       "6    7 Club\n",
       "\n",
       "[[6]]\n",
       "  rank suit\n",
       "1    2 Club\n",
       "7    8 Club\n"
      ]
     },
     "metadata": {},
     "output_type": "display_data"
    }
   ],
   "source": [
    "head(M)"
   ]
  },
  {
   "cell_type": "markdown",
   "metadata": {},
   "source": [
    "Accedemos a su primer elemento de la lista M con doble corchete:"
   ]
  },
  {
   "cell_type": "code",
   "execution_count": 26,
   "metadata": {
    "ExecuteTime": {
     "end_time": "2020-07-02T00:27:38.873004Z",
     "start_time": "2020-07-02T00:27:38.855Z"
    }
   },
   "outputs": [
    {
     "data": {
      "text/html": [
       "<table>\n",
       "<caption>A data.frame: 2 × 2</caption>\n",
       "<thead>\n",
       "\t<tr><th></th><th scope=col>rank</th><th scope=col>suit</th></tr>\n",
       "\t<tr><th></th><th scope=col>&lt;fct&gt;</th><th scope=col>&lt;fct&gt;</th></tr>\n",
       "</thead>\n",
       "<tbody>\n",
       "\t<tr><th scope=row>1</th><td>2</td><td>Club</td></tr>\n",
       "\t<tr><th scope=row>2</th><td>3</td><td>Club</td></tr>\n",
       "</tbody>\n",
       "</table>\n"
      ],
      "text/latex": [
       "A data.frame: 2 × 2\n",
       "\\begin{tabular}{r|ll}\n",
       "  & rank & suit\\\\\n",
       "  & <fct> & <fct>\\\\\n",
       "\\hline\n",
       "\t1 & 2 & Club\\\\\n",
       "\t2 & 3 & Club\\\\\n",
       "\\end{tabular}\n"
      ],
      "text/markdown": [
       "\n",
       "A data.frame: 2 × 2\n",
       "\n",
       "| <!--/--> | rank &lt;fct&gt; | suit &lt;fct&gt; |\n",
       "|---|---|---|\n",
       "| 1 | 2 | Club |\n",
       "| 2 | 3 | Club |\n",
       "\n"
      ],
      "text/plain": [
       "  rank suit\n",
       "1 2    Club\n",
       "2 3    Club"
      ]
     },
     "metadata": {},
     "output_type": "display_data"
    }
   ],
   "source": [
    "M[[1]]"
   ]
  },
  {
   "cell_type": "markdown",
   "metadata": {},
   "source": [
    "Calculamos el espacio de probabilidad del dataframe `M` con [probspace](https://www.rdocumentation.org/packages/prob/versions/1.0-1/topics/probspace):"
   ]
  },
  {
   "cell_type": "code",
   "execution_count": 27,
   "metadata": {
    "ExecuteTime": {
     "end_time": "2020-07-02T00:27:39.593911Z",
     "start_time": "2020-07-02T00:27:39.582Z"
    }
   },
   "outputs": [],
   "source": [
    "N <- probspace(M) #equally likely model by default"
   ]
  },
  {
   "cell_type": "markdown",
   "metadata": {},
   "source": [
    "$N$ es una lista de dimensión igual a dos y cada dimensión tiene un nombre. Se utiliza `attributes` para revisar sus nombres: "
   ]
  },
  {
   "cell_type": "code",
   "execution_count": 28,
   "metadata": {
    "ExecuteTime": {
     "end_time": "2020-07-02T00:27:43.923179Z",
     "start_time": "2020-07-02T00:27:43.909Z"
    }
   },
   "outputs": [
    {
     "name": "stdout",
     "output_type": "stream",
     "text": [
      "$names\n",
      "[1] \"outcomes\" \"probs\"   \n",
      "\n",
      "$class\n",
      "[1] \"ps\"   \"list\"\n",
      "\n"
     ]
    }
   ],
   "source": [
    "print(attributes(N))"
   ]
  },
  {
   "cell_type": "markdown",
   "metadata": {},
   "source": [
    "**Obs:** `ps` es clase *probability space* definida en el paquete `prob`."
   ]
  },
  {
   "cell_type": "markdown",
   "metadata": {},
   "source": [
    "Y obtenemos los nombres de las dos dimensiones con `names` y el símbolo de dólar:"
   ]
  },
  {
   "cell_type": "code",
   "execution_count": 29,
   "metadata": {
    "ExecuteTime": {
     "end_time": "2020-07-02T00:28:05.284955Z",
     "start_time": "2020-07-02T00:28:05.270Z"
    }
   },
   "outputs": [
    {
     "name": "stdout",
     "output_type": "stream",
     "text": [
      "[1] \"outcomes\" \"probs\"   \n"
     ]
    }
   ],
   "source": [
    "print(attributes(N)$names) "
   ]
  },
  {
   "cell_type": "markdown",
   "metadata": {},
   "source": [
    "En la primera dimensión, *outcomes*, el *data frame* `N` tiene $\\binom{52}{2} = 1326$ data frames y cada data frame tiene 2 renglones:"
   ]
  },
  {
   "cell_type": "code",
   "execution_count": 30,
   "metadata": {
    "ExecuteTime": {
     "end_time": "2020-07-02T00:28:05.592587Z",
     "start_time": "2020-07-02T00:28:05.578Z"
    }
   },
   "outputs": [
    {
     "data": {
      "text/html": [
       "1326"
      ],
      "text/latex": [
       "1326"
      ],
      "text/markdown": [
       "1326"
      ],
      "text/plain": [
       "[1] 1326"
      ]
     },
     "metadata": {},
     "output_type": "display_data"
    }
   ],
   "source": [
    "length(N$outcomes)"
   ]
  },
  {
   "cell_type": "markdown",
   "metadata": {},
   "source": [
    "Esta dimensión *outcomes* es una lista:"
   ]
  },
  {
   "cell_type": "code",
   "execution_count": 31,
   "metadata": {
    "ExecuteTime": {
     "end_time": "2020-07-02T00:28:06.053605Z",
     "start_time": "2020-07-02T00:28:06.039Z"
    }
   },
   "outputs": [
    {
     "data": {
      "text/html": [
       "'list'"
      ],
      "text/latex": [
       "'list'"
      ],
      "text/markdown": [
       "'list'"
      ],
      "text/plain": [
       "[1] \"list\""
      ]
     },
     "metadata": {},
     "output_type": "display_data"
    }
   ],
   "source": [
    "class(N$outcomes)"
   ]
  },
  {
   "cell_type": "markdown",
   "metadata": {},
   "source": [
    "Contenido de $N$ en el nombre *outcomes*:"
   ]
  },
  {
   "cell_type": "code",
   "execution_count": 32,
   "metadata": {
    "ExecuteTime": {
     "end_time": "2020-07-02T00:28:14.448681Z",
     "start_time": "2020-07-02T00:28:14.431Z"
    }
   },
   "outputs": [
    {
     "data": {
      "text/html": [
       "<ol>\n",
       "\t<li><table>\n",
       "<caption>A data.frame: 2 × 2</caption>\n",
       "<thead>\n",
       "\t<tr><th></th><th scope=col>rank</th><th scope=col>suit</th></tr>\n",
       "\t<tr><th></th><th scope=col>&lt;fct&gt;</th><th scope=col>&lt;fct&gt;</th></tr>\n",
       "</thead>\n",
       "<tbody>\n",
       "\t<tr><th scope=row>1</th><td>2</td><td>Club</td></tr>\n",
       "\t<tr><th scope=row>2</th><td>3</td><td>Club</td></tr>\n",
       "</tbody>\n",
       "</table>\n",
       "</li>\n",
       "</ol>\n"
      ],
      "text/latex": [
       "\\begin{enumerate}\n",
       "\\item A data.frame: 2 × 2\n",
       "\\begin{tabular}{r|ll}\n",
       "  & rank & suit\\\\\n",
       "  & <fct> & <fct>\\\\\n",
       "\\hline\n",
       "\t1 & 2 & Club\\\\\n",
       "\t2 & 3 & Club\\\\\n",
       "\\end{tabular}\n",
       "\n",
       "\\end{enumerate}\n"
      ],
      "text/markdown": [
       "1. \n",
       "A data.frame: 2 × 2\n",
       "\n",
       "| <!--/--> | rank &lt;fct&gt; | suit &lt;fct&gt; |\n",
       "|---|---|---|\n",
       "| 1 | 2 | Club |\n",
       "| 2 | 3 | Club |\n",
       "\n",
       "\n",
       "\n",
       "\n"
      ],
      "text/plain": [
       "[[1]]\n",
       "  rank suit\n",
       "1    2 Club\n",
       "2    3 Club\n"
      ]
     },
     "metadata": {},
     "output_type": "display_data"
    }
   ],
   "source": [
    "N$outcomes[1]"
   ]
  },
  {
   "cell_type": "code",
   "execution_count": 33,
   "metadata": {
    "ExecuteTime": {
     "end_time": "2020-07-02T00:28:14.636658Z",
     "start_time": "2020-07-02T00:28:14.620Z"
    }
   },
   "outputs": [
    {
     "data": {
      "text/html": [
       "<ol>\n",
       "\t<li><table>\n",
       "<caption>A data.frame: 2 × 2</caption>\n",
       "<thead>\n",
       "\t<tr><th></th><th scope=col>rank</th><th scope=col>suit</th></tr>\n",
       "\t<tr><th></th><th scope=col>&lt;fct&gt;</th><th scope=col>&lt;fct&gt;</th></tr>\n",
       "</thead>\n",
       "<tbody>\n",
       "\t<tr><th scope=row>2</th><td>3</td><td>Club </td></tr>\n",
       "\t<tr><th scope=row>51</th><td>K</td><td>Spade</td></tr>\n",
       "</tbody>\n",
       "</table>\n",
       "</li>\n",
       "</ol>\n"
      ],
      "text/latex": [
       "\\begin{enumerate}\n",
       "\\item A data.frame: 2 × 2\n",
       "\\begin{tabular}{r|ll}\n",
       "  & rank & suit\\\\\n",
       "  & <fct> & <fct>\\\\\n",
       "\\hline\n",
       "\t2 & 3 & Club \\\\\n",
       "\t51 & K & Spade\\\\\n",
       "\\end{tabular}\n",
       "\n",
       "\\end{enumerate}\n"
      ],
      "text/markdown": [
       "1. \n",
       "A data.frame: 2 × 2\n",
       "\n",
       "| <!--/--> | rank &lt;fct&gt; | suit &lt;fct&gt; |\n",
       "|---|---|---|\n",
       "| 2 | 3 | Club  |\n",
       "| 51 | K | Spade |\n",
       "\n",
       "\n",
       "\n",
       "\n"
      ],
      "text/plain": [
       "[[1]]\n",
       "   rank  suit\n",
       "2     3  Club\n",
       "51    K Spade\n"
      ]
     },
     "metadata": {},
     "output_type": "display_data"
    }
   ],
   "source": [
    "N$outcomes[100]"
   ]
  },
  {
   "cell_type": "markdown",
   "metadata": {},
   "source": [
    "Cada renglón representa el par de cartas elegidas."
   ]
  },
  {
   "cell_type": "markdown",
   "metadata": {},
   "source": [
    "La segunda dimensión, *probs*, tiene $\\binom{52}{2} = 1326$ probabilidades:"
   ]
  },
  {
   "cell_type": "code",
   "execution_count": 34,
   "metadata": {
    "ExecuteTime": {
     "end_time": "2020-07-02T00:28:35.263211Z",
     "start_time": "2020-07-02T00:28:35.249Z"
    }
   },
   "outputs": [
    {
     "data": {
      "text/html": [
       "1326"
      ],
      "text/latex": [
       "1326"
      ],
      "text/markdown": [
       "1326"
      ],
      "text/plain": [
       "[1] 1326"
      ]
     },
     "metadata": {},
     "output_type": "display_data"
    }
   ],
   "source": [
    "length(N$probs)"
   ]
  },
  {
   "cell_type": "markdown",
   "metadata": {},
   "source": [
    "Esta dimensión *probs* es un vector numérico:"
   ]
  },
  {
   "cell_type": "code",
   "execution_count": 35,
   "metadata": {
    "ExecuteTime": {
     "end_time": "2020-07-02T00:28:35.906057Z",
     "start_time": "2020-07-02T00:28:35.893Z"
    }
   },
   "outputs": [
    {
     "data": {
      "text/html": [
       "'numeric'"
      ],
      "text/latex": [
       "'numeric'"
      ],
      "text/markdown": [
       "'numeric'"
      ],
      "text/plain": [
       "[1] \"numeric\""
      ]
     },
     "metadata": {},
     "output_type": "display_data"
    }
   ],
   "source": [
    "class(N$probs)"
   ]
  },
  {
   "cell_type": "markdown",
   "metadata": {},
   "source": [
    "Cada probabilidad igual a $\\frac{1}{\\binom{52}{2}}$ que es la probabilidad de extraer dos cartas cualesquiera:"
   ]
  },
  {
   "cell_type": "code",
   "execution_count": 36,
   "metadata": {
    "ExecuteTime": {
     "end_time": "2020-07-02T00:29:03.050227Z",
     "start_time": "2020-07-02T00:29:03.036Z"
    }
   },
   "outputs": [
    {
     "data": {
      "text/html": [
       "0.000754147812971342"
      ],
      "text/latex": [
       "0.000754147812971342"
      ],
      "text/markdown": [
       "0.000754147812971342"
      ],
      "text/plain": [
       "[1] 0.0007541478"
      ]
     },
     "metadata": {},
     "output_type": "display_data"
    }
   ],
   "source": [
    "1/choose(52,2)"
   ]
  },
  {
   "cell_type": "markdown",
   "metadata": {},
   "source": [
    "Por ejemplo:"
   ]
  },
  {
   "cell_type": "code",
   "execution_count": 37,
   "metadata": {
    "ExecuteTime": {
     "end_time": "2020-07-02T00:29:12.750440Z",
     "start_time": "2020-07-02T00:29:12.731Z"
    }
   },
   "outputs": [
    {
     "data": {
      "text/html": [
       "0.000754147812971342"
      ],
      "text/latex": [
       "0.000754147812971342"
      ],
      "text/markdown": [
       "0.000754147812971342"
      ],
      "text/plain": [
       "[1] 0.0007541478"
      ]
     },
     "metadata": {},
     "output_type": "display_data"
    }
   ],
   "source": [
    "N$probs[1]"
   ]
  },
  {
   "cell_type": "code",
   "execution_count": 38,
   "metadata": {
    "ExecuteTime": {
     "end_time": "2020-07-02T00:29:13.225954Z",
     "start_time": "2020-07-02T00:29:13.212Z"
    }
   },
   "outputs": [
    {
     "data": {
      "text/html": [
       "0.000754147812971342"
      ],
      "text/latex": [
       "0.000754147812971342"
      ],
      "text/markdown": [
       "0.000754147812971342"
      ],
      "text/plain": [
       "[1] 0.0007541478"
      ]
     },
     "metadata": {},
     "output_type": "display_data"
    }
   ],
   "source": [
    "N$probs[100]"
   ]
  },
  {
   "cell_type": "code",
   "execution_count": 39,
   "metadata": {
    "ExecuteTime": {
     "end_time": "2020-07-02T00:29:15.202492Z",
     "start_time": "2020-07-02T00:29:15.188Z"
    }
   },
   "outputs": [
    {
     "data": {
      "text/html": [
       "0.000754147812971342"
      ],
      "text/latex": [
       "0.000754147812971342"
      ],
      "text/markdown": [
       "0.000754147812971342"
      ],
      "text/plain": [
       "[1] 0.0007541478"
      ]
     },
     "metadata": {},
     "output_type": "display_data"
    }
   ],
   "source": [
    "1/choose(52,2)"
   ]
  },
  {
   "cell_type": "markdown",
   "metadata": {},
   "source": [
    "**Y la probabilidad deseada: $P(E\\cap F) = P(${extraer dos aces}$)$ es**:"
   ]
  },
  {
   "cell_type": "code",
   "execution_count": 40,
   "metadata": {
    "ExecuteTime": {
     "end_time": "2020-07-02T00:30:09.686987Z",
     "start_time": "2020-07-02T00:30:09.653Z"
    }
   },
   "outputs": [
    {
     "data": {
      "text/html": [
       "0.00452488687782805"
      ],
      "text/latex": [
       "0.00452488687782805"
      ],
      "text/markdown": [
       "0.00452488687782805"
      ],
      "text/plain": [
       "[1] 0.004524887"
      ]
     },
     "metadata": {},
     "output_type": "display_data"
    }
   ],
   "source": [
    "Prob(N, all(rank == 'A')) #Prob asume modelo equiprobable\n",
    "                          # el evento es all(rank == 'A') y como son dos cartas extraídas, \n",
    "                          #entonces ambas deben ser iguales a A"
   ]
  },
  {
   "cell_type": "markdown",
   "metadata": {},
   "source": [
    "donde utilizamos la función [Prob](https://www.rdocumentation.org/packages/prob/versions/1.0-1/topics/prob) en la que se asume un modelo equiprobable. En el primer argumento pasamos un *probability space* y en el segundo argumento pasamos el evento `all(rank == 'A')`, utilizamos la función de [all](https://www.rdocumentation.org/packages/base/versions/3.6.2/topics/all) pues ambas cartas deben ser iguales a `A`."
   ]
  },
  {
   "cell_type": "markdown",
   "metadata": {},
   "source": [
    "Por ejemplo el siguiente índice no se toma en cuenta:"
   ]
  },
  {
   "cell_type": "code",
   "execution_count": 41,
   "metadata": {
    "ExecuteTime": {
     "end_time": "2020-07-02T00:30:12.002664Z",
     "start_time": "2020-07-02T00:30:11.986Z"
    }
   },
   "outputs": [
    {
     "data": {
      "text/html": [
       "<ol>\n",
       "\t<li><table>\n",
       "<caption>A data.frame: 2 × 2</caption>\n",
       "<thead>\n",
       "\t<tr><th></th><th scope=col>rank</th><th scope=col>suit</th></tr>\n",
       "\t<tr><th></th><th scope=col>&lt;fct&gt;</th><th scope=col>&lt;fct&gt;</th></tr>\n",
       "</thead>\n",
       "<tbody>\n",
       "\t<tr><th scope=row>1</th><td>2</td><td>Club</td></tr>\n",
       "\t<tr><th scope=row>13</th><td>A</td><td>Club</td></tr>\n",
       "</tbody>\n",
       "</table>\n",
       "</li>\n",
       "</ol>\n"
      ],
      "text/latex": [
       "\\begin{enumerate}\n",
       "\\item A data.frame: 2 × 2\n",
       "\\begin{tabular}{r|ll}\n",
       "  & rank & suit\\\\\n",
       "  & <fct> & <fct>\\\\\n",
       "\\hline\n",
       "\t1 & 2 & Club\\\\\n",
       "\t13 & A & Club\\\\\n",
       "\\end{tabular}\n",
       "\n",
       "\\end{enumerate}\n"
      ],
      "text/markdown": [
       "1. \n",
       "A data.frame: 2 × 2\n",
       "\n",
       "| <!--/--> | rank &lt;fct&gt; | suit &lt;fct&gt; |\n",
       "|---|---|---|\n",
       "| 1 | 2 | Club |\n",
       "| 13 | A | Club |\n",
       "\n",
       "\n",
       "\n",
       "\n"
      ],
      "text/plain": [
       "[[1]]\n",
       "   rank suit\n",
       "1     2 Club\n",
       "13    A Club\n"
      ]
     },
     "metadata": {},
     "output_type": "display_data"
    }
   ],
   "source": [
    "N$outcomes[12]"
   ]
  },
  {
   "cell_type": "markdown",
   "metadata": {},
   "source": [
    "Pero este sí:"
   ]
  },
  {
   "cell_type": "code",
   "execution_count": 42,
   "metadata": {
    "ExecuteTime": {
     "end_time": "2020-07-02T00:30:52.468767Z",
     "start_time": "2020-07-02T00:30:52.446Z"
    }
   },
   "outputs": [
    {
     "data": {
      "text/html": [
       "<ol>\n",
       "\t<li><table>\n",
       "<caption>A data.frame: 2 × 2</caption>\n",
       "<thead>\n",
       "\t<tr><th></th><th scope=col>rank</th><th scope=col>suit</th></tr>\n",
       "\t<tr><th></th><th scope=col>&lt;fct&gt;</th><th scope=col>&lt;fct&gt;</th></tr>\n",
       "</thead>\n",
       "<tbody>\n",
       "\t<tr><th scope=row>13</th><td>A</td><td>Club   </td></tr>\n",
       "\t<tr><th scope=row>26</th><td>A</td><td>Diamond</td></tr>\n",
       "</tbody>\n",
       "</table>\n",
       "</li>\n",
       "</ol>\n"
      ],
      "text/latex": [
       "\\begin{enumerate}\n",
       "\\item A data.frame: 2 × 2\n",
       "\\begin{tabular}{r|ll}\n",
       "  & rank & suit\\\\\n",
       "  & <fct> & <fct>\\\\\n",
       "\\hline\n",
       "\t13 & A & Club   \\\\\n",
       "\t26 & A & Diamond\\\\\n",
       "\\end{tabular}\n",
       "\n",
       "\\end{enumerate}\n"
      ],
      "text/markdown": [
       "1. \n",
       "A data.frame: 2 × 2\n",
       "\n",
       "| <!--/--> | rank &lt;fct&gt; | suit &lt;fct&gt; |\n",
       "|---|---|---|\n",
       "| 13 | A | Club    |\n",
       "| 26 | A | Diamond |\n",
       "\n",
       "\n",
       "\n",
       "\n"
      ],
      "text/plain": [
       "[[1]]\n",
       "   rank    suit\n",
       "13    A    Club\n",
       "26    A Diamond\n"
      ]
     },
     "metadata": {},
     "output_type": "display_data"
    }
   ],
   "source": [
    "N$outcomes[559]"
   ]
  },
  {
   "cell_type": "markdown",
   "metadata": {},
   "source": [
    "2) **Problema:** considérese una urna con $10$ canicas: $7$ son rojas y $3$ son verdes y se seleccionan $3$ canicas. Sea $E=${primer canica es roja}, $F=${segunda canica es roja} y $G=${tercera canica es roja}. Calcular $P(E \\cap F \\cap G)$."
   ]
  },
  {
   "cell_type": "markdown",
   "metadata": {},
   "source": [
    "**Solución:**\n",
    "\n",
    "$P(E\\cap F\\cap G) = \\frac{\\binom{7}{3}}{\\binom{10}{3}}$"
   ]
  },
  {
   "cell_type": "code",
   "execution_count": 43,
   "metadata": {
    "ExecuteTime": {
     "end_time": "2020-07-02T00:32:47.812478Z",
     "start_time": "2020-07-02T00:32:47.704Z"
    }
   },
   "outputs": [
    {
     "data": {
      "text/html": [
       "0.291666666666667"
      ],
      "text/latex": [
       "0.291666666666667"
      ],
      "text/markdown": [
       "0.291666666666667"
      ],
      "text/plain": [
       "[1] 0.2916667"
      ]
     },
     "metadata": {},
     "output_type": "display_data"
    }
   ],
   "source": [
    "choose(7,3)/choose(10,3)"
   ]
  },
  {
   "cell_type": "markdown",
   "metadata": {},
   "source": [
    "#### En R ..."
   ]
  },
  {
   "cell_type": "code",
   "execution_count": 44,
   "metadata": {
    "ExecuteTime": {
     "end_time": "2020-07-02T00:33:25.650656Z",
     "start_time": "2020-07-02T00:33:25.609Z"
    }
   },
   "outputs": [
    {
     "name": "stdout",
     "output_type": "stream",
     "text": [
      " [1] \"red\"   \"red\"   \"red\"   \"red\"   \"red\"   \"red\"   \"red\"   \"green\" \"green\"\n",
      "[10] \"green\"\n"
     ]
    }
   ],
   "source": [
    "L <- rep(c(\"red\",\"green\"), times = c(7,3)) #L represents the urn, its a vector\n",
    "print(L)"
   ]
  },
  {
   "cell_type": "markdown",
   "metadata": {},
   "source": [
    "Ver [rep](https://www.rdocumentation.org/packages/base/versions/3.6.2/topics/rep)."
   ]
  },
  {
   "cell_type": "markdown",
   "metadata": {},
   "source": [
    "Usamos nuevamente [urnsamples](https://www.rdocumentation.org/packages/prob/versions/1.0-1/topics/urnsamples) para obtener el espacio de resultados en un *data frame*:"
   ]
  },
  {
   "cell_type": "code",
   "execution_count": 45,
   "metadata": {
    "ExecuteTime": {
     "end_time": "2020-07-02T00:34:39.598541Z",
     "start_time": "2020-07-02T00:34:39.551Z"
    }
   },
   "outputs": [],
   "source": [
    "M <- urnsamples(L, size = 3, replace = FALSE, ordered = TRUE)\n",
    "#ordered because red, green, red is different from green, red, red\n",
    "#as we are enumerating the drawings from the urn of marbles"
   ]
  },
  {
   "cell_type": "markdown",
   "metadata": {},
   "source": [
    "Número de renglones y columnas del *data frame* `M`:"
   ]
  },
  {
   "cell_type": "code",
   "execution_count": 46,
   "metadata": {
    "ExecuteTime": {
     "end_time": "2020-07-02T00:34:41.795851Z",
     "start_time": "2020-07-02T00:34:41.771Z"
    }
   },
   "outputs": [
    {
     "data": {
      "text/html": [
       "720"
      ],
      "text/latex": [
       "720"
      ],
      "text/markdown": [
       "720"
      ],
      "text/plain": [
       "[1] 720"
      ]
     },
     "metadata": {},
     "output_type": "display_data"
    }
   ],
   "source": [
    "NROW(M)"
   ]
  },
  {
   "cell_type": "code",
   "execution_count": 47,
   "metadata": {
    "ExecuteTime": {
     "end_time": "2020-07-02T00:34:42.022532Z",
     "start_time": "2020-07-02T00:34:41.959Z"
    }
   },
   "outputs": [
    {
     "data": {
      "text/html": [
       "3"
      ],
      "text/latex": [
       "3"
      ],
      "text/markdown": [
       "3"
      ],
      "text/plain": [
       "[1] 3"
      ]
     },
     "metadata": {},
     "output_type": "display_data"
    }
   ],
   "source": [
    "NCOL(M)"
   ]
  },
  {
   "cell_type": "markdown",
   "metadata": {},
   "source": [
    "Algunos renglones:"
   ]
  },
  {
   "cell_type": "code",
   "execution_count": 51,
   "metadata": {
    "ExecuteTime": {
     "end_time": "2020-07-02T00:35:41.037973Z",
     "start_time": "2020-07-02T00:35:41.013Z"
    }
   },
   "outputs": [
    {
     "data": {
      "text/html": [
       "<table>\n",
       "<caption>A data.frame: 6 × 3</caption>\n",
       "<thead>\n",
       "\t<tr><th></th><th scope=col>X1</th><th scope=col>X2</th><th scope=col>X3</th></tr>\n",
       "\t<tr><th></th><th scope=col>&lt;chr&gt;</th><th scope=col>&lt;chr&gt;</th><th scope=col>&lt;chr&gt;</th></tr>\n",
       "</thead>\n",
       "<tbody>\n",
       "\t<tr><th scope=row>35</th><td>red  </td><td>green</td><td>red  </td></tr>\n",
       "\t<tr><th scope=row>36</th><td>red  </td><td>red  </td><td>green</td></tr>\n",
       "\t<tr><th scope=row>37</th><td>red  </td><td>red  </td><td>green</td></tr>\n",
       "\t<tr><th scope=row>38</th><td>red  </td><td>green</td><td>red  </td></tr>\n",
       "\t<tr><th scope=row>39</th><td>green</td><td>red  </td><td>red  </td></tr>\n",
       "\t<tr><th scope=row>40</th><td>green</td><td>red  </td><td>red  </td></tr>\n",
       "</tbody>\n",
       "</table>\n"
      ],
      "text/latex": [
       "A data.frame: 6 × 3\n",
       "\\begin{tabular}{r|lll}\n",
       "  & X1 & X2 & X3\\\\\n",
       "  & <chr> & <chr> & <chr>\\\\\n",
       "\\hline\n",
       "\t35 & red   & green & red  \\\\\n",
       "\t36 & red   & red   & green\\\\\n",
       "\t37 & red   & red   & green\\\\\n",
       "\t38 & red   & green & red  \\\\\n",
       "\t39 & green & red   & red  \\\\\n",
       "\t40 & green & red   & red  \\\\\n",
       "\\end{tabular}\n"
      ],
      "text/markdown": [
       "\n",
       "A data.frame: 6 × 3\n",
       "\n",
       "| <!--/--> | X1 &lt;chr&gt; | X2 &lt;chr&gt; | X3 &lt;chr&gt; |\n",
       "|---|---|---|---|\n",
       "| 35 | red   | green | red   |\n",
       "| 36 | red   | red   | green |\n",
       "| 37 | red   | red   | green |\n",
       "| 38 | red   | green | red   |\n",
       "| 39 | green | red   | red   |\n",
       "| 40 | green | red   | red   |\n",
       "\n"
      ],
      "text/plain": [
       "   X1    X2    X3   \n",
       "35 red   green red  \n",
       "36 red   red   green\n",
       "37 red   red   green\n",
       "38 red   green red  \n",
       "39 green red   red  \n",
       "40 green red   red  "
      ]
     },
     "metadata": {},
     "output_type": "display_data"
    }
   ],
   "source": [
    "M[35:40,]"
   ]
  },
  {
   "cell_type": "markdown",
   "metadata": {},
   "source": [
    "Calculamos el espacio de probabilidad del dataframe `M` con [probspace](https://www.rdocumentation.org/packages/prob/versions/1.0-1/topics/probspace):"
   ]
  },
  {
   "cell_type": "code",
   "execution_count": 50,
   "metadata": {
    "ExecuteTime": {
     "end_time": "2020-07-02T00:35:38.807350Z",
     "start_time": "2020-07-02T00:35:38.787Z"
    }
   },
   "outputs": [],
   "source": [
    "N <- probspace(M) #equally likely model by default"
   ]
  },
  {
   "cell_type": "markdown",
   "metadata": {},
   "source": [
    "A cada renglón de `M`, *outcomes*, se le asocia un vector de probabilidades con lo que se tiene un *data frame*: `N`, que es un espacio de probabilidad."
   ]
  },
  {
   "cell_type": "code",
   "execution_count": 52,
   "metadata": {
    "ExecuteTime": {
     "end_time": "2020-07-02T00:35:46.243498Z",
     "start_time": "2020-07-02T00:35:46.230Z"
    }
   },
   "outputs": [
    {
     "data": {
      "text/html": [
       "720"
      ],
      "text/latex": [
       "720"
      ],
      "text/markdown": [
       "720"
      ],
      "text/plain": [
       "[1] 720"
      ]
     },
     "metadata": {},
     "output_type": "display_data"
    }
   ],
   "source": [
    "NROW(N)"
   ]
  },
  {
   "cell_type": "code",
   "execution_count": 53,
   "metadata": {
    "ExecuteTime": {
     "end_time": "2020-07-02T00:35:46.406126Z",
     "start_time": "2020-07-02T00:35:46.391Z"
    }
   },
   "outputs": [
    {
     "data": {
      "text/html": [
       "4"
      ],
      "text/latex": [
       "4"
      ],
      "text/markdown": [
       "4"
      ],
      "text/plain": [
       "[1] 4"
      ]
     },
     "metadata": {},
     "output_type": "display_data"
    }
   ],
   "source": [
    "NCOL(N)"
   ]
  },
  {
   "cell_type": "markdown",
   "metadata": {},
   "source": [
    "Para calcular entonces la probabilidad pedida:"
   ]
  },
  {
   "cell_type": "code",
   "execution_count": 54,
   "metadata": {
    "ExecuteTime": {
     "end_time": "2020-07-02T00:36:51.628684Z",
     "start_time": "2020-07-02T00:36:51.551Z"
    }
   },
   "outputs": [
    {
     "data": {
      "text/html": [
       "0.291666666666667"
      ],
      "text/latex": [
       "0.291666666666667"
      ],
      "text/markdown": [
       "0.291666666666667"
      ],
      "text/plain": [
       "[1] 0.2916667"
      ]
     },
     "metadata": {},
     "output_type": "display_data"
    }
   ],
   "source": [
    "Prob(N, isrep(N, vals='red', nrep=3))"
   ]
  },
  {
   "cell_type": "markdown",
   "metadata": {},
   "source": [
    "Ver [isrep](https://www.rdocumentation.org/packages/prob/versions/1.0-1/topics/isrep) del paquete `prob`."
   ]
  },
  {
   "cell_type": "markdown",
   "metadata": {},
   "source": [
    "**Obs:** lo anterior equivale a hacer: \n",
    "\n",
    "```\n",
    "Prob(N, X1 =='red'& X2 =='red' & X3 =='red')\n",
    "#o bien:\n",
    "sum(N[with(\n",
    "           N,isrep(N, 'red', 3)\n",
    "           ),]$probs\n",
    "    )\n",
    "```"
   ]
  },
  {
   "cell_type": "markdown",
   "metadata": {},
   "source": [
    "**(Tarea) Ejercicio: calcular la probabilidad de:**\n",
    "\n",
    "* extraer dos canicas rojas\n",
    "\n",
    "* extraer roja, verde, roja (en este orden)\n",
    "\n",
    "* extraer roja, verde, roja (no importa el orden)"
   ]
  },
  {
   "cell_type": "markdown",
   "metadata": {},
   "source": [
    "## Ejercicios"
   ]
  },
  {
   "cell_type": "markdown",
   "metadata": {},
   "source": [
    "**Nota: Varios de los siguientes ejercicios tienen su solución en las referencias dadas al inicio de la nota. Se sugiere resolverlos por su cuenta y posteriormente compararlos con sus respectivas soluciones.**"
   ]
  },
  {
   "cell_type": "markdown",
   "metadata": {},
   "source": [
    "1) Supongamos que en una muestra de 100 personas, 65 de ellas son vacunadas contra la influenza esta temporada de invierno. Cinco de las personas vacunadas contraen la enfermedad. De las 35 personas que no son vacunadas 25 caen enfermas. La siguiente tabla resume esta información:\n",
    "\n",
    "|----|enfermo|no enfermo|Total|\n",
    "|:---:|:---:|:---:|:---:|\n",
    "|vacunados|5|60|65|\n",
    "|no vacunados|25|10|35|\n",
    "|Total|30|70|100\n",
    "\n",
    "Calcular:\n",
    "\n",
    "a) $P(${vacunado}$)$, $P(${no vacunado}$)$, $P(${enfermo|vacunado}$)$, $P(${no enfermo|vacunado}$)$, $P(${enfermo|no vacunado}$)$, $P(${no enfermo|no vacunado}$)$ y $P(${vacunado y no enfermo}$)$. \n",
    "\n",
    "b)$P(${no vacunado y no enfermo}$)$, $P(${no enfermo}$)$\n",
    "\n",
    "c)$P(${vacunado} | {no enfermo}$)$.\n",
    "\n"
   ]
  },
  {
   "cell_type": "markdown",
   "metadata": {},
   "source": [
    "2) Considérese dos urnas, la primera tiene $5$ canicas rojas y $3$ canicas verdes y la segunda $2$ canicas rojas y $6$ verdes. Una persona selecciona una canica de la primer urna y la transfiere a la segunda urna sin mostrarte qué color fue. Seleccionas una canica de la segunda urna. ¿Cuál es la probabilidad que la canica que seleccionaste es roja?. \n",
    "\n",
    "Sugerencia: considérese los eventos: $E=${la canica que se lleva de la primer urna a la segunda urna es roja} y $F=${la canica seleccionada es roja} y condicionar sobre $E$, lo que se pide es $P(F)$."
   ]
  },
  {
   "cell_type": "markdown",
   "metadata": {},
   "source": [
    "3) Considérese la siguiente tabla:\n",
    "\n",
    "\n",
    "|Fuma/No Fuma|Femenino|Masculino|Suma\n",
    "|:----:|:----:|:----:|:----:|\n",
    "|No fuma|61|75|136\n",
    "|Fuma|9|23|32\n",
    "|Suma|70|98|168\n",
    "\n",
    "Calcular:\n",
    "\n",
    "a) $P(\\text{\\{Femenino\\}}), P(\\text{\\{Fuma\\}})$.\n",
    "\n",
    "b) Supóngase que una persona deja de fumar pero no se sabe su género. Si se selecciona una persona no fumadora aleatoriamente, calcular $P(\\text{\\{Femenino\\}})$. \n",
    "\n",
    "Sugerencia: para el inciso b piénsese este problema como el de tener dos urnas, cada urna con canicas rojas y verdes como en el ejercicio anterior. La urna 1 y la urna 2 representan fumar y  no fumar respectivamente y las canicas rojas y verdes representan Femenino y Masculino respectivamente. Además, considérese los eventos: $E=${mujer deja de fumar} y usar la regla de probabilidad total condicionando sobre $E$."
   ]
  }
 ],
 "metadata": {
  "kernelspec": {
   "display_name": "R",
   "language": "R",
   "name": "ir"
  },
  "language_info": {
   "codemirror_mode": "r",
   "file_extension": ".r",
   "mimetype": "text/x-r-source",
   "name": "R",
   "pygments_lexer": "r",
   "version": "4.0.2"
  }
 },
 "nbformat": 4,
 "nbformat_minor": 4
}
