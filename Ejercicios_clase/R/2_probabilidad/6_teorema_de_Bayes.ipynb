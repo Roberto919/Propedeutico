{
 "cells": [
  {
   "cell_type": "markdown",
   "metadata": {},
   "source": [
    "**Notas para contenedor de docker:**"
   ]
  },
  {
   "cell_type": "markdown",
   "metadata": {},
   "source": [
    "Comando de docker para ejecución de la nota de forma local:\n",
    "\n",
    "nota: cambiar `dir_montar` por la ruta de directorio que se desea mapear a `/datos` dentro del contenedor de docker.\n",
    "\n",
    "```\n",
    "dir_montar=<ruta completa de mi máquina a mi directorio>#aquí colocar la ruta al directorio a montar, por ejemplo: \n",
    "#dir_montar=/Users/erick/midirectorio.\n",
    "```\n",
    "\n",
    "Ejecutar:\n",
    "\n",
    "```\n",
    "$docker run --rm -v $dir_montar:/datos --name jupyterlab_prope_r_kernel_tidyverse -p 8888:8888 -d palmoreck/jupyterlab_prope_r_kernel_tidyverse:2.1.4   \n",
    "\n",
    "```"
   ]
  },
  {
   "cell_type": "markdown",
   "metadata": {},
   "source": [
    "Ir a `localhost:8888` y escribir el password para jupyterlab: `qwerty`\n",
    "\n",
    "Detener el contenedor de docker:\n",
    "\n",
    "```\n",
    "docker stop jupyterlab_prope_r_kernel_tidyverse\n",
    "```\n"
   ]
  },
  {
   "cell_type": "markdown",
   "metadata": {},
   "source": [
    "Documentación de la imagen de docker `palmoreck/jupyterlab_prope_r_kernel_tidyverse:2.1.4` en [liga](https://github.com/palmoreck/dockerfiles/tree/master/jupyterlab/prope_r_kernel_tidyverse)."
   ]
  },
  {
   "cell_type": "markdown",
   "metadata": {},
   "source": [
    "---"
   ]
  },
  {
   "cell_type": "markdown",
   "metadata": {},
   "source": [
    "Para ejecución de la nota usar:\n",
    "\n",
    "[docker](https://www.docker.com/) (instalación de forma **local** con [Get docker](https://docs.docker.com/install/)) y ejecutar comandos que están al inicio de la nota de forma **local**. \n",
    "\n",
    "O bien dar click en alguno de los botones siguientes:"
   ]
  },
  {
   "cell_type": "markdown",
   "metadata": {},
   "source": [
    "[![Binder](https://mybinder.org/badge_logo.svg)](https://mybinder.org/v2/gh/palmoreck/dockerfiles-for-binder/jupyterlab_prope_r_kernel_tidyerse?urlpath=lab/tree/Propedeutico/R/clases/2_probabilidad/6_teorema_de_Bayes.ipynb) esta opción crea una máquina individual en un servidor de Google, clona el repositorio y permite la ejecución de los notebooks de jupyter."
   ]
  },
  {
   "cell_type": "markdown",
   "metadata": {},
   "source": [
    "[![Run on Repl.it](https://repl.it/badge/github/palmoreck/dummy)](https://repl.it/languages/Rlang) esta opción no clona el repositorio, no ejecuta los notebooks de jupyter pero permite ejecución de instrucciones de Python de forma colaborativa con [repl.it](https://repl.it/). Al dar click se crearán nuevos ***repl*** debajo de sus users de ***repl.it***.\n"
   ]
  },
  {
   "cell_type": "markdown",
   "metadata": {},
   "source": [
    "### Lo siguiente está basado los libros:\n",
    "\n",
    "### * B. Rumbos, Pensando Antes de Actuar: Fundamentos de Elección Racional, 2009.\n",
    "\n",
    "### * G. J. Kerns, Introduction to Probability and Statistics Using R, 2014."
   ]
  },
  {
   "cell_type": "markdown",
   "metadata": {},
   "source": [
    "### El libro de G. J. Kerns tiene github: [jkerns/IPSUR](https://github.com/gjkerns/IPSUR)"
   ]
  },
  {
   "cell_type": "markdown",
   "metadata": {},
   "source": [
    "**Notas:**\n",
    "\n",
    "* Se utilizará el paquete [prob](https://cran.r-project.org/web/packages/prob/index.html) de R para los experimentos descritos en la nota y aunque con funciones nativas de R se pueden crear los experimentos, se le da preferencia a mostrar cómo en R se tienen paquetes para muchas aplicaciones.\n",
    "\n",
    "* En algunas líneas no es necesario colocar `print` y sólo se ha realizado para mostrar los resultados de las funciones en un formato similar al de R pues la nota se escribió con jupyterlab y R.\n",
    "\n",
    "* Cuidado al utilizar las funciones del paquete `prob` para construir espacios de probabilidad grandes como lanzar un dado 9 veces... (tal experimento tiene 10 millones de posibles resultados)"
   ]
  },
  {
   "cell_type": "code",
   "execution_count": 1,
   "metadata": {
    "ExecuteTime": {
     "end_time": "2020-07-13T00:37:22.221090Z",
     "start_time": "2020-07-13T00:37:22.160Z"
    }
   },
   "outputs": [],
   "source": [
    "options(repr.plot.width=4, repr.plot.height=4) #esta línea sólo se ejecuta para jupyterlab con R"
   ]
  },
  {
   "cell_type": "code",
   "execution_count": 2,
   "metadata": {
    "ExecuteTime": {
     "end_time": "2020-07-13T00:37:22.869555Z",
     "start_time": "2020-07-13T00:37:22.332Z"
    }
   },
   "outputs": [
    {
     "name": "stderr",
     "output_type": "stream",
     "text": [
      "Loading required package: combinat\n",
      "\n",
      "\n",
      "Attaching package: ‘combinat’\n",
      "\n",
      "\n",
      "The following object is masked from ‘package:utils’:\n",
      "\n",
      "    combn\n",
      "\n",
      "\n",
      "Loading required package: fAsianOptions\n",
      "\n",
      "Loading required package: timeDate\n",
      "\n",
      "Loading required package: timeSeries\n",
      "\n",
      "Loading required package: fBasics\n",
      "\n",
      "Loading required package: fOptions\n",
      "\n",
      "\n",
      "Attaching package: ‘prob’\n",
      "\n",
      "\n",
      "The following objects are masked from ‘package:base’:\n",
      "\n",
      "    intersect, setdiff, union\n",
      "\n",
      "\n"
     ]
    }
   ],
   "source": [
    "library(prob)"
   ]
  },
  {
   "cell_type": "markdown",
   "metadata": {},
   "source": [
    "# Teorema de Bayes"
   ]
  },
  {
   "cell_type": "markdown",
   "metadata": {},
   "source": [
    "Supongamos que $E$ y $E^c$ representan los eventos de tener o no una enfermedad viral y que existe una prueba sanguínea para detectar este virus. Denotamos por $+$ al evento de tener una **prueba positiva** y por $-$ al que sea **negativa**. Las probabilidades $P(E)$ y $P(E^c)$ pueden pensarse como las probabilidades **a priori** o **iniciales** de tener o no la enfermedad respectivamente."
   ]
  },
  {
   "cell_type": "markdown",
   "metadata": {},
   "source": [
    "La probabilidad $P(E|+)$ cuantifica la probabilidad de tener la enfermedad dado que la prueba de sangre resultó positiva para el virus, es decir, mide **qué tan confiable es el resultado de la prueba** y se llaman probabilidades a **posteriori** o **finales** pues ya **contamos con información** acerca de la prueba de sangre. Una forma de calcularla es la siguiente:"
   ]
  },
  {
   "cell_type": "markdown",
   "metadata": {},
   "source": [
    "$$P(E|+) = \\frac{P(E \\cap +)}{P(+)} = \\frac{P(+|E)P(E)}{P(+)} = \\frac{P(+|E)P(E)}{P(+ \\cap E) + P(+ \\cap E^c)} = \\frac{P(+|E)P(E)}{P(+|E)P(E) + P(+|E^c)P(E^c)}$$"
   ]
  },
  {
   "cell_type": "markdown",
   "metadata": {},
   "source": [
    "**Obs:** obsérvese que se ha utilizado el **teorema de probabilidad total** en el denominador para calcular $P(+)$. Ver [2_propiedades_de_la_probabilidad](https://github.com/ITAM-DS/Propedeutico/blob/master/R/clases/2_probabilidad/2_propiedades_de_la_probabilidad.ipynb)"
   ]
  },
  {
   "cell_type": "markdown",
   "metadata": {},
   "source": [
    "Asimismo, $P(E|+), P(E^c|+), P(E|-)$ y $P(E^c|-)$ son probabilidades a posteriori o finales. Las probabilidades a posteriori son una **revisión de las probabilidades originales (las a priori o iniciales)**, actualizadas con la nueva información del resultado de la prueba de sangre. "
   ]
  },
  {
   "cell_type": "markdown",
   "metadata": {},
   "source": [
    "En contraste, la probabilidad $P(+|E)$ es la probabilidad de que la prueba resulte positiva dado que tenemos la enfermedad. Este número mide **qué tan confiable es la prueba de sangre**."
   ]
  },
  {
   "cell_type": "markdown",
   "metadata": {},
   "source": [
    "El cálculo previo para $P(E|+)$ se le conoce con el nombre de **teorema o fórmula o regla de Bayes**:"
   ]
  },
  {
   "cell_type": "markdown",
   "metadata": {},
   "source": [
    "Sean $E, E^c$ eventos complementarios de un espacio muestral y sea $F$ algún evento tal que $P(F)\\neq 0$, entonces, la probabilidad a posteriori o final de $E$ dado $F$ está dada por:\n",
    "\n",
    "$$P(E|F) = \\frac{P(F|E)P(E)}{P(F)}$$"
   ]
  },
  {
   "cell_type": "markdown",
   "metadata": {},
   "source": [
    "o equivalentemente, $$P(E|F) = \\frac{P(F|E)P(E)}{P(F|E)P(E) + P(F|E^c)P(E^c)}$$"
   ]
  },
  {
   "cell_type": "markdown",
   "metadata": {},
   "source": [
    "En general si el espacio muestral es la unión de los eventos $E_1, E_2,\\dots , E_n$ que son mutuamente excluyentes (nombrados también ajenos), exhaustivos y $F$ es algún evento con $P(F)\\neq 0$, la fórmula anterior se generaliza como sigue:\n",
    "\n",
    "$$P(E_i|F) = \\frac{P(F|E_i)P(E_i)}{P(F)} = \\frac{P(F|E_i)P(E_i)}{\\displaystyle \\sum_{j=1}^nP(F|E_j)P(E_j)}$$"
   ]
  },
  {
   "cell_type": "markdown",
   "metadata": {},
   "source": [
    "**Comentario:** la mayor aportación de **Thomas Bayes** (1702-1761) radica en la idea de inferencia inversa, que va de los efectos a las causas, en lugar de ir de las causas a los efectos. Si $E$ es la causa y $F$ el efecto, $P (E | F )$ representa la probabilidad de la causa dado que se observó el efecto. El teorema de Bayes contesta preguntas como, dado que el pavimento está mojado, ¿cuál es la probabilidad de que hubiese llovido? Dado que un testigo es confiable, ¿qué tan confiable es su testimonio? Dado que aumentó el desempleo, ¿qué tan probable es que haya una recesión económica?"
   ]
  },
  {
   "cell_type": "markdown",
   "metadata": {},
   "source": [
    "## Ejemplos"
   ]
  },
  {
   "cell_type": "markdown",
   "metadata": {},
   "source": [
    "**1)** La prueba para detectar la presencia de ciertos esteroides en el cuerpo de los atletas tiene falsos positivos, si la prueba es positiva sin haber utilizado esteroides y falsos negativos, si la prueba es negativa a pesar de haber utilizado esteroides. Denotemos por $E$ y $E^c$ a los eventos de haber utilizado o no esteroides y por $+$ y $-$ al resultado de una prueba de sangre positiva o negativa, respectivamente. Supongamos que se estima que el 4 % de cierto grupo de atletas ha utilizado esteroides, de manera que: $$P(E)= 0.04, P(E^c) = 0.96$$"
   ]
  },
  {
   "cell_type": "markdown",
   "metadata": {},
   "source": [
    "Esto nos dice que en un $6\\%$ de los casos un atleta que no utiliza esteroides tiene una prueba positiva y, en un $5\\%$ un atleta que si los ha utilizado tiene una prueba negativa."
   ]
  },
  {
   "cell_type": "markdown",
   "metadata": {},
   "source": [
    "Datos\n",
    "\n",
    "$P(E) = 0.04$\n",
    "\n",
    "$P(E^c) = 0.96$\n",
    "\n",
    "$P(+|E^c) = 0.06$ (falsos positivos)\n",
    "\n",
    "$P(-|E) = 0.05$ (falsos negativos)\n",
    "\n",
    "$P(E|+) = \\frac{P(+|E)P(E)}{P(+)}$\n"
   ]
  },
  {
   "cell_type": "markdown",
   "metadata": {},
   "source": [
    "Supongamos que un atleta es sometido a la prueba y ésta sale positiva."
   ]
  },
  {
   "cell_type": "markdown",
   "metadata": {
    "ExecuteTime": {
     "end_time": "2020-07-13T01:23:02.076618Z",
     "start_time": "2020-07-13T01:23:02.053Z"
    }
   },
   "source": [
    "**a)** ¿cuál es la probabilidad de que haya utilizado esteroides? $P(E|+)$"
   ]
  },
  {
   "cell_type": "markdown",
   "metadata": {},
   "source": [
    "$P(E|+) = \\frac{P(+|E)P(E)}{P(+)}$"
   ]
  },
  {
   "cell_type": "markdown",
   "metadata": {},
   "source": [
    "$P(E|+) = \\frac{P(+|E)P(E)}{P(+|E)P(E) + P(+|E^c)P(E^c)}$"
   ]
  },
  {
   "cell_type": "markdown",
   "metadata": {},
   "source": [
    "por lo tanto"
   ]
  },
  {
   "cell_type": "markdown",
   "metadata": {},
   "source": [
    "$P(+|E) = 1 - P(-|E) = 1 - 0.05$"
   ]
  },
  {
   "cell_type": "code",
   "execution_count": 9,
   "metadata": {
    "ExecuteTime": {
     "end_time": "2020-07-13T01:36:19.020718Z",
     "start_time": "2020-07-13T01:36:19.005Z"
    }
   },
   "outputs": [
    {
     "data": {
      "text/html": [
       "0.397489539748954"
      ],
      "text/latex": [
       "0.397489539748954"
      ],
      "text/markdown": [
       "0.397489539748954"
      ],
      "text/plain": [
       "[1] 0.3974895"
      ]
     },
     "metadata": {},
     "output_type": "display_data"
    }
   ],
   "source": [
    "((1 - 0.05)*0.04)/(((1 - 0.05)*0.04) + (0.06*0.96))"
   ]
  },
  {
   "cell_type": "markdown",
   "metadata": {},
   "source": [
    "por lo tanto:\n",
    "\n",
    "$P(E|+) \\approx 40\\%$"
   ]
  },
  {
   "cell_type": "markdown",
   "metadata": {},
   "source": [
    "**b)** ¿cuál es la probabilidad que no haya utilizado esteroides? $P(E^c|+)$"
   ]
  },
  {
   "cell_type": "markdown",
   "metadata": {},
   "source": [
    "$P(E^c|+) = 1 - P(E|+)$"
   ]
  },
  {
   "cell_type": "code",
   "execution_count": 10,
   "metadata": {
    "ExecuteTime": {
     "end_time": "2020-07-13T01:51:20.735092Z",
     "start_time": "2020-07-13T01:51:20.717Z"
    }
   },
   "outputs": [
    {
     "data": {
      "text/html": [
       "0.602510460251046"
      ],
      "text/latex": [
       "0.602510460251046"
      ],
      "text/markdown": [
       "0.602510460251046"
      ],
      "text/plain": [
       "[1] 0.6025105"
      ]
     },
     "metadata": {},
     "output_type": "display_data"
    }
   ],
   "source": [
    "1 - ((1 - 0.05)*0.04)/(((1 - 0.05)*0.04) + (0.06*0.96))"
   ]
  },
  {
   "cell_type": "markdown",
   "metadata": {},
   "source": [
    "por lo tanto:\n",
    "\n",
    "$P(E^c|+) \\approx 60\\%$"
   ]
  },
  {
   "cell_type": "markdown",
   "metadata": {},
   "source": [
    "**2)** Considerar el escenario del ejercicio anterior. Suponer que se realiza una segunda prueba, (condicionalmente) independiente de la primera. Calcular $P(E|+ \\cap +)$."
   ]
  },
  {
   "cell_type": "markdown",
   "metadata": {},
   "source": [
    "$P(E|+ \\cap +) \\Rightarrow$"
   ]
  },
  {
   "cell_type": "markdown",
   "metadata": {},
   "source": [
    "$P()$"
   ]
  },
  {
   "cell_type": "markdown",
   "metadata": {},
   "source": [
    "**3)** Un albino es enjuiciado por haber cometido un crimen. El testigo principal asegura haber visto los hechos a través de una ventana de su casa e identifica a un individuo albino como el criminal. Realizando pruebas para la credibilidad del testigo, se determina que a la distancia y en las condiciones de luz desde las cuales presenció el crimen, identifica correctamente a una persona albina o no albina un 95% de las veces. Aproximadamente una de cada 17 mil personas presenta la condición de albinismo. ¿Cuál es la probabilidad de que el albino haya cometido el crimen dado que el testigo lo identificó?"
   ]
  },
  {
   "cell_type": "markdown",
   "metadata": {},
   "source": [
    "Datos:\n",
    "\n",
    "$P(+) \\Rightarrow$ probabilidad de que el testigo identifique a un albino\n",
    "\n",
    "$P(A) = \\frac{1}{17,000} \\Rightarrow$ probabilidad de que la persona sea albina\n",
    "\n",
    "$P(+|A) = P(-|A^c) = 95\\%$ "
   ]
  },
  {
   "cell_type": "markdown",
   "metadata": {},
   "source": [
    "Resultado a obtener:\n",
    "\n",
    "$P(A|+)$"
   ]
  },
  {
   "cell_type": "markdown",
   "metadata": {},
   "source": [
    "$P(A|+) = \\frac{P(+|A)P(A)}{P(+|A)P(A) + P(+|A^c)P(A^c)}$"
   ]
  },
  {
   "cell_type": "markdown",
   "metadata": {},
   "source": [
    "$P(+|A^c) = 1 - P(+|A) = 1 - 0.95$"
   ]
  },
  {
   "cell_type": "markdown",
   "metadata": {},
   "source": [
    "$P(A^c) = 1 - P(A) = 1 - \\frac{1}{17,000}$"
   ]
  },
  {
   "cell_type": "code",
   "execution_count": 11,
   "metadata": {
    "ExecuteTime": {
     "end_time": "2020-07-13T12:47:30.154903Z",
     "start_time": "2020-07-13T12:47:30.020Z"
    }
   },
   "outputs": [
    {
     "data": {
      "text/html": [
       "0.001116464919497"
      ],
      "text/latex": [
       "0.001116464919497"
      ],
      "text/markdown": [
       "0.001116464919497"
      ],
      "text/plain": [
       "[1] 0.001116465"
      ]
     },
     "metadata": {},
     "output_type": "display_data"
    }
   ],
   "source": [
    "(0.95*(1/17000))/(0.95*(1/17000) + (1 - 0.95)*(1 - 1/17000))"
   ]
  },
  {
   "cell_type": "markdown",
   "metadata": {},
   "source": [
    "Por lo tanto:\n",
    "\n",
    "$P(A|+) \\approx 0.11\\%$"
   ]
  },
  {
   "cell_type": "markdown",
   "metadata": {},
   "source": [
    "## Ejercicios"
   ]
  },
  {
   "cell_type": "markdown",
   "metadata": {},
   "source": [
    "**Nota: Varios de los siguientes ejercicios tienen su solución en las referencias dadas al inicio de la nota. Se sugiere resolverlos por su cuenta y posteriormente compararlos con sus respectivas soluciones.**"
   ]
  },
  {
   "cell_type": "markdown",
   "metadata": {},
   "source": [
    "**1)** El siguiente es un mecanismo conocido para elegir a una persona de un grupo pequeño. Digamos que en un grupo de 4 personas quiere seleccionarse a una de ellas para que realice alguna actividad, digamos ir por cervezas a la hielera. Para este efecto, se toman 4 palillos y uno de ellos se recorta; así, se tienen tres palillos largos y uno corto. Las personas toman turnos tomando palillos, ignorando cuál es el corto, y el que saca el palillo corto es el elegido para ir por las cervezas. ¿Tiene alguna ventaja escoger primero, segundo, tercero o cuarto?"
   ]
  },
  {
   "cell_type": "markdown",
   "metadata": {},
   "source": [
    "- Probabilidad de que el primero saque el palillo corto $\\Rightarrow P(p1)$ \n",
    "\n",
    "- Probabilidad de que el segundo saque el palillo $\\Rightarrow P(p2)$ \n",
    "\n",
    "- Probabilidad de que el tercero saque el palillo $\\Rightarrow P(p3)$ \n",
    "\n",
    "- Probabilidad de que el cuarto saque el palillo $\\Rightarrow P(p4)$ "
   ]
  },
  {
   "cell_type": "markdown",
   "metadata": {},
   "source": [
    "$P(p1)$ "
   ]
  },
  {
   "cell_type": "code",
   "execution_count": 3,
   "metadata": {
    "ExecuteTime": {
     "end_time": "2020-07-13T00:56:47.121259Z",
     "start_time": "2020-07-13T00:56:47.103Z"
    }
   },
   "outputs": [
    {
     "data": {
      "text/html": [
       "0.25"
      ],
      "text/latex": [
       "0.25"
      ],
      "text/markdown": [
       "0.25"
      ],
      "text/plain": [
       "[1] 0.25"
      ]
     },
     "metadata": {},
     "output_type": "display_data"
    }
   ],
   "source": [
    "1/4"
   ]
  },
  {
   "cell_type": "markdown",
   "metadata": {},
   "source": [
    "$P(p2 \\cap p1^c) \\Rightarrow P(p2 | p1^c)P(p1^c)$"
   ]
  },
  {
   "cell_type": "code",
   "execution_count": 5,
   "metadata": {
    "ExecuteTime": {
     "end_time": "2020-07-13T01:00:57.798572Z",
     "start_time": "2020-07-13T01:00:57.783Z"
    }
   },
   "outputs": [
    {
     "data": {
      "text/html": [
       "0.25"
      ],
      "text/latex": [
       "0.25"
      ],
      "text/markdown": [
       "0.25"
      ],
      "text/plain": [
       "[1] 0.25"
      ]
     },
     "metadata": {},
     "output_type": "display_data"
    }
   ],
   "source": [
    "(1/3)*(3/4)"
   ]
  },
  {
   "cell_type": "markdown",
   "metadata": {},
   "source": [
    "$P(p3 \\cap p2^c \\cap p1^c) \\Rightarrow P(p3 | p2^c \\cap p1^c)P(p2^c \\cap p1^c) \\Rightarrow P(p3 | p1^c \\cap p2^c)P(p2^c | p1^c)P(p1^c)$"
   ]
  },
  {
   "cell_type": "code",
   "execution_count": 6,
   "metadata": {
    "ExecuteTime": {
     "end_time": "2020-07-13T01:10:51.192775Z",
     "start_time": "2020-07-13T01:10:51.177Z"
    }
   },
   "outputs": [
    {
     "data": {
      "text/html": [
       "0.25"
      ],
      "text/latex": [
       "0.25"
      ],
      "text/markdown": [
       "0.25"
      ],
      "text/plain": [
       "[1] 0.25"
      ]
     },
     "metadata": {},
     "output_type": "display_data"
    }
   ],
   "source": [
    "(1/2)*(2/3)*(3/4)"
   ]
  },
  {
   "cell_type": "markdown",
   "metadata": {},
   "source": [
    "$P(p4 \\cap p3^c \\cap p2^c \\cap p1^c) \\Rightarrow $"
   ]
  },
  {
   "cell_type": "markdown",
   "metadata": {},
   "source": [
    "$P(p4 | p3^c \\cap p2^c \\cap p1^c)P(p3^c \\cap p2^c \\cap p1^c) \\Rightarrow $"
   ]
  },
  {
   "cell_type": "markdown",
   "metadata": {},
   "source": [
    "$P(p4 | p3^c \\cap p2^c \\cap p1^c) P(p3^c|p2^c \\cap p1^c)P(p2^c \\cap p1^c) \\Rightarrow$"
   ]
  },
  {
   "cell_type": "markdown",
   "metadata": {},
   "source": [
    "$P(p4 | p3^c \\cap p2^c \\cap p1^c) P(p3^c|p2^c \\cap p1^c)P(p2^c | p1^c) P(p1^c) \\Rightarrow$"
   ]
  },
  {
   "cell_type": "code",
   "execution_count": 7,
   "metadata": {
    "ExecuteTime": {
     "end_time": "2020-07-13T01:17:57.415808Z",
     "start_time": "2020-07-13T01:17:57.400Z"
    }
   },
   "outputs": [
    {
     "data": {
      "text/html": [
       "0.25"
      ],
      "text/latex": [
       "0.25"
      ],
      "text/markdown": [
       "0.25"
      ],
      "text/plain": [
       "[1] 0.25"
      ]
     },
     "metadata": {},
     "output_type": "display_data"
    }
   ],
   "source": [
    "(1)*(1/2)*(2/3)*(3/4)"
   ]
  },
  {
   "cell_type": "markdown",
   "metadata": {},
   "source": [
    "Por lo tanto, no hay ninguna ventaja de perder según el número de palillo que te toque sacar"
   ]
  },
  {
   "cell_type": "markdown",
   "metadata": {},
   "source": [
    "**2)** Considera el mismo escenario que el ejemplo $3$ pero en lugar de que el sospechoso sea un individuo albino ahora se tiene:"
   ]
  },
  {
   "cell_type": "markdown",
   "metadata": {},
   "source": [
    "a) El sospechoso del crimen es un individuo pelirrojo y la probabilidad de ser pelirrojo es del $2 \\%$. Encontrar $P(\\text{\\{pelirrojo\\}} | +),$ en donde $+$ representa: “el testigo identifica a una persona como pelirroja”."
   ]
  },
  {
   "cell_type": "markdown",
   "metadata": {},
   "source": [
    "Datos:\n",
    "\n",
    "$P(+) \\Rightarrow$ probabilidad de que el testigo identifique a un pelirrojo\n",
    "\n",
    "$P(R) = \\frac{2}{100} \\Rightarrow$ probabilidad de que la persona sea pelirroja\n",
    "\n",
    "$P(+|R) = P(-|R^c) = 95\\%$ "
   ]
  },
  {
   "cell_type": "markdown",
   "metadata": {},
   "source": [
    "Resultado a obtener:\n",
    "\n",
    "$P(R|+)$"
   ]
  },
  {
   "cell_type": "markdown",
   "metadata": {},
   "source": [
    "$P(R|+) = \\frac{P(+|R)P(R)}{P(+|R)P(R) + P(+|R^c)P(R^c)}$"
   ]
  },
  {
   "cell_type": "markdown",
   "metadata": {},
   "source": [
    "$P(+|R^c) = 1 - P(+|R) = 1 - 0.95$"
   ]
  },
  {
   "cell_type": "markdown",
   "metadata": {},
   "source": [
    "$P(R^c) = 1 - P(R) = 1 - \\frac{2}{100}$"
   ]
  },
  {
   "cell_type": "code",
   "execution_count": 12,
   "metadata": {
    "ExecuteTime": {
     "end_time": "2020-07-13T12:58:40.060178Z",
     "start_time": "2020-07-13T12:58:40.030Z"
    }
   },
   "outputs": [
    {
     "data": {
      "text/html": [
       "0.279411764705882"
      ],
      "text/latex": [
       "0.279411764705882"
      ],
      "text/markdown": [
       "0.279411764705882"
      ],
      "text/plain": [
       "[1] 0.2794118"
      ]
     },
     "metadata": {},
     "output_type": "display_data"
    }
   ],
   "source": [
    "(0.95*(2/100))/(0.95*(2/100) + (1 - 0.95)*(1 - 2/100))"
   ]
  },
  {
   "cell_type": "markdown",
   "metadata": {},
   "source": [
    "Por lo tanto:\n",
    "\n",
    "$P(R|+) \\approx 27.9\\%$"
   ]
  },
  {
   "cell_type": "markdown",
   "metadata": {},
   "source": [
    "b) El sospechoso es un individuo de pelo rubio y la probabilidad de tener el pelo rubio es del $15 \\%$. Encontrar $P(\\text{\\{rubio\\}} | +)$, en donde $+$ representa: \"el testigo identifica a una persona como rubia\"."
   ]
  },
  {
   "cell_type": "markdown",
   "metadata": {},
   "source": [
    "Datos:\n",
    "\n",
    "$P(+) \\Rightarrow$ probabilidad de que el testigo identifique a un rubio\n",
    "\n",
    "$P(B) = \\frac{15}{100} \\Rightarrow$ probabilidad de que la persona sea rubia\n",
    "\n",
    "$P(+|B) = P(-|B^c) = 95\\%$ "
   ]
  },
  {
   "cell_type": "markdown",
   "metadata": {},
   "source": [
    "Resultado a obtener:\n",
    "\n",
    "$P(B|+)$"
   ]
  },
  {
   "cell_type": "markdown",
   "metadata": {},
   "source": [
    "$P(B|+) = \\frac{P(+|B)P(B)}{P(+|B)P(B) + P(+|B^c)P(B^c)}$"
   ]
  },
  {
   "cell_type": "markdown",
   "metadata": {},
   "source": [
    "$P(+|B^c) = 1 - P(+|B) = 1 - 0.95$ "
   ]
  },
  {
   "cell_type": "markdown",
   "metadata": {},
   "source": [
    "$P(B^c) = 1 - P(B) = 1 - \\frac{15}{100}$"
   ]
  },
  {
   "cell_type": "code",
   "execution_count": 13,
   "metadata": {
    "ExecuteTime": {
     "end_time": "2020-07-13T13:02:43.620339Z",
     "start_time": "2020-07-13T13:02:43.589Z"
    }
   },
   "outputs": [
    {
     "data": {
      "text/html": [
       "0.77027027027027"
      ],
      "text/latex": [
       "0.77027027027027"
      ],
      "text/markdown": [
       "0.77027027027027"
      ],
      "text/plain": [
       "[1] 0.7702703"
      ]
     },
     "metadata": {},
     "output_type": "display_data"
    }
   ],
   "source": [
    "(0.95*(15/100))/(0.95*(15/100) + (1 - 0.95)*(1 - 15/100))"
   ]
  },
  {
   "cell_type": "markdown",
   "metadata": {},
   "source": [
    "Por lo tanto:\n",
    "\n",
    "$P(B|+) \\approx 77\\%$"
   ]
  }
 ],
 "metadata": {
  "kernelspec": {
   "display_name": "R",
   "language": "R",
   "name": "ir"
  },
  "language_info": {
   "codemirror_mode": "r",
   "file_extension": ".r",
   "mimetype": "text/x-r-source",
   "name": "R",
   "pygments_lexer": "r",
   "version": "4.0.2"
  }
 },
 "nbformat": 4,
 "nbformat_minor": 4
}
