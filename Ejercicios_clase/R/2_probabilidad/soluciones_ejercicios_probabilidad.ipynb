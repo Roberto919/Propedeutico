{
 "cells": [
  {
   "cell_type": "markdown",
   "metadata": {
    "heading_collapsed": true
   },
   "source": [
    "# Tema 2: propiedades de la probabilidad"
   ]
  },
  {
   "cell_type": "markdown",
   "metadata": {
    "hidden": true
   },
   "source": [
    "1) Durante 5 años el profesor X ha impartido el mismo curso. En total ha tenido 500 alumnos, de los cuales 80 se han dado de baja, 200 han reprobado y 220 han aprobado. Nos encontramos a uno de estos exalumnos. ¿Cuál es la probabilidad de que éste se haya dado de baja en el curso?"
   ]
  },
  {
   "cell_type": "code",
   "execution_count": 1,
   "metadata": {
    "hidden": true
   },
   "outputs": [
    {
     "data": {
      "text/html": [
       "0.16"
      ],
      "text/latex": [
       "0.16"
      ],
      "text/markdown": [
       "0.16"
      ],
      "text/plain": [
       "[1] 0.16"
      ]
     },
     "metadata": {},
     "output_type": "display_data"
    }
   ],
   "source": [
    "80/500"
   ]
  },
  {
   "cell_type": "markdown",
   "metadata": {
    "hidden": true
   },
   "source": [
    "2) Una moneda se lanza al aire 300 veces y se obtienen 152 águilas y 148 soles. ¿Cuál es la probabilidad de sacar un águila?"
   ]
  },
  {
   "cell_type": "code",
   "execution_count": 2,
   "metadata": {
    "hidden": true
   },
   "outputs": [
    {
     "data": {
      "text/html": [
       "0.506666666666667"
      ],
      "text/latex": [
       "0.506666666666667"
      ],
      "text/markdown": [
       "0.506666666666667"
      ],
      "text/plain": [
       "[1] 0.5066667"
      ]
     },
     "metadata": {},
     "output_type": "display_data"
    }
   ],
   "source": [
    "152/300"
   ]
  },
  {
   "cell_type": "markdown",
   "metadata": {
    "hidden": true
   },
   "source": [
    "3) El año pasado nacieron 1613 mujeres y 1531 hombres en la Delegación Coyoacán. Si se selecciona uno de estos bebes al azar, ¿cuál es la probabilidad de que sea niña? "
   ]
  },
  {
   "cell_type": "code",
   "execution_count": 3,
   "metadata": {
    "hidden": true
   },
   "outputs": [
    {
     "data": {
      "text/html": [
       "0.513040712468193"
      ],
      "text/latex": [
       "0.513040712468193"
      ],
      "text/markdown": [
       "0.513040712468193"
      ],
      "text/plain": [
       "[1] 0.5130407"
      ]
     },
     "metadata": {},
     "output_type": "display_data"
    }
   ],
   "source": [
    "1613/(1613+1531)"
   ]
  },
  {
   "cell_type": "markdown",
   "metadata": {
    "hidden": true
   },
   "source": [
    "4) Se lanza un dado de seis caras al aire. Sean los eventos E={el resultado es un número par} y F={el resultado es un número primo}. Calcular la probabilidad de “el resultado es un número par o un número primo”."
   ]
  },
  {
   "cell_type": "code",
   "execution_count": 4,
   "metadata": {
    "hidden": true
   },
   "outputs": [
    {
     "data": {
      "text/html": [
       "0.833333333333333"
      ],
      "text/latex": [
       "0.833333333333333"
      ],
      "text/markdown": [
       "0.833333333333333"
      ],
      "text/plain": [
       "[1] 0.8333333"
      ]
     },
     "metadata": {},
     "output_type": "display_data"
    }
   ],
   "source": [
    "5/6"
   ]
  },
  {
   "cell_type": "markdown",
   "metadata": {
    "hidden": true
   },
   "source": [
    "5) ¿Cuál es la probabilidad de tener exactamente dos hijos varones en una familia de tres hijos? ¿a lo más dos hijos varones?"
   ]
  },
  {
   "cell_type": "code",
   "execution_count": 34,
   "metadata": {
    "hidden": true
   },
   "outputs": [
    {
     "data": {
      "text/html": [
       "0.375"
      ],
      "text/latex": [
       "0.375"
      ],
      "text/markdown": [
       "0.375"
      ],
      "text/plain": [
       "[1] 0.375"
      ]
     },
     "metadata": {},
     "output_type": "display_data"
    }
   ],
   "source": [
    "3/8"
   ]
  },
  {
   "cell_type": "markdown",
   "metadata": {
    "hidden": true
   },
   "source": [
    "6) Considera una baraja ¿cuál es la probabilidad de sacar un as? ¿de un corazón? ¿de un as de corazones? ¿de un as o de un corazón?"
   ]
  },
  {
   "cell_type": "markdown",
   "metadata": {
    "hidden": true
   },
   "source": [
    "**Proba de sacar un as**"
   ]
  },
  {
   "cell_type": "code",
   "execution_count": 29,
   "metadata": {
    "hidden": true
   },
   "outputs": [
    {
     "data": {
      "text/html": [
       "0.0769230769230769"
      ],
      "text/latex": [
       "0.0769230769230769"
      ],
      "text/markdown": [
       "0.0769230769230769"
      ],
      "text/plain": [
       "[1] 0.07692308"
      ]
     },
     "metadata": {},
     "output_type": "display_data"
    }
   ],
   "source": [
    "4/52 #4 ases, 52 cartas"
   ]
  },
  {
   "cell_type": "markdown",
   "metadata": {
    "hidden": true
   },
   "source": [
    "**Proba de sacar un corazón**"
   ]
  },
  {
   "cell_type": "code",
   "execution_count": 30,
   "metadata": {
    "hidden": true
   },
   "outputs": [
    {
     "data": {
      "text/html": [
       "0.25"
      ],
      "text/latex": [
       "0.25"
      ],
      "text/markdown": [
       "0.25"
      ],
      "text/plain": [
       "[1] 0.25"
      ]
     },
     "metadata": {},
     "output_type": "display_data"
    }
   ],
   "source": [
    "13/52 #13 corazones, 52 cartas"
   ]
  },
  {
   "cell_type": "markdown",
   "metadata": {
    "hidden": true
   },
   "source": [
    "**Un as de corazones**"
   ]
  },
  {
   "cell_type": "code",
   "execution_count": 31,
   "metadata": {
    "hidden": true
   },
   "outputs": [
    {
     "data": {
      "text/html": [
       "0.0192307692307692"
      ],
      "text/latex": [
       "0.0192307692307692"
      ],
      "text/markdown": [
       "0.0192307692307692"
      ],
      "text/plain": [
       "[1] 0.01923077"
      ]
     },
     "metadata": {},
     "output_type": "display_data"
    }
   ],
   "source": [
    "1/52 #misma proba de sacar una carta"
   ]
  },
  {
   "cell_type": "markdown",
   "metadata": {
    "hidden": true
   },
   "source": [
    "**Un as o un corazón**"
   ]
  },
  {
   "cell_type": "code",
   "execution_count": 32,
   "metadata": {
    "hidden": true
   },
   "outputs": [
    {
     "data": {
      "text/html": [
       "0.307692307692308"
      ],
      "text/latex": [
       "0.307692307692308"
      ],
      "text/markdown": [
       "0.307692307692308"
      ],
      "text/plain": [
       "[1] 0.3076923"
      ]
     },
     "metadata": {},
     "output_type": "display_data"
    }
   ],
   "source": [
    "4/52 + 13/52 - 1/52 #un as, un corazón menos la intersección as de corazones"
   ]
  },
  {
   "cell_type": "code",
   "execution_count": 33,
   "metadata": {
    "hidden": true
   },
   "outputs": [
    {
     "data": {
      "text/html": [
       "0.307692307692308"
      ],
      "text/latex": [
       "0.307692307692308"
      ],
      "text/markdown": [
       "0.307692307692308"
      ],
      "text/plain": [
       "[1] 0.3076923"
      ]
     },
     "metadata": {},
     "output_type": "display_data"
    }
   ],
   "source": [
    "16/52"
   ]
  },
  {
   "cell_type": "markdown",
   "metadata": {
    "hidden": true
   },
   "source": [
    "7) Un sondeo de opinión entre la población adulta acerca de si se desea una nueva línea del metro nos da los siguientes resultados:\n",
    "\n",
    "\n",
    "|----|A favor|En contra|Total|\n",
    "|:---:|:---:|:---:|:---:\n",
    "|Mujeres|210|50|260|\n",
    "|Hombres|180|60|240|\n",
    "|Total|390|110|500|\n",
    "\n",
    "Sea $F$ el evento “la persona encuestada es mujer” y $C$ el evento “está en contra de la nueva línea del Metro”. Calcular $P(F), P(C), P(F \\cap C), P(F \\cup C)$."
   ]
  },
  {
   "cell_type": "markdown",
   "metadata": {
    "hidden": true
   },
   "source": [
    "$P(\\text{\\{Mujer\\}}) = \\frac{260}{500}$"
   ]
  },
  {
   "cell_type": "code",
   "execution_count": 5,
   "metadata": {
    "hidden": true
   },
   "outputs": [
    {
     "data": {
      "text/html": [
       "0.52"
      ],
      "text/latex": [
       "0.52"
      ],
      "text/markdown": [
       "0.52"
      ],
      "text/plain": [
       "[1] 0.52"
      ]
     },
     "metadata": {},
     "output_type": "display_data"
    }
   ],
   "source": [
    "260/500"
   ]
  },
  {
   "cell_type": "markdown",
   "metadata": {
    "hidden": true
   },
   "source": [
    "$P(\\text{\\{En contra\\}}) = \\frac{110}{500}$"
   ]
  },
  {
   "cell_type": "code",
   "execution_count": 6,
   "metadata": {
    "hidden": true
   },
   "outputs": [
    {
     "data": {
      "text/html": [
       "0.22"
      ],
      "text/latex": [
       "0.22"
      ],
      "text/markdown": [
       "0.22"
      ],
      "text/plain": [
       "[1] 0.22"
      ]
     },
     "metadata": {},
     "output_type": "display_data"
    }
   ],
   "source": [
    "110/500"
   ]
  },
  {
   "cell_type": "markdown",
   "metadata": {
    "hidden": true
   },
   "source": [
    "$P(\\text{\\{Mujer en contra\\}}) = \\frac{50}{500}$"
   ]
  },
  {
   "cell_type": "code",
   "execution_count": 7,
   "metadata": {
    "hidden": true
   },
   "outputs": [
    {
     "data": {
      "text/html": [
       "0.1"
      ],
      "text/latex": [
       "0.1"
      ],
      "text/markdown": [
       "0.1"
      ],
      "text/plain": [
       "[1] 0.1"
      ]
     },
     "metadata": {},
     "output_type": "display_data"
    }
   ],
   "source": [
    "50/500"
   ]
  },
  {
   "cell_type": "markdown",
   "metadata": {
    "hidden": true
   },
   "source": [
    "$P(\\text{\\{Mujer\\}} \\cup \\text{\\{En contra\\}}) = P(\\text{\\{Mujer\\}}) + P(\\text{\\{En contra\\}}) - P(\\text{\\{Mujer en contra\\}})$"
   ]
  },
  {
   "cell_type": "code",
   "execution_count": 8,
   "metadata": {
    "hidden": true
   },
   "outputs": [
    {
     "data": {
      "text/html": [
       "0.64"
      ],
      "text/latex": [
       "0.64"
      ],
      "text/markdown": [
       "0.64"
      ],
      "text/plain": [
       "[1] 0.64"
      ]
     },
     "metadata": {},
     "output_type": "display_data"
    }
   ],
   "source": [
    "260/500 + 110/500 - 50/500"
   ]
  },
  {
   "cell_type": "markdown",
   "metadata": {
    "heading_collapsed": true
   },
   "source": [
    "# Tema 3: métodos de conteo"
   ]
  },
  {
   "cell_type": "markdown",
   "metadata": {
    "hidden": true
   },
   "source": [
    "1) Tenemos 5 ingredientes de los cuales podemos elegir para pedir nuestra pizza: peperoni, salchicha, anchoas, huitlacoche y aceitunas. ¿Cuántas pizzas distintas podemos formar?"
   ]
  },
  {
   "cell_type": "code",
   "execution_count": 1,
   "metadata": {
    "hidden": true
   },
   "outputs": [
    {
     "data": {
      "text/plain": [
       "32"
      ]
     },
     "execution_count": 1,
     "metadata": {},
     "output_type": "execute_result"
    }
   ],
   "source": [
    "2**5"
   ]
  },
  {
   "cell_type": "markdown",
   "metadata": {
    "hidden": true
   },
   "source": [
    "2) Para construir una computadora podemos elegir entre las opciones que están en una tienda: dos procesadores, tres sistemas operativos, cuatro tamaños distintos de memoria, 4 discos duros de distinto tamaño y 10 opciones de monitor. ¿Cuántas opciones de computadoras podemos construir?"
   ]
  },
  {
   "cell_type": "code",
   "execution_count": 1,
   "metadata": {
    "hidden": true
   },
   "outputs": [
    {
     "data": {
      "text/html": [
       "960"
      ],
      "text/latex": [
       "960"
      ],
      "text/markdown": [
       "960"
      ],
      "text/plain": [
       "[1] 960"
      ]
     },
     "metadata": {},
     "output_type": "display_data"
    }
   ],
   "source": [
    "2*3*4*4*10"
   ]
  },
  {
   "cell_type": "markdown",
   "metadata": {
    "hidden": true
   },
   "source": [
    "3) ¿Cuántas formas distintas se pueden construir números de tres cifras sin repetir ningún número?"
   ]
  },
  {
   "cell_type": "code",
   "execution_count": 2,
   "metadata": {
    "hidden": true
   },
   "outputs": [
    {
     "data": {
      "text/html": [
       "720"
      ],
      "text/latex": [
       "720"
      ],
      "text/markdown": [
       "720"
      ],
      "text/plain": [
       "[1] 720"
      ]
     },
     "metadata": {},
     "output_type": "display_data"
    }
   ],
   "source": [
    "10*9*8"
   ]
  },
  {
   "cell_type": "markdown",
   "metadata": {
    "hidden": true
   },
   "source": [
    "4) Cuatro personas ordenan diferentes bebidas en un bar. El cantinero sirve las bebidas pero por falta de atención olvida completamente quién ordenó qué. ¿Cuál es la probabilidad de que el cantinero coloque las bebidas correctamente? "
   ]
  },
  {
   "cell_type": "code",
   "execution_count": 4,
   "metadata": {
    "hidden": true
   },
   "outputs": [
    {
     "data": {
      "text/html": [
       "0.0416666666666667"
      ],
      "text/latex": [
       "0.0416666666666667"
      ],
      "text/markdown": [
       "0.0416666666666667"
      ],
      "text/plain": [
       "[1] 0.04166667"
      ]
     },
     "metadata": {},
     "output_type": "display_data"
    }
   ],
   "source": [
    "1/factorial(4)"
   ]
  },
  {
   "cell_type": "markdown",
   "metadata": {
    "hidden": true
   },
   "source": [
    "5) Rentas $5$ películas para ver: $3$ hoy y $2$ mañana por la noche pero tu amiga Mariana te pide prestadas $2$ películas. ¿De cuántas formas distintas puede Mariana elegir las $2$ películas?"
   ]
  },
  {
   "cell_type": "code",
   "execution_count": 5,
   "metadata": {
    "hidden": true
   },
   "outputs": [
    {
     "data": {
      "text/html": [
       "10"
      ],
      "text/latex": [
       "10"
      ],
      "text/markdown": [
       "10"
      ],
      "text/plain": [
       "[1] 10"
      ]
     },
     "metadata": {},
     "output_type": "display_data"
    }
   ],
   "source": [
    "choose(5,2)"
   ]
  },
  {
   "cell_type": "markdown",
   "metadata": {
    "hidden": true
   },
   "source": [
    "6) ¿Cuántas manos de poker contienen (exactamente) una tercia? ---> (excluye par, esto es, excluye el llamado full)"
   ]
  },
  {
   "cell_type": "code",
   "execution_count": 5,
   "metadata": {
    "hidden": true
   },
   "outputs": [
    {
     "data": {
      "text/html": [
       "54912"
      ],
      "text/latex": [
       "54912"
      ],
      "text/markdown": [
       "54912"
      ],
      "text/plain": [
       "[1] 54912"
      ]
     },
     "metadata": {},
     "output_type": "display_data"
    }
   ],
   "source": [
    "choose(13,1)*choose(4,3)*choose(12,2)*choose(4,1)*choose(4,1)"
   ]
  },
  {
   "cell_type": "markdown",
   "metadata": {
    "heading_collapsed": true
   },
   "source": [
    "# Tema 4: probabilidad condicional"
   ]
  },
  {
   "cell_type": "markdown",
   "metadata": {
    "hidden": true
   },
   "source": [
    "1) Supongamos que en una muestra de 100 personas, 65 de ellas son vacunadas contra la influenza esta temporada de invierno. Cinco de las personas vacunadas contraen la enfermedad. De las 35 personas que no son vacunadas 25 caen enfermas. La siguiente tabla resume esta información:\n",
    "\n",
    "|----|enfermo|no enfermo|Total|\n",
    "|:---:|:---:|:---:|:---:|\n",
    "|vacunados|5|60|65|\n",
    "|no vacunados|25|10|35|\n",
    "|Total|30|70|100\n",
    "\n",
    "Calcular:\n",
    "\n",
    "a) $P(${vacunado}$)$, $P(${no vacunado}$)$, $P(${enfermo|vacunado}$)$, $P(${no enfermo|vacunado}$)$, $P(${enfermo|no vacunado}$)$, $P(${no enfermo|no vacunado}$)$ y $P(${vacunado y no enfermo}$)$. \n",
    "\n",
    "b)$P(${no vacunado y no enfermo}$)$, $P(${no enfermo}$)$\n",
    "\n",
    "c)$P(${vacunado} | {no enfermo}$)$.\n"
   ]
  },
  {
   "cell_type": "markdown",
   "metadata": {
    "hidden": true
   },
   "source": [
    "**Solución**"
   ]
  },
  {
   "cell_type": "markdown",
   "metadata": {
    "hidden": true
   },
   "source": [
    "a)"
   ]
  },
  {
   "cell_type": "markdown",
   "metadata": {
    "hidden": true
   },
   "source": [
    "$P(\\text{\\{vacunado\\}}) = \\frac{65}{100}$\n",
    "\n",
    "$P(\\text{\\{no vacunado\\}}) = \\frac{35}{100}$"
   ]
  },
  {
   "cell_type": "markdown",
   "metadata": {
    "hidden": true
   },
   "source": [
    "$P(\\text{\\{enfermo | vacunado \\}}) = \\frac{5}{65}$"
   ]
  },
  {
   "cell_type": "markdown",
   "metadata": {
    "hidden": true
   },
   "source": [
    "$P(${no enfermo|vacunado}$) =\\frac{60}{65}$ "
   ]
  },
  {
   "cell_type": "markdown",
   "metadata": {
    "hidden": true
   },
   "source": [
    "$P(${enfermo|no vacunado}$) = \\frac{25}{35}$"
   ]
  },
  {
   "cell_type": "markdown",
   "metadata": {
    "hidden": true
   },
   "source": [
    "$P(${no enfermo|no vacunado}$) = \\frac{10}{35}$"
   ]
  },
  {
   "cell_type": "markdown",
   "metadata": {
    "hidden": true
   },
   "source": [
    "$P(${vacunado y no enfermo}$) = \\frac{60}{100}$"
   ]
  },
  {
   "cell_type": "markdown",
   "metadata": {
    "hidden": true
   },
   "source": [
    "Otra opción:"
   ]
  },
  {
   "cell_type": "markdown",
   "metadata": {
    "hidden": true
   },
   "source": [
    "$P(${vacunado y no enfermo}$) = P(${vacunado | no enfermo$)P(${no enfermo}$) = \\frac{60}{70} \\frac{70}{100}$"
   ]
  },
  {
   "cell_type": "markdown",
   "metadata": {
    "hidden": true
   },
   "source": [
    "b)"
   ]
  },
  {
   "cell_type": "markdown",
   "metadata": {
    "hidden": true
   },
   "source": [
    "$P(${no vacunado y no enfermo}$) = \\frac{10}{100}$"
   ]
  },
  {
   "cell_type": "markdown",
   "metadata": {
    "hidden": true
   },
   "source": [
    "$P(${no enfermo}$) = \\frac{70}{100}$"
   ]
  },
  {
   "cell_type": "markdown",
   "metadata": {
    "hidden": true
   },
   "source": [
    "Otra opción:"
   ]
  },
  {
   "cell_type": "markdown",
   "metadata": {
    "hidden": true
   },
   "source": [
    "$P(${no enfermo}$) = P(${no enfermo|vacunado}$P(${vacunado}$) + P(${no enfermo|no vacunado}$)P(${no vacunado}$)$\n",
    "\n",
    "$= \\frac{60}{65}\\frac{65}{100} + \\frac{10}{35}\\frac{35}{100}$"
   ]
  },
  {
   "cell_type": "markdown",
   "metadata": {
    "hidden": true
   },
   "source": [
    "c)\n",
    "\n",
    "$P(${vacunado} | {no enfermo}$) = \\frac{60}{70}$."
   ]
  },
  {
   "cell_type": "markdown",
   "metadata": {
    "hidden": true
   },
   "source": [
    "Otra opción:"
   ]
  },
  {
   "cell_type": "markdown",
   "metadata": {
    "hidden": true
   },
   "source": [
    "$P(${vacunado} | {no enfermo}$)= \\frac{P(\\text{\\{vacunado y no enfermo\\}})}{P(\\text{\\{no enfermo\\}})} = \\frac{\\frac{60}{100}}{\\frac{70}{100}} = \\frac{60}{70}$ "
   ]
  },
  {
   "cell_type": "markdown",
   "metadata": {
    "hidden": true
   },
   "source": [
    "2) Considérese dos urnas, la primera tiene $5$ canicas rojas y $3$ canicas verdes y la segunda $2$ canicas rojas y $6$ verdes. Una persona selecciona una canica de la primer urna y la transfiere a la segunda urna sin mostrarte qué color fue. Seleccionas una canica de la segunda urna. ¿Cuál es la probabilidad que la canica que seleccionaste es roja?. \n",
    "\n",
    "Sugerencia: considérese los eventos: $E=${la canica que se lleva de la primer urna a la segunda urna es roja} y $F=${la canica seleccionada es roja} y condicionar sobre $E$, lo que se pide es $P(F)$."
   ]
  },
  {
   "cell_type": "markdown",
   "metadata": {
    "hidden": true
   },
   "source": [
    "**Solución**"
   ]
  },
  {
   "cell_type": "markdown",
   "metadata": {
    "hidden": true
   },
   "source": [
    "$P(F) = P(F|E)P(E) + P(F|E^c)P(E^c) = \\frac{3}{9}\\frac{5}{8} + \\frac{2}{9}\\frac{3}{8}$"
   ]
  },
  {
   "cell_type": "code",
   "execution_count": 3,
   "metadata": {
    "hidden": true
   },
   "outputs": [
    {
     "data": {
      "text/plain": [
       "0.29166666666666663"
      ]
     },
     "execution_count": 3,
     "metadata": {},
     "output_type": "execute_result"
    }
   ],
   "source": [
    "3/9*5/8 + 2/9*3/8"
   ]
  },
  {
   "cell_type": "markdown",
   "metadata": {
    "hidden": true
   },
   "source": [
    "3) Considérese la siguiente tabla:\n",
    "\n",
    "\n",
    "|Fuma/No Fuma|Femenino|Masculino|Suma\n",
    "|:----:|:----:|:----:|:----:|\n",
    "|No fuma|61|75|136\n",
    "|Fuma|9|23|32\n",
    "|Suma|70|98|168\n",
    "\n",
    "Calcular:\n",
    "\n",
    "a) $P(\\text{\\{Femenino\\}}), P(\\text{\\{Fuma\\}})$.\n",
    "\n",
    "b) Supóngase que una persona deja de fumar pero no se sabe su género. Si se selecciona una persona no fumadora aleatoriamente, calcular $P(\\text{\\{Femenino\\}})$. \n",
    "\n",
    "Sugerencia: piénsese este problema como el de tener dos urnas, cada urna con canicas rojas y verdes como en el ejercicio anterior. La urna 1 y la urna 2 representan fumar y  no fumar respectivamente y las canicas rojas y verdes representan Femenino y Masculino respectivamente. Además, considérese los eventos: $E=${mujer deja de fumar} y usar la regla de probabilidad total condicionando sobre $E$."
   ]
  },
  {
   "cell_type": "markdown",
   "metadata": {
    "hidden": true
   },
   "source": [
    "**Solución:**"
   ]
  },
  {
   "cell_type": "markdown",
   "metadata": {
    "hidden": true
   },
   "source": [
    "a)"
   ]
  },
  {
   "cell_type": "markdown",
   "metadata": {
    "hidden": true
   },
   "source": [
    "$P(${Femenino}$) = \\frac{70}{168}$"
   ]
  },
  {
   "cell_type": "code",
   "execution_count": 6,
   "metadata": {
    "hidden": true
   },
   "outputs": [
    {
     "data": {
      "text/plain": [
       "0.4166666666666667"
      ]
     },
     "execution_count": 6,
     "metadata": {},
     "output_type": "execute_result"
    }
   ],
   "source": [
    "70/168"
   ]
  },
  {
   "cell_type": "markdown",
   "metadata": {
    "hidden": true
   },
   "source": [
    "$P(\\{Fuma\\}) = \\frac{32}{168}$"
   ]
  },
  {
   "cell_type": "code",
   "execution_count": 7,
   "metadata": {
    "hidden": true
   },
   "outputs": [
    {
     "data": {
      "text/plain": [
       "0.19047619047619047"
      ]
     },
     "execution_count": 7,
     "metadata": {},
     "output_type": "execute_result"
    }
   ],
   "source": [
    "32/168"
   ]
  },
  {
   "cell_type": "markdown",
   "metadata": {
    "hidden": true
   },
   "source": [
    "b)"
   ]
  },
  {
   "cell_type": "markdown",
   "metadata": {
    "hidden": true
   },
   "source": [
    "$P(${Femenino}$) = P(${Femenino} | E $)P(E) + P(${femenino}$|E^c)P(E^c) = \\frac{62}{137}\\frac{9}{32} + \\frac{61}{137}\\frac{23}{32}$"
   ]
  },
  {
   "cell_type": "code",
   "execution_count": 8,
   "metadata": {
    "hidden": true
   },
   "outputs": [
    {
     "data": {
      "text/plain": [
       "0.44730839416058393"
      ]
     },
     "execution_count": 8,
     "metadata": {},
     "output_type": "execute_result"
    }
   ],
   "source": [
    "62/137*9/32 + 61/137*23/32"
   ]
  },
  {
   "cell_type": "markdown",
   "metadata": {
    "heading_collapsed": true
   },
   "source": [
    "# Tema 5: independencia"
   ]
  },
  {
   "cell_type": "markdown",
   "metadata": {
    "hidden": true
   },
   "source": [
    "1) Calcular la probabilidad de sacar un as y corazón en una baraja\n"
   ]
  },
  {
   "cell_type": "markdown",
   "metadata": {
    "hidden": true
   },
   "source": [
    "**Solución**"
   ]
  },
  {
   "cell_type": "markdown",
   "metadata": {
    "hidden": true
   },
   "source": [
    "$P(${as y corazón}$) = P(${as}$)P(${corazón}$) = \\frac{4}{52} \\frac{13}{52}$"
   ]
  },
  {
   "cell_type": "code",
   "execution_count": 1,
   "metadata": {
    "hidden": true
   },
   "outputs": [
    {
     "data": {
      "text/plain": [
       "0.019230769230769232"
      ]
     },
     "execution_count": 1,
     "metadata": {},
     "output_type": "execute_result"
    }
   ],
   "source": [
    "4/52*13/52"
   ]
  },
  {
   "cell_type": "markdown",
   "metadata": {
    "hidden": true
   },
   "source": [
    "2) Se lanzan dos dados, uno verde y otro rojo. Considérense los eventos $E=${los números suman 5}, $F=${el número en el dado verde es impar}. ¿$E$ y $F$ son independientes?."
   ]
  },
  {
   "cell_type": "markdown",
   "metadata": {
    "hidden": true
   },
   "source": [
    "**Solución**"
   ]
  },
  {
   "cell_type": "markdown",
   "metadata": {
    "hidden": true
   },
   "source": [
    "Espacio muestral:\n",
    "\n",
    "S = {(1r,1v), (1r, 2v), (1r, 3v), (1r, 4v)...\n",
    "\n",
    " (2r, 1v), (2r,2v), (2r, 3v), (2r, 4v)...\n",
    " \n",
    " ...\n",
    "\n",
    " }\n",
    " \n",
    "La cardinalidad del espacio muestral, S,  es de 36."
   ]
  },
  {
   "cell_type": "markdown",
   "metadata": {
    "hidden": true
   },
   "source": [
    "$P(E \\cap F) = P (\\{(4r,1v) \\cup  (2r,3v)\\}) = P (\\{(4r,1v)\\}) + P(\\{(2r,3v)\\}) = \\frac{1}{36} + \\frac{1}{36} = \\frac{2}{36} = \\frac{1}{18}$"
   ]
  },
  {
   "cell_type": "markdown",
   "metadata": {
    "hidden": true
   },
   "source": [
    "Los eventos: (4r, 1v), (2r, 3v) son mutuamente excluyentes por lo que se puede ir de la segunda a la tercera igualdad anterior."
   ]
  },
  {
   "cell_type": "markdown",
   "metadata": {
    "hidden": true
   },
   "source": [
    "$P(E) = P(\\{(1r, 4v)\\}) + P(\\{(2r, 3v)\\}) + P(\\{(3r, 2v)\\}) + P(\\{(4r, 1v)\\}) = \\frac{1}{36} + \\frac{1}{36} + \\frac{1}{36} + \\frac{1}{36} = \\frac{1}{9}$"
   ]
  },
  {
   "cell_type": "markdown",
   "metadata": {
    "hidden": true
   },
   "source": [
    "Los eventos: (1r, 4v), (2r, 3v), (3r, 2v), (4r, 1v) son mutuamente excluyentes por lo que se tiene la segunda igualdad."
   ]
  },
  {
   "cell_type": "markdown",
   "metadata": {
    "hidden": true
   },
   "source": [
    "$P(F) = P(\\{(1v,jr) \\cup (3v,jr) \\cup (5v,jr) \\text{para} j \\in 1,\\dots 6\\}) = P(\\{(1v, jr) \\text{para} j \\in 1, \\dots 6 \\}) + P(\\{(3v, jr) \\text{para} j \\in 1, \\dots 6 \\})  + P(\\{(5v, jr) \\text{para} j \\in 1, \\dots 6 \\})  = \\frac{18}{36} = \\frac{1}{2}$"
   ]
  },
  {
   "cell_type": "markdown",
   "metadata": {
    "hidden": true
   },
   "source": [
    "Los eventos: $\\{1v,jr\\}, \\{3v,jr\\} , \\{5v,jr\\}$ para $j \\in \\{1,\\dots 6\\}$ son mutuamente excluyentes"
   ]
  },
  {
   "cell_type": "markdown",
   "metadata": {
    "hidden": true
   },
   "source": [
    "Por lo tanto sí son independientes."
   ]
  },
  {
   "cell_type": "markdown",
   "metadata": {
    "hidden": true
   },
   "source": [
    "3) Supóngase que nuestra elección de postre cuando salimos a comer es independiente del platillo principal que pedimos. La mitad de las veces que vamos a comer al restaurante \"L Intervallo\" pedimos pasta con camarones y la mitad de las veces pedimos *panna* *cotta* de postre. ¿Cuál es la probabilidad de ordenar pasta con camarones y *panna* *cotta* dado que comemos en \"L Intervallo\"?\n"
   ]
  },
  {
   "cell_type": "markdown",
   "metadata": {
    "hidden": true
   },
   "source": [
    "**Solución**"
   ]
  },
  {
   "cell_type": "markdown",
   "metadata": {
    "hidden": true
   },
   "source": [
    "$P(\\{\\text{pasta con camarones y panna cotta}\\})= P(\\{\\text{pasta con camarones}\\}) P(\\{\\text{panna cotta}\\}) = \\frac{1}{2} \\frac{1}{2} = \\frac{1}{4}$"
   ]
  },
  {
   "cell_type": "markdown",
   "metadata": {
    "hidden": true
   },
   "source": [
    "4) Sea E el evento de que el número $111111$ sea ganador en el sorteo Melate (la lotería Melate consiste en elegir una combinación de seis números diferentes entre el $1$ y el $56$, sin orden y sin reemplazo) y $F$ el evento de que el número $555555$ sea el ganador.\n",
    "\n",
    "a) Determina si estos eventos son mutuamente excluyentes.\n",
    "\n",
    "b) Determina si estos eventos son independientes."
   ]
  },
  {
   "cell_type": "markdown",
   "metadata": {
    "hidden": true
   },
   "source": [
    "**Solución**"
   ]
  },
  {
   "cell_type": "markdown",
   "metadata": {
    "hidden": true
   },
   "source": [
    "a)\n",
    "\n",
    "Son mutuamente excluyentes pues no puede haber dos ganadores en el sorteo de Melate."
   ]
  },
  {
   "cell_type": "markdown",
   "metadata": {
    "hidden": true
   },
   "source": [
    "b)"
   ]
  },
  {
   "cell_type": "markdown",
   "metadata": {
    "hidden": true
   },
   "source": [
    "$P(E) = 0$ pues no puede salir el $1$ 6 veces dado que la secuencia de 6 números deben ser todos diferentes.\n",
    "\n",
    "$P(F) = 0$ pues no puede salir el $5$ 6 veces dado que la secuencia de 6 números deben ser todos diferentes.\n",
    "\n",
    "$P(E \\cap F) = 0$\n",
    "\n",
    "son independientes."
   ]
  },
  {
   "cell_type": "markdown",
   "metadata": {},
   "source": [
    "# Tema 6: teorema de Bayes"
   ]
  },
  {
   "cell_type": "markdown",
   "metadata": {},
   "source": [
    "3) Un albino es enjuiciado por haber cometido un crimen. El testigo principal asegura haber visto los hechos a través de una ventana de su casa e identifica a un individuo albino como el criminal. Realizando pruebas para la credibilidad del testigo, se determina que a la distancia y en las condiciones de luz desde las cuales presenció el crimen, identifica correctamente a una persona albina o no albina un 95% de las veces. Aproximadamente una de cada 17 mil personas presenta la condición de albinismo. ¿Cuál es la probabilidad de que el albino haya cometido el crimen dado que el testigo lo identificó?"
   ]
  },
  {
   "cell_type": "markdown",
   "metadata": {},
   "source": [
    "**Solución**"
   ]
  },
  {
   "cell_type": "markdown",
   "metadata": {},
   "source": [
    "Eventos:\n",
    "\n",
    "`+ = {testigo identifica a albino}`\n",
    "\n",
    "`- = {testigo identifica a no albino}`\n",
    "\n",
    "E = {persona albina}\n",
    "\n",
    "Se busca:\n",
    "\n",
    "$P(E|+)$ "
   ]
  },
  {
   "cell_type": "markdown",
   "metadata": {},
   "source": [
    "Datos:\n",
    "\n",
    "$P(E) = 1/17000 \\approx 0.000058823$\n",
    "\n",
    "$P(+|E) = P(-|E^c) = 0.95$\n",
    "\n",
    "$P(E^c) = 1-1/17000 \\approx 0.9999$"
   ]
  },
  {
   "cell_type": "code",
   "execution_count": 7,
   "metadata": {},
   "outputs": [
    {
     "data": {
      "text/plain": [
       "5.882352941176471e-05"
      ]
     },
     "execution_count": 7,
     "metadata": {},
     "output_type": "execute_result"
    }
   ],
   "source": [
    "1/17000"
   ]
  },
  {
   "cell_type": "code",
   "execution_count": 8,
   "metadata": {},
   "outputs": [
    {
     "data": {
      "text/plain": [
       "0.9999411764705882"
      ]
     },
     "execution_count": 8,
     "metadata": {},
     "output_type": "execute_result"
    }
   ],
   "source": [
    "1-1/17000"
   ]
  },
  {
   "cell_type": "markdown",
   "metadata": {},
   "source": [
    "Entonces:"
   ]
  },
  {
   "cell_type": "markdown",
   "metadata": {},
   "source": [
    "$P(E|+) = \\frac{P(+|E)P(E)}{P(+|E)P(E) + P(+|E^c)P(E^c)}$"
   ]
  },
  {
   "cell_type": "markdown",
   "metadata": {},
   "source": [
    "Necesitamos $P(+|E^c)$ <- este es nuestro falso positivo\n",
    "\n",
    "$P(+|E^c) = 1-P(-|E^c) = 1-0.95 = 0.05$"
   ]
  },
  {
   "cell_type": "markdown",
   "metadata": {},
   "source": [
    "$P(E|+) = \\frac{P(+|E)P(E)}{P(+|E)P(E) + P(+|E^c)P(E^c)} \\approx 0.00112$"
   ]
  },
  {
   "cell_type": "code",
   "execution_count": 10,
   "metadata": {},
   "outputs": [
    {
     "data": {
      "text/plain": [
       "0.0011165008074677909"
      ]
     },
     "execution_count": 10,
     "metadata": {},
     "output_type": "execute_result"
    }
   ],
   "source": [
    "(0.95*0.000058823)/(0.95*0.000058823 + 0.05* 0.9999)"
   ]
  },
  {
   "cell_type": "markdown",
   "metadata": {},
   "source": [
    "**Entonces no tenemos suficiente evidencia para declarar culpable a la persona albina, principalmente por la probabilidad baja de personas albinas en la población.**"
   ]
  },
  {
   "cell_type": "markdown",
   "metadata": {},
   "source": [
    "1)El siguiente es un mecanismo conocido para elegir a una persona de un grupo pequeño. Digamos que en un grupo de 4 personas quiere seleccionarse a una de ellas para que realice alguna actividad, digamos ir por cervezas a la hielera. Para este efecto, se toman 4 palillos y uno de ellos se recorta; así, se tienen tres palillos largos y uno corto. Las personas toman turnos tomando palillos, ignorando cuál es el corto, y el que saca el palillo corto es el elegido para ir por las cervezas. ¿Tiene alguna ventaja escoger primero, segundo, tercero o cuarto?\n"
   ]
  },
  {
   "cell_type": "markdown",
   "metadata": {},
   "source": [
    "**Solución**\n",
    "\n",
    "Sean los eventos:\n",
    "\n",
    "E1 = {Sale palillo corto en el primer turno}\n",
    "\n",
    "E2 = {Sale palillo corto en el segundo turno}\n",
    "\n",
    "E3 = {Sale palillo corto en el tercer turno}\n",
    "\n",
    "E4 = {Sale palillo corto en el cuarto turno}\n",
    "\n",
    "Se buscan $P(E1), P(E2 \\cap E1^c), P(E3 \\cap E1^c \\cap E2^c), P(E4 \\cap E1^c \\cap E2^c \\cap E3^c)$\n"
   ]
  },
  {
   "cell_type": "markdown",
   "metadata": {},
   "source": [
    "$P(E1) = \\frac{1}{4}$\n",
    "\n",
    "$P(E2 \\cap E1^c) = P(E2|E1^c)P(E1^c) = \\frac{1}{3} \\frac{3}{4} = \\frac{1}{4}$\n",
    "\n",
    "$P(E3 \\cap E1^c \\cap E2^c) = P(E3|E1^c \\cap E2^c)P(E1^c \\cap E2^c) = P(E3|E1^c \\cap E2^c) P(E2^c|E1^c)P(E1^c) = \\frac{1}{2}\\frac{2}{3}\\frac{3}{4} = \\frac{1}{4}$\n",
    "\n",
    "$P(E4 \\cap E1^c \\cap E2^c \\cap E3^c) = P(E4|E1^c \\cap E2^c \\cap E3^c) P(E3^c|E1^c \\cap E2^c)P(E2^c|E1^c)P(E1^c) = 1\\frac{1}{2}\\frac{2}{3}\\frac{3}{4}=\\frac{1}{4}$"
   ]
  },
  {
   "cell_type": "markdown",
   "metadata": {},
   "source": [
    "2)Considera el mismo escenario que el ejemplo $3$ pero en lugar de que el sospechoso sea un individuo albino ahora se tiene:\n",
    "\n",
    "a) El sospechoso del crimen es un individuo pelirrojo y la probabilidad de ser pelirrojo es del $2 \\%$. Encontrar $P(\\text{\\{pelirrojo\\}} | +),$ en donde $+$ representa: “el testigo identifica a una persona como pelirroja”.\n",
    "\n",
    "b) El sospechoso es un individuo de pelo rubio y la probabilidad de tener el pelo rubio es del $15 \\%$. Encontrar $P(\\text{\\{rubio\\}} | +)$, en donde $+$ representa: \"el testigo identifica a una persona como rubia\"."
   ]
  },
  {
   "cell_type": "markdown",
   "metadata": {},
   "source": [
    "**Mismo enfoque que el ejemplo de albino.**"
   ]
  }
 ],
 "metadata": {
  "kernelspec": {
   "display_name": "Python 3",
   "language": "python",
   "name": "python3"
  },
  "language_info": {
   "codemirror_mode": {
    "name": "ipython",
    "version": 3
   },
   "file_extension": ".py",
   "mimetype": "text/x-python",
   "name": "python",
   "nbconvert_exporter": "python",
   "pygments_lexer": "ipython3",
   "version": "3.7.4"
  }
 },
 "nbformat": 4,
 "nbformat_minor": 4
}
