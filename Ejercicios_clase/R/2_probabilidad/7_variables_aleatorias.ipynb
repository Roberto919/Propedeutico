{
 "cells": [
  {
   "cell_type": "markdown",
   "metadata": {},
   "source": [
    "**Notas para contenedor de docker:**"
   ]
  },
  {
   "cell_type": "markdown",
   "metadata": {},
   "source": [
    "Comando de docker para ejecución de la nota de forma local:\n",
    "\n",
    "nota: cambiar `dir_montar` por la ruta de directorio que se desea mapear a `/datos` dentro del contenedor de docker.\n",
    "\n",
    "```\n",
    "dir_montar=<ruta completa de mi máquina a mi directorio>#aquí colocar la ruta al directorio a montar, por ejemplo: \n",
    "#dir_montar=/Users/erick/midirectorio.\n",
    "```\n",
    "\n",
    "Ejecutar:\n",
    "\n",
    "```\n",
    "$docker run --rm -v $dir_montar:/datos --name jupyterlab_prope_r_kernel_tidyverse -p 8888:8888 -d palmoreck/jupyterlab_prope_r_kernel_tidyverse:2.1.4   \n",
    "\n",
    "```"
   ]
  },
  {
   "cell_type": "markdown",
   "metadata": {},
   "source": [
    "Ir a `localhost:8888` y escribir el password para jupyterlab: `qwerty`\n",
    "\n",
    "Detener el contenedor de docker:\n",
    "\n",
    "```\n",
    "docker stop jupyterlab_prope_r_kernel_tidyverse\n",
    "```\n"
   ]
  },
  {
   "cell_type": "markdown",
   "metadata": {},
   "source": [
    "Documentación de la imagen de docker `palmoreck/jupyterlab_prope_r_kernel_tidyverse:2.1.4` en [liga](https://github.com/palmoreck/dockerfiles/tree/master/jupyterlab/prope_r_kernel_tidyverse)."
   ]
  },
  {
   "cell_type": "markdown",
   "metadata": {},
   "source": [
    "---"
   ]
  },
  {
   "cell_type": "markdown",
   "metadata": {},
   "source": [
    "Para ejecución de la nota usar:\n",
    "\n",
    "[docker](https://www.docker.com/) (instalación de forma **local** con [Get docker](https://docs.docker.com/install/)) y ejecutar comandos que están al inicio de la nota de forma **local**. \n",
    "\n",
    "O bien dar click en alguno de los botones siguientes:"
   ]
  },
  {
   "cell_type": "markdown",
   "metadata": {},
   "source": [
    "[![Binder](https://mybinder.org/badge_logo.svg)](https://mybinder.org/v2/gh/palmoreck/dockerfiles-for-binder/jupyterlab_prope_r_kernel_tidyerse?urlpath=lab/tree/Propedeutico/R/clases/2_probabilidad/7_variables_aleatorias.ipynb) esta opción crea una máquina individual en un servidor de Google, clona el repositorio y permite la ejecución de los notebooks de jupyter."
   ]
  },
  {
   "cell_type": "markdown",
   "metadata": {},
   "source": [
    "[![Run on Repl.it](https://repl.it/badge/github/palmoreck/dummy)](https://repl.it/languages/Rlang) esta opción no clona el repositorio, no ejecuta los notebooks de jupyter pero permite ejecución de instrucciones de Python de forma colaborativa con [repl.it](https://repl.it/). Al dar click se crearán nuevos ***repl*** debajo de sus users de ***repl.it***.\n"
   ]
  },
  {
   "cell_type": "markdown",
   "metadata": {},
   "source": [
    "### Lo siguiente está basado los libros:\n",
    "\n",
    "### * B. Rumbos, Pensando Antes de Actuar: Fundamentos de Elección Racional, 2009.\n",
    "\n",
    "### * G. J. Kerns, Introduction to Probability and Statistics Using R, 2014."
   ]
  },
  {
   "cell_type": "markdown",
   "metadata": {},
   "source": [
    "### El libro de G. J. Kerns tiene github: [jkerns/IPSUR](https://github.com/gjkerns/IPSUR)"
   ]
  },
  {
   "cell_type": "markdown",
   "metadata": {},
   "source": [
    "**Notas:**\n",
    "\n",
    "* Se utilizará el paquete [prob](https://cran.r-project.org/web/packages/prob/index.html) de R para los experimentos descritos en la nota y aunque con funciones nativas de R se pueden crear los experimentos, se le da preferencia a mostrar cómo en R se tienen paquetes para muchas aplicaciones.\n",
    "\n",
    "* En algunas líneas no es necesario colocar `print` y sólo se ha realizado para mostrar los resultados de las funciones en un formato similar al de R pues la nota se escribió con jupyterlab y R.\n",
    "\n",
    "* Cuidado al utilizar las funciones del paquete `prob` para construir espacios de probabilidad grandes como lanzar un dado 9 veces... (tal experimento tiene 10 millones de posibles resultados)"
   ]
  },
  {
   "cell_type": "code",
   "execution_count": 3,
   "metadata": {
    "ExecuteTime": {
     "end_time": "2020-07-13T18:38:56.737016Z",
     "start_time": "2020-07-13T18:38:56.647Z"
    }
   },
   "outputs": [],
   "source": [
    "options(repr.plot.width=3, repr.plot.height=3) #esta línea sólo se ejecuta para jupyterlab con R"
   ]
  },
  {
   "cell_type": "code",
   "execution_count": 4,
   "metadata": {
    "ExecuteTime": {
     "end_time": "2020-07-13T18:38:56.832479Z",
     "start_time": "2020-07-13T18:38:56.809Z"
    }
   },
   "outputs": [],
   "source": [
    "library(prob)\n",
    "library(ggplot2)"
   ]
  },
  {
   "cell_type": "markdown",
   "metadata": {},
   "source": [
    "# Variables aleatorias"
   ]
  },
  {
   "cell_type": "markdown",
   "metadata": {},
   "source": [
    "En este tema nos interesa asociar un *número* con el experimento aleatorio, aún más, que el número esté asociado con cada resultado del experimento aleatorio de modo que al realizar el experimento y observar el resultado $r$ en $S$, el espacio de resultados, se calcule el número $X$. Esto es, para cada resultado (outcome) $r$ en $S$ se asocia el número $X(r)=x$."
   ]
  },
  {
   "cell_type": "markdown",
   "metadata": {},
   "source": [
    "Una variable aleatoria $X$ es una **función** $X: S \\rightarrow \\mathbb{R}$ que asocia cada resultado (outcome) $r \\in S$ de un experimento aleatorio, exactamente un número $X(r)=x$."
   ]
  },
  {
   "cell_type": "markdown",
   "metadata": {},
   "source": [
    "**Obs:** obsérvese que $X$ es aleatoria pues se define en términos del experimento aleatorio, por lo que $X$ toma valores númericos, cada uno con cierta probabilidad."
   ]
  },
  {
   "cell_type": "markdown",
   "metadata": {},
   "source": [
    "**Obs2:** típicamente se utiliza las letras mayúsculas para denotar a las variables aleatorias (funciones) y sus valores observados (los números que pueden tomar) con letras minúsculas. "
   ]
  },
  {
   "cell_type": "markdown",
   "metadata": {},
   "source": [
    "Así como $S$ es el espacio de resultados posibles del experimento, el **soporte de una variable aleatoria** es el conjunto de posibles valores que la variable aleatoria puede tomar. Si $X$ es variable aleatoria su soporte se denota: $S_X$."
   ]
  },
  {
   "cell_type": "markdown",
   "metadata": {},
   "source": [
    "## Ejemplos"
   ]
  },
  {
   "cell_type": "markdown",
   "metadata": {},
   "source": [
    "1) **Experimento:** lanzar dos veces una moneda. \n",
    "\n",
    "Se tiene: $S=${AA, AS, SA, SS}. Defínase $X$ la variable aleatoria como: $X$ cuenta el número de águilas. Entonces $X(\\{AA\\}) = 2$, $X(\\{AS\\})=1$. Y podemos realizar una tabla con las posibilidades:\n",
    "\n",
    "|$r \\in S$| AA|AS|SA|SS|\n",
    "|:-----------:|:-----------:|:-----------:|:-----------:|:-----------:\n",
    "|$X(r) = x$|2|1|1|0|"
   ]
  },
  {
   "cell_type": "markdown",
   "metadata": {},
   "source": [
    "Se tiene que $S_X=\\{0,1,2\\}$ (conjunto de valores de $X$)."
   ]
  },
  {
   "cell_type": "markdown",
   "metadata": {},
   "source": [
    "2) **Experimento:** lanzar una moneda hasta observar un águila.\n",
    "\n",
    "Se tiene: $S=\\{A, SA, SSA, SSSA, \\dots\\}$. Defínase $Y$ la variable aleatoria como: $Y$ cuenta el número de soles antes del primer águila. Entonces $S_Y=\\{0, 1, 2, \\dots\\}$"
   ]
  },
  {
   "cell_type": "markdown",
   "metadata": {},
   "source": [
    "3) Considérese el experimento de lanzar una moneda al aire y defínase la variable aleatoria $Z$ como: $Z$ el tiempo en segundos que le toma a la moneda caer al suelo. Entonces $S$ es el conjunto de números positivos y de hecho $S_Z$ también lo es."
   ]
  },
  {
   "cell_type": "markdown",
   "metadata": {},
   "source": [
    "**Obs:** Obsérvese en los ejemplos anteriores que los soportes de las variables $X, Y, Z$ son distintos. De hecho: $S_X$ es un conjunto finito, $S_Y$ es un conjunto infinito pero contable y $S_Z$ es un conjunto infinito no contable. Variables aleatorias con soportes similares a los de $X$ y $Y$ se les nombra **discretas** y similares al soporte de $Z$ se les nombra **continuas**."
   ]
  },
  {
   "cell_type": "markdown",
   "metadata": {},
   "source": [
    "## Distribución de probabilidad de una variable aleatoria"
   ]
  },
  {
   "cell_type": "markdown",
   "metadata": {},
   "source": [
    "Supongamos que $X$ es una variable aleatoria tal que dado un conjunto de resultados inciertos $\\{r_1,\\dots, r_n\\}$ ésta toma valores $X(r_1)=x_1,\\dots, X(r_n)=x_n$. Nótese que éstos no necesariamente son distintos. La probabilidad de que la variable aleatoria tome el valor $x_i$ se denota por: $P(X = x_i)$."
   ]
  },
  {
   "cell_type": "markdown",
   "metadata": {},
   "source": [
    "A la regla de correspondencia que asigna a cada valor $x_i$ su probabilidad $P(X = x_i),$ se le llama **distribución de probabilidad** de la variable aleatoria $X$. Si denotamos a esta regla por $f$ se tiene que: $f(x_i) = P(X = x_i)$."
   ]
  },
  {
   "cell_type": "markdown",
   "metadata": {},
   "source": [
    "**Notas:**\n",
    "\n",
    "* A veces también se utiliza la notación: $f_X(x_i)$.\n",
    "\n",
    "* Obsérvese que en estricto sentido se debería escribir: $f(x_i) = P(X(r_i) = x_i)$ pero por simplicidad en la escritura y notación se utiliza $f(x_i) = P(X = x_i)$."
   ]
  },
  {
   "cell_type": "markdown",
   "metadata": {},
   "source": [
    "### Ejemplos"
   ]
  },
  {
   "cell_type": "markdown",
   "metadata": {},
   "source": [
    "1) Supongamos que un volado ofrece una ganancia de $\\$ 100$ si sale águila y una pérdida de $\\$ 60$ si se sale sol. La variable aleatoria $X$ es la función dada por: $X(A) = 100$, $X(S) = -60$. La distribución de probabilidad $f$ es: $$f(100) = P(X = 100) = P(\\{A\\}) = \\frac{1}{2}$$ "
   ]
  },
  {
   "cell_type": "markdown",
   "metadata": {},
   "source": [
    "$$f(-60) = P(X = -60) = P(\\{S\\}) = \\frac{1}{2}$$"
   ]
  },
  {
   "cell_type": "markdown",
   "metadata": {},
   "source": [
    "2) Supóngase que el evento aleatorio es: $E=$ {el día de hoy llueve} y defínase $X$ variable aleatoria que representa un número que asocia mi satisfacción con la situación \"llevar paraguas\" y toma valores: $X(E) = 5, X(E^c) = -1$, esto es: llevo paraguas y si llueve me produce una satisfacción de $5$ puntos y si llevo paraguas y no llueve la inconveniencia me causa un disgusto de -1 punto.\n",
    "\n",
    "\n",
    "También defínase $Y$ como la variable aleatoria que representa un número que asocia mi satisfacción  con la situación \"no llevar paraguas\" y toma valores: $Y(E) = -6$, $Y(E^c)=4$. \n",
    "\n",
    "\n",
    "Las distribuciones de probabilidad de $X$ y $Y$ están dadas por la siguiente tabla y supóngase que $f$ es la distribución de probabilidad $X$ y $g$ es la de $Y$:\n",
    "\n",
    "|Evento|Valor de $X$|Valor de $Y$|P(Variable aleatoria = valor)|\n",
    "|:----:|:----:|:----:|:----:\n",
    "|llueve|5|-6|f(5) = P(X=5) = g(-6) = P(Y=-6) = .45|\n",
    "|no llueve|-1|4|f(-1) = P(X = -1) = g(4) = P(Y = 4) = .55|"
   ]
  },
  {
   "cell_type": "markdown",
   "metadata": {},
   "source": [
    "3) Pensemos en una urna con $10$ canicas rojas, $2$ amarillas y $3$ azules. Se nos ofrecen los siguientes premios: perder $\\$100$ si sacamos una canica roja, ganar $\\$150$ si sacamos un canica azul o amarilla. La variable aleatoria $Y$ es $Y(\\{roja\\}) = -100, Y (\\{azul\\}) = Y (\\{amarilla\\}) = 150$. La distribución de probabilidad de $f$ es:\n",
    "\n",
    "$$f(-100) = P(Y = -100) = P(\\{roja\\}) = \\frac{10}{15}$$"
   ]
  },
  {
   "cell_type": "markdown",
   "metadata": {},
   "source": [
    "$$f(150) = P(Y = 150) = P(\\{azul\\} \\cup \\{amarilla\\}) = \\frac{3}{15} + \\frac{2}{15}$$"
   ]
  },
  {
   "cell_type": "markdown",
   "metadata": {},
   "source": [
    "## Representación de la distribución de probabilidad de una variable aleatoria"
   ]
  },
  {
   "cell_type": "markdown",
   "metadata": {},
   "source": [
    "La distribución de probabilidad puede representarse visualmente en un diagrama al que llamamos **histograma de probabilidad**. Un histograma es simplemente una gráfica de barras. Para este caso, en el eje horizontal se representan los valores que puede tomar la variable aleatoria y en el eje vertical la probabilidad asociada a cada valor. Por ejemplo, para el caso del ejemplo $3)$ anterior:"
   ]
  },
  {
   "cell_type": "code",
   "execution_count": 3,
   "metadata": {
    "ExecuteTime": {
     "end_time": "2020-07-06T23:10:14.979245Z",
     "start_time": "2020-07-06T23:10:14.911Z"
    }
   },
   "outputs": [],
   "source": [
    "df = data.frame(evento = c('no llueve', 'llueve'), X = c(-1, 5), probabilidad=c(.55,.45))"
   ]
  },
  {
   "cell_type": "code",
   "execution_count": 4,
   "metadata": {
    "ExecuteTime": {
     "end_time": "2020-07-06T23:10:15.445059Z",
     "start_time": "2020-07-06T23:10:15.422Z"
    }
   },
   "outputs": [
    {
     "data": {
      "text/html": [
       "<table>\n",
       "<caption>A data.frame: 2 × 3</caption>\n",
       "<thead>\n",
       "\t<tr><th scope=col>evento</th><th scope=col>X</th><th scope=col>probabilidad</th></tr>\n",
       "\t<tr><th scope=col>&lt;chr&gt;</th><th scope=col>&lt;dbl&gt;</th><th scope=col>&lt;dbl&gt;</th></tr>\n",
       "</thead>\n",
       "<tbody>\n",
       "\t<tr><td>no llueve</td><td>-1</td><td>0.55</td></tr>\n",
       "\t<tr><td>llueve   </td><td> 5</td><td>0.45</td></tr>\n",
       "</tbody>\n",
       "</table>\n"
      ],
      "text/latex": [
       "A data.frame: 2 × 3\n",
       "\\begin{tabular}{lll}\n",
       " evento & X & probabilidad\\\\\n",
       " <chr> & <dbl> & <dbl>\\\\\n",
       "\\hline\n",
       "\t no llueve & -1 & 0.55\\\\\n",
       "\t llueve    &  5 & 0.45\\\\\n",
       "\\end{tabular}\n"
      ],
      "text/markdown": [
       "\n",
       "A data.frame: 2 × 3\n",
       "\n",
       "| evento &lt;chr&gt; | X &lt;dbl&gt; | probabilidad &lt;dbl&gt; |\n",
       "|---|---|---|\n",
       "| no llueve | -1 | 0.55 |\n",
       "| llueve    |  5 | 0.45 |\n",
       "\n"
      ],
      "text/plain": [
       "  evento    X  probabilidad\n",
       "1 no llueve -1 0.55        \n",
       "2 llueve     5 0.45        "
      ]
     },
     "metadata": {},
     "output_type": "display_data"
    }
   ],
   "source": [
    "df"
   ]
  },
  {
   "cell_type": "code",
   "execution_count": 5,
   "metadata": {
    "ExecuteTime": {
     "end_time": "2020-07-06T23:10:17.991638Z",
     "start_time": "2020-07-06T23:10:17.060Z"
    }
   },
   "outputs": [
    {
     "data": {
      "image/png": "[encoded data removed]",
      "text/plain": [
       "plot without title"
      ]
     },
     "metadata": {
      "image/png": {
       "height": 180,
       "width": 180
      },
      "text/plain": {
       "height": 180,
       "width": 180
      }
     },
     "output_type": "display_data"
    }
   ],
   "source": [
    "ggplot(data = df, aes(x=X, y=probabilidad, fill=evento)) + \n",
    "geom_col(width=1) + \n",
    "ggtitle('Histograma') #aes help us to map variables\n",
    "                      #in the data frame to objects\n",
    "                      #in the graph"
   ]
  },
  {
   "cell_type": "markdown",
   "metadata": {},
   "source": [
    "Y si se asume que la base de los rectángulos, por convención mide una unidad, observemos que la suma de las áreas de los rectángulos siempre es $1$ pues ésta es simplemente la suma de las probabilidades de todos los valores posibles que toma la variable aleatoria, concretamente: $$\\displaystyle \\sum_{i=1}^nf(x_i) = 1.$$"
   ]
  },
  {
   "cell_type": "markdown",
   "metadata": {},
   "source": [
    "## Transformaciones de variables aleatorias"
   ]
  },
  {
   "cell_type": "markdown",
   "metadata": {},
   "source": [
    "### ¿Cómo hacerlo en R?"
   ]
  },
  {
   "cell_type": "markdown",
   "metadata": {},
   "source": [
    "Podemos usar la función [addrv](https://www.rdocumentation.org/packages/prob/versions/1.0-1/topics/addrv) del paquete [prob](https://cran.r-project.org/web/packages/prob/index.html) y se tienen $2$ opciones (la función `addrv` se aplica únicamente a **data frames**)."
   ]
  },
  {
   "cell_type": "code",
   "execution_count": 6,
   "metadata": {
    "ExecuteTime": {
     "end_time": "2020-07-06T23:11:40.054403Z",
     "start_time": "2020-07-06T23:11:40.039Z"
    }
   },
   "outputs": [
    {
     "data": {
      "text/html": [
       "<pre class=language-r><code>function (space, FUN = NULL, invars = NULL, name = NULL, ...) \n",
       "NULL</code></pre>"
      ],
      "text/latex": [
       "\\begin{minted}{r}\n",
       "function (space, FUN = NULL, invars = NULL, name = NULL, ...) \n",
       "NULL\n",
       "\\end{minted}"
      ],
      "text/markdown": [
       "```r\n",
       "function (space, FUN = NULL, invars = NULL, name = NULL, ...) \n",
       "NULL\n",
       "```"
      ],
      "text/plain": [
       "function (space, FUN = NULL, invars = NULL, name = NULL, ...) \n",
       "NULL"
      ]
     },
     "metadata": {},
     "output_type": "display_data"
    }
   ],
   "source": [
    "args(addrv)"
   ]
  },
  {
   "cell_type": "markdown",
   "metadata": {},
   "source": [
    "- Esta funciona para transformaciones de variables aleatorias"
   ]
  },
  {
   "cell_type": "markdown",
   "metadata": {},
   "source": [
    "**Primera opción**"
   ]
  },
  {
   "cell_type": "markdown",
   "metadata": {},
   "source": [
    "La idea es escribir una fórmula que defina la variable aleatoria dentro de la función `addrv`. El resultado se añadirá como columna a un *data frame*."
   ]
  },
  {
   "cell_type": "markdown",
   "metadata": {},
   "source": [
    "#### Ejemplo"
   ]
  },
  {
   "cell_type": "code",
   "execution_count": 7,
   "metadata": {
    "ExecuteTime": {
     "end_time": "2020-07-06T23:13:02.268073Z",
     "start_time": "2020-07-06T23:13:02.253Z"
    }
   },
   "outputs": [],
   "source": [
    "S <- rolldie(3, nsides = 4, makespace = TRUE) #roll die three times.\n",
    "                                              #die has 4 sides"
   ]
  },
  {
   "cell_type": "code",
   "execution_count": 8,
   "metadata": {
    "ExecuteTime": {
     "end_time": "2020-07-06T23:13:02.451816Z",
     "start_time": "2020-07-06T23:13:02.432Z"
    }
   },
   "outputs": [
    {
     "data": {
      "text/html": [
       "<table>\n",
       "<caption>A data.frame: 6 × 4</caption>\n",
       "<thead>\n",
       "\t<tr><th></th><th scope=col>X1</th><th scope=col>X2</th><th scope=col>X3</th><th scope=col>probs</th></tr>\n",
       "\t<tr><th></th><th scope=col>&lt;int&gt;</th><th scope=col>&lt;int&gt;</th><th scope=col>&lt;int&gt;</th><th scope=col>&lt;dbl&gt;</th></tr>\n",
       "</thead>\n",
       "<tbody>\n",
       "\t<tr><th scope=row>1</th><td>1</td><td>1</td><td>1</td><td>0.015625</td></tr>\n",
       "\t<tr><th scope=row>2</th><td>2</td><td>1</td><td>1</td><td>0.015625</td></tr>\n",
       "\t<tr><th scope=row>3</th><td>3</td><td>1</td><td>1</td><td>0.015625</td></tr>\n",
       "\t<tr><th scope=row>4</th><td>4</td><td>1</td><td>1</td><td>0.015625</td></tr>\n",
       "\t<tr><th scope=row>5</th><td>1</td><td>2</td><td>1</td><td>0.015625</td></tr>\n",
       "\t<tr><th scope=row>6</th><td>2</td><td>2</td><td>1</td><td>0.015625</td></tr>\n",
       "</tbody>\n",
       "</table>\n"
      ],
      "text/latex": [
       "A data.frame: 6 × 4\n",
       "\\begin{tabular}{r|llll}\n",
       "  & X1 & X2 & X3 & probs\\\\\n",
       "  & <int> & <int> & <int> & <dbl>\\\\\n",
       "\\hline\n",
       "\t1 & 1 & 1 & 1 & 0.015625\\\\\n",
       "\t2 & 2 & 1 & 1 & 0.015625\\\\\n",
       "\t3 & 3 & 1 & 1 & 0.015625\\\\\n",
       "\t4 & 4 & 1 & 1 & 0.015625\\\\\n",
       "\t5 & 1 & 2 & 1 & 0.015625\\\\\n",
       "\t6 & 2 & 2 & 1 & 0.015625\\\\\n",
       "\\end{tabular}\n"
      ],
      "text/markdown": [
       "\n",
       "A data.frame: 6 × 4\n",
       "\n",
       "| <!--/--> | X1 &lt;int&gt; | X2 &lt;int&gt; | X3 &lt;int&gt; | probs &lt;dbl&gt; |\n",
       "|---|---|---|---|---|\n",
       "| 1 | 1 | 1 | 1 | 0.015625 |\n",
       "| 2 | 2 | 1 | 1 | 0.015625 |\n",
       "| 3 | 3 | 1 | 1 | 0.015625 |\n",
       "| 4 | 4 | 1 | 1 | 0.015625 |\n",
       "| 5 | 1 | 2 | 1 | 0.015625 |\n",
       "| 6 | 2 | 2 | 1 | 0.015625 |\n",
       "\n"
      ],
      "text/plain": [
       "  X1 X2 X3 probs   \n",
       "1 1  1  1  0.015625\n",
       "2 2  1  1  0.015625\n",
       "3 3  1  1  0.015625\n",
       "4 4  1  1  0.015625\n",
       "5 1  2  1  0.015625\n",
       "6 2  2  1  0.015625"
      ]
     },
     "metadata": {},
     "output_type": "display_data"
    }
   ],
   "source": [
    "head(S)"
   ]
  },
  {
   "cell_type": "code",
   "execution_count": 10,
   "metadata": {
    "ExecuteTime": {
     "end_time": "2020-07-06T23:14:53.408874Z",
     "start_time": "2020-07-06T23:14:53.337Z"
    }
   },
   "outputs": [
    {
     "data": {
      "text/html": [
       "64"
      ],
      "text/latex": [
       "64"
      ],
      "text/markdown": [
       "64"
      ],
      "text/plain": [
       "[1] 64"
      ]
     },
     "metadata": {},
     "output_type": "display_data"
    }
   ],
   "source": [
    "nrow(S)  #or: NROW(S)"
   ]
  },
  {
   "cell_type": "markdown",
   "metadata": {},
   "source": [
    "Defínase la variable aleatoria: $U = X1-X2+X3$. Entonces:"
   ]
  },
  {
   "cell_type": "code",
   "execution_count": 11,
   "metadata": {
    "ExecuteTime": {
     "end_time": "2020-07-06T23:14:54.050987Z",
     "start_time": "2020-07-06T23:14:54.039Z"
    }
   },
   "outputs": [],
   "source": [
    "S <- addrv(S, U = X1-X2+X3)"
   ]
  },
  {
   "cell_type": "code",
   "execution_count": 12,
   "metadata": {
    "ExecuteTime": {
     "end_time": "2020-07-06T23:14:54.736911Z",
     "start_time": "2020-07-06T23:14:54.719Z"
    }
   },
   "outputs": [
    {
     "name": "stdout",
     "output_type": "stream",
     "text": [
      "  X1 X2 X3 U    probs\n",
      "1  1  1  1 1 0.015625\n",
      "2  2  1  1 2 0.015625\n",
      "3  3  1  1 3 0.015625\n",
      "4  4  1  1 4 0.015625\n",
      "5  1  2  1 0 0.015625\n",
      "6  2  2  1 1 0.015625\n"
     ]
    }
   ],
   "source": [
    "print(head(S))"
   ]
  },
  {
   "cell_type": "code",
   "execution_count": 13,
   "metadata": {
    "ExecuteTime": {
     "end_time": "2020-07-06T23:14:56.777099Z",
     "start_time": "2020-07-06T23:14:56.755Z"
    }
   },
   "outputs": [
    {
     "data": {
      "text/html": [
       "5"
      ],
      "text/latex": [
       "5"
      ],
      "text/markdown": [
       "5"
      ],
      "text/plain": [
       "[1] 5"
      ]
     },
     "metadata": {},
     "output_type": "display_data"
    }
   ],
   "source": [
    "ncol(S)"
   ]
  },
  {
   "cell_type": "markdown",
   "metadata": {},
   "source": [
    "Se pueden responder preguntas del tipo:"
   ]
  },
  {
   "cell_type": "code",
   "execution_count": 14,
   "metadata": {
    "ExecuteTime": {
     "end_time": "2020-07-06T23:16:12.588405Z",
     "start_time": "2020-07-06T23:16:12.567Z"
    }
   },
   "outputs": [
    {
     "data": {
      "text/html": [
       "0.015625"
      ],
      "text/latex": [
       "0.015625"
      ],
      "text/markdown": [
       "0.015625"
      ],
      "text/plain": [
       "[1] 0.015625"
      ]
     },
     "metadata": {},
     "output_type": "display_data"
    }
   ],
   "source": [
    "Prob(S, U > 6)"
   ]
  },
  {
   "cell_type": "markdown",
   "metadata": {},
   "source": [
    "**Segunda opción**"
   ]
  },
  {
   "cell_type": "markdown",
   "metadata": {},
   "source": [
    "Usar una función de R o hecha por users como argumento a la función `addrv`. Por ejemplo, defínanse $V=\\max(X1, X2, X3)$ y $W=X1+X2+X3$, entonces:"
   ]
  },
  {
   "cell_type": "code",
   "execution_count": 17,
   "metadata": {
    "ExecuteTime": {
     "end_time": "2020-07-06T23:18:33.861267Z",
     "start_time": "2020-07-06T23:18:33.843Z"
    }
   },
   "outputs": [],
   "source": [
    "S <- addrv(S, FUN = max, \n",
    "           invars = c(\"X1\",\"X2\",\"X3\"), \n",
    "           name = \"V\") #max is defined in R\n",
    "\n",
    "S <- addrv(S, FUN = sum,\n",
    "           nvars = c(\"X1\",\"X2\",\"X3\"), \n",
    "           name = \"W\") #sum is defined in R"
   ]
  },
  {
   "cell_type": "code",
   "execution_count": 18,
   "metadata": {
    "ExecuteTime": {
     "end_time": "2020-07-06T23:18:35.103785Z",
     "start_time": "2020-07-06T23:18:35.090Z"
    }
   },
   "outputs": [
    {
     "name": "stdout",
     "output_type": "stream",
     "text": [
      "  X1 X2 X3 U V  W    probs\n",
      "1  1  1  1 1 1  5 0.015625\n",
      "2  2  1  1 2 2  8 0.015625\n",
      "3  3  1  1 3 3 11 0.015625\n",
      "4  4  1  1 4 4 14 0.015625\n",
      "5  1  2  1 0 2  6 0.015625\n",
      "6  2  2  1 1 2  8 0.015625\n"
     ]
    }
   ],
   "source": [
    "print(head(S))"
   ]
  },
  {
   "cell_type": "markdown",
   "metadata": {},
   "source": [
    "**Obs:** obsérvese que se utilizó el argumento `invars` para especificar a qué variables se les debe aplicar la función definida en el argumento `FUN` (si no se especifica, `FUN` se aplica a todas las columnas diferentes de `probs`. También obsérvese que tiene un argumento `name` para nombrar a la nueva variable."
   ]
  },
  {
   "cell_type": "markdown",
   "metadata": {},
   "source": [
    "### Distribución marginal de variables aleatorias"
   ]
  },
  {
   "cell_type": "markdown",
   "metadata": {},
   "source": [
    "En los ejemplos anteriores se observa que añadir variables aleatorias al espacio de probabilidad (data frame al que se le añade la columna `probs`) con `addrv` resultan en renglones de la variable aleatoria en cuestión repetidos por ejemplo:\n",
    "\n",
    "|row|W|probs|\n",
    "|---|---|---|\n",
    "|2|4|0.015625|\n",
    "|5|4|0.015625|"
   ]
  },
  {
   "cell_type": "markdown",
   "metadata": {},
   "source": [
    "Se puede utilizar la función [marginal](https://www.rdocumentation.org/packages/prob/versions/1.0-1/topics/marginal) para agregar los renglones del espacio de resultados por los valores de la variable aleatoria y acumular la probabilidad asociada con los valores distintos de ésta:"
   ]
  },
  {
   "cell_type": "code",
   "execution_count": 20,
   "metadata": {
    "ExecuteTime": {
     "end_time": "2020-07-06T23:28:08.664745Z",
     "start_time": "2020-07-06T23:28:08.596Z"
    }
   },
   "outputs": [
    {
     "data": {
      "text/html": [
       "<table>\n",
       "<caption>A data.frame: 4 × 2</caption>\n",
       "<thead>\n",
       "\t<tr><th scope=col>V</th><th scope=col>probs</th></tr>\n",
       "\t<tr><th scope=col>&lt;int&gt;</th><th scope=col>&lt;dbl&gt;</th></tr>\n",
       "</thead>\n",
       "<tbody>\n",
       "\t<tr><td>1</td><td>0.015625</td></tr>\n",
       "\t<tr><td>2</td><td>0.109375</td></tr>\n",
       "\t<tr><td>3</td><td>0.296875</td></tr>\n",
       "\t<tr><td>4</td><td>0.578125</td></tr>\n",
       "</tbody>\n",
       "</table>\n"
      ],
      "text/latex": [
       "A data.frame: 4 × 2\n",
       "\\begin{tabular}{ll}\n",
       " V & probs\\\\\n",
       " <int> & <dbl>\\\\\n",
       "\\hline\n",
       "\t 1 & 0.015625\\\\\n",
       "\t 2 & 0.109375\\\\\n",
       "\t 3 & 0.296875\\\\\n",
       "\t 4 & 0.578125\\\\\n",
       "\\end{tabular}\n"
      ],
      "text/markdown": [
       "\n",
       "A data.frame: 4 × 2\n",
       "\n",
       "| V &lt;int&gt; | probs &lt;dbl&gt; |\n",
       "|---|---|\n",
       "| 1 | 0.015625 |\n",
       "| 2 | 0.109375 |\n",
       "| 3 | 0.296875 |\n",
       "| 4 | 0.578125 |\n",
       "\n"
      ],
      "text/plain": [
       "  V probs   \n",
       "1 1 0.015625\n",
       "2 2 0.109375\n",
       "3 3 0.296875\n",
       "4 4 0.578125"
      ]
     },
     "metadata": {},
     "output_type": "display_data"
    }
   ],
   "source": [
    "marginal(S, vars = \"V\") #equivalently: sum(S[S$V==1,]$probs)\n",
    "                        #for V=1"
   ]
  },
  {
   "cell_type": "markdown",
   "metadata": {},
   "source": [
    "Esto se conoce como la distribución de probabilidad marginal de $V$ o sólo distribución marginal."
   ]
  },
  {
   "cell_type": "markdown",
   "metadata": {},
   "source": [
    "También es posible calcular la distribución de probabilidad conjunta entre $V$ y $W$:"
   ]
  },
  {
   "cell_type": "code",
   "execution_count": 21,
   "metadata": {
    "ExecuteTime": {
     "end_time": "2020-07-06T23:28:34.008484Z",
     "start_time": "2020-07-06T23:28:33.978Z"
    }
   },
   "outputs": [
    {
     "data": {
      "text/html": [
       "<table>\n",
       "<caption>A data.frame: 16 × 3</caption>\n",
       "<thead>\n",
       "\t<tr><th scope=col>V</th><th scope=col>W</th><th scope=col>probs</th></tr>\n",
       "\t<tr><th scope=col>&lt;int&gt;</th><th scope=col>&lt;int&gt;</th><th scope=col>&lt;dbl&gt;</th></tr>\n",
       "</thead>\n",
       "<tbody>\n",
       "\t<tr><td>1</td><td> 5</td><td>0.015625</td></tr>\n",
       "\t<tr><td>2</td><td> 6</td><td>0.015625</td></tr>\n",
       "\t<tr><td>3</td><td> 7</td><td>0.015625</td></tr>\n",
       "\t<tr><td>2</td><td> 8</td><td>0.062500</td></tr>\n",
       "\t<tr><td>4</td><td> 8</td><td>0.015625</td></tr>\n",
       "\t<tr><td>3</td><td> 9</td><td>0.031250</td></tr>\n",
       "\t<tr><td>2</td><td>10</td><td>0.031250</td></tr>\n",
       "\t<tr><td>4</td><td>10</td><td>0.031250</td></tr>\n",
       "\t<tr><td>3</td><td>11</td><td>0.109375</td></tr>\n",
       "\t<tr><td>4</td><td>12</td><td>0.046875</td></tr>\n",
       "\t<tr><td>3</td><td>13</td><td>0.093750</td></tr>\n",
       "\t<tr><td>4</td><td>14</td><td>0.156250</td></tr>\n",
       "\t<tr><td>3</td><td>15</td><td>0.046875</td></tr>\n",
       "\t<tr><td>4</td><td>16</td><td>0.140625</td></tr>\n",
       "\t<tr><td>4</td><td>18</td><td>0.125000</td></tr>\n",
       "\t<tr><td>4</td><td>20</td><td>0.062500</td></tr>\n",
       "</tbody>\n",
       "</table>\n"
      ],
      "text/latex": [
       "A data.frame: 16 × 3\n",
       "\\begin{tabular}{lll}\n",
       " V & W & probs\\\\\n",
       " <int> & <int> & <dbl>\\\\\n",
       "\\hline\n",
       "\t 1 &  5 & 0.015625\\\\\n",
       "\t 2 &  6 & 0.015625\\\\\n",
       "\t 3 &  7 & 0.015625\\\\\n",
       "\t 2 &  8 & 0.062500\\\\\n",
       "\t 4 &  8 & 0.015625\\\\\n",
       "\t 3 &  9 & 0.031250\\\\\n",
       "\t 2 & 10 & 0.031250\\\\\n",
       "\t 4 & 10 & 0.031250\\\\\n",
       "\t 3 & 11 & 0.109375\\\\\n",
       "\t 4 & 12 & 0.046875\\\\\n",
       "\t 3 & 13 & 0.093750\\\\\n",
       "\t 4 & 14 & 0.156250\\\\\n",
       "\t 3 & 15 & 0.046875\\\\\n",
       "\t 4 & 16 & 0.140625\\\\\n",
       "\t 4 & 18 & 0.125000\\\\\n",
       "\t 4 & 20 & 0.062500\\\\\n",
       "\\end{tabular}\n"
      ],
      "text/markdown": [
       "\n",
       "A data.frame: 16 × 3\n",
       "\n",
       "| V &lt;int&gt; | W &lt;int&gt; | probs &lt;dbl&gt; |\n",
       "|---|---|---|\n",
       "| 1 |  5 | 0.015625 |\n",
       "| 2 |  6 | 0.015625 |\n",
       "| 3 |  7 | 0.015625 |\n",
       "| 2 |  8 | 0.062500 |\n",
       "| 4 |  8 | 0.015625 |\n",
       "| 3 |  9 | 0.031250 |\n",
       "| 2 | 10 | 0.031250 |\n",
       "| 4 | 10 | 0.031250 |\n",
       "| 3 | 11 | 0.109375 |\n",
       "| 4 | 12 | 0.046875 |\n",
       "| 3 | 13 | 0.093750 |\n",
       "| 4 | 14 | 0.156250 |\n",
       "| 3 | 15 | 0.046875 |\n",
       "| 4 | 16 | 0.140625 |\n",
       "| 4 | 18 | 0.125000 |\n",
       "| 4 | 20 | 0.062500 |\n",
       "\n"
      ],
      "text/plain": [
       "   V W  probs   \n",
       "1  1  5 0.015625\n",
       "2  2  6 0.015625\n",
       "3  3  7 0.015625\n",
       "4  2  8 0.062500\n",
       "5  4  8 0.015625\n",
       "6  3  9 0.031250\n",
       "7  2 10 0.031250\n",
       "8  4 10 0.031250\n",
       "9  3 11 0.109375\n",
       "10 4 12 0.046875\n",
       "11 3 13 0.093750\n",
       "12 4 14 0.156250\n",
       "13 3 15 0.046875\n",
       "14 4 16 0.140625\n",
       "15 4 18 0.125000\n",
       "16 4 20 0.062500"
      ]
     },
     "metadata": {},
     "output_type": "display_data"
    }
   ],
   "source": [
    "marginal(S, vars = c(\"V\", \"W\")) #equivalently: sum(S[S$V==3 & S$W==7,]$probs) \n",
    "                                #for V=3 y W=7"
   ]
  },
  {
   "cell_type": "markdown",
   "metadata": {},
   "source": [
    "## Valor esperado de variables aleatorias"
   ]
  },
  {
   "cell_type": "markdown",
   "metadata": {},
   "source": [
    "Se quiere hacer una rifa para recaudar fondos para alguna buena causa. Hay un premio único de $\\$10,000$ y los boletos de la rifa cuestan $\\$100$. Sea $n$ el número de boletos que se venden, de manera que la probabilidad de ganar el premio es de $\\frac{1}{n}$. De esta forma, la compradora de un boleto tiene como valor esperado para esta rifa: $$\\frac{1}{n}(10000-100) + \\left(1-\\frac{1}{n}\\right)(-100)$$."
   ]
  },
  {
   "cell_type": "markdown",
   "metadata": {},
   "source": [
    "y la organizadora de la misma tiene la ganancia segura de: $100n-10000$. Evidentemente la rifa no debe realizarse si no se venden al menos $100$ boletos, ya que la organizadora perdería dinero. La siguiente tabla muestra el valor esperado de la rifa para la compradora del boleto y la ganancia de la organizadora para algunos valores de $n$\n",
    "\n",
    "|n|Valor esperado (compradora)|Ganancia (organizadora)|\n",
    "|:----:|:----:|:----:|\n",
    "|100|0|0|\n",
    "|150|$-33.\\bar{3}$|5000|\n",
    "|200|-50|10000|\n",
    "|500|-80|40000|"
   ]
  },
  {
   "cell_type": "code",
   "execution_count": 25,
   "metadata": {
    "ExecuteTime": {
     "end_time": "2020-07-06T23:38:53.711407Z",
     "start_time": "2020-07-06T23:38:53.669Z"
    }
   },
   "outputs": [],
   "source": [
    "df_compradora <- data.frame(n=c(100,150,200,500), valor_esperado=c(0,-100/3,-50,-80))"
   ]
  },
  {
   "cell_type": "code",
   "execution_count": 26,
   "metadata": {
    "ExecuteTime": {
     "end_time": "2020-07-06T23:41:07.963089Z",
     "start_time": "2020-07-06T23:41:07.705Z"
    }
   },
   "outputs": [
    {
     "data": {
      "image/png": "[encoded data removed]",
      "text/plain": [
       "plot without title"
      ]
     },
     "metadata": {
      "image/png": {
       "height": 180,
       "width": 180
      },
      "text/plain": {
       "height": 180,
       "width": 180
      }
     },
     "output_type": "display_data"
    }
   ],
   "source": [
    "ggplot(data=df_compradora, aes(x=n, y=valor_esperado)) +\n",
    "geom_line(colour='coral3') + \n",
    "ggtitle('Compradora')"
   ]
  },
  {
   "cell_type": "code",
   "execution_count": 27,
   "metadata": {
    "ExecuteTime": {
     "end_time": "2020-07-06T23:41:53.201384Z",
     "start_time": "2020-07-06T23:41:53.187Z"
    }
   },
   "outputs": [],
   "source": [
    "df_organizadora <- data.frame(n=c(100,150,200,500),ganancia=c(0,5000,10000,40000))"
   ]
  },
  {
   "cell_type": "code",
   "execution_count": 28,
   "metadata": {
    "ExecuteTime": {
     "end_time": "2020-07-06T23:41:53.856154Z",
     "start_time": "2020-07-06T23:41:53.676Z"
    }
   },
   "outputs": [
    {
     "data": {
      "image/png": "[encoded data removed]",
      "text/plain": [
       "plot without title"
      ]
     },
     "metadata": {
      "image/png": {
       "height": 180,
       "width": 180
      },
      "text/plain": {
       "height": 180,
       "width": 180
      }
     },
     "output_type": "display_data"
    }
   ],
   "source": [
    "ggplot(data=df_organizadora, aes(x=n,y=ganancia)) +\n",
    "geom_line(colour='steelblue') + \n",
    "ggtitle('Organizadora') +\n",
    "theme(plot.title = element_text(size=10, hjust = 0.5)) #ajustar el título"
   ]
  },
  {
   "cell_type": "markdown",
   "metadata": {},
   "source": [
    "Supongamos que la variable aleatoria $X$ toma valores $x_1, \\dots, x_n$ y sean $f(x_1),\\dots,f(x_n)$ los valores de la distribución de probabilidad asociada. Definimos el valor esperado o esperanza de $X$ como: $$E(X) = \\displaystyle \\sum_{i=1}^nx_iP(X=x_i) = \\sum_{i=1}^nx_if(x_i).$$"
   ]
  },
  {
   "cell_type": "markdown",
   "metadata": {},
   "source": [
    "**Obs:** obsérvese que si todos los valores son equiprobables, esto es: $P(X=x_1) = P(X = x_2) = \\cdots = P(X = x_n) = \\frac{1}{n}$, el valor esperado de $X$ es: $$E(X) = \\frac{1}{n}\\displaystyle\\sum_{i=1}^nx_i.$$"
   ]
  },
  {
   "cell_type": "markdown",
   "metadata": {},
   "source": [
    "Así, el valor esperado no es más que un **promedio ponderado por la probabilidad de obtener $x_i$** como resultado."
   ]
  },
  {
   "cell_type": "markdown",
   "metadata": {},
   "source": [
    "### Ejemplos"
   ]
  },
  {
   "cell_type": "markdown",
   "metadata": {},
   "source": [
    "1) Considérese la situación del ejemplo anterior del evento \"el día de hoy llueve\" y las variables aleatorias $X$ y $Y$ que representan un número que asocia mi satisfacción con la situación \"llevar paraguas\" o \"no llevar paraguas\" respectivamente y toman valores: $X(E) = 5, X(E^c) = -1, Y(E) = -6, Y(E^c)=4$ con probabilidades dadas por la tabla:"
   ]
  },
  {
   "cell_type": "markdown",
   "metadata": {},
   "source": [
    "|Evento|Valor de X|Valor de Y|P(Variable aleatoria = valor)|\n",
    "|:----:|:----:|:----:|:----:|\n",
    "|llueve|5|-6|f(5) = P(X=5) = g(-6) = P(Y=-6) = .45|\n",
    "|no llueve|-1|4|f(-1) = P(X = -1) = g(4) = P(Y = 4) = .55|"
   ]
  },
  {
   "cell_type": "markdown",
   "metadata": {},
   "source": [
    "Entonces los valores esperados de $X$ y $Y$ son: $$E(X) = 5*.45 - 1*.55 = 1.7$$"
   ]
  },
  {
   "cell_type": "markdown",
   "metadata": {},
   "source": [
    "$$E(Y) = -6*.45+4*.55 = -0.5$$"
   ]
  },
  {
   "cell_type": "markdown",
   "metadata": {},
   "source": [
    "Interpretemos esta esperanza como el valor que nos proporcionan las acciones de llevar o no el paraguas. De acuerdo a los valores obtenidos, $E(X) > E(Y)$, equivalentemente, la acción de “llevar el paraguas” nos lleva a una consecuencia con mayor valor esperado. Si somos racionales, elegiremos llevar el paraguas."
   ]
  },
  {
   "cell_type": "markdown",
   "metadata": {},
   "source": [
    "## El caso continuo"
   ]
  },
  {
   "cell_type": "markdown",
   "metadata": {},
   "source": [
    "Existen datos en la naturaleza que no podemos contar sino más bien **medir**, por ejemplo distancias, tiempo o peso de una persona. Para este caso las variables aleatorias pueden tomar valores en un continuo como un intervalo de la recta real o un cuadrado en dos dimensiones o un cubo en tres dimensiones. No tiene sentido definir medidas de probabilidad para eventos de la forma {mi peso es igual a 65 kg} o {a las 15:04 lleguen por mi} pues si recordamos que la distribución de probabilidad de una variable aleatoria se representa con el área de un rectángulo con base igual a $1$ y $X$ mide mi peso en kg entonces que $X$ tome un valor en particular generaría una línea que no tiene área. Para estos casos consideramos eventos de la forma {mi peso se encuentre en un intervalo entre 63 y 70 kg} o {lleguen por mí entre 15:00 y 15:15}. "
   ]
  },
  {
   "cell_type": "markdown",
   "metadata": {},
   "source": [
    "Así para el caso continuo, no se utilizan técnicas de conteo (principio multiplicativo, permutaciones o combinaciones) pues implican una forma de contar el número de elementos en algún conjunto; es indispensable para este caso utilizar **técnicas de medida** como longitud de un intervalo, área de un cuadrado o volumen de un cubo. "
   ]
  },
  {
   "cell_type": "markdown",
   "metadata": {},
   "source": [
    "### Ejemplo:"
   ]
  },
  {
   "cell_type": "markdown",
   "metadata": {},
   "source": [
    "1) Imaginemos un juego de dardos, en el cual el tirador es malísimo y los lanza sin ton ni son. El tablero es un cuadro formado por nueve cuadrados más pequeños, como se muestra a continuación:"
   ]
  },
  {
   "cell_type": "markdown",
   "metadata": {},
   "source": [
    "<p align=\"centered\">\n",
    "<img src=\"https://drive.google.com/uc?export=view&id=0B66Kmqpqr3IQVXVzTXZoNjZLTmN2UkE4UmVnd3Z0dThSNE44\" alt=\"a\" heigth=\"200\" width=\"200\">\n",
    "</p>"
   ]
  },
  {
   "cell_type": "markdown",
   "metadata": {},
   "source": [
    "La probabilidad de que el dardo caiga en algún color puede calcularse como la proporción del área que dicho color representa como parte del área total. Entonces: $$P(\\{blanco\\}) = \\frac{4}{9}, P(\\{negro\\}) = \\frac{3}{9}, P(\\{gris\\}) = \\frac{2}{9}.$$"
   ]
  },
  {
   "cell_type": "markdown",
   "metadata": {},
   "source": [
    "Nótese que la probabilidad de que el dardo caiga en un punto particular es una probabilidad nula pues un punto carece de área. La solución sería pensar en una pequeña superficie alrededor del punto y calcular su área."
   ]
  },
  {
   "cell_type": "markdown",
   "metadata": {},
   "source": [
    "2) Pensemos en el siguiente juego de azar: se toma el intervalo $[0,1]$ de la recta numérica, es decir, todos los números (reales) entre el $0$ y el $1$ y se elige aleatoriamente un número del intervalo. Podemos pensar a este juego como una ruleta continua y asociarle una variable aletoria $X$ que representa al número obtenido. Todos los números son equiprobables de manera que la probabilidad de que $X$ caiga en el intervalo $[0,\\frac{1}{2}]$ es: $$P(0 \\leq X \\leq \\frac{1}{2}) = \\frac{1}{2}.$$\n"
   ]
  },
  {
   "cell_type": "markdown",
   "metadata": {},
   "source": [
    "La razón de esta estimación es que $[0,\\frac{1}{2}]$ mide la mitad del intervalo $[0,1]$, en donde medida se refiere a la longitud. Asimismo, $$P(\\frac{1}{3} \\leq X < 1) = \\frac{2}{3},$$ ya que la longitud del intervalo $(\\frac{1}{3},1)$ es $\\frac{2}{3}$ partes del intervalo $[0,1]$."
   ]
  },
  {
   "cell_type": "markdown",
   "metadata": {},
   "source": [
    "3) Supongamos que ahora la ruleta continua consiste en elegir numeros en el intervalo $[0,4]$ y $X$ es la variable aleatoria que representa al número resultante. Entonces, $$P(0 \\leq X \\leq 3) = \\frac{3}{4}$$ en donde podemos pensar a este número como $\\frac{\\text{longitud de } (0,3)}{\\text{longitud de } [0,4]}$."
   ]
  },
  {
   "cell_type": "markdown",
   "metadata": {},
   "source": [
    "Nótese que en los ejemplos $2$ y $3$ anteriores la medida o longitud del intervalo $(a, b)$ es la misma que la del intervalo cerrado $[a, b]$. En general, la longitud de cualquiera de los intervalos $(a, b), [a, b], (a, b]$ y $[a, b)$ es de $b-a$."
   ]
  },
  {
   "cell_type": "markdown",
   "metadata": {},
   "source": [
    "Si pensamos en el intervalo original $[a,b]$ como nuestro espacio muestral y tomamos $c$ y $d$ tales que $a \\leq c \\leq d \\leq b$, entonces, la probabilidad del evento “el número cae entre $c$ y $d$” es, $$P(c < X < d) = \\frac{\\text{longitud de } [c,d]}{\\text{longitud de } [a,b]} = \\frac{d-c}{b-a}.$$"
   ]
  },
  {
   "cell_type": "markdown",
   "metadata": {},
   "source": [
    "En el caso continuo, **la longitud o medida del intervalo toma el lugar del número de elementos** en el caso discreto. Evidentemente, en el caso del tablero de dardos descrito arriba medimos áreas en lugar de medidas lineales de longitud."
   ]
  },
  {
   "cell_type": "markdown",
   "metadata": {},
   "source": [
    "### ¿Distribución de probabilidad de una variable aleatoria continua?"
   ]
  },
  {
   "cell_type": "markdown",
   "metadata": {},
   "source": [
    "Si $X$ es una variable aleatoria continua, no podemos definir la distribución de probabilidad como en el caso discreto ya que no podemos hablar de la probabilidad que $X$ tome un valor específico. Existe, sin embargo, una densidad de probabilidad, que es una curva tal que el área debajo de la curva, entre a y b, representa a la probabilidad de que $X$ tome valores entre $a$ y $b$, es decir, $P (a < X < b)$. Visualmente tenemos:"
   ]
  },
  {
   "cell_type": "markdown",
   "metadata": {},
   "source": [
    "<p align=\"centered\">\n",
    "<img src=\"https://drive.google.com/uc?export=view&id=0B66Kmqpqr3IQSWgxMTkzUHdpRmVqVzU3cU5jRkpzZm1GVGxr\" alt=\"a\" heigth=\"400\" width=\"400\">\n",
    "</p>"
   ]
  },
  {
   "cell_type": "markdown",
   "metadata": {},
   "source": [
    "Como en el caso discreto,la curva es también el conjunto de puntos $(x,f(x))$ para la función de densidad $f$. La diferencia es que en el caso continuo, $f(a)\\neq P(X = a)$."
   ]
  },
  {
   "cell_type": "markdown",
   "metadata": {},
   "source": [
    "En el caso discreto la suma de las probabilidades de todos los valores que toma la variable aleatoria es la unidad. Aquí se tiene el resultado análogo: el área total bajo la función de densidad que representa la probabilidad de que la variable $X$ tome cualquier valor (real), es la unidad, es decir, $$P(-\\infty < X < \\infty) = 1.$$"
   ]
  },
  {
   "cell_type": "markdown",
   "metadata": {},
   "source": [
    "Por ejemplo:"
   ]
  },
  {
   "cell_type": "code",
   "execution_count": 22,
   "metadata": {},
   "outputs": [],
   "source": [
    "set.seed(2000)\n",
    "n <- 50\n",
    "df <- data.frame(x=rnorm(n))\n",
    "y <- dnorm(df$x)\n",
    "df$y <- y"
   ]
  },
  {
   "cell_type": "code",
   "execution_count": 23,
   "metadata": {},
   "outputs": [],
   "source": [
    "gf <- ggplot(data = df, aes(x=x, y=y)) + geom_point(size=.01) + ggtitle('rnorm') +\n",
    "theme(plot.title = element_text(size=10, hjust = 0.5))"
   ]
  },
  {
   "cell_type": "code",
   "execution_count": 24,
   "metadata": {},
   "outputs": [
    {
     "data": {
      "image/png": "[encoded data removed]",
      "text/plain": [
       "plot without title"
      ]
     },
     "metadata": {},
     "output_type": "display_data"
    }
   ],
   "source": [
    "gf"
   ]
  },
  {
   "cell_type": "code",
   "execution_count": 25,
   "metadata": {},
   "outputs": [
    {
     "data": {
      "image/png": "[encoded data removed]",
      "text/plain": [
       "plot without title"
      ]
     },
     "metadata": {},
     "output_type": "display_data"
    }
   ],
   "source": [
    "gf + geom_smooth(method='loess', colour='red', size=.5) + #lowess: locally weighted\n",
    "                                                          #regression\n",
    "geom_text(x=0,y=0.1,label='area=1', size=3)"
   ]
  },
  {
   "cell_type": "markdown",
   "metadata": {},
   "source": [
    "En resúmen, una función de densidad de probabilidad satisface: \n",
    "\n",
    "1. $f(x) >0 \\forall x \\in S_X.$\n",
    "\n",
    "2. $\\displaystyle \\int_{x \\in S_X}f(x)dx = 1.$\n",
    "\n",
    "3. $P(X \\in E) =  \\displaystyle \\int_{X \\in E}f(x)dx.$ para el evento $E \\in S$."
   ]
  },
  {
   "cell_type": "markdown",
   "metadata": {},
   "source": [
    "Para el cálculo del valor esperado de una variable aleatoria continua es necesario utilizar el **cálculo integral** para evaluarlo. Sin embargo, el valor esperado tiene una misma interpretación: representa un promedio ponderado de los valores que toma la variable aleatoria. La notación que se utiliza es la misma que antes, es decir, si $X$ es una variable aleatoria discreta o continua, su valor esperado se representa por $E(X)$. En el caso continuo se tiene: $$E(X)=\\displaystyle \\int_{X \\in S}xf(x)dx.$$"
   ]
  },
  {
   "cell_type": "markdown",
   "metadata": {},
   "source": [
    "si $\\displaystyle \\int_{X \\in S}|x|f(x)dx < \\infty$ (es finita)."
   ]
  },
  {
   "cell_type": "markdown",
   "metadata": {},
   "source": [
    "## Ejercicios"
   ]
  },
  {
   "cell_type": "markdown",
   "metadata": {},
   "source": [
    "**Nota: Varios de los siguientes ejercicios tienen su solución en las referencias dadas al inicio de la nota. Se sugiere resolverlos por su cuenta y posteriormente compararlos con sus respectivas soluciones.**"
   ]
  },
  {
   "cell_type": "markdown",
   "metadata": {},
   "source": [
    "**1)** Considérese lanzar dos monedas distintas. Sea $X$ la variable aleatoria que cuenta el número de águilas que aparecen. Calcula la probabilidad de $P(X=0), P(X=1), P(X=2)$."
   ]
  },
  {
   "cell_type": "markdown",
   "metadata": {},
   "source": [
    "Toss coin results:\n",
    "- H: sol\n",
    "- T: águila"
   ]
  },
  {
   "cell_type": "code",
   "execution_count": 5,
   "metadata": {
    "ExecuteTime": {
     "end_time": "2020-07-13T18:39:50.298907Z",
     "start_time": "2020-07-13T18:39:50.213Z"
    }
   },
   "outputs": [
    {
     "data": {
      "text/html": [
       "<table>\n",
       "<caption>A data.frame: 4 × 3</caption>\n",
       "<thead>\n",
       "\t<tr><th scope=col>toss1</th><th scope=col>toss2</th><th scope=col>probs</th></tr>\n",
       "\t<tr><th scope=col>&lt;fct&gt;</th><th scope=col>&lt;fct&gt;</th><th scope=col>&lt;dbl&gt;</th></tr>\n",
       "</thead>\n",
       "<tbody>\n",
       "\t<tr><td>H</td><td>H</td><td>0.25</td></tr>\n",
       "\t<tr><td>T</td><td>H</td><td>0.25</td></tr>\n",
       "\t<tr><td>H</td><td>T</td><td>0.25</td></tr>\n",
       "\t<tr><td>T</td><td>T</td><td>0.25</td></tr>\n",
       "</tbody>\n",
       "</table>\n"
      ],
      "text/latex": [
       "A data.frame: 4 × 3\n",
       "\\begin{tabular}{lll}\n",
       " toss1 & toss2 & probs\\\\\n",
       " <fct> & <fct> & <dbl>\\\\\n",
       "\\hline\n",
       "\t H & H & 0.25\\\\\n",
       "\t T & H & 0.25\\\\\n",
       "\t H & T & 0.25\\\\\n",
       "\t T & T & 0.25\\\\\n",
       "\\end{tabular}\n"
      ],
      "text/markdown": [
       "\n",
       "A data.frame: 4 × 3\n",
       "\n",
       "| toss1 &lt;fct&gt; | toss2 &lt;fct&gt; | probs &lt;dbl&gt; |\n",
       "|---|---|---|\n",
       "| H | H | 0.25 |\n",
       "| T | H | 0.25 |\n",
       "| H | T | 0.25 |\n",
       "| T | T | 0.25 |\n",
       "\n"
      ],
      "text/plain": [
       "  toss1 toss2 probs\n",
       "1 H     H     0.25 \n",
       "2 T     H     0.25 \n",
       "3 H     T     0.25 \n",
       "4 T     T     0.25 "
      ]
     },
     "metadata": {},
     "output_type": "display_data"
    }
   ],
   "source": [
    "tosscoin(2, makespace=T)"
   ]
  },
  {
   "cell_type": "markdown",
   "metadata": {},
   "source": [
    "$f(0) = P(X = 0) = 25\\%$"
   ]
  },
  {
   "cell_type": "markdown",
   "metadata": {},
   "source": [
    "$f(1) = P(X = 1) = 50\\%$"
   ]
  },
  {
   "cell_type": "markdown",
   "metadata": {},
   "source": [
    "$f(2) = f(X = 2) = 25\\%$"
   ]
  },
  {
   "cell_type": "markdown",
   "metadata": {},
   "source": [
    "**2)** Considérese el sorteo de Melate (elegir una combinación de seis números diferentes entre el $1$ y el $56$ sin orden y sin reemplazo) \"simplificado\" con una bolsa acumulada de $N$ y la variable aleatoria $X$ que toma dos valores: $N$ si se elige la combinación ganadora y $0$ en cualquier otro caso. ¿Cuál es la distribución de probabilidad de $X$?\n",
    "\n",
    "(es simplificado pues en realidad la bolsa acumulada se reparte entre el número de personas ganadoras y varios premios menores, según el número de cifras acertadas entre dos y seis.)"
   ]
  },
  {
   "cell_type": "code",
   "execution_count": 10,
   "metadata": {
    "ExecuteTime": {
     "end_time": "2020-07-13T18:57:39.940597Z",
     "start_time": "2020-07-13T18:57:39.909Z"
    }
   },
   "outputs": [
    {
     "name": "stdout",
     "output_type": "stream",
     "text": [
      "[1] 3.607504e-05\n",
      "[1] 0.9999639\n"
     ]
    }
   ],
   "source": [
    "universo_posibilidades <- 56*55*54/(3*2*1)\n",
    "\n",
    "probabilidad_num_ganador <- 1/universo_posibilidades\n",
    "print(probabilidad_num_ganador)\n",
    "\n",
    "probabilidad_num_perdedor <- 1 - probabilidad_num_ganador\n",
    "print(probabilidad_num_perdedor)"
   ]
  },
  {
   "cell_type": "markdown",
   "metadata": {},
   "source": [
    "|Evento|Valor de $X$|P(Variable aleatoria = valor)|\n",
    "|:----:|:----:|:----:\n",
    "|Sí saco número ganador|N|f(N) = P(X=N) = 6.61e-5|\n",
    "|No saco número ganador|0|f(0) = P(X = 0) = 0.99|"
   ]
  },
  {
   "cell_type": "markdown",
   "metadata": {},
   "source": [
    "**3)** Calcular el valor esperado de los ejemplos $1)$ y $3)$ de la sección \"Distribución de probabilidad de una variable aleatoria\" y responder: "
   ]
  },
  {
   "cell_type": "markdown",
   "metadata": {},
   "source": [
    "¿Si nos ofrecieran jugar uno de estos dos juegos cuál deberíamos elegir?. Nótese que ninguno de los premios o pérdidas es igual al valor esperado, éste simplemente nos da una idea del promedio de los premios y pérdidas que resultarían si el juego se repitiese un gran número de veces."
   ]
  },
  {
   "cell_type": "markdown",
   "metadata": {},
   "source": [
    "*Juego 1:*\n",
    "\n",
    "$$f(100) = P(X = 100) = P(\\{A\\}) = \\frac{1}{2}$$ \n",
    "\n",
    "$$f(-60) = P(X = -60) = P(\\{S\\}) = \\frac{1}{2}$$"
   ]
  },
  {
   "cell_type": "markdown",
   "metadata": {},
   "source": [
    "- **Ganar:** 0.5*100 = 50\n",
    "- **Perder:** 0.5*-60 = -30\n",
    "- **Neto:** +20"
   ]
  },
  {
   "cell_type": "markdown",
   "metadata": {},
   "source": [
    "*Juego 2:*\n",
    "\n",
    "$$f(-100) = P(Y = -100) = P(\\{roja\\}) = \\frac{10}{15}$$\n",
    "\n",
    "$$f(150) = P(Y = 150) = P(\\{azul\\} \\cup \\{amarilla\\}) = \\frac{3}{15} + \\frac{2}{15}$$"
   ]
  },
  {
   "cell_type": "markdown",
   "metadata": {},
   "source": [
    "- **Ganar:** 0.666*-100 = -66.6\n",
    "- **Perder:** 0.333*150 = 50\n",
    "- **Neto:** -16.6"
   ]
  },
  {
   "cell_type": "markdown",
   "metadata": {},
   "source": [
    "Por lo tanto, deberíamos jugar el **juego 1**"
   ]
  },
  {
   "cell_type": "markdown",
   "metadata": {},
   "source": [
    "**4)**  Los juegos de azar en los casinos pueden representarse por medio de variables aleatorias. Consideremos una versión simplificada de una máquina de palanca: existen dos figuras, digamos un cuadrado y un triángulo, que pueden aparecer en tres columnas de una cinta circular. El jugador baja la palanca, las cintas giran y al detenerse cada columna muestra un cuadrado o un triángulo. Las $8$ posibilidades equiprobables son: \n",
    "\n",
    "$$\\begin{array}{ccc} \\blacksquare &\\blacksquare& \\blacksquare \\\\ \\blacksquare & \\blacksquare& \\blacktriangle \\\\ \\blacksquare & \\blacktriangle & \\blacksquare \\\\ \\blacksquare & \\blacktriangle & \\blacktriangle \\\\ \\blacktriangle & \\blacksquare & \\blacksquare \\\\ \\blacktriangle & \\blacksquare & \\blacktriangle \\\\ \\blacktriangle & \\blacktriangle & \\blacksquare \\\\ \\blacktriangle & \\blacktriangle & \\blacktriangle \\end{array}$$\n",
    "\n",
    "Supongamos que para jugar se introduce una ficha de $\\$300$ y los premios asociados son: $\\$500$ si salen tres figuras iguales y $\\$0$ de cualquier otra forma. Sea $X$ la variable aleatoria que mide la ganancia o pérdida de jugar en la máquina. Calcular $E(X)$."
   ]
  },
  {
   "cell_type": "markdown",
   "metadata": {},
   "source": [
    "- H: cuadrados\n",
    "- T: triángulos"
   ]
  },
  {
   "cell_type": "code",
   "execution_count": 13,
   "metadata": {
    "ExecuteTime": {
     "end_time": "2020-07-13T19:18:09.274167Z",
     "start_time": "2020-07-13T19:18:09.251Z"
    }
   },
   "outputs": [
    {
     "data": {
      "text/html": [
       "<table>\n",
       "<caption>A data.frame: 8 × 4</caption>\n",
       "<thead>\n",
       "\t<tr><th scope=col>toss1</th><th scope=col>toss2</th><th scope=col>toss3</th><th scope=col>probs</th></tr>\n",
       "\t<tr><th scope=col>&lt;fct&gt;</th><th scope=col>&lt;fct&gt;</th><th scope=col>&lt;fct&gt;</th><th scope=col>&lt;dbl&gt;</th></tr>\n",
       "</thead>\n",
       "<tbody>\n",
       "\t<tr><td>H</td><td>H</td><td>H</td><td>0.125</td></tr>\n",
       "\t<tr><td>T</td><td>H</td><td>H</td><td>0.125</td></tr>\n",
       "\t<tr><td>H</td><td>T</td><td>H</td><td>0.125</td></tr>\n",
       "\t<tr><td>T</td><td>T</td><td>H</td><td>0.125</td></tr>\n",
       "\t<tr><td>H</td><td>H</td><td>T</td><td>0.125</td></tr>\n",
       "\t<tr><td>T</td><td>H</td><td>T</td><td>0.125</td></tr>\n",
       "\t<tr><td>H</td><td>T</td><td>T</td><td>0.125</td></tr>\n",
       "\t<tr><td>T</td><td>T</td><td>T</td><td>0.125</td></tr>\n",
       "</tbody>\n",
       "</table>\n"
      ],
      "text/latex": [
       "A data.frame: 8 × 4\n",
       "\\begin{tabular}{llll}\n",
       " toss1 & toss2 & toss3 & probs\\\\\n",
       " <fct> & <fct> & <fct> & <dbl>\\\\\n",
       "\\hline\n",
       "\t H & H & H & 0.125\\\\\n",
       "\t T & H & H & 0.125\\\\\n",
       "\t H & T & H & 0.125\\\\\n",
       "\t T & T & H & 0.125\\\\\n",
       "\t H & H & T & 0.125\\\\\n",
       "\t T & H & T & 0.125\\\\\n",
       "\t H & T & T & 0.125\\\\\n",
       "\t T & T & T & 0.125\\\\\n",
       "\\end{tabular}\n"
      ],
      "text/markdown": [
       "\n",
       "A data.frame: 8 × 4\n",
       "\n",
       "| toss1 &lt;fct&gt; | toss2 &lt;fct&gt; | toss3 &lt;fct&gt; | probs &lt;dbl&gt; |\n",
       "|---|---|---|---|\n",
       "| H | H | H | 0.125 |\n",
       "| T | H | H | 0.125 |\n",
       "| H | T | H | 0.125 |\n",
       "| T | T | H | 0.125 |\n",
       "| H | H | T | 0.125 |\n",
       "| T | H | T | 0.125 |\n",
       "| H | T | T | 0.125 |\n",
       "| T | T | T | 0.125 |\n",
       "\n"
      ],
      "text/plain": [
       "  toss1 toss2 toss3 probs\n",
       "1 H     H     H     0.125\n",
       "2 T     H     H     0.125\n",
       "3 H     T     H     0.125\n",
       "4 T     T     H     0.125\n",
       "5 H     H     T     0.125\n",
       "6 T     H     T     0.125\n",
       "7 H     T     T     0.125\n",
       "8 T     T     T     0.125"
      ]
     },
     "metadata": {},
     "output_type": "display_data"
    }
   ],
   "source": [
    "S <- tosscoin(3, makespace=T)\n",
    "S"
   ]
  },
  {
   "cell_type": "code",
   "execution_count": 104,
   "metadata": {
    "ExecuteTime": {
     "end_time": "2020-07-13T22:32:26.870383Z",
     "start_time": "2020-07-13T22:32:26.857Z"
    }
   },
   "outputs": [
    {
     "data": {
      "text/html": [
       "-175"
      ],
      "text/latex": [
       "-175"
      ],
      "text/markdown": [
       "-175"
      ],
      "text/plain": [
       "[1] -175"
      ]
     },
     "metadata": {},
     "output_type": "display_data"
    }
   ],
   "source": [
    "(1/4)*(200) - (6/8)*(300)"
   ]
  },
  {
   "cell_type": "markdown",
   "metadata": {},
   "source": [
    "Por lo tanto:\n",
    "\n",
    "$E(X) = (\\frac{2}{8})(500) - (\\frac{6}{8})(300) = -175$"
   ]
  },
  {
   "cell_type": "markdown",
   "metadata": {},
   "source": [
    "Los siguientes ejercicios realizarlos en `R` y con `ggplot2`:"
   ]
  },
  {
   "cell_type": "markdown",
   "metadata": {},
   "source": [
    "**5)** Encontrar los histogramas de probabilidad para las distribuciones asociadas a las siguientes variables aleatorias:"
   ]
  },
  {
   "cell_type": "markdown",
   "metadata": {},
   "source": [
    "a) El número de águilas que aparecen cuando lanzamos tres monedas al aire."
   ]
  },
  {
   "cell_type": "markdown",
   "metadata": {},
   "source": [
    "- H: sol\n",
    "- T: águila"
   ]
  },
  {
   "cell_type": "code",
   "execution_count": 15,
   "metadata": {
    "ExecuteTime": {
     "end_time": "2020-07-13T19:22:32.869011Z",
     "start_time": "2020-07-13T19:22:32.856Z"
    }
   },
   "outputs": [],
   "source": [
    "S <- tosscoin(3, makespace=T)"
   ]
  },
  {
   "cell_type": "code",
   "execution_count": 33,
   "metadata": {
    "ExecuteTime": {
     "end_time": "2020-07-13T19:58:25.220593Z",
     "start_time": "2020-07-13T19:58:25.204Z"
    }
   },
   "outputs": [],
   "source": [
    "S$X <- rowSums(S[c('toss1', 'toss2', 'toss3')] == 'T')"
   ]
  },
  {
   "cell_type": "code",
   "execution_count": 36,
   "metadata": {
    "ExecuteTime": {
     "end_time": "2020-07-13T20:01:08.718113Z",
     "start_time": "2020-07-13T20:01:08.698Z"
    }
   },
   "outputs": [
    {
     "data": {
      "text/html": [
       "<table>\n",
       "<caption>A data.frame: 4 × 2</caption>\n",
       "<thead>\n",
       "\t<tr><th scope=col>X</th><th scope=col>probs</th></tr>\n",
       "\t<tr><th scope=col>&lt;dbl&gt;</th><th scope=col>&lt;dbl&gt;</th></tr>\n",
       "</thead>\n",
       "<tbody>\n",
       "\t<tr><td>0</td><td>0.125</td></tr>\n",
       "\t<tr><td>1</td><td>0.375</td></tr>\n",
       "\t<tr><td>2</td><td>0.375</td></tr>\n",
       "\t<tr><td>3</td><td>0.125</td></tr>\n",
       "</tbody>\n",
       "</table>\n"
      ],
      "text/latex": [
       "A data.frame: 4 × 2\n",
       "\\begin{tabular}{ll}\n",
       " X & probs\\\\\n",
       " <dbl> & <dbl>\\\\\n",
       "\\hline\n",
       "\t 0 & 0.125\\\\\n",
       "\t 1 & 0.375\\\\\n",
       "\t 2 & 0.375\\\\\n",
       "\t 3 & 0.125\\\\\n",
       "\\end{tabular}\n"
      ],
      "text/markdown": [
       "\n",
       "A data.frame: 4 × 2\n",
       "\n",
       "| X &lt;dbl&gt; | probs &lt;dbl&gt; |\n",
       "|---|---|\n",
       "| 0 | 0.125 |\n",
       "| 1 | 0.375 |\n",
       "| 2 | 0.375 |\n",
       "| 3 | 0.125 |\n",
       "\n"
      ],
      "text/plain": [
       "  X probs\n",
       "1 0 0.125\n",
       "2 1 0.375\n",
       "3 2 0.375\n",
       "4 3 0.125"
      ]
     },
     "metadata": {},
     "output_type": "display_data"
    }
   ],
   "source": [
    "Xps <- marginal(S, vars='X')\n",
    "Xps"
   ]
  },
  {
   "cell_type": "code",
   "execution_count": 39,
   "metadata": {
    "ExecuteTime": {
     "end_time": "2020-07-13T20:05:44.191584Z",
     "start_time": "2020-07-13T20:05:44.036Z"
    },
    "scrolled": true
   },
   "outputs": [
    {
     "data": {
      "image/png": "[encoded data removed]",
      "text/plain": [
       "plot without title"
      ]
     },
     "metadata": {
      "image/png": {
       "height": 180,
       "width": 180
      },
      "text/plain": {
       "height": 180,
       "width": 180
      }
     },
     "output_type": "display_data"
    }
   ],
   "source": [
    "ggplot(\n",
    "    data=Xps,\n",
    "    aes(x=X, y=probs)\n",
    ") +\n",
    "geom_col(width=1) +\n",
    "ggtitle('Probabilidad del número de águilas lanzando 3 monedas')"
   ]
  },
  {
   "cell_type": "markdown",
   "metadata": {},
   "source": [
    "b) La suma de los números de las caras cuando se lanzan dos dados."
   ]
  },
  {
   "cell_type": "code",
   "execution_count": 47,
   "metadata": {
    "ExecuteTime": {
     "end_time": "2020-07-13T20:14:42.300510Z",
     "start_time": "2020-07-13T20:14:42.286Z"
    }
   },
   "outputs": [],
   "source": [
    "S <- rolldie(2, makespace=T)"
   ]
  },
  {
   "cell_type": "code",
   "execution_count": 49,
   "metadata": {
    "ExecuteTime": {
     "end_time": "2020-07-13T20:14:44.153719Z",
     "start_time": "2020-07-13T20:14:44.139Z"
    }
   },
   "outputs": [],
   "source": [
    "S <- addrv(S, Z = X1 + X2)"
   ]
  },
  {
   "cell_type": "code",
   "execution_count": 52,
   "metadata": {
    "ExecuteTime": {
     "end_time": "2020-07-13T20:55:12.410037Z",
     "start_time": "2020-07-13T20:55:12.379Z"
    }
   },
   "outputs": [],
   "source": [
    "Xps <- marginal(S, vars='Z')"
   ]
  },
  {
   "cell_type": "code",
   "execution_count": 58,
   "metadata": {
    "ExecuteTime": {
     "end_time": "2020-07-13T20:58:42.285493Z",
     "start_time": "2020-07-13T20:58:42.265Z"
    }
   },
   "outputs": [
    {
     "data": {
      "text/html": [
       "<table>\n",
       "<caption>A data.frame: 11 × 2</caption>\n",
       "<thead>\n",
       "\t<tr><th scope=col>Z</th><th scope=col>probs</th></tr>\n",
       "\t<tr><th scope=col>&lt;int&gt;</th><th scope=col>&lt;dbl&gt;</th></tr>\n",
       "</thead>\n",
       "<tbody>\n",
       "\t<tr><td> 2</td><td>0.02777778</td></tr>\n",
       "\t<tr><td> 3</td><td>0.05555556</td></tr>\n",
       "\t<tr><td> 4</td><td>0.08333333</td></tr>\n",
       "\t<tr><td> 5</td><td>0.11111111</td></tr>\n",
       "\t<tr><td> 6</td><td>0.13888889</td></tr>\n",
       "\t<tr><td> 7</td><td>0.16666667</td></tr>\n",
       "\t<tr><td> 8</td><td>0.13888889</td></tr>\n",
       "\t<tr><td> 9</td><td>0.11111111</td></tr>\n",
       "\t<tr><td>10</td><td>0.08333333</td></tr>\n",
       "\t<tr><td>11</td><td>0.05555556</td></tr>\n",
       "\t<tr><td>12</td><td>0.02777778</td></tr>\n",
       "</tbody>\n",
       "</table>\n"
      ],
      "text/latex": [
       "A data.frame: 11 × 2\n",
       "\\begin{tabular}{ll}\n",
       " Z & probs\\\\\n",
       " <int> & <dbl>\\\\\n",
       "\\hline\n",
       "\t  2 & 0.02777778\\\\\n",
       "\t  3 & 0.05555556\\\\\n",
       "\t  4 & 0.08333333\\\\\n",
       "\t  5 & 0.11111111\\\\\n",
       "\t  6 & 0.13888889\\\\\n",
       "\t  7 & 0.16666667\\\\\n",
       "\t  8 & 0.13888889\\\\\n",
       "\t  9 & 0.11111111\\\\\n",
       "\t 10 & 0.08333333\\\\\n",
       "\t 11 & 0.05555556\\\\\n",
       "\t 12 & 0.02777778\\\\\n",
       "\\end{tabular}\n"
      ],
      "text/markdown": [
       "\n",
       "A data.frame: 11 × 2\n",
       "\n",
       "| Z &lt;int&gt; | probs &lt;dbl&gt; |\n",
       "|---|---|\n",
       "|  2 | 0.02777778 |\n",
       "|  3 | 0.05555556 |\n",
       "|  4 | 0.08333333 |\n",
       "|  5 | 0.11111111 |\n",
       "|  6 | 0.13888889 |\n",
       "|  7 | 0.16666667 |\n",
       "|  8 | 0.13888889 |\n",
       "|  9 | 0.11111111 |\n",
       "| 10 | 0.08333333 |\n",
       "| 11 | 0.05555556 |\n",
       "| 12 | 0.02777778 |\n",
       "\n"
      ],
      "text/plain": [
       "   Z  probs     \n",
       "1   2 0.02777778\n",
       "2   3 0.05555556\n",
       "3   4 0.08333333\n",
       "4   5 0.11111111\n",
       "5   6 0.13888889\n",
       "6   7 0.16666667\n",
       "7   8 0.13888889\n",
       "8   9 0.11111111\n",
       "9  10 0.08333333\n",
       "10 11 0.05555556\n",
       "11 12 0.02777778"
      ]
     },
     "metadata": {},
     "output_type": "display_data"
    }
   ],
   "source": [
    "Xps"
   ]
  },
  {
   "cell_type": "code",
   "execution_count": 56,
   "metadata": {
    "ExecuteTime": {
     "end_time": "2020-07-13T20:58:23.950819Z",
     "start_time": "2020-07-13T20:58:23.815Z"
    }
   },
   "outputs": [
    {
     "data": {
      "image/png": "[encoded data removed]",
      "text/plain": [
       "plot without title"
      ]
     },
     "metadata": {
      "image/png": {
       "height": 180,
       "width": 180
      },
      "text/plain": {
       "height": 180,
       "width": 180
      }
     },
     "output_type": "display_data"
    }
   ],
   "source": [
    "ggplot(\n",
    "    data=Xps,\n",
    "    aes(x=Z, y=probs)\n",
    ") +\n",
    "geom_col(width=1) +\n",
    "ggtitle('Probabilidad de suma de números lanzando dos dados')"
   ]
  },
  {
   "cell_type": "markdown",
   "metadata": {},
   "source": [
    "**6)** Se venden 8000 boletos para una rifa de $\\$5000.00$ y cada boleto cuesta $\\$2.00$."
   ]
  },
  {
   "cell_type": "markdown",
   "metadata": {},
   "source": [
    "a) Encontrar la ganancia esperada del comprador de un boleto."
   ]
  },
  {
   "cell_type": "code",
   "execution_count": 66,
   "metadata": {
    "ExecuteTime": {
     "end_time": "2020-07-13T22:07:33.299900Z",
     "start_time": "2020-07-13T22:07:33.270Z"
    }
   },
   "outputs": [
    {
     "data": {
      "text/html": [
       "-1.375"
      ],
      "text/latex": [
       "-1.375"
      ],
      "text/markdown": [
       "-1.375"
      ],
      "text/plain": [
       "[1] -1.375"
      ]
     },
     "metadata": {},
     "output_type": "display_data"
    }
   ],
   "source": [
    "(1/8000)*(5000 - 2) + (1 - 1/8000)*(-2)"
   ]
  },
  {
   "cell_type": "markdown",
   "metadata": {},
   "source": [
    "b) Hacer la gráfica de la ganancia esperada que tiene una compradora en términos de un número de boletos $n$."
   ]
  },
  {
   "cell_type": "code",
   "execution_count": 94,
   "metadata": {
    "ExecuteTime": {
     "end_time": "2020-07-13T22:19:52.065861Z",
     "start_time": "2020-07-13T22:19:52.052Z"
    }
   },
   "outputs": [],
   "source": [
    "n <- seq(1000, 8000, 100)"
   ]
  },
  {
   "cell_type": "code",
   "execution_count": 95,
   "metadata": {
    "ExecuteTime": {
     "end_time": "2020-07-13T22:19:58.621705Z",
     "start_time": "2020-07-13T22:19:58.605Z"
    }
   },
   "outputs": [],
   "source": [
    "g_compradora <- function(n){\n",
    "    (1/n)*(5000 - 2) + (1 - 1/n)*(-2)\n",
    "}"
   ]
  },
  {
   "cell_type": "code",
   "execution_count": 96,
   "metadata": {
    "ExecuteTime": {
     "end_time": "2020-07-13T22:19:59.290058Z",
     "start_time": "2020-07-13T22:19:59.276Z"
    }
   },
   "outputs": [],
   "source": [
    "df_compradora <- data.frame(\n",
    "    n=n,\n",
    "    valor_esperado=g_compradora(n)\n",
    ")"
   ]
  },
  {
   "cell_type": "code",
   "execution_count": 98,
   "metadata": {
    "ExecuteTime": {
     "end_time": "2020-07-13T22:20:07.066837Z",
     "start_time": "2020-07-13T22:20:06.926Z"
    }
   },
   "outputs": [
    {
     "data": {
      "image/png": "[encoded data removed]",
      "text/plain": [
       "plot without title"
      ]
     },
     "metadata": {
      "image/png": {
       "height": 180,
       "width": 180
      },
      "text/plain": {
       "height": 180,
       "width": 180
      }
     },
     "output_type": "display_data"
    }
   ],
   "source": [
    "ggplot(\n",
    "    data=df_compradora,\n",
    "    aes(x=n, y=valor_esperado)\n",
    ") +\n",
    "geom_line(colour='blue') + \n",
    "ggtitle('Compradora')"
   ]
  },
  {
   "cell_type": "markdown",
   "metadata": {},
   "source": [
    "c) ¿Cuál debería de ser el premio mínimo para que se pudiese garantizar “salir a mano” al comprar todos los boletos."
   ]
  },
  {
   "cell_type": "markdown",
   "metadata": {},
   "source": [
    "$(\\frac{1}{8000})(x - 2) + (1 - \\frac{1}{8000})(-2) = 0$"
   ]
  },
  {
   "cell_type": "markdown",
   "metadata": {},
   "source": [
    "Por lo tanto, el premio mínimo debe de ser de 16,000"
   ]
  }
 ],
 "metadata": {
  "kernelspec": {
   "display_name": "R",
   "language": "R",
   "name": "ir"
  },
  "language_info": {
   "codemirror_mode": "r",
   "file_extension": ".r",
   "mimetype": "text/x-r-source",
   "name": "R",
   "pygments_lexer": "r",
   "version": "4.0.2"
  }
 },
 "nbformat": 4,
 "nbformat_minor": 4
}
