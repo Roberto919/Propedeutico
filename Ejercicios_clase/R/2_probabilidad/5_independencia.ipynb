{
 "cells": [
  {
   "cell_type": "markdown",
   "metadata": {},
   "source": [
    "**Notas para contenedor de docker:**"
   ]
  },
  {
   "cell_type": "markdown",
   "metadata": {},
   "source": [
    "Comando de docker para ejecución de la nota de forma local:\n",
    "\n",
    "nota: cambiar `dir_montar` por la ruta de directorio que se desea mapear a `/datos` dentro del contenedor de docker.\n",
    "\n",
    "```\n",
    "dir_montar=<ruta completa de mi máquina a mi directorio>#aquí colocar la ruta al directorio a montar, por ejemplo: \n",
    "#dir_montar=/Users/erick/midirectorio.\n",
    "```\n",
    "\n",
    "Ejecutar:\n",
    "\n",
    "```\n",
    "$docker run --rm -v $dir_montar:/datos --name jupyterlab_prope_r_kernel_tidyverse -p 8888:8888 -d palmoreck/jupyterlab_prope_r_kernel_tidyverse:2.1.4   \n",
    "\n",
    "```"
   ]
  },
  {
   "cell_type": "markdown",
   "metadata": {},
   "source": [
    "Ir a `localhost:8888` y escribir el password para jupyterlab: `qwerty`\n",
    "\n",
    "Detener el contenedor de docker:\n",
    "\n",
    "```\n",
    "docker stop jupyterlab_prope_r_kernel_tidyverse\n",
    "```\n"
   ]
  },
  {
   "cell_type": "markdown",
   "metadata": {},
   "source": [
    "Documentación de la imagen de docker `palmoreck/jupyterlab_prope_r_kernel_tidyverse:2.1.4` en [liga](https://github.com/palmoreck/dockerfiles/tree/master/jupyterlab/prope_r_kernel_tidyverse)."
   ]
  },
  {
   "cell_type": "markdown",
   "metadata": {},
   "source": [
    "---"
   ]
  },
  {
   "cell_type": "markdown",
   "metadata": {},
   "source": [
    "Para ejecución de la nota usar:\n",
    "\n",
    "[docker](https://www.docker.com/) (instalación de forma **local** con [Get docker](https://docs.docker.com/install/)) y ejecutar comandos que están al inicio de la nota de forma **local**. \n",
    "\n",
    "O bien dar click en alguno de los botones siguientes:"
   ]
  },
  {
   "cell_type": "markdown",
   "metadata": {},
   "source": [
    "[![Binder](https://mybinder.org/badge_logo.svg)](https://mybinder.org/v2/gh/palmoreck/dockerfiles-for-binder/jupyterlab_prope_r_kernel_tidyerse?urlpath=lab/tree/Propedeutico/R/clases/2_probabilidad/5_independencia.ipynb) esta opción crea una máquina individual en un servidor de Google, clona el repositorio y permite la ejecución de los notebooks de jupyter."
   ]
  },
  {
   "cell_type": "markdown",
   "metadata": {},
   "source": [
    "[![Run on Repl.it](https://repl.it/badge/github/palmoreck/dummy)](https://repl.it/languages/Rlang) esta opción no clona el repositorio, no ejecuta los notebooks de jupyter pero permite ejecución de instrucciones de Python de forma colaborativa con [repl.it](https://repl.it/). Al dar click se crearán nuevos ***repl*** debajo de sus users de ***repl.it***.\n"
   ]
  },
  {
   "cell_type": "markdown",
   "metadata": {},
   "source": [
    "### Lo siguiente está basado los libros:\n",
    "\n",
    "### * B. Rumbos, Pensando Antes de Actuar: Fundamentos de Elección Racional, 2009.\n",
    "\n",
    "### * G. J. Kerns, Introduction to Probability and Statistics Using R, 2014."
   ]
  },
  {
   "cell_type": "markdown",
   "metadata": {},
   "source": [
    "### El libro de G. J. Kerns tiene github: [jkerns/IPSUR](https://github.com/gjkerns/IPSUR)"
   ]
  },
  {
   "cell_type": "markdown",
   "metadata": {},
   "source": [
    "**Notas:**\n",
    "\n",
    "* Se utilizará el paquete [prob](https://cran.r-project.org/web/packages/prob/index.html) de R para los experimentos descritos en la nota y aunque con funciones nativas de R se pueden crear los experimentos, se le da preferencia a mostrar cómo en R se tienen paquetes para muchas aplicaciones.\n",
    "\n",
    "* En algunas líneas no es necesario colocar `print` y sólo se ha realizado para mostrar los resultados de las funciones en un formato similar al de R pues la nota se escribió con jupyterlab y R.\n",
    "\n",
    "* Cuidado al utilizar las funciones del paquete `prob` para construir espacios de probabilidad grandes como lanzar un dado 9 veces... (tal experimento tiene 10 millones de posibles resultados)"
   ]
  },
  {
   "cell_type": "code",
   "execution_count": 1,
   "metadata": {
    "ExecuteTime": {
     "end_time": "2020-07-12T01:12:13.778418Z",
     "start_time": "2020-07-12T01:12:13.199Z"
    }
   },
   "outputs": [
    {
     "name": "stderr",
     "output_type": "stream",
     "text": [
      "Loading required package: combinat\n",
      "\n",
      "\n",
      "Attaching package: ‘combinat’\n",
      "\n",
      "\n",
      "The following object is masked from ‘package:utils’:\n",
      "\n",
      "    combn\n",
      "\n",
      "\n",
      "Loading required package: fAsianOptions\n",
      "\n",
      "Loading required package: timeDate\n",
      "\n",
      "Loading required package: timeSeries\n",
      "\n",
      "Loading required package: fBasics\n",
      "\n",
      "Loading required package: fOptions\n",
      "\n",
      "\n",
      "Attaching package: ‘prob’\n",
      "\n",
      "\n",
      "The following objects are masked from ‘package:base’:\n",
      "\n",
      "    intersect, setdiff, union\n",
      "\n",
      "\n"
     ]
    }
   ],
   "source": [
    "library(prob)"
   ]
  },
  {
   "cell_type": "markdown",
   "metadata": {},
   "source": [
    "# Eventos independientes"
   ]
  },
  {
   "cell_type": "markdown",
   "metadata": {},
   "source": [
    "Dos eventos son independientes si la ocurrencia de uno de ellos es irrelevante para el otro."
   ]
  },
  {
   "cell_type": "markdown",
   "metadata": {},
   "source": [
    "## Ejemplo"
   ]
  },
  {
   "cell_type": "markdown",
   "metadata": {},
   "source": [
    "**Experimento:** lanzar dos monedas **distintas** (o una moneda dos veces). El espacio de resultados es: $S=\\{AA, AS, SA, SS\\}$. Sean los eventos $E=${primer lanzamiento es A} y $F=${segundo lanzamiento es A}. Entonces $P(E)=\\frac{2}{4}$, $P(F)=\\frac{2}{4}$ y $P(E \\cap F)=\\frac{1}{4}$. "
   ]
  },
  {
   "cell_type": "markdown",
   "metadata": {},
   "source": [
    "Se tiene: $$P(F| E) = \\frac{P(E \\cap F)}{P(E)} = \\frac{P({\\{AA\\}})}{P(E)} = \\frac{\\frac{1}{4}}{\\frac{2}{4}} = \\frac{1}{2} = P(F)$$"
   ]
  },
  {
   "cell_type": "markdown",
   "metadata": {},
   "source": [
    "La igualdad anterior implica que la información de que el primer lanzamiento es $A$ no afecta o modifica la probabilidad que el segundo lanzamiento sea $A$."
   ]
  },
  {
   "cell_type": "markdown",
   "metadata": {},
   "source": [
    "Los eventos $E$ y $F$ son independientes si $P(E \\cap F) = P(E)P(F)$ en otro caso se les nombra dependientes."
   ]
  },
  {
   "cell_type": "markdown",
   "metadata": {},
   "source": [
    "**Obs:** Obsérvese que si $P(F) > 0$ entonces se puede definir la independencia de eventos como: $E$ y $F$ son independientes si $P(E|F) = \\frac{P(E \\cap F)}{P(F)} = \\frac{P(E)P(F)}{P(F)} = P(E)$."
   ]
  },
  {
   "cell_type": "markdown",
   "metadata": {},
   "source": [
    "## Propiedades"
   ]
  },
  {
   "cell_type": "markdown",
   "metadata": {},
   "source": [
    "Si $E$ y $F$ son independientes entonces:\n",
    "\n",
    "* $E$ y $F^c$ son independientes,\n",
    "\n",
    "* $E^c$ y $F$ son independientes,\n",
    "\n",
    "* $E^c$ y $F^c$ son independientes."
   ]
  },
  {
   "cell_type": "markdown",
   "metadata": {},
   "source": [
    "**Obs:** si los eventos $E$ y $F$ son mutuamente excluyentes (no ocurren simultáneamente, también nombrados ajenos) y tienen probabilidades de ocurrencia positiva entonces no pueden ser independientes pues $P(E \\cap F) = 0$ (por mutuamente excluyentes) y $P(E)P(F)>0$ (por probabilidad positiva de ambos) por lo que $P(E \\cap F) \\neq P(E)P(F)$. Lo anterior es equivalente a: si $E$ y $F$ son independientes con probabilidad positiva entonces no pueden ser mutuamente excluyentes (ocurren simultáneamente)."
   ]
  },
  {
   "cell_type": "markdown",
   "metadata": {},
   "source": [
    "**Obs2:** Para tres eventos $E$, $F$ y $G$, se escribe que son independientes si:\n",
    "\n",
    "1) $P(E \\cap F) = P(E)P(F)$\n",
    "\n",
    "2) $P(E \\cap G) = P(E)P(G)$\n",
    "\n",
    "3) $P(F \\cap G) = P(F)P(G)$\n",
    "\n",
    "4) $P(E \\cap F \\cap G) = P(E)P(F)P(G)$.\n",
    "\n",
    "Si sólo se cumplen $1,2,3$ entonces se llaman independientes por pares."
   ]
  },
  {
   "cell_type": "markdown",
   "metadata": {},
   "source": [
    "## Ejemplo"
   ]
  },
  {
   "cell_type": "markdown",
   "metadata": {},
   "source": [
    "1) **Experimento:** lanzar $10$ monedas. Calcular la probabilidad de que en al menos una moneda salga águila y supóngase que los lanzamientos no interfieren con los demás.\n",
    "\n",
    "**Solución:** Sean $E_i$ los eventos {sale águila en la moneda $i$} para $i=1,\\dots,10$. Entonces son eventos independientes por suposición. Si $F$ es el evento {al menos una moneda sale águila} se tiene: $P(F) = 1-P(F^c)$ con $F^c$ el evento {no salen águilas} = {salen $10$ soles}. Entonces:\n",
    "\n",
    "$$P(F) = 1-P(F^c) = 1-P(E_1^c \\cap E_2^c \\dots \\cap E_{10}^c) = 1- P(E_1^c)P(E_2^c) \\cdots P(E_{10}^c) = 1-\\left(\\frac{1}{2}\\right)^{10} \\approx 0.9990234$$."
   ]
  },
  {
   "cell_type": "markdown",
   "metadata": {},
   "source": [
    "### En R ..."
   ]
  },
  {
   "cell_type": "code",
   "execution_count": 5,
   "metadata": {
    "ExecuteTime": {
     "end_time": "2020-07-02T00:52:31.128367Z",
     "start_time": "2020-07-02T00:52:31.117Z"
    }
   },
   "outputs": [],
   "source": [
    "S<-tosscoin(10, makespace=T) # T = True"
   ]
  },
  {
   "cell_type": "code",
   "execution_count": 6,
   "metadata": {
    "ExecuteTime": {
     "end_time": "2020-07-02T00:52:31.309919Z",
     "start_time": "2020-07-02T00:52:31.290Z"
    }
   },
   "outputs": [
    {
     "data": {
      "text/html": [
       "<table>\n",
       "<caption>A data.frame: 6 × 11</caption>\n",
       "<thead>\n",
       "\t<tr><th></th><th scope=col>toss1</th><th scope=col>toss2</th><th scope=col>toss3</th><th scope=col>toss4</th><th scope=col>toss5</th><th scope=col>toss6</th><th scope=col>toss7</th><th scope=col>toss8</th><th scope=col>toss9</th><th scope=col>toss10</th><th scope=col>probs</th></tr>\n",
       "\t<tr><th></th><th scope=col>&lt;fct&gt;</th><th scope=col>&lt;fct&gt;</th><th scope=col>&lt;fct&gt;</th><th scope=col>&lt;fct&gt;</th><th scope=col>&lt;fct&gt;</th><th scope=col>&lt;fct&gt;</th><th scope=col>&lt;fct&gt;</th><th scope=col>&lt;fct&gt;</th><th scope=col>&lt;fct&gt;</th><th scope=col>&lt;fct&gt;</th><th scope=col>&lt;dbl&gt;</th></tr>\n",
       "</thead>\n",
       "<tbody>\n",
       "\t<tr><th scope=row>1</th><td>H</td><td>H</td><td>H</td><td>H</td><td>H</td><td>H</td><td>H</td><td>H</td><td>H</td><td>H</td><td>0.0009765625</td></tr>\n",
       "\t<tr><th scope=row>2</th><td>T</td><td>H</td><td>H</td><td>H</td><td>H</td><td>H</td><td>H</td><td>H</td><td>H</td><td>H</td><td>0.0009765625</td></tr>\n",
       "\t<tr><th scope=row>3</th><td>H</td><td>T</td><td>H</td><td>H</td><td>H</td><td>H</td><td>H</td><td>H</td><td>H</td><td>H</td><td>0.0009765625</td></tr>\n",
       "\t<tr><th scope=row>4</th><td>T</td><td>T</td><td>H</td><td>H</td><td>H</td><td>H</td><td>H</td><td>H</td><td>H</td><td>H</td><td>0.0009765625</td></tr>\n",
       "\t<tr><th scope=row>5</th><td>H</td><td>H</td><td>T</td><td>H</td><td>H</td><td>H</td><td>H</td><td>H</td><td>H</td><td>H</td><td>0.0009765625</td></tr>\n",
       "\t<tr><th scope=row>6</th><td>T</td><td>H</td><td>T</td><td>H</td><td>H</td><td>H</td><td>H</td><td>H</td><td>H</td><td>H</td><td>0.0009765625</td></tr>\n",
       "</tbody>\n",
       "</table>\n"
      ],
      "text/latex": [
       "A data.frame: 6 × 11\n",
       "\\begin{tabular}{r|lllllllllll}\n",
       "  & toss1 & toss2 & toss3 & toss4 & toss5 & toss6 & toss7 & toss8 & toss9 & toss10 & probs\\\\\n",
       "  & <fct> & <fct> & <fct> & <fct> & <fct> & <fct> & <fct> & <fct> & <fct> & <fct> & <dbl>\\\\\n",
       "\\hline\n",
       "\t1 & H & H & H & H & H & H & H & H & H & H & 0.0009765625\\\\\n",
       "\t2 & T & H & H & H & H & H & H & H & H & H & 0.0009765625\\\\\n",
       "\t3 & H & T & H & H & H & H & H & H & H & H & 0.0009765625\\\\\n",
       "\t4 & T & T & H & H & H & H & H & H & H & H & 0.0009765625\\\\\n",
       "\t5 & H & H & T & H & H & H & H & H & H & H & 0.0009765625\\\\\n",
       "\t6 & T & H & T & H & H & H & H & H & H & H & 0.0009765625\\\\\n",
       "\\end{tabular}\n"
      ],
      "text/markdown": [
       "\n",
       "A data.frame: 6 × 11\n",
       "\n",
       "| <!--/--> | toss1 &lt;fct&gt; | toss2 &lt;fct&gt; | toss3 &lt;fct&gt; | toss4 &lt;fct&gt; | toss5 &lt;fct&gt; | toss6 &lt;fct&gt; | toss7 &lt;fct&gt; | toss8 &lt;fct&gt; | toss9 &lt;fct&gt; | toss10 &lt;fct&gt; | probs &lt;dbl&gt; |\n",
       "|---|---|---|---|---|---|---|---|---|---|---|---|\n",
       "| 1 | H | H | H | H | H | H | H | H | H | H | 0.0009765625 |\n",
       "| 2 | T | H | H | H | H | H | H | H | H | H | 0.0009765625 |\n",
       "| 3 | H | T | H | H | H | H | H | H | H | H | 0.0009765625 |\n",
       "| 4 | T | T | H | H | H | H | H | H | H | H | 0.0009765625 |\n",
       "| 5 | H | H | T | H | H | H | H | H | H | H | 0.0009765625 |\n",
       "| 6 | T | H | T | H | H | H | H | H | H | H | 0.0009765625 |\n",
       "\n"
      ],
      "text/plain": [
       "  toss1 toss2 toss3 toss4 toss5 toss6 toss7 toss8 toss9 toss10 probs       \n",
       "1 H     H     H     H     H     H     H     H     H     H      0.0009765625\n",
       "2 T     H     H     H     H     H     H     H     H     H      0.0009765625\n",
       "3 H     T     H     H     H     H     H     H     H     H      0.0009765625\n",
       "4 T     T     H     H     H     H     H     H     H     H      0.0009765625\n",
       "5 H     H     T     H     H     H     H     H     H     H      0.0009765625\n",
       "6 T     H     T     H     H     H     H     H     H     H      0.0009765625"
      ]
     },
     "metadata": {},
     "output_type": "display_data"
    }
   ],
   "source": [
    "head(S)"
   ]
  },
  {
   "cell_type": "code",
   "execution_count": 8,
   "metadata": {
    "ExecuteTime": {
     "end_time": "2020-07-02T00:53:22.757154Z",
     "start_time": "2020-07-02T00:53:22.522Z"
    }
   },
   "outputs": [
    {
     "data": {
      "text/html": [
       "<table>\n",
       "<caption>A data.frame: 1 × 11</caption>\n",
       "<thead>\n",
       "\t<tr><th></th><th scope=col>toss1</th><th scope=col>toss2</th><th scope=col>toss3</th><th scope=col>toss4</th><th scope=col>toss5</th><th scope=col>toss6</th><th scope=col>toss7</th><th scope=col>toss8</th><th scope=col>toss9</th><th scope=col>toss10</th><th scope=col>probs</th></tr>\n",
       "\t<tr><th></th><th scope=col>&lt;fct&gt;</th><th scope=col>&lt;fct&gt;</th><th scope=col>&lt;fct&gt;</th><th scope=col>&lt;fct&gt;</th><th scope=col>&lt;fct&gt;</th><th scope=col>&lt;fct&gt;</th><th scope=col>&lt;fct&gt;</th><th scope=col>&lt;fct&gt;</th><th scope=col>&lt;fct&gt;</th><th scope=col>&lt;fct&gt;</th><th scope=col>&lt;dbl&gt;</th></tr>\n",
       "</thead>\n",
       "<tbody>\n",
       "\t<tr><th scope=row>1024</th><td>T</td><td>T</td><td>T</td><td>T</td><td>T</td><td>T</td><td>T</td><td>T</td><td>T</td><td>T</td><td>0.0009765625</td></tr>\n",
       "</tbody>\n",
       "</table>\n"
      ],
      "text/latex": [
       "A data.frame: 1 × 11\n",
       "\\begin{tabular}{r|lllllllllll}\n",
       "  & toss1 & toss2 & toss3 & toss4 & toss5 & toss6 & toss7 & toss8 & toss9 & toss10 & probs\\\\\n",
       "  & <fct> & <fct> & <fct> & <fct> & <fct> & <fct> & <fct> & <fct> & <fct> & <fct> & <dbl>\\\\\n",
       "\\hline\n",
       "\t1024 & T & T & T & T & T & T & T & T & T & T & 0.0009765625\\\\\n",
       "\\end{tabular}\n"
      ],
      "text/markdown": [
       "\n",
       "A data.frame: 1 × 11\n",
       "\n",
       "| <!--/--> | toss1 &lt;fct&gt; | toss2 &lt;fct&gt; | toss3 &lt;fct&gt; | toss4 &lt;fct&gt; | toss5 &lt;fct&gt; | toss6 &lt;fct&gt; | toss7 &lt;fct&gt; | toss8 &lt;fct&gt; | toss9 &lt;fct&gt; | toss10 &lt;fct&gt; | probs &lt;dbl&gt; |\n",
       "|---|---|---|---|---|---|---|---|---|---|---|---|\n",
       "| 1024 | T | T | T | T | T | T | T | T | T | T | 0.0009765625 |\n",
       "\n"
      ],
      "text/plain": [
       "     toss1 toss2 toss3 toss4 toss5 toss6 toss7 toss8 toss9 toss10 probs       \n",
       "1024 T     T     T     T     T     T     T     T     T     T      0.0009765625"
      ]
     },
     "metadata": {},
     "output_type": "display_data"
    }
   ],
   "source": [
    "E<-subset(S, isrep(S, vals='T',nrep = 10)) \n",
    "#equivalently: E2<-subset(S,isin(S, rep('T',10)))\n",
    "E"
   ]
  },
  {
   "cell_type": "code",
   "execution_count": 9,
   "metadata": {
    "ExecuteTime": {
     "end_time": "2020-07-02T00:53:41.088811Z",
     "start_time": "2020-07-02T00:53:41.070Z"
    }
   },
   "outputs": [
    {
     "data": {
      "text/html": [
       "0.9990234375"
      ],
      "text/latex": [
       "0.9990234375"
      ],
      "text/markdown": [
       "0.9990234375"
      ],
      "text/plain": [
       "[1] 0.9990234"
      ]
     },
     "metadata": {},
     "output_type": "display_data"
    }
   ],
   "source": [
    "1-Prob(E)"
   ]
  },
  {
   "cell_type": "markdown",
   "metadata": {},
   "source": [
    "## Independencia condicional"
   ]
  },
  {
   "cell_type": "markdown",
   "metadata": {},
   "source": [
    "El concepto de independencia puede extenderse a independencia condicional; concretamente, tenemos la siguiente definición: Sean $E, F$ y $G$ eventos con probabilidades positivas. Entonces, los eventos $E$ y $F$ son condicionalmente independientes dado $G$ si y sólo si, $P(E \\cap F|G) = P(E|G)P(F|G)$, esto es, $E$ dado $G$ y $F$ dado $G$ son eventos independientes."
   ]
  },
  {
   "cell_type": "markdown",
   "metadata": {},
   "source": [
    "## Experimentos repetidos que cumplen independencia y condiciones idénticas en R"
   ]
  },
  {
   "cell_type": "markdown",
   "metadata": {},
   "source": [
    "Es muy común en la práctica realizar un experimento múltiples veces bajo condiciones idénticas y de una forma independiente, por ejemplo: lanzamiento de una moneda o de un dado."
   ]
  },
  {
   "cell_type": "markdown",
   "metadata": {},
   "source": [
    "En *R* la función [iidspace](https://www.rdocumentation.org/packages/prob/versions/1.0-1/topics/iidspace) del paquete `prob` fue diseñada para lo anterior. Tiene tres argumentos: `x` que es un vector de *outcomes*, `ntrials` que es un entero que indica el número de veces que se repite el experimento y `probs` que especifican las probabilidades de los `outcomes` en `x` en una sola ejecución."
   ]
  },
  {
   "cell_type": "markdown",
   "metadata": {},
   "source": [
    "### Ejemplo"
   ]
  },
  {
   "cell_type": "markdown",
   "metadata": {},
   "source": [
    "**Experimento:** Tres lanzamientos de una moneda cargada con probabilidad de obtener águila de $0.7$ y sol de $0.3$."
   ]
  },
  {
   "cell_type": "code",
   "execution_count": 10,
   "metadata": {
    "ExecuteTime": {
     "end_time": "2020-07-02T00:56:30.345798Z",
     "start_time": "2020-07-02T00:56:30.325Z"
    }
   },
   "outputs": [
    {
     "data": {
      "text/html": [
       "<table>\n",
       "<caption>A data.frame: 8 × 4</caption>\n",
       "<thead>\n",
       "\t<tr><th scope=col>X1</th><th scope=col>X2</th><th scope=col>X3</th><th scope=col>probs</th></tr>\n",
       "\t<tr><th scope=col>&lt;fct&gt;</th><th scope=col>&lt;fct&gt;</th><th scope=col>&lt;fct&gt;</th><th scope=col>&lt;dbl&gt;</th></tr>\n",
       "</thead>\n",
       "<tbody>\n",
       "\t<tr><td>aguila</td><td>aguila</td><td>aguila</td><td>0.343</td></tr>\n",
       "\t<tr><td>sol   </td><td>aguila</td><td>aguila</td><td>0.147</td></tr>\n",
       "\t<tr><td>aguila</td><td>sol   </td><td>aguila</td><td>0.147</td></tr>\n",
       "\t<tr><td>sol   </td><td>sol   </td><td>aguila</td><td>0.063</td></tr>\n",
       "\t<tr><td>aguila</td><td>aguila</td><td>sol   </td><td>0.147</td></tr>\n",
       "\t<tr><td>sol   </td><td>aguila</td><td>sol   </td><td>0.063</td></tr>\n",
       "\t<tr><td>aguila</td><td>sol   </td><td>sol   </td><td>0.063</td></tr>\n",
       "\t<tr><td>sol   </td><td>sol   </td><td>sol   </td><td>0.027</td></tr>\n",
       "</tbody>\n",
       "</table>\n"
      ],
      "text/latex": [
       "A data.frame: 8 × 4\n",
       "\\begin{tabular}{llll}\n",
       " X1 & X2 & X3 & probs\\\\\n",
       " <fct> & <fct> & <fct> & <dbl>\\\\\n",
       "\\hline\n",
       "\t aguila & aguila & aguila & 0.343\\\\\n",
       "\t sol    & aguila & aguila & 0.147\\\\\n",
       "\t aguila & sol    & aguila & 0.147\\\\\n",
       "\t sol    & sol    & aguila & 0.063\\\\\n",
       "\t aguila & aguila & sol    & 0.147\\\\\n",
       "\t sol    & aguila & sol    & 0.063\\\\\n",
       "\t aguila & sol    & sol    & 0.063\\\\\n",
       "\t sol    & sol    & sol    & 0.027\\\\\n",
       "\\end{tabular}\n"
      ],
      "text/markdown": [
       "\n",
       "A data.frame: 8 × 4\n",
       "\n",
       "| X1 &lt;fct&gt; | X2 &lt;fct&gt; | X3 &lt;fct&gt; | probs &lt;dbl&gt; |\n",
       "|---|---|---|---|\n",
       "| aguila | aguila | aguila | 0.343 |\n",
       "| sol    | aguila | aguila | 0.147 |\n",
       "| aguila | sol    | aguila | 0.147 |\n",
       "| sol    | sol    | aguila | 0.063 |\n",
       "| aguila | aguila | sol    | 0.147 |\n",
       "| sol    | aguila | sol    | 0.063 |\n",
       "| aguila | sol    | sol    | 0.063 |\n",
       "| sol    | sol    | sol    | 0.027 |\n",
       "\n"
      ],
      "text/plain": [
       "  X1     X2     X3     probs\n",
       "1 aguila aguila aguila 0.343\n",
       "2 sol    aguila aguila 0.147\n",
       "3 aguila sol    aguila 0.147\n",
       "4 sol    sol    aguila 0.063\n",
       "5 aguila aguila sol    0.147\n",
       "6 sol    aguila sol    0.063\n",
       "7 aguila sol    sol    0.063\n",
       "8 sol    sol    sol    0.027"
      ]
     },
     "metadata": {},
     "output_type": "display_data"
    }
   ],
   "source": [
    "iidspace(c('aguila','sol'), ntrials = 3, probs = c(0.7, 0.3))"
   ]
  },
  {
   "cell_type": "markdown",
   "metadata": {},
   "source": [
    "Obsérvese que: $P({AAA}) = .7*.7*.7 = 0.343$ y el resultado de la función es un espacio de probabilidad."
   ]
  },
  {
   "cell_type": "markdown",
   "metadata": {},
   "source": [
    "El procedimiento anterior puede usarse para modelar un dado cargado o cualquier otro experimento que pueda ser representado con un vector de posibles `outcomes`. "
   ]
  },
  {
   "cell_type": "markdown",
   "metadata": {},
   "source": [
    "## Ejercicios"
   ]
  },
  {
   "cell_type": "markdown",
   "metadata": {},
   "source": [
    "**Nota: Varios de los siguientes ejercicios tienen su solución en las referencias dadas al inicio de la nota. Se sugiere resolverlos por su cuenta y posteriormente compararlos con sus respectivas soluciones.**"
   ]
  },
  {
   "cell_type": "markdown",
   "metadata": {},
   "source": [
    "**1)** Calcular la probabilidad de sacar un as y corazón en una baraja"
   ]
  },
  {
   "cell_type": "code",
   "execution_count": 3,
   "metadata": {
    "ExecuteTime": {
     "end_time": "2020-07-12T01:17:59.300122Z",
     "start_time": "2020-07-12T01:17:59.284Z"
    }
   },
   "outputs": [
    {
     "data": {
      "text/html": [
       "0.0192307692307692"
      ],
      "text/latex": [
       "0.0192307692307692"
      ],
      "text/markdown": [
       "0.0192307692307692"
      ],
      "text/plain": [
       "[1] 0.01923077"
      ]
     },
     "metadata": {},
     "output_type": "display_data"
    }
   ],
   "source": [
    "(4/52)*(13/52)"
   ]
  },
  {
   "cell_type": "code",
   "execution_count": 4,
   "metadata": {
    "ExecuteTime": {
     "end_time": "2020-07-12T01:18:44.956738Z",
     "start_time": "2020-07-12T01:18:44.941Z"
    }
   },
   "outputs": [
    {
     "data": {
      "text/html": [
       "0.0192307692307692"
      ],
      "text/latex": [
       "0.0192307692307692"
      ],
      "text/markdown": [
       "0.0192307692307692"
      ],
      "text/plain": [
       "[1] 0.01923077"
      ]
     },
     "metadata": {},
     "output_type": "display_data"
    }
   ],
   "source": [
    "1/52"
   ]
  },
  {
   "cell_type": "markdown",
   "metadata": {},
   "source": [
    "**2)** Se lanzan dos dados, uno verde y otro rojo. Considérense los eventos $E=${los números suman 5}, $F=${el número en el dado verde es impar}. ¿$E$ y $F$ son independientes?."
   ]
  },
  {
   "cell_type": "markdown",
   "metadata": {},
   "source": [
    "$P(E)$"
   ]
  },
  {
   "cell_type": "code",
   "execution_count": 39,
   "metadata": {
    "ExecuteTime": {
     "end_time": "2020-07-12T23:15:45.019952Z",
     "start_time": "2020-07-12T23:15:45.000Z"
    }
   },
   "outputs": [],
   "source": [
    "S_E <- rolldie(2, 6, makespace=T)\n",
    "S_E$Sum <- S_E$X1 + S_E$X2\n",
    "S_E <- S_E[S_E$Sum == 5, ]"
   ]
  },
  {
   "cell_type": "code",
   "execution_count": 40,
   "metadata": {
    "ExecuteTime": {
     "end_time": "2020-07-12T23:15:45.209920Z",
     "start_time": "2020-07-12T23:15:45.189Z"
    }
   },
   "outputs": [
    {
     "data": {
      "text/html": [
       "<table>\n",
       "<caption>A data.frame: 4 × 4</caption>\n",
       "<thead>\n",
       "\t<tr><th></th><th scope=col>X1</th><th scope=col>X2</th><th scope=col>probs</th><th scope=col>Sum</th></tr>\n",
       "\t<tr><th></th><th scope=col>&lt;int&gt;</th><th scope=col>&lt;int&gt;</th><th scope=col>&lt;dbl&gt;</th><th scope=col>&lt;int&gt;</th></tr>\n",
       "</thead>\n",
       "<tbody>\n",
       "\t<tr><th scope=row>4</th><td>4</td><td>1</td><td>0.02777778</td><td>5</td></tr>\n",
       "\t<tr><th scope=row>9</th><td>3</td><td>2</td><td>0.02777778</td><td>5</td></tr>\n",
       "\t<tr><th scope=row>14</th><td>2</td><td>3</td><td>0.02777778</td><td>5</td></tr>\n",
       "\t<tr><th scope=row>19</th><td>1</td><td>4</td><td>0.02777778</td><td>5</td></tr>\n",
       "</tbody>\n",
       "</table>\n"
      ],
      "text/latex": [
       "A data.frame: 4 × 4\n",
       "\\begin{tabular}{r|llll}\n",
       "  & X1 & X2 & probs & Sum\\\\\n",
       "  & <int> & <int> & <dbl> & <int>\\\\\n",
       "\\hline\n",
       "\t4 & 4 & 1 & 0.02777778 & 5\\\\\n",
       "\t9 & 3 & 2 & 0.02777778 & 5\\\\\n",
       "\t14 & 2 & 3 & 0.02777778 & 5\\\\\n",
       "\t19 & 1 & 4 & 0.02777778 & 5\\\\\n",
       "\\end{tabular}\n"
      ],
      "text/markdown": [
       "\n",
       "A data.frame: 4 × 4\n",
       "\n",
       "| <!--/--> | X1 &lt;int&gt; | X2 &lt;int&gt; | probs &lt;dbl&gt; | Sum &lt;int&gt; |\n",
       "|---|---|---|---|---|\n",
       "| 4 | 4 | 1 | 0.02777778 | 5 |\n",
       "| 9 | 3 | 2 | 0.02777778 | 5 |\n",
       "| 14 | 2 | 3 | 0.02777778 | 5 |\n",
       "| 19 | 1 | 4 | 0.02777778 | 5 |\n",
       "\n"
      ],
      "text/plain": [
       "   X1 X2 probs      Sum\n",
       "4  4  1  0.02777778 5  \n",
       "9  3  2  0.02777778 5  \n",
       "14 2  3  0.02777778 5  \n",
       "19 1  4  0.02777778 5  "
      ]
     },
     "metadata": {},
     "output_type": "display_data"
    }
   ],
   "source": [
    "S_E"
   ]
  },
  {
   "cell_type": "code",
   "execution_count": 47,
   "metadata": {
    "ExecuteTime": {
     "end_time": "2020-07-12T23:18:19.592607Z",
     "start_time": "2020-07-12T23:18:19.576Z"
    }
   },
   "outputs": [
    {
     "data": {
      "text/html": [
       "0.111111111111111"
      ],
      "text/latex": [
       "0.111111111111111"
      ],
      "text/markdown": [
       "0.111111111111111"
      ],
      "text/plain": [
       "[1] 0.1111111"
      ]
     },
     "metadata": {},
     "output_type": "display_data"
    }
   ],
   "source": [
    "P_E <- sum(S_E$probs)\n",
    "P_E"
   ]
  },
  {
   "cell_type": "markdown",
   "metadata": {},
   "source": [
    "$P(F)$"
   ]
  },
  {
   "cell_type": "code",
   "execution_count": 80,
   "metadata": {
    "ExecuteTime": {
     "end_time": "2020-07-12T23:31:29.941727Z",
     "start_time": "2020-07-12T23:31:29.926Z"
    }
   },
   "outputs": [],
   "source": [
    "S_F <- rolldie(1, 6, makespace=T)\n",
    "S_F <- S_F[S_F$X1 %in% c(1, 3, 5), ]"
   ]
  },
  {
   "cell_type": "code",
   "execution_count": 81,
   "metadata": {
    "ExecuteTime": {
     "end_time": "2020-07-12T23:31:30.167862Z",
     "start_time": "2020-07-12T23:31:30.149Z"
    },
    "scrolled": true
   },
   "outputs": [
    {
     "data": {
      "text/html": [
       "<table>\n",
       "<caption>A data.frame: 3 × 2</caption>\n",
       "<thead>\n",
       "\t<tr><th></th><th scope=col>X1</th><th scope=col>probs</th></tr>\n",
       "\t<tr><th></th><th scope=col>&lt;int&gt;</th><th scope=col>&lt;dbl&gt;</th></tr>\n",
       "</thead>\n",
       "<tbody>\n",
       "\t<tr><th scope=row>1</th><td>1</td><td>0.1666667</td></tr>\n",
       "\t<tr><th scope=row>3</th><td>3</td><td>0.1666667</td></tr>\n",
       "\t<tr><th scope=row>5</th><td>5</td><td>0.1666667</td></tr>\n",
       "</tbody>\n",
       "</table>\n"
      ],
      "text/latex": [
       "A data.frame: 3 × 2\n",
       "\\begin{tabular}{r|ll}\n",
       "  & X1 & probs\\\\\n",
       "  & <int> & <dbl>\\\\\n",
       "\\hline\n",
       "\t1 & 1 & 0.1666667\\\\\n",
       "\t3 & 3 & 0.1666667\\\\\n",
       "\t5 & 5 & 0.1666667\\\\\n",
       "\\end{tabular}\n"
      ],
      "text/markdown": [
       "\n",
       "A data.frame: 3 × 2\n",
       "\n",
       "| <!--/--> | X1 &lt;int&gt; | probs &lt;dbl&gt; |\n",
       "|---|---|---|\n",
       "| 1 | 1 | 0.1666667 |\n",
       "| 3 | 3 | 0.1666667 |\n",
       "| 5 | 5 | 0.1666667 |\n",
       "\n"
      ],
      "text/plain": [
       "  X1 probs    \n",
       "1 1  0.1666667\n",
       "3 3  0.1666667\n",
       "5 5  0.1666667"
      ]
     },
     "metadata": {},
     "output_type": "display_data"
    }
   ],
   "source": [
    "S_F"
   ]
  },
  {
   "cell_type": "code",
   "execution_count": 82,
   "metadata": {
    "ExecuteTime": {
     "end_time": "2020-07-12T23:31:30.940602Z",
     "start_time": "2020-07-12T23:31:30.923Z"
    }
   },
   "outputs": [
    {
     "data": {
      "text/html": [
       "0.5"
      ],
      "text/latex": [
       "0.5"
      ],
      "text/markdown": [
       "0.5"
      ],
      "text/plain": [
       "[1] 0.5"
      ]
     },
     "metadata": {},
     "output_type": "display_data"
    }
   ],
   "source": [
    "P_F <- sum(S_F$probs)\n",
    "P_F"
   ]
  },
  {
   "cell_type": "markdown",
   "metadata": {},
   "source": [
    "$P(E \\cap F)$"
   ]
  },
  {
   "cell_type": "code",
   "execution_count": 97,
   "metadata": {
    "ExecuteTime": {
     "end_time": "2020-07-12T23:34:54.936063Z",
     "start_time": "2020-07-12T23:34:54.917Z"
    }
   },
   "outputs": [],
   "source": [
    "S_EyF <- rolldie(2, 6, makespace=T)\n",
    "S_EyF$Sum <- S_EyF$X1 + S_EyF$X2\n",
    "S_EyF <- S_EyF[(S_EyF$X2 %in% c(1, 3, 5)) & (S_EyF$Sum == 5), ]"
   ]
  },
  {
   "cell_type": "code",
   "execution_count": 98,
   "metadata": {
    "ExecuteTime": {
     "end_time": "2020-07-12T23:34:56.912387Z",
     "start_time": "2020-07-12T23:34:56.892Z"
    }
   },
   "outputs": [
    {
     "data": {
      "text/html": [
       "<table>\n",
       "<caption>A data.frame: 2 × 4</caption>\n",
       "<thead>\n",
       "\t<tr><th></th><th scope=col>X1</th><th scope=col>X2</th><th scope=col>probs</th><th scope=col>Sum</th></tr>\n",
       "\t<tr><th></th><th scope=col>&lt;int&gt;</th><th scope=col>&lt;int&gt;</th><th scope=col>&lt;dbl&gt;</th><th scope=col>&lt;int&gt;</th></tr>\n",
       "</thead>\n",
       "<tbody>\n",
       "\t<tr><th scope=row>4</th><td>4</td><td>1</td><td>0.02777778</td><td>5</td></tr>\n",
       "\t<tr><th scope=row>14</th><td>2</td><td>3</td><td>0.02777778</td><td>5</td></tr>\n",
       "</tbody>\n",
       "</table>\n"
      ],
      "text/latex": [
       "A data.frame: 2 × 4\n",
       "\\begin{tabular}{r|llll}\n",
       "  & X1 & X2 & probs & Sum\\\\\n",
       "  & <int> & <int> & <dbl> & <int>\\\\\n",
       "\\hline\n",
       "\t4 & 4 & 1 & 0.02777778 & 5\\\\\n",
       "\t14 & 2 & 3 & 0.02777778 & 5\\\\\n",
       "\\end{tabular}\n"
      ],
      "text/markdown": [
       "\n",
       "A data.frame: 2 × 4\n",
       "\n",
       "| <!--/--> | X1 &lt;int&gt; | X2 &lt;int&gt; | probs &lt;dbl&gt; | Sum &lt;int&gt; |\n",
       "|---|---|---|---|---|\n",
       "| 4 | 4 | 1 | 0.02777778 | 5 |\n",
       "| 14 | 2 | 3 | 0.02777778 | 5 |\n",
       "\n"
      ],
      "text/plain": [
       "   X1 X2 probs      Sum\n",
       "4  4  1  0.02777778 5  \n",
       "14 2  3  0.02777778 5  "
      ]
     },
     "metadata": {},
     "output_type": "display_data"
    }
   ],
   "source": [
    "S_EyF"
   ]
  },
  {
   "cell_type": "code",
   "execution_count": 99,
   "metadata": {
    "ExecuteTime": {
     "end_time": "2020-07-12T23:35:06.477194Z",
     "start_time": "2020-07-12T23:35:06.460Z"
    }
   },
   "outputs": [
    {
     "data": {
      "text/html": [
       "0.0555555555555556"
      ],
      "text/latex": [
       "0.0555555555555556"
      ],
      "text/markdown": [
       "0.0555555555555556"
      ],
      "text/plain": [
       "[1] 0.05555556"
      ]
     },
     "metadata": {},
     "output_type": "display_data"
    }
   ],
   "source": [
    "P_EyF <- sum(S_EyF$probs)\n",
    "P_EyF"
   ]
  },
  {
   "cell_type": "markdown",
   "metadata": {},
   "source": [
    "Validación de:\n",
    "$$P(E \\cap F) = P(E)P(F)$$"
   ]
  },
  {
   "cell_type": "code",
   "execution_count": 100,
   "metadata": {
    "ExecuteTime": {
     "end_time": "2020-07-12T23:35:08.835691Z",
     "start_time": "2020-07-12T23:35:08.819Z"
    }
   },
   "outputs": [
    {
     "data": {
      "text/html": [
       "TRUE"
      ],
      "text/latex": [
       "TRUE"
      ],
      "text/markdown": [
       "TRUE"
      ],
      "text/plain": [
       "[1] TRUE"
      ]
     },
     "metadata": {},
     "output_type": "display_data"
    }
   ],
   "source": [
    "P_E * P_F == P_EyF"
   ]
  },
  {
   "cell_type": "markdown",
   "metadata": {},
   "source": [
    "Por lo tanto, los dos eventos sí son independientes"
   ]
  },
  {
   "cell_type": "markdown",
   "metadata": {},
   "source": [
    "**3)** Supóngase que nuestra elección de postre cuando salimos a comer es independiente del platillo principal que pedimos. La mitad de las veces que vamos a comer al restaurante \"L Intervallo\" pedimos pasta con camarones y la mitad de las veces pedimos *panna* *cotta* de postre. ¿Cuál es la probabilidad de ordenar pasta con camarones y *panna* *cotta* dado que comemos en \"L Intervallo\"?"
   ]
  },
  {
   "cell_type": "markdown",
   "metadata": {},
   "source": [
    "Probabilidad de pedir pasta con camarones $ \\Rightarrow P(P) = 0.5$"
   ]
  },
  {
   "cell_type": "markdown",
   "metadata": {},
   "source": [
    "Probabilidad de pedir *panna cotta* $ \\Rightarrow P(C) = 0.5$"
   ]
  },
  {
   "cell_type": "markdown",
   "metadata": {},
   "source": [
    "Por lo tanto:\n",
    "\n",
    "**Probabilidad de pedir pasta con camarones y *panna cotta* $ \\Rightarrow P(P \\cap C) = \\frac{1}{2}\\frac{1}{2} = \\frac{1}{4} $**"
   ]
  },
  {
   "cell_type": "markdown",
   "metadata": {},
   "source": [
    "**4)** Sea E el evento de que el número $111111$ sea ganador en el sorteo Melate (la lotería Melate consiste en elegir una combinación de seis números diferentes entre el $1$ y el $56$, sin orden y sin reemplazo) y $F$ el evento de que el número $555555$ sea el ganador."
   ]
  },
  {
   "cell_type": "markdown",
   "metadata": {},
   "source": [
    "a) Determina si estos eventos son mutuamente excluyentes."
   ]
  },
  {
   "cell_type": "markdown",
   "metadata": {},
   "source": [
    "**Sí son mutuamente excluyentes dado que no puede salir el número ganador 111111 y 555555 al mismo tiempo**"
   ]
  },
  {
   "cell_type": "markdown",
   "metadata": {},
   "source": [
    "b) Determina si estos eventos son independientes."
   ]
  },
  {
   "cell_type": "markdown",
   "metadata": {},
   "source": [
    "**Dado que se trata de eventos mutuamente excluyentes, se trata también de eventos que no pueden ser independientes**"
   ]
  }
 ],
 "metadata": {
  "kernelspec": {
   "display_name": "R",
   "language": "R",
   "name": "ir"
  },
  "language_info": {
   "codemirror_mode": "r",
   "file_extension": ".r",
   "mimetype": "text/x-r-source",
   "name": "R",
   "pygments_lexer": "r",
   "version": "4.0.2"
  }
 },
 "nbformat": 4,
 "nbformat_minor": 4
}
