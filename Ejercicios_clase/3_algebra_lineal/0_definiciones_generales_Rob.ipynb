{
 "cells": [
  {
   "cell_type": "markdown",
   "metadata": {},
   "source": [
    "**Notas para contenedor de docker:**"
   ]
  },
  {
   "cell_type": "markdown",
   "metadata": {},
   "source": [
    "Comando de docker para ejecución de la nota de forma local:\n",
    "\n",
    "nota: cambiar `dir_montar` por la ruta de directorio que se desea mapear a `/datos` dentro del contenedor de docker.\n",
    "\n",
    "```\n",
    "dir_montar=<ruta completa de mi máquina a mi directorio>#aquí colocar la ruta al directorio a montar, por ejemplo: \n",
    "#dir_montar=/Users/erick/midirectorio.\n",
    "```\n",
    "\n",
    "Ejecutar:\n",
    "\n",
    "```\n",
    "$docker run --rm -v $dir_montar:/datos --name jupyterlab_prope_r_kernel_tidyverse -p 8888:8888 -d palmoreck/jupyterlab_prope_r_kernel_tidyverse:2.1.4   \n",
    "\n",
    "```"
   ]
  },
  {
   "cell_type": "markdown",
   "metadata": {},
   "source": [
    "Ir a `localhost:8888` y escribir el password para jupyterlab: `qwerty`\n",
    "\n",
    "Detener el contenedor de docker:\n",
    "\n",
    "```\n",
    "docker stop jupyterlab_prope_r_kernel_tidyverse\n",
    "```\n"
   ]
  },
  {
   "cell_type": "markdown",
   "metadata": {},
   "source": [
    "Documentación de la imagen de docker `palmoreck/jupyterlab_prope_r_kernel_tidyverse:2.1.4` en [liga](https://github.com/palmoreck/dockerfiles/tree/master/jupyterlab/prope_r_kernel_tidyverse)."
   ]
  },
  {
   "cell_type": "markdown",
   "metadata": {},
   "source": [
    "---"
   ]
  },
  {
   "cell_type": "markdown",
   "metadata": {},
   "source": [
    "Para ejecución de la nota usar:\n",
    "\n",
    "[docker](https://www.docker.com/) (instalación de forma **local** con [Get docker](https://docs.docker.com/install/)) y ejecutar comandos que están al inicio de la nota de forma **local**. \n",
    "\n",
    "O bien dar click en alguno de los botones siguientes:"
   ]
  },
  {
   "cell_type": "markdown",
   "metadata": {},
   "source": [
    "[![Binder](https://mybinder.org/badge_logo.svg)](https://mybinder.org/v2/gh/palmoreck/dockerfiles-for-binder/jupyterlab_prope_r_kernel_tidyerse?urlpath=lab/tree/Propedeutico/Python/clases/3_algebra_lineal/0_definiciones_generales.ipynb) esta opción crea una máquina individual en un servidor de Google, clona el repositorio y permite la ejecución de los notebooks de jupyter."
   ]
  },
  {
   "cell_type": "markdown",
   "metadata": {},
   "source": [
    "[![Run on Repl.it](https://repl.it/badge/github/palmoreck/dummy)](https://repl.it/languages/python3) esta opción no clona el repositorio, no ejecuta los notebooks de jupyter pero permite ejecución de instrucciones de Python de forma colaborativa con [repl.it](https://repl.it/). Al dar click se crearán nuevos ***repl*** debajo de sus users de ***repl.it***.\n"
   ]
  },
  {
   "cell_type": "markdown",
   "metadata": {},
   "source": [
    "## Lo siguiente está basado en el capítulo 2 y apéndice del libro de texto de J. Kiusalaas \"Numerical Methods in Engineering with Python 3\" y el libro de \"Álgebra Lineal\" de S. Grossman y J. Flores."
   ]
  },
  {
   "cell_type": "markdown",
   "metadata": {},
   "source": [
    "**Se sugiere haber revisado la sección 1.5 del libro de texto de J. Kiusalaas \"Numerical Methods in Engineering with Python 3\": uso de numpy**"
   ]
  },
  {
   "cell_type": "markdown",
   "metadata": {},
   "source": [
    "**Nota: los ejercicios solicitados en esta nota deben realizarlos o en papel o creando notebooks de jupyterlab.**"
   ]
  },
  {
   "cell_type": "markdown",
   "metadata": {},
   "source": [
    "# Vectores"
   ]
  },
  {
   "cell_type": "markdown",
   "metadata": {},
   "source": [
    "## Vector renglón de $n$ componentes "
   ]
  },
  {
   "cell_type": "markdown",
   "metadata": {},
   "source": [
    "Un vector de $n$ componentes se define como un conjunto **ordenado** de $n$ números escritos de la siguiente forma: $(x_1, x_2, \\dots, x_n)$"
   ]
  },
  {
   "cell_type": "markdown",
   "metadata": {},
   "source": [
    "Podemos usar una tupla para construir un vector"
   ]
  },
  {
   "cell_type": "markdown",
   "metadata": {},
   "source": [
    "## Vector columna  de $n$ componentes "
   ]
  },
  {
   "cell_type": "markdown",
   "metadata": {},
   "source": [
    "Un vector columna de $n$ componentes es un conjunto **ordenado** de $n$ números escritos de la siguiente forma: \n",
    "$\\left( \n",
    "\\begin{array}{c}\n",
    "x_1\\\\\n",
    "x_2\\\\\n",
    "\\vdots\\\\\n",
    "x_n\n",
    "\\end{array}\n",
    "\\right)$"
   ]
  },
  {
   "cell_type": "markdown",
   "metadata": {},
   "source": [
    "**Obs:** $x_k$ se denomina la **k-ésima** componente del vector y puede estar en algún conjunto de números como $\\mathbb{R}$ (reales) o $\\mathbb{C}$ (complejos). Típicamente si no se especifica el conjunto se supone $\\mathbb{R}$."
   ]
  },
  {
   "cell_type": "markdown",
   "metadata": {},
   "source": [
    "Los vectores renglón se encuentran en el conjunto $\\mathbb{R}^{1xn}$ y los vectores columna se encuentran en el conjunto $\\mathbb{R}^{nx1}$ o simplemente $\\mathbb{R}^n$."
   ]
  },
  {
   "cell_type": "markdown",
   "metadata": {},
   "source": [
    "### En numpy..."
   ]
  },
  {
   "cell_type": "markdown",
   "metadata": {},
   "source": [
    "**En numpy creamos array's de la siguiente forma: (un array en numpy se considera tanto columna o renglón y dependiendo del uso se toma uno u otro)**"
   ]
  },
  {
   "cell_type": "code",
   "execution_count": 3,
   "metadata": {
    "ExecuteTime": {
     "end_time": "2020-06-23T01:03:59.869429Z",
     "start_time": "2020-06-23T01:03:59.866866Z"
    }
   },
   "outputs": [],
   "source": [
    "import numpy as np\n",
    "import pprint"
   ]
  },
  {
   "cell_type": "code",
   "execution_count": 2,
   "metadata": {
    "ExecuteTime": {
     "end_time": "2020-06-22T23:11:45.204879Z",
     "start_time": "2020-06-22T23:11:45.196309Z"
    }
   },
   "outputs": [
    {
     "data": {
      "text/plain": [
       "array([1, 2, 3])"
      ]
     },
     "execution_count": 2,
     "metadata": {},
     "output_type": "execute_result"
    }
   ],
   "source": [
    "v = np.array([1,2,3])\n",
    "v"
   ]
  },
  {
   "cell_type": "code",
   "execution_count": 3,
   "metadata": {
    "ExecuteTime": {
     "end_time": "2020-06-22T23:16:20.250662Z",
     "start_time": "2020-06-22T23:16:20.242002Z"
    }
   },
   "outputs": [
    {
     "data": {
      "text/plain": [
       "array([1., 2., 3.])"
      ]
     },
     "execution_count": 3,
     "metadata": {},
     "output_type": "execute_result"
    }
   ],
   "source": [
    "w = np.array([1,2,3], dtype='float')\n",
    "w"
   ]
  },
  {
   "cell_type": "markdown",
   "metadata": {},
   "source": [
    "**y cada array tiene atributos `ndim` (número de dimensiones), `shape` (tamaño de cada dimensión) y `size` (el tamaño total del array) y `dtype` el tipo de dato del array**"
   ]
  },
  {
   "cell_type": "code",
   "execution_count": 3,
   "metadata": {},
   "outputs": [
    {
     "name": "stdout",
     "output_type": "stream",
     "text": [
      "v.ndim: 1\n",
      "v.shape: (3,)\n",
      "v.size: 3\n",
      "v.dtype int64\n"
     ]
    }
   ],
   "source": [
    "print('v.ndim:', v.ndim)\n",
    "print('v.shape:', v.shape)\n",
    "print('v.size:', v.size)\n",
    "print('v.dtype', v.dtype)"
   ]
  },
  {
   "cell_type": "markdown",
   "metadata": {},
   "source": [
    "**accedemos con corchetes a sus componentes**"
   ]
  },
  {
   "cell_type": "code",
   "execution_count": 4,
   "metadata": {},
   "outputs": [
    {
     "name": "stdout",
     "output_type": "stream",
     "text": [
      "primer elemento 1\n",
      "último elemento 3\n",
      "segundo elemento 2\n",
      "penúltimo elemento 2\n",
      "del primero al 2º elemento incluyendo este último [1 2]\n",
      "del 2º al último elemento sin incluir el 2º [3]\n"
     ]
    }
   ],
   "source": [
    "print('primer elemento', v[0])\n",
    "print('último elemento', v[-1])\n",
    "print('segundo elemento', v[1])\n",
    "print('penúltimo elemento', v[-2])\n",
    "print('del primero al 2º elemento incluyendo este último', v[:2])\n",
    "print('del 2º al último elemento sin incluir el 2º', v[2:])"
   ]
  },
  {
   "cell_type": "code",
   "execution_count": 5,
   "metadata": {
    "ExecuteTime": {
     "end_time": "2020-06-22T23:21:13.525267Z",
     "start_time": "2020-06-22T23:21:13.522322Z"
    }
   },
   "outputs": [],
   "source": [
    "v_2 = np.arange(10)"
   ]
  },
  {
   "cell_type": "code",
   "execution_count": 6,
   "metadata": {
    "ExecuteTime": {
     "end_time": "2020-06-22T23:21:28.120602Z",
     "start_time": "2020-06-22T23:21:28.117185Z"
    }
   },
   "outputs": [
    {
     "data": {
      "text/plain": [
       "array([1, 3, 5, 7, 9])"
      ]
     },
     "execution_count": 6,
     "metadata": {},
     "output_type": "execute_result"
    }
   ],
   "source": [
    "v_2[1:10:2]"
   ]
  },
  {
   "cell_type": "markdown",
   "metadata": {},
   "source": [
    "**otra forma de generar arrays en numpy es con la función arange o random para un array pseudo aleatorio:**"
   ]
  },
  {
   "cell_type": "code",
   "execution_count": 5,
   "metadata": {},
   "outputs": [
    {
     "name": "stdout",
     "output_type": "stream",
     "text": [
      "array([0, 1, 2, 3, 4])\n",
      "array([0. , 0.2, 0.4, 0.6, 0.8])\n"
     ]
    }
   ],
   "source": [
    "pprint.pprint(np.arange(5))\n",
    "pprint.pprint(np.arange(0,1,.2))"
   ]
  },
  {
   "cell_type": "code",
   "execution_count": 6,
   "metadata": {},
   "outputs": [
    {
     "name": "stdout",
     "output_type": "stream",
     "text": [
      "array([2, 4, 4])\n"
     ]
    }
   ],
   "source": [
    "#array pseudo aleatorio\n",
    "np.random.seed(1989)\n",
    "pprint.pprint(np.random.randint(5, size=3)) #números enteros pseudo aleatorios del 0 al 4"
   ]
  },
  {
   "cell_type": "markdown",
   "metadata": {},
   "source": [
    "La semilla es una valor un tanto arbitrario que te ayuda para estandarizar el uso de 'random'"
   ]
  },
  {
   "cell_type": "markdown",
   "metadata": {},
   "source": [
    "ver: \n",
    "* [numpy.reshape](https://docs.scipy.org/doc/numpy/reference/generated/numpy.reshape.html)\n",
    "* [numpy.random.randint](https://docs.scipy.org/doc/numpy-1.15.1/reference/generated/numpy.random.randint.html)\n",
    "* [numpy-for-matlab-users](https://www.numpy.org/devdocs/user/numpy-for-matlab-users.html)"
   ]
  },
  {
   "cell_type": "markdown",
   "metadata": {},
   "source": [
    "**Para obtener vectores renglón se puede utilizar la función `reshape`**"
   ]
  },
  {
   "cell_type": "code",
   "execution_count": 7,
   "metadata": {},
   "outputs": [
    {
     "data": {
      "text/plain": [
       "array([[1, 2, 3]])"
      ]
     },
     "execution_count": 7,
     "metadata": {},
     "output_type": "execute_result"
    }
   ],
   "source": [
    "v.reshape(1,3)"
   ]
  },
  {
   "cell_type": "markdown",
   "metadata": {},
   "source": [
    "**y vectores columna con:**"
   ]
  },
  {
   "cell_type": "code",
   "execution_count": 8,
   "metadata": {},
   "outputs": [
    {
     "data": {
      "text/plain": [
       "array([[1],\n",
       "       [2],\n",
       "       [3]])"
      ]
     },
     "execution_count": 8,
     "metadata": {},
     "output_type": "execute_result"
    }
   ],
   "source": [
    "v.reshape(3,1)"
   ]
  },
  {
   "cell_type": "markdown",
   "metadata": {},
   "source": [
    "ver: [numpy.reshape](https://docs.scipy.org/doc/numpy/reference/generated/numpy.reshape.html)"
   ]
  },
  {
   "cell_type": "markdown",
   "metadata": {},
   "source": [
    "Sin embargo hay que considerar que no es del todo necesario convertir los vectores renglón en columna ya que en las operaciones podremos usar 'renglones'"
   ]
  },
  {
   "cell_type": "markdown",
   "metadata": {},
   "source": [
    "Hay que notar que el 'reshape' nos está anidando la lista para darnos 2 dimensiones con valores distintos de cero"
   ]
  },
  {
   "cell_type": "markdown",
   "metadata": {},
   "source": [
    "# Matrices"
   ]
  },
  {
   "cell_type": "markdown",
   "metadata": {},
   "source": [
    "El arreglo de coeficientes: $$A=\\begin{bmatrix} a_{11} & a_{12} & \\cdots& a_{1n} \\\\ a_{21} & a_{22} & \\cdots& a_{2n} \\\\ &&\\vdots \\\\ a_{m1} & a_{m2} & \\cdots& a_{mn} \\end{bmatrix}$$ "
   ]
  },
  {
   "cell_type": "markdown",
   "metadata": {},
   "source": [
    "se le nombra matriz de $mxn$. En caso que se tenga un sistema de la forma $Ax=b$ con $b$ vector de constantes conocidas, se le nombra matriz de coeficientes del sistema y al vector $b$ se le nombra lado derecho; la matriz de coeficientes aumentada con el lado derecho se le nombra matriz aumentada: $$ [A|b] = \\left [\\begin{array}{cccc|c} a_{11} & a_{12} & \\cdots& a_{1n} & b_1 \\\\ a_{21} & a_{22} & \\cdots& a_{2n} & b_2 \\\\ && \\vdots& & \\\\ a_{m1} & a_{m2} & \\cdots& a_{mn} & b_m \\end{array} \\right ]$$"
   ]
  },
  {
   "cell_type": "markdown",
   "metadata": {},
   "source": [
    "**Def** Formalmente un escalar es un número real o complejo y una matriz es un arreglo rectangular de escalares y se escribe $A \\in \\mathbb{R}^{mxn}$ o $A \\in \\mathbb{C}^{mxn}$ para denotar que $A$ es un arreglo de dos dimensiones de números reales o de números complejos respectivamente y $A$ tiene dimensiones $mxn$: $m$ renglones y $n$ columnas."
   ]
  },
  {
   "cell_type": "markdown",
   "metadata": {},
   "source": [
    "Una matriz se nombra cuadrada si $m=n$ y rectangular si $m \\neq n$."
   ]
  },
  {
   "cell_type": "markdown",
   "metadata": {},
   "source": [
    "**Def** Una submatriz de una matriz $A$ es un arreglo que se forma al eliminar cualquier combinación de renglones y columnas de $A$. Por ejemplo, $B = \\begin{bmatrix} 2 &4 \\\\ -3& 7\\end{bmatrix}$ es una submatriz de $A = \\begin{bmatrix} 2 &1& 3& 4 \\\\ 8& 6& 5& -9\\\\ -3& 8& 3& 7 \\end{bmatrix}$."
   ]
  },
  {
   "cell_type": "markdown",
   "metadata": {},
   "source": [
    "El símbolo $A_{i*}$ es utilizado para denotar el $i$-ésimo renglón de $A$ y $A_{*j}$ la $j$-ésima columna de A. Por ejemplo $A_{2*} = \\begin{bmatrix} 8& 6& 5& -9 \\end{bmatrix}$ y $A_{*2} = \\begin{bmatrix} 1 \\\\6\\\\8 \\end{bmatrix}$ en la definición anterior."
   ]
  },
  {
   "cell_type": "markdown",
   "metadata": {},
   "source": [
    "### En numpy..."
   ]
  },
  {
   "cell_type": "markdown",
   "metadata": {},
   "source": [
    "**En numpy creamos arrays de dos dimensiones de la siguiente forma:**"
   ]
  },
  {
   "cell_type": "code",
   "execution_count": 9,
   "metadata": {},
   "outputs": [
    {
     "data": {
      "text/plain": [
       "array([[1, 2, 3],\n",
       "       [4, 5, 6]])"
      ]
     },
     "execution_count": 9,
     "metadata": {},
     "output_type": "execute_result"
    }
   ],
   "source": [
    "A = np.array([[1,2,3],[4,5,6]])\n",
    "A"
   ]
  },
  {
   "cell_type": "markdown",
   "metadata": {},
   "source": [
    "**y cada array tiene atributos `ndim` (número de dimensiones), `shape` (tamaño de cada dimensión) y `size` (el tamaño total del array) y `dtype` el tipo de dato del array**"
   ]
  },
  {
   "cell_type": "code",
   "execution_count": 10,
   "metadata": {},
   "outputs": [
    {
     "name": "stdout",
     "output_type": "stream",
     "text": [
      "A.ndim: 2\n",
      "A.shape: (2, 3)\n",
      "A.size: 6\n",
      "A.dtype int64\n"
     ]
    }
   ],
   "source": [
    "print('A.ndim:', A.ndim)\n",
    "print('A.shape:', A.shape)\n",
    "print('A.size:', A.size)\n",
    "print('A.dtype', A.dtype)"
   ]
  },
  {
   "cell_type": "code",
   "execution_count": 23,
   "metadata": {
    "ExecuteTime": {
     "end_time": "2020-06-22T23:39:49.759482Z",
     "start_time": "2020-06-22T23:39:49.755103Z"
    }
   },
   "outputs": [
    {
     "data": {
      "text/plain": [
       "array([[1. , 2. , 3.3],\n",
       "       [4. , 5. , 6. ]])"
      ]
     },
     "execution_count": 23,
     "metadata": {},
     "output_type": "execute_result"
    }
   ],
   "source": [
    "A_2 = np.array([[1,2,3.3],[4,5,6]])\n",
    "A_2"
   ]
  },
  {
   "cell_type": "code",
   "execution_count": 22,
   "metadata": {
    "ExecuteTime": {
     "end_time": "2020-06-22T23:39:39.552775Z",
     "start_time": "2020-06-22T23:39:39.549872Z"
    }
   },
   "outputs": [
    {
     "name": "stdout",
     "output_type": "stream",
     "text": [
      "A_2.dtype float64\n"
     ]
    }
   ],
   "source": [
    "print('A_2.dtype', A_2.dtype)"
   ]
  },
  {
   "cell_type": "markdown",
   "metadata": {},
   "source": [
    "**accedemos con corchetes a sus componentes**"
   ]
  },
  {
   "cell_type": "code",
   "execution_count": 11,
   "metadata": {},
   "outputs": [
    {
     "name": "stdout",
     "output_type": "stream",
     "text": [
      "elemento en la posición (0,0): 1\n",
      "elemento en la posición (1,2): 6\n",
      "elemento en la posición (0,0): 1\n",
      "elemento en la posición (1,2): 6\n"
     ]
    }
   ],
   "source": [
    "print('elemento en la posición (0,0):', A[0][0])\n",
    "print('elemento en la posición (1,2):', A[1][2])\n",
    "#también con la siguiente notación:\n",
    "print('elemento en la posición (0,0):', A[0,0])\n",
    "print('elemento en la posición (1,2):', A[1,2])"
   ]
  },
  {
   "cell_type": "code",
   "execution_count": 12,
   "metadata": {},
   "outputs": [
    {
     "name": "stdout",
     "output_type": "stream",
     "text": [
      "primer columna: [1 4]\n",
      "tercer columna: [3 6]\n",
      "segundo renglón: [4 5 6]\n"
     ]
    }
   ],
   "source": [
    "print('primer columna:', A[:,0])\n",
    "print('tercer columna:', A[:,2])\n",
    "print('segundo renglón:', A[1,:])"
   ]
  },
  {
   "cell_type": "markdown",
   "metadata": {},
   "source": [
    "**otra forma de generar arrays en numpy es con la función arange o random para un array pseudo aleatorio:**"
   ]
  },
  {
   "cell_type": "code",
   "execution_count": 13,
   "metadata": {},
   "outputs": [
    {
     "name": "stdout",
     "output_type": "stream",
     "text": [
      "array([[0, 1, 2],\n",
      "       [3, 4, 5]])\n",
      "array([[0. , 0.2],\n",
      "       [0.4, 0.6],\n",
      "       [0.8, 1. ]])\n"
     ]
    }
   ],
   "source": [
    "pprint.pprint(np.arange(6).reshape(2,3))\n",
    "pprint.pprint(np.arange(0,1.2,.2).reshape(3,2))"
   ]
  },
  {
   "cell_type": "code",
   "execution_count": 15,
   "metadata": {},
   "outputs": [
    {
     "data": {
      "text/plain": [
       "array([[2, 4],\n",
       "       [4, 2],\n",
       "       [3, 4]])"
      ]
     },
     "execution_count": 15,
     "metadata": {},
     "output_type": "execute_result"
    }
   ],
   "source": [
    "#array pseudo aleatorio\n",
    "np.random.seed(1989)\n",
    "np.random.randint(5, size=(3,2)) #números enteros pseudo aleatorios del 0 al 4"
   ]
  },
  {
   "cell_type": "markdown",
   "metadata": {},
   "source": [
    "ver: \n",
    "* [numpy.reshape](https://docs.scipy.org/doc/numpy/reference/generated/numpy.reshape.html)\n",
    "* [numpy.random.randint](https://docs.scipy.org/doc/numpy-1.15.1/reference/generated/numpy.random.randint.html)\n",
    "* [numpy-for-matlab-users](https://www.numpy.org/devdocs/user/numpy-for-matlab-users.html)"
   ]
  },
  {
   "cell_type": "markdown",
   "metadata": {},
   "source": [
    "# Operaciones en el álgebra lineal con numpy"
   ]
  },
  {
   "cell_type": "markdown",
   "metadata": {},
   "source": [
    "## Producto escalar-vector, suma y punto entre vectores"
   ]
  },
  {
   "cell_type": "code",
   "execution_count": 16,
   "metadata": {},
   "outputs": [],
   "source": [
    "v1 = np.array([6,-3,4])\n",
    "v2 = np.array([4,5,0])\n",
    "scalar = -1/2"
   ]
  },
  {
   "cell_type": "code",
   "execution_count": 17,
   "metadata": {},
   "outputs": [
    {
     "data": {
      "text/plain": [
       "array([-3. ,  1.5, -2. ])"
      ]
     },
     "execution_count": 17,
     "metadata": {},
     "output_type": "execute_result"
    }
   ],
   "source": [
    "scalar*v1"
   ]
  },
  {
   "cell_type": "code",
   "execution_count": 18,
   "metadata": {},
   "outputs": [
    {
     "data": {
      "text/plain": [
       "9"
      ]
     },
     "execution_count": 18,
     "metadata": {},
     "output_type": "execute_result"
    }
   ],
   "source": [
    "v1.dot(v2)"
   ]
  },
  {
   "cell_type": "code",
   "execution_count": 19,
   "metadata": {},
   "outputs": [
    {
     "data": {
      "text/plain": [
       "array([10,  2,  4])"
      ]
     },
     "execution_count": 19,
     "metadata": {},
     "output_type": "execute_result"
    }
   ],
   "source": [
    "v1+v2"
   ]
  },
  {
   "cell_type": "markdown",
   "metadata": {},
   "source": [
    "## Producto matriz vector point-wise"
   ]
  },
  {
   "cell_type": "code",
   "execution_count": 20,
   "metadata": {},
   "outputs": [
    {
     "data": {
      "text/plain": [
       "array([[ 2,  5,  0],\n",
       "       [ 3,  6,  6],\n",
       "       [-6,  4, -1],\n",
       "       [ 5,  4,  9]])"
      ]
     },
     "execution_count": 20,
     "metadata": {},
     "output_type": "execute_result"
    }
   ],
   "source": [
    "A = np.array([[2,5,0],[3,6,6],[-6,4,-1],[5,4,9]])\n",
    "A"
   ]
  },
  {
   "cell_type": "code",
   "execution_count": 21,
   "metadata": {},
   "outputs": [
    {
     "data": {
      "text/plain": [
       "array([-2,  1,  4])"
      ]
     },
     "execution_count": 21,
     "metadata": {},
     "output_type": "execute_result"
    }
   ],
   "source": [
    "v = np.array([-2,1,4])\n",
    "v"
   ]
  },
  {
   "cell_type": "code",
   "execution_count": 22,
   "metadata": {},
   "outputs": [
    {
     "data": {
      "text/plain": [
       "array([[ -4,   5,   0],\n",
       "       [ -6,   6,  24],\n",
       "       [ 12,   4,  -4],\n",
       "       [-10,   4,  36]])"
      ]
     },
     "execution_count": 22,
     "metadata": {},
     "output_type": "execute_result"
    }
   ],
   "source": [
    "A*v"
   ]
  },
  {
   "cell_type": "markdown",
   "metadata": {},
   "source": [
    "## Producto matriz-vector"
   ]
  },
  {
   "cell_type": "code",
   "execution_count": 23,
   "metadata": {},
   "outputs": [
    {
     "data": {
      "text/plain": [
       "array([[ 2,  5,  0],\n",
       "       [ 3,  6,  6],\n",
       "       [-6,  4, -1],\n",
       "       [ 5,  4,  9]])"
      ]
     },
     "execution_count": 23,
     "metadata": {},
     "output_type": "execute_result"
    }
   ],
   "source": [
    "A = np.array([[2,5,0],[3,6,6],[-6,4,-1],[5,4,9]])\n",
    "A"
   ]
  },
  {
   "cell_type": "code",
   "execution_count": 24,
   "metadata": {},
   "outputs": [
    {
     "data": {
      "text/plain": [
       "array([-2,  1,  4])"
      ]
     },
     "execution_count": 24,
     "metadata": {},
     "output_type": "execute_result"
    }
   ],
   "source": [
    "v = np.array([-2,1,4])\n",
    "v"
   ]
  },
  {
   "cell_type": "code",
   "execution_count": 25,
   "metadata": {},
   "outputs": [
    {
     "data": {
      "text/plain": [
       "array([ 1, 24, 12, 30])"
      ]
     },
     "execution_count": 25,
     "metadata": {},
     "output_type": "execute_result"
    }
   ],
   "source": [
    "A.dot(v)"
   ]
  },
  {
   "cell_type": "code",
   "execution_count": 26,
   "metadata": {},
   "outputs": [
    {
     "data": {
      "text/plain": [
       "array([ 1, 24, 12, 30])"
      ]
     },
     "execution_count": 26,
     "metadata": {},
     "output_type": "execute_result"
    }
   ],
   "source": [
    "A@v"
   ]
  },
  {
   "cell_type": "code",
   "execution_count": 27,
   "metadata": {},
   "outputs": [
    {
     "data": {
      "text/plain": [
       "array([ 7,  0, -3,  2])"
      ]
     },
     "execution_count": 27,
     "metadata": {},
     "output_type": "execute_result"
    }
   ],
   "source": [
    "v = np.array([7,0,-3,2])\n",
    "v"
   ]
  },
  {
   "cell_type": "code",
   "execution_count": 28,
   "metadata": {},
   "outputs": [
    {
     "data": {
      "text/plain": [
       "array([42, 31, 21])"
      ]
     },
     "execution_count": 28,
     "metadata": {},
     "output_type": "execute_result"
    }
   ],
   "source": [
    "v@A"
   ]
  },
  {
   "cell_type": "markdown",
   "metadata": {},
   "source": [
    "**Obs:** obsérvese en este último ejemplo que no fue necesario indicar que tenemos un vector renglón para realizar por la izquierda la multiplicación: $vA$."
   ]
  },
  {
   "cell_type": "markdown",
   "metadata": {},
   "source": [
    "## Suma y producto matriz-matriz pointwise"
   ]
  },
  {
   "cell_type": "code",
   "execution_count": 29,
   "metadata": {},
   "outputs": [
    {
     "data": {
      "text/plain": [
       "array([[ 2,  5,  0],\n",
       "       [ 3,  6,  6],\n",
       "       [-6,  4, -1],\n",
       "       [ 5,  4,  9]])"
      ]
     },
     "execution_count": 29,
     "metadata": {},
     "output_type": "execute_result"
    }
   ],
   "source": [
    "A = np.array([[2,5,0],[3,6,6],[-6,4,-1],[5,4,9]])\n",
    "A"
   ]
  },
  {
   "cell_type": "code",
   "execution_count": 30,
   "metadata": {},
   "outputs": [
    {
     "data": {
      "text/plain": [
       "array([[ 2, -2,  3],\n",
       "       [ 1, -1,  5],\n",
       "       [ 0, -2,  1],\n",
       "       [ 0,  0, -3]])"
      ]
     },
     "execution_count": 30,
     "metadata": {},
     "output_type": "execute_result"
    }
   ],
   "source": [
    "B = np.array([[2,-2,3],[1,-1,5],[0,-2,1],[0,0,-3]])\n",
    "B"
   ]
  },
  {
   "cell_type": "code",
   "execution_count": 31,
   "metadata": {},
   "outputs": [
    {
     "data": {
      "text/plain": [
       "array([[ 4,  3,  3],\n",
       "       [ 4,  5, 11],\n",
       "       [-6,  2,  0],\n",
       "       [ 5,  4,  6]])"
      ]
     },
     "execution_count": 31,
     "metadata": {},
     "output_type": "execute_result"
    }
   ],
   "source": [
    "A+B"
   ]
  },
  {
   "cell_type": "code",
   "execution_count": 32,
   "metadata": {},
   "outputs": [
    {
     "data": {
      "text/plain": [
       "array([[  4, -10,   0],\n",
       "       [  3,  -6,  30],\n",
       "       [  0,  -8,  -1],\n",
       "       [  0,   0, -27]])"
      ]
     },
     "execution_count": 32,
     "metadata": {},
     "output_type": "execute_result"
    }
   ],
   "source": [
    "A*B"
   ]
  },
  {
   "cell_type": "markdown",
   "metadata": {},
   "source": [
    "## Producto matriz-matriz"
   ]
  },
  {
   "cell_type": "markdown",
   "metadata": {},
   "source": [
    "### Ejemplo 1"
   ]
  },
  {
   "cell_type": "code",
   "execution_count": 33,
   "metadata": {},
   "outputs": [
    {
     "data": {
      "text/plain": [
       "array([[ 2,  5,  0],\n",
       "       [ 3,  6,  6],\n",
       "       [-6,  4, -1],\n",
       "       [ 5,  4,  9]])"
      ]
     },
     "execution_count": 33,
     "metadata": {},
     "output_type": "execute_result"
    }
   ],
   "source": [
    "A = np.array([[2,5,0],[3,6,6],[-6,4,-1],[5,4,9]])\n",
    "A"
   ]
  },
  {
   "cell_type": "code",
   "execution_count": 34,
   "metadata": {},
   "outputs": [
    {
     "data": {
      "text/plain": [
       "array([[ 2, -2,  3],\n",
       "       [ 1, -1,  5],\n",
       "       [ 0, -2,  1]])"
      ]
     },
     "execution_count": 34,
     "metadata": {},
     "output_type": "execute_result"
    }
   ],
   "source": [
    "B = np.array([[2,-2,3],[1,-1,5],[0,-2,1]])\n",
    "B"
   ]
  },
  {
   "cell_type": "code",
   "execution_count": 35,
   "metadata": {},
   "outputs": [
    {
     "data": {
      "text/plain": [
       "array([[  9,  -9,  31],\n",
       "       [ 12, -24,  45],\n",
       "       [ -8,  10,   1],\n",
       "       [ 14, -32,  44]])"
      ]
     },
     "execution_count": 35,
     "metadata": {},
     "output_type": "execute_result"
    }
   ],
   "source": [
    "A@B"
   ]
  },
  {
   "cell_type": "markdown",
   "metadata": {},
   "source": [
    "### Ejemplo 2"
   ]
  },
  {
   "cell_type": "code",
   "execution_count": 25,
   "metadata": {
    "ExecuteTime": {
     "end_time": "2020-06-22T23:54:15.157095Z",
     "start_time": "2020-06-22T23:54:15.153051Z"
    }
   },
   "outputs": [
    {
     "data": {
      "text/plain": [
       "array([[ 2,  5,  0],\n",
       "       [ 3,  6,  6],\n",
       "       [-6,  4, -1],\n",
       "       [ 5,  4,  9]])"
      ]
     },
     "execution_count": 25,
     "metadata": {},
     "output_type": "execute_result"
    }
   ],
   "source": [
    "A = np.array([[2,5,0],[3,6,6],[-6,4,-1],[5,4,9]])\n",
    "A"
   ]
  },
  {
   "cell_type": "code",
   "execution_count": 27,
   "metadata": {
    "ExecuteTime": {
     "end_time": "2020-06-22T23:54:29.753656Z",
     "start_time": "2020-06-22T23:54:29.750229Z"
    }
   },
   "outputs": [
    {
     "data": {
      "text/plain": [
       "array([[2],\n",
       "       [1],\n",
       "       [0]])"
      ]
     },
     "execution_count": 27,
     "metadata": {},
     "output_type": "execute_result"
    }
   ],
   "source": [
    "B = np.array([[2],[1],[0]])\n",
    "B"
   ]
  },
  {
   "cell_type": "code",
   "execution_count": 28,
   "metadata": {
    "ExecuteTime": {
     "end_time": "2020-06-22T23:54:36.689485Z",
     "start_time": "2020-06-22T23:54:36.685969Z"
    }
   },
   "outputs": [
    {
     "data": {
      "text/plain": [
       "array([[ 9],\n",
       "       [12],\n",
       "       [-8],\n",
       "       [14]])"
      ]
     },
     "execution_count": 28,
     "metadata": {},
     "output_type": "execute_result"
    }
   ],
   "source": [
    "A.dot(B)"
   ]
  },
  {
   "cell_type": "markdown",
   "metadata": {},
   "source": [
    "Ver:\n",
    "\n",
    "* [numpy-for-matlab-users](https://www.numpy.org/devdocs/user/numpy-for-matlab-users.html)\n",
    "* [Quickstart tutorial](https://docs.scipy.org/doc/numpy/user/quickstart.html)\n"
   ]
  },
  {
   "cell_type": "markdown",
   "metadata": {},
   "source": [
    "# Para más sobre operaciones vectoriales, matriciales y propiedades y definiciones de matrices especiales:\n",
    "\n",
    "* **Capítulo 2** del libro de \"Álgebra Lineal\" de S. Grossman y J. Flores hasta sección 2.3. De esta sección hasta la 2.7 se trabajan las definiciones de matriz identidad, inversa, simétrica y triangular inferior-superior. En el capítulo 3 se trabaja con la definición del determinante de una matriz y sus propiedades.\n",
    "\n",
    "* **Capítulo 3** del libro \"Matrix Analysis and Applied Linear Algebra\"de Carl D. Meyer."
   ]
  },
  {
   "cell_type": "markdown",
   "metadata": {},
   "source": [
    "# Espacios vectoriales"
   ]
  },
  {
   "cell_type": "markdown",
   "metadata": {},
   "source": [
    "**Lo siguiente está basado en el capítulo 5 del libro \"Álgebra Lineal\" de S. Grossman y J. Flores.**"
   ]
  },
  {
   "cell_type": "markdown",
   "metadata": {},
   "source": [
    "Como se vio arriba, las operaciones binarias de (suma, producto por un escalar): $(+,\\cdot)$ se encuentran definidas para el conjunto $\\mathbb{R}^n$ que es el conjunto de tuplas ordenadas de tamaño $n$ y tales operaciones están bien definidas pues obtenemos elementos del mismo conjunto. También, tales operaciones están bien definidas para el conjunto $\\mathbb{R}^{mxn}$, el cual es el conjunto de matrices de tamaño $mxn$."
   ]
  },
  {
   "cell_type": "markdown",
   "metadata": {},
   "source": [
    "Para aquellos conjuntos $V$ a los que se les define una (suma, producto por un escalar), $(+,\\cdot)$, y el escalar está definido en un conjunto $K$ llamado campo, y cumplen con las siguientes propiedades se les llama *espacios vectoriales* y estos en general son distintos a $\\mathbb{R}^n$ o $\\mathbb{R}^{mxn}$:"
   ]
  },
  {
   "cell_type": "markdown",
   "metadata": {},
   "source": [
    "1) Si $x \\in V$, $y \\in V$ entonces $x+y \\in V$ (cerradura bajo la suma).\n",
    "\n",
    "2) $\\forall x,y,z \\in V$ se cumple: $(x+y)+z=x+(y+z)$ (ley asociativa de la suma de vectores).\n",
    "\n",
    "3) $\\exists 0 \\in V$ tal que para todo $x \\in V$, $x+0=0+x=x$ (el $0$ se llama vector cero).\n",
    "\n",
    "4) Si $x \\in V$, $\\exists -x \\in V$ tal que $x+(-x)=0$ ($-x$ se llama inverso aditivo de $x$ y $0$ es el elemento descrito por la propiedad 3).\n",
    "\n",
    "5) Si $x,y \\in V$, entonces $x+y=y+x$ (ley conmutativa de la suma de vectores).\n",
    "\n",
    "6) Si $x \\in V$, $\\alpha \\in K$ entonces $\\alpha \\cdot x \\in V$ (cerradura bajo la multiplicación por un escalar).\n",
    "\n",
    "7) Si $x, y \\in V$, $\\alpha \\in K$ entonces $\\alpha \\cdot (x+y)=\\alpha \\cdot x + \\alpha \\cdot y$ (primera ley distributiva).\n",
    "\n",
    "8) Si $x \\in V$, $\\alpha, \\beta \\in K$ entonces $(\\alpha + \\beta)\\cdot x = \\alpha \\cdot x + \\beta \\cdot x$ (segunda ley distributiva).\n",
    "\n",
    "9) Si $x \\in V$, $\\alpha, \\beta \\in K$ entonces $\\alpha(\\beta \\cdot x) = (\\alpha \\beta)\\cdot x$ (ley asociativa de la multiplicación por escalares).\n",
    "\n",
    "10) $\\forall x \\in V,$ $\\exists 1 \\in K$ tal que: $1\\cdot x = x$."
   ]
  },
  {
   "cell_type": "markdown",
   "metadata": {},
   "source": [
    "## Ejemplos de espacios vectoriales\n",
    "\n",
    "* $\\mathbb{R}^n, \\mathbb{R}^{mxn}, \\mathbb{C}^n, \\mathbb{C}^{mxn}$.\n",
    "\n",
    "* $V=\\{0\\}$.\n",
    "\n",
    "* $V=\\{ (x,y) \\in \\mathbb{R}^2 : y = mx, m \\in \\mathbb{R}, x \\in \\mathbb{R}\\}$.\n",
    "\n",
    "* $V=\\{ (x,y,z) \\in \\mathbb{R}^3 : ax+by+cz=0, a \\in \\mathbb{R}, b \\in \\mathbb{R}, c\\in \\mathbb{R} \\}$.\n",
    "\n",
    "* $V = \\{ a_0 + a_1x + a_2x^2 + \\dots a_{n-1}x^{n-1} + a_nx^n : a_0, a_1, \\dots, a_n \\in \\mathbb{R}\\}$.\n",
    "\n",
    "* $V = \\mathcal{C}([0,1])$. (este se refiere a un conjunto de funciones)"
   ]
  },
  {
   "cell_type": "markdown",
   "metadata": {},
   "source": [
    "**obs:** los elementos de un espacio vectorial se les nombra *vectores*, por ejemplo un elemento del conjunto $V = \\mathcal{C}([0,1])$ es $f(x)=x^2$ y refiriéndose a este elemento, rigurosamente es un *vector* (aunque sea una función)."
   ]
  },
  {
   "cell_type": "markdown",
   "metadata": {},
   "source": [
    "Ver:\n",
    "    \n",
    "* Fin de la sección $5.1$ y sección $5.2$ del libro de Álgebra Lineal de S. Grossman y J. Flores, para tema de subespacios vectoriales. "
   ]
  },
  {
   "cell_type": "markdown",
   "metadata": {},
   "source": [
    "**Rob estuvo aquí!!!**"
   ]
  },
  {
   "cell_type": "markdown",
   "metadata": {},
   "source": [
    "# Combinación lineal, espacio generado y bases"
   ]
  },
  {
   "cell_type": "markdown",
   "metadata": {},
   "source": [
    "Para las siguientes definiciones se considera el espacio vectorial $V=\\mathbb{R}^n$. Un vector en este espacio es $x=\\left( \n",
    "\\begin{array}{c}\n",
    "x_1\\\\\n",
    "x_2\\\\\n",
    "\\vdots\\\\\n",
    "x_n\n",
    "\\end{array}\n",
    "\\right)$."
   ]
  },
  {
   "cell_type": "markdown",
   "metadata": {},
   "source": [
    "## Combinación lineal"
   ]
  },
  {
   "cell_type": "markdown",
   "metadata": {},
   "source": [
    "Se nombra combinación lineal a la siguiente suma ponderada: $\\displaystyle \\sum_{i=1}^n a_ix_i$ con $x_1,\\dots,x_n \\in \\mathbb{R}^n$ y $a_1,\\dots,a_n \\in \\mathbb{R}$."
   ]
  },
  {
   "cell_type": "markdown",
   "metadata": {},
   "source": [
    "Por ejemplo, en $\\mathbb{R}^3$ el vector: \n",
    "$\\left(\\begin{array}{c}\n",
    "-7\\\\\n",
    "7\\\\\n",
    "7\n",
    "\\end{array}\n",
    "\\right)$ es una combinación lineal de:\n",
    "$\\left(\\begin{array}{c}\n",
    "-1\\\\\n",
    "2\\\\\n",
    "4\n",
    "\\end{array}\n",
    "\\right)$ y \n",
    "$\\left(\\begin{array}{c}\n",
    "5\\\\\n",
    "-3\\\\\n",
    "1\n",
    "\\end{array}\n",
    "\\right)$ pues:\n",
    "\n",
    "$$\n",
    "\\begin{array}{l}\n",
    "\\left( \\begin{array}{c}\n",
    "-7\\\\\n",
    "7\\\\\n",
    "7\n",
    "\\end{array}\n",
    "\\right) = 2\\left( \n",
    "\\begin{array}{c} \n",
    "-1\\\\\n",
    "2\\\\\n",
    "4\n",
    "\\end{array}\n",
    "\\right)\n",
    "-\\left( \n",
    "\\begin{array}{c} \n",
    "5\\\\\n",
    "-3\\\\\n",
    "1\n",
    "\\end{array}\n",
    "\\right)\n",
    "\\end{array} \n",
    "$$"
   ]
  },
  {
   "cell_type": "markdown",
   "metadata": {},
   "source": [
    "y otro ejemplo: \n",
    "$-2\\left(\\begin{array}{c}\n",
    "3\\\\\n",
    "0\\\\\n",
    "\\end{array}\n",
    "\\right)\n",
    "+4\\left(\\begin{array}{c}\n",
    "0\\\\\n",
    "1\\\\\n",
    "\\end{array}\n",
    "\\right)$ es una combinación lineal de \n",
    "$\\left(\\begin{array}{c}\n",
    "3\\\\\n",
    "0\\\\\n",
    "\\end{array}\n",
    "\\right)$ y\n",
    "$\\left(\\begin{array}{c}\n",
    "0\\\\\n",
    "1\\\\\n",
    "\\end{array}\n",
    "\\right)$."
   ]
  },
  {
   "cell_type": "markdown",
   "metadata": {},
   "source": [
    "## Conjunto generador"
   ]
  },
  {
   "cell_type": "markdown",
   "metadata": {},
   "source": [
    "Los vectores $x_1, x_2, \\dots,x_n$ generan a $\\mathbb{R}^n$ si todo vector en $\\mathbb{R}^n$ se puede escribir como una combinación lineal de los mismos. Esto es, si $x \\in \\mathbb{R}^n$ entonces $x = \\displaystyle \\sum_{i=1}^n \\alpha_i x_i$ con $\\alpha_i \\in \\mathbb{R}$. \n",
    "\n",
    "Por ejemplo, los $n$ vectores canónicos que tienen un $1$ en la posición $i$:\n",
    "\n",
    "$$e_i = \\left(\\begin{array}{c}\n",
    "0\\\\\n",
    "\\vdots\\\\\n",
    "0\\\\\n",
    "1\\\\\n",
    "0\\\\\n",
    "\\vdots\\\\\n",
    "0\n",
    "\\end{array}\n",
    "\\right) \\leftarrow \\text{posición i}$$\n",
    "\n",
    "son un conjunto generador del espacio $\\mathbb{R}^n$. Por ejemplo, en $\\mathbb{R}^3$:\n",
    "\n",
    "$$\n",
    "\\begin{array}{l}\n",
    "\\left( \\begin{array}{c}\n",
    "-7\\\\\n",
    "7\\\\\n",
    "7\n",
    "\\end{array}\n",
    "\\right) = -7\\left( \n",
    "\\begin{array}{c} \n",
    "1\\\\\n",
    "0\\\\\n",
    "0\n",
    "\\end{array}\n",
    "\\right)\n",
    "+7\\left( \n",
    "\\begin{array}{c} \n",
    "0\\\\\n",
    "1\\\\\n",
    "0\n",
    "\\end{array}\n",
    "\\right)\n",
    "7\\left( \n",
    "\\begin{array}{c} \n",
    "0\\\\\n",
    "0\\\\\n",
    "1\n",
    "\\end{array}\n",
    "\\right)\n",
    "\\end{array} \n",
    "$$\n"
   ]
  },
  {
   "cell_type": "markdown",
   "metadata": {},
   "source": [
    "### Espacio generado"
   ]
  },
  {
   "cell_type": "markdown",
   "metadata": {},
   "source": [
    "Es el conjunto formado por combinaciones lineales de un conjunto vectores. Por ejemplo, si nuestro conjunto de vectores es $\\{x_1,x_2\\}$ entonces el espacio generado es: $$\\text{gen}\\{x_1,x_2\\}=<x_1,x_2>=\\{\\alpha_1 x_1 + \\alpha_2 x_2 \\}$$."
   ]
  },
  {
   "cell_type": "markdown",
   "metadata": {},
   "source": [
    "**Obs:** este espacio generado es un subespacio vectorial de $\\mathbb{R}^n$."
   ]
  },
  {
   "cell_type": "markdown",
   "metadata": {},
   "source": [
    "## Independencia/dependencia lineal"
   ]
  },
  {
   "cell_type": "markdown",
   "metadata": {},
   "source": [
    "El conjunto $\\{x_1, x_2, \\dots, x_k\\}$ para $k \\in \\mathbb{N}$, es un conjunto con dependencia lineal (o conjunto linealmente dependiente o los vectores $x_1,x_2,\\dots, x_k$ son linealmente dependientes) si algún vector en tal conjunto se escribe como combinación lineal de los restantes. Por ejemplo, los vectores:\n",
    "\n",
    "\n",
    "$$\n",
    "\\left( \\begin{array}{c}\n",
    "-7\\\\\n",
    "7\\\\\n",
    "7\n",
    "\\end{array}\n",
    "\\right), \\left( \n",
    "\\begin{array}{c} \n",
    "-1\\\\\n",
    "2\\\\\n",
    "4\n",
    "\\end{array}\n",
    "\\right), \\left( \n",
    "\\begin{array}{c} \n",
    "5\\\\\n",
    "-3\\\\\n",
    "1\n",
    "\\end{array}\n",
    "\\right)\n",
    "$$\n",
    "\n",
    "son **linealmente dependientes** como se vio arriba."
   ]
  },
  {
   "cell_type": "markdown",
   "metadata": {},
   "source": [
    "Si el conjunto $\\{x_1, x_2, \\dots, x_k\\}$ no es linealmente dependiente entonces es **linealmente independiente**. \n",
    "\n",
    "También se utiliza para la definición de independencia lineal que la ecuación: $$\\alpha_1 x_1 + \\alpha_2 x_2 + \\dots + \\alpha_k x_k = 0$$ con incógnitas $\\alpha_i$'s tiene solución única dada por $\\alpha_1 = \\alpha_2 = \\dots = \\alpha_k = 0$."
   ]
  },
  {
   "cell_type": "markdown",
   "metadata": {},
   "source": [
    "Como ejemplos de vectores linealmente independientes se tienen:\n",
    "\n",
    "* $e_1, e_2, \\dots, e_k$ con k un número natural.\n",
    "\n",
    "* $\\left( \\begin{array}{c}\n",
    "1\\\\\n",
    "-2\\\\\n",
    "3\n",
    "\\end{array}\n",
    "\\right), \\left( \n",
    "\\begin{array}{c} \n",
    "2\\\\\n",
    "-2\\\\\n",
    "0\n",
    "\\end{array}\n",
    "\\right), \\left( \n",
    "\\begin{array}{c} \n",
    "0\\\\\n",
    "1\\\\\n",
    "7\n",
    "\\end{array}\n",
    "\\right)\n",
    "$"
   ]
  },
  {
   "cell_type": "markdown",
   "metadata": {},
   "source": [
    "**Obs:** en el espacio $\\mathbb{R}^n$ sólo se pueden tener a lo más $n$ vectores linealmente independientes. Entonces los vectores: \n",
    "$\\left( \\begin{array}{c}\n",
    "2\\\\\n",
    "-3\\\\\n",
    "4\n",
    "\\end{array}\n",
    "\\right), \\left( \n",
    "\\begin{array}{c} \n",
    "4\\\\\n",
    "7\\\\\n",
    "-6\n",
    "\\end{array}\n",
    "\\right), \\left( \n",
    "\\begin{array}{c} \n",
    "18\\\\\n",
    "-11\\\\\n",
    "4\n",
    "\\end{array}\n",
    "\\right),\n",
    "\\left( \n",
    "\\begin{array}{c} \n",
    "2\\\\\n",
    "-7\\\\\n",
    "3\n",
    "\\end{array}\n",
    "\\right)\n",
    "$ son linealmente dependientes en $\\mathbb{R}^3$ pues constituyen un conjunto de $4$ vectores de $3$ elementos cada uno. Y esto equivale a escribir que $Ax=0$ tiene solución $x$ diferente de cero con $A \\in \\mathbb{R}^{3x4}$ formada por las columnas de los vectores anteriores."
   ]
  },
  {
   "cell_type": "markdown",
   "metadata": {},
   "source": [
    "En este caso pasado no podrían existir más de 3 vectores linealmente independientes."
   ]
  },
  {
   "cell_type": "markdown",
   "metadata": {},
   "source": [
    "## Base"
   ]
  },
  {
   "cell_type": "markdown",
   "metadata": {},
   "source": [
    "Los conjuntos de vectores en $\\mathbb{R}^n$ que son linealmente independientes y su espacio generado es $\\mathbb{R}^n$ se les nombra base. Por ejemplo:\n",
    "\n",
    "* $e_1, e_2, \\dots, e_k \\in \\mathbb{R}^k$ con $k \\in \\mathbb{N}$ son base de $\\mathbb{R}^k$  y si consideramos $e_1, e_2, \\dots, e_n \\in \\mathbb{R}^n$ entonces estos últimos son base del espacio $\\mathbb{R}^n$.\n",
    "\n",
    "* $\\left( \\begin{array}{c}\n",
    "1\\\\\n",
    "-2\\\\\n",
    "3\n",
    "\\end{array}\n",
    "\\right), \\left( \n",
    "\\begin{array}{c} \n",
    "2\\\\\n",
    "-2\\\\\n",
    "0\n",
    "\\end{array}\n",
    "\\right), \\left( \n",
    "\\begin{array}{c} \n",
    "0\\\\\n",
    "1\\\\\n",
    "7\n",
    "\\end{array}\n",
    "\\right)\n",
    "$ son base del espacio $\\mathbb{R}^3$."
   ]
  },
  {
   "cell_type": "markdown",
   "metadata": {},
   "source": [
    "**Obs:** el conjunto $\\{e_1, e_2, \\dots, e_n\\}$ es nombrada *base canónica* de $\\mathbb{R}^n$."
   ]
  },
  {
   "cell_type": "markdown",
   "metadata": {},
   "source": [
    "**Obs2:** Si un espacio vectorial tiene una base con un número finito de elementos, entonces se le nombra espacio de **dimensión finita**, en otro caso es un espacio vectorial de **dimensión infinita**. El caso descrito en el rengón anterior es un espacio con dimensión finita."
   ]
  },
  {
   "cell_type": "markdown",
   "metadata": {},
   "source": [
    "**Obs3:** de las ventajas que existen al trabajar con bases es que cualquier elemento en el espacio vectorial de dimensión finita se puede representar como una combinación lineal de los vectores en la base."
   ]
  },
  {
   "cell_type": "markdown",
   "metadata": {},
   "source": [
    "**Obs4:** Si $V=\\{0\\}$ entonces típicamente se considera que $V$ tiene dimensión cero."
   ]
  },
  {
   "cell_type": "markdown",
   "metadata": {},
   "source": [
    "# Vectores ortogonales"
   ]
  },
  {
   "cell_type": "markdown",
   "metadata": {},
   "source": [
    "Los vectores $x, y \\in \\mathbb{R}^n$ son ortogonales si $x^Ty=0$. El conjunto $\\{x_1,x_2,\\dots,x_k\\} \\in \\mathbb{R}^n$ es ortogonal si $x_i^Tx_j = 0$ para $i \\neq j$ y si además $x_i^Tx_i = 1$ (*norma** igual a uno) entonces se nombra conjunto ortonormal."
   ]
  },
  {
   "cell_type": "markdown",
   "metadata": {},
   "source": [
    "**$^*$La Norma de un vector se define como:** si $x \\in \\mathbb{R}^n$ entonces la norma de $x$, denotada por $||x||$ se define como: $||x|| = \\sqrt{x^Tx}$."
   ]
  },
  {
   "cell_type": "markdown",
   "metadata": {},
   "source": [
    "## Matriz ortogonal"
   ]
  },
  {
   "cell_type": "markdown",
   "metadata": {},
   "source": [
    "Una matriz $A \\in \\mathbb{R}^{nxn}$ se nombra ortogonal si sus columnas son ortogonales y cada columna es ortonormal. Tal propiedad se puede escribir de forma matricial como $A^TA = I$ donde: $I$ es la matriz identidad. La matriz identidad es la matriz que tiene como diagonal puros 1's."
   ]
  },
  {
   "cell_type": "markdown",
   "metadata": {},
   "source": [
    "La ortonormalidad de las columnas lo podemos verificar haciendo el producto punto de las columnas.\n",
    "La norma la podemos"
   ]
  },
  {
   "cell_type": "markdown",
   "metadata": {},
   "source": [
    "Como ejemplos de matrices ortogonales en $\\mathbb{R}^{nxn}$ se tienen las matrices de rotación y reflexión."
   ]
  },
  {
   "cell_type": "markdown",
   "metadata": {},
   "source": [
    "### Matriz de rotación en sentido contrario a las manecillas del reloj en el plano"
   ]
  },
  {
   "cell_type": "markdown",
   "metadata": {},
   "source": [
    "Está dada por: $$R_{\\theta} = \\begin{bmatrix} cos(\\theta) & -sen(\\theta) \\\\ sen(\\theta)& cos(\\theta)\\end{bmatrix}$$"
   ]
  },
  {
   "cell_type": "markdown",
   "metadata": {},
   "source": [
    "**Ejercicio: usar esta matriz de rotación para rotar un ángulo de $\\frac{\\pi}{3}$ en sentido contrario a las manecillas del reloj al vector $\\left(\\begin{array}{c}\n",
    "-3\\\\\n",
    "4\\\\\n",
    "\\end{array}\n",
    "\\right)$**."
   ]
  },
  {
   "cell_type": "markdown",
   "metadata": {},
   "source": [
    "Para graficar esto podríamos usar la siguiente celda:"
   ]
  },
  {
   "cell_type": "code",
   "execution_count": 38,
   "metadata": {
    "ExecuteTime": {
     "end_time": "2020-06-23T01:31:25.403069Z",
     "start_time": "2020-06-23T01:31:25.379148Z"
    }
   },
   "outputs": [],
   "source": [
    "import matplotlib.pyplot as plt\n",
    "import math"
   ]
  },
  {
   "cell_type": "code",
   "execution_count": 39,
   "metadata": {
    "ExecuteTime": {
     "end_time": "2020-06-23T01:31:25.532320Z",
     "start_time": "2020-06-23T01:31:25.525366Z"
    }
   },
   "outputs": [],
   "source": [
    "v = np.array([-3, 4])"
   ]
  },
  {
   "cell_type": "code",
   "execution_count": 40,
   "metadata": {
    "ExecuteTime": {
     "end_time": "2020-06-23T01:31:25.704636Z",
     "start_time": "2020-06-23T01:31:25.701675Z"
    }
   },
   "outputs": [],
   "source": [
    "A = np.array([\n",
    "    [0, 0],\n",
    "    v\n",
    "])"
   ]
  },
  {
   "cell_type": "code",
   "execution_count": 45,
   "metadata": {
    "ExecuteTime": {
     "end_time": "2020-06-23T01:34:05.977034Z",
     "start_time": "2020-06-23T01:34:05.973035Z"
    }
   },
   "outputs": [],
   "source": [
    "theta = math.pi/3\n",
    "R_theta = np.array([\n",
    "    [math.cos(theta), -math.sin(theta)],\n",
    "    [math.sin(theta), math.cos(theta)]\n",
    "])"
   ]
  },
  {
   "cell_type": "code",
   "execution_count": 46,
   "metadata": {
    "ExecuteTime": {
     "end_time": "2020-06-23T01:34:06.519971Z",
     "start_time": "2020-06-23T01:34:06.516199Z"
    }
   },
   "outputs": [
    {
     "data": {
      "text/plain": [
       "array([-4.96410162, -0.59807621])"
      ]
     },
     "execution_count": 46,
     "metadata": {},
     "output_type": "execute_result"
    }
   ],
   "source": [
    "v_rot = R_theta@v\n",
    "v_rot"
   ]
  },
  {
   "cell_type": "code",
   "execution_count": 47,
   "metadata": {
    "ExecuteTime": {
     "end_time": "2020-06-23T01:34:06.707789Z",
     "start_time": "2020-06-23T01:34:06.705135Z"
    }
   },
   "outputs": [],
   "source": [
    "A2 = np.array([\n",
    "    [0, 0],\n",
    "    v_rot\n",
    "])"
   ]
  },
  {
   "cell_type": "code",
   "execution_count": 48,
   "metadata": {
    "ExecuteTime": {
     "end_time": "2020-06-23T01:34:07.065505Z",
     "start_time": "2020-06-23T01:34:06.939017Z"
    }
   },
   "outputs": [
    {
     "data": {
      "image/png": "[encoded data removed]",
      "text/plain": [
       "<Figure size 432x288 with 1 Axes>"
      ]
     },
     "metadata": {
      "needs_background": "light"
     },
     "output_type": "display_data"
    }
   ],
   "source": [
    "plt.plot(\n",
    "    A[:, 0], A[:, 1], '-',\n",
    "    A2[:, 0], A2[:, 1], 'r-'\n",
    ")\n",
    "\n",
    "plt.show()"
   ]
  },
  {
   "cell_type": "markdown",
   "metadata": {},
   "source": [
    "### Matriz de reflexión de Householder"
   ]
  },
  {
   "cell_type": "markdown",
   "metadata": {},
   "source": [
    "Está dada por: $$R_{H} = I - 2 \\frac{uu^T}{u^Tu}$$ con $u \\in \\mathbb{R}^n -\\{0\\}$ y realiza la reflexión respecto al conjunto de vectores ortogonales a $u$. "
   ]
  },
  {
   "cell_type": "markdown",
   "metadata": {},
   "source": [
    "- En el numerador estamos viendo que se hace el producto externo. Da como resultado una matriz\n",
    "\n",
    "- El denominador da un vector\n",
    "\n",
    "- El resultado de la operación es una matriz"
   ]
  },
  {
   "cell_type": "markdown",
   "metadata": {},
   "source": [
    "**(Tarea) Ejercicio: reflejar al vector $\\left(\\begin{array}{c}\n",
    "1\\\\\n",
    "1\\\\\n",
    "\\end{array}\n",
    "\\right)$ utilizando al vector $\\left(\\begin{array}{c}\n",
    "-\\frac{4}{3}\\\\\n",
    "\\frac{2}{3}\\\\\n",
    "\\end{array}\n",
    "\\right)$ para construir a $R_{H}$**."
   ]
  },
  {
   "cell_type": "markdown",
   "metadata": {},
   "source": [
    "Aquí `u` será igual -4/3, 2/3"
   ]
  },
  {
   "cell_type": "markdown",
   "metadata": {},
   "source": [
    "## Base ortogonal, ortonormal"
   ]
  },
  {
   "cell_type": "markdown",
   "metadata": {},
   "source": [
    "Un conjunto de vectores que forma una base de un espacio vectorial que además es un conjunto ortogonal se le nombra base ortogonal. Si adicionalmente cada vector tiene norma igual a 1 entonces es una base ortonormal."
   ]
  },
  {
   "cell_type": "markdown",
   "metadata": {},
   "source": [
    "# Espacio nulo, espacio nulo izquierdo, imagen de una matriz, espacio renglón y espacio columna"
   ]
  },
  {
   "cell_type": "markdown",
   "metadata": {},
   "source": [
    "En lo siguiente se considera $A \\in \\mathbb{R}^{mxn}$."
   ]
  },
  {
   "cell_type": "markdown",
   "metadata": {},
   "source": [
    "## Espacio nulo"
   ]
  },
  {
   "cell_type": "markdown",
   "metadata": {},
   "source": [
    "$\\mathcal{N}(A) = \\{x \\in \\mathbb{R}^n : Ax =0\\}$"
   ]
  },
  {
   "cell_type": "markdown",
   "metadata": {},
   "source": [
    "**Obs:** es un subespacio de $\\mathbb{R}^n$."
   ]
  },
  {
   "cell_type": "markdown",
   "metadata": {},
   "source": [
    "**La dimensión de $\\mathcal{N}(A)$ se le nombra nulidad.** Si $\\mathcal{N}(A)$ sólo contiene al vector $0$, esto es: $\\mathcal{N}(A) = \\{0\\}$ entonces la nulidad de $\\mathcal{N}(A)$ es igual a 0."
   ]
  },
  {
   "cell_type": "markdown",
   "metadata": {},
   "source": [
    "## Espacio nulo izquierdo"
   ]
  },
  {
   "cell_type": "markdown",
   "metadata": {},
   "source": [
    "$\\mathcal{N}(A^T) = \\{x \\in \\mathbb{R}^m : A^Tx =0\\}$"
   ]
  },
  {
   "cell_type": "markdown",
   "metadata": {},
   "source": [
    "**Obs:** es un subespacio de $\\mathbb{R}^m$."
   ]
  },
  {
   "cell_type": "markdown",
   "metadata": {},
   "source": [
    "## Imagen de una matriz"
   ]
  },
  {
   "cell_type": "markdown",
   "metadata": {},
   "source": [
    "$Im(A) = \\{y \\in \\mathbb{R}^m: y=Ax \\text{ para alguna } x \\in \\mathbb{R}^n\\}$"
   ]
  },
  {
   "cell_type": "markdown",
   "metadata": {},
   "source": [
    "Multiplicación de la matriz $A$ por por todos los vectores"
   ]
  },
  {
   "cell_type": "markdown",
   "metadata": {},
   "source": [
    "**Obs:** es un subespacio de $\\mathbb{R}^m$."
   ]
  },
  {
   "cell_type": "markdown",
   "metadata": {},
   "source": [
    "**La dimensión de $Im(A)$ se le nombra $rank$**."
   ]
  },
  {
   "cell_type": "markdown",
   "metadata": {},
   "source": [
    "## Espacio renglón y espacio columna de una matriz"
   ]
  },
  {
   "cell_type": "markdown",
   "metadata": {},
   "source": [
    "El espacio renglón es el conjunto generado por los renglones de $A$ y el espacio columna es el conjunto generado por las columnas de $A$."
   ]
  },
  {
   "cell_type": "markdown",
   "metadata": {},
   "source": [
    "**Obs:** se prueba que el espacio renglón y el espacio columna son iguales a la imagen de la matriz en cuestión y la dimensión de los mismos es igual al *rank*. "
   ]
  },
  {
   "cell_type": "markdown",
   "metadata": {},
   "source": [
    "# Transformaciones lineales"
   ]
  },
  {
   "cell_type": "markdown",
   "metadata": {},
   "source": [
    "Sean $V$ y $W$ espacios vectoriales con campo en $\\mathbb{R}$ entonces una transformación lineal $T$ de $V$ en $W$, denotada por $T: V \\rightarrow W$, es una función que asigna a cada vector $v \\in V$ un vector único $T(v) \\in W$ y que satisface para cada $u,v \\in V$ y cada escalar $\\alpha \\in \\mathbb{R}$:\n",
    "\n"
   ]
  },
  {
   "cell_type": "markdown",
   "metadata": {},
   "source": [
    "$$\n",
    "T(u+v)=T(u)+T(v)\n",
    "$$\n"
   ]
  },
  {
   "cell_type": "markdown",
   "metadata": {},
   "source": [
    "$$\n",
    "T(\\alpha v)=\\alpha T(v)\n",
    "$$"
   ]
  },
  {
   "cell_type": "markdown",
   "metadata": {},
   "source": [
    "**Ejemplos:**\n",
    "\n",
    "* $T\\left(\\begin{array}{c}\n",
    "x\\\\\n",
    "y\\\\\n",
    "\\end{array}\n",
    "\\right) = \\left(\\begin{array}{c}\n",
    "x+y\\\\\n",
    "x-y\\\\\n",
    "3y\n",
    "\\end{array}\n",
    "\\right)$\n",
    "\n",
    "* $T\\left(\\begin{array}{c}\n",
    "x\\\\\n",
    "y\\\\\n",
    "\\end{array}\n",
    "\\right)= R_{\\theta}\\left(\\begin{array}{c}\n",
    "x\\\\\n",
    "y\\\\\n",
    "\\end{array}\n",
    "\\right)\n",
    "$ con $R_{\\theta}$ matriz de rotación se conoce como transformación de rotación.\n",
    "\n",
    "* $T\\left(\\begin{array}{c}\n",
    "x\\\\\n",
    "y\\\\\n",
    "\\end{array}\n",
    "\\right)= \\left(\\begin{array}{c}\n",
    "-x\\\\\n",
    "y\\\\\n",
    "\\end{array}\n",
    "\\right)\n",
    "$ la cual es una transformación de reflexión respecto al eje vertical en el plano."
   ]
  },
  {
   "cell_type": "markdown",
   "metadata": {},
   "source": [
    "## Núcleo e imagen de las transformaciones lineales"
   ]
  },
  {
   "cell_type": "markdown",
   "metadata": {},
   "source": [
    "Se consideran $V, W$ espacios vectoriales y $T: V \\rightarrow W$ una transformación lineal. "
   ]
  },
  {
   "cell_type": "markdown",
   "metadata": {},
   "source": [
    "### Núcleo o kernel"
   ]
  },
  {
   "cell_type": "markdown",
   "metadata": {},
   "source": [
    "Se denota por $nu(T)$ y está dado por $nu(T) = \\{v \\in V : T(v) = 0\\}$."
   ]
  },
  {
   "cell_type": "markdown",
   "metadata": {},
   "source": [
    "**Obs:** este conjunto no es vacío pues $T(0) = 0$ por lo que $0 \\in nu(T)$. Además es un subespacio vectorial de $V$ y su dimensión se nombra *nulidad* de $T$."
   ]
  },
  {
   "cell_type": "markdown",
   "metadata": {},
   "source": [
    "### Imagen"
   ]
  },
  {
   "cell_type": "markdown",
   "metadata": {},
   "source": [
    "Se denota por $im(T)$ y está dado por $im(T) = \\{w \\in W : w = T(v) \\text{ para alguna } v \\in V\\}$."
   ]
  },
  {
   "cell_type": "markdown",
   "metadata": {},
   "source": [
    "**Obs:** es un subespacio vectorial de $W$ y su dimensión se nombra *rank* de T."
   ]
  },
  {
   "cell_type": "markdown",
   "metadata": {},
   "source": [
    "### Representación matricial de una transformación lineal"
   ]
  },
  {
   "cell_type": "markdown",
   "metadata": {},
   "source": [
    "Sea $T: \\mathbb{R}^n \\rightarrow \\mathbb{R}^m$ una transformación lineal. Existe entonces una matriz única de $mxn$, $A$ tal que: $T(x) = Ax \\quad \\forall x \\in \\mathbb{R}^n$."
   ]
  },
  {
   "cell_type": "markdown",
   "metadata": {},
   "source": [
    "**Obs:** la matriz $A$ del resultado depende de las bases elegidas en $\\mathbb{R}^n, \\mathbb{R}^m$."
   ]
  },
  {
   "cell_type": "markdown",
   "metadata": {},
   "source": [
    "**(Tarea) Ejercicio: para reforzar esta serie de definiciones deben elegir dos ejercicios por cada definición anterior del libro \"Álgebra Lineal\" de S. Grossman y J. Flores, capítulos 5 y 7**."
   ]
  }
 ],
 "metadata": {
  "kernelspec": {
   "display_name": "Python 3",
   "language": "python",
   "name": "python3"
  },
  "language_info": {
   "codemirror_mode": {
    "name": "ipython",
    "version": 3
   },
   "file_extension": ".py",
   "mimetype": "text/x-python",
   "name": "python",
   "nbconvert_exporter": "python",
   "pygments_lexer": "ipython3",
   "version": "3.7.4"
  }
 },
 "nbformat": 4,
 "nbformat_minor": 4
}
