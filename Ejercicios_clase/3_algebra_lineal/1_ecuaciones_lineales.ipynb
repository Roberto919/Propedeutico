{
 "cells": [
  {
   "cell_type": "markdown",
   "metadata": {},
   "source": [
    "**Notas para contenedor de docker:**"
   ]
  },
  {
   "cell_type": "markdown",
   "metadata": {},
   "source": [
    "Comando de docker para ejecución de la nota de forma local:\n",
    "\n",
    "nota: cambiar `dir_montar` por la ruta de directorio que se desea mapear a `/datos` dentro del contenedor de docker.\n",
    "\n",
    "```\n",
    "dir_montar=<ruta completa de mi máquina a mi directorio>#aquí colocar la ruta al directorio a montar, por ejemplo: \n",
    "#dir_montar=/Users/erick/midirectorio.\n",
    "```\n",
    "\n",
    "Ejecutar:\n",
    "\n",
    "```\n",
    "$docker run --rm -v $dir_montar:/datos --name jupyterlab_prope_r_kernel_tidyverse -p 8888:8888 -d palmoreck/jupyterlab_prope_r_kernel_tidyverse:2.1.4   \n",
    "\n",
    "```"
   ]
  },
  {
   "cell_type": "markdown",
   "metadata": {},
   "source": [
    "Ir a `localhost:8888` y escribir el password para jupyterlab: `qwerty`\n",
    "\n",
    "Detener el contenedor de docker:\n",
    "\n",
    "```\n",
    "docker stop jupyterlab_prope_r_kernel_tidyverse\n",
    "```\n"
   ]
  },
  {
   "cell_type": "markdown",
   "metadata": {},
   "source": [
    "Documentación de la imagen de docker `palmoreck/jupyterlab_prope_r_kernel_tidyverse:2.1.4` en [liga](https://github.com/palmoreck/dockerfiles/tree/master/jupyterlab/prope_r_kernel_tidyverse)."
   ]
  },
  {
   "cell_type": "markdown",
   "metadata": {},
   "source": [
    "---"
   ]
  },
  {
   "cell_type": "markdown",
   "metadata": {},
   "source": [
    "Para ejecución de la nota usar:\n",
    "\n",
    "[docker](https://www.docker.com/) (instalación de forma **local** con [Get docker](https://docs.docker.com/install/)) y ejecutar comandos que están al inicio de la nota de forma **local**. \n",
    "\n",
    "O bien dar click en alguno de los botones siguientes:"
   ]
  },
  {
   "cell_type": "markdown",
   "metadata": {},
   "source": [
    "[![Binder](https://mybinder.org/badge_logo.svg)](https://mybinder.org/v2/gh/palmoreck/dockerfiles-for-binder/jupyterlab_prope_r_kernel_tidyerse?urlpath=lab/tree/Propedeutico/Python/clases/3_algebra_lineal/1_ecuaciones_lineales.ipynb) esta opción crea una máquina individual en un servidor de Google, clona el repositorio y permite la ejecución de los notebooks de jupyter."
   ]
  },
  {
   "cell_type": "markdown",
   "metadata": {},
   "source": [
    "[![Run on Repl.it](https://repl.it/badge/github/palmoreck/dummy)](https://repl.it/languages/python3) esta opción no clona el repositorio, no ejecuta los notebooks de jupyter pero permite ejecución de instrucciones de Python de forma colaborativa con [repl.it](https://repl.it/). Al dar click se crearán nuevos ***repl*** debajo de sus users de ***repl.it***.\n"
   ]
  },
  {
   "cell_type": "markdown",
   "metadata": {},
   "source": [
    "## Lo siguiente está basado en el capítulo 2 y apéndice del libro de texto de J. Kiusalas Numerical Methods in Engineering with Python 3 y el libro de Matrix Analysis and Applied Linear Algebra de C. D. Meyer."
   ]
  },
  {
   "cell_type": "markdown",
   "metadata": {},
   "source": [
    "**Se sugiere haber revisado la sección 1.5 del libro de texto de J. Kiusalas Numerical Methods in Engineering with Python 3: uso de numpy**"
   ]
  },
  {
   "cell_type": "markdown",
   "metadata": {},
   "source": [
    "# Sistemas de ecuaciones lineales"
   ]
  },
  {
   "cell_type": "markdown",
   "metadata": {},
   "source": [
    "En general son de la forma: $$\\begin{array}{ccc} a_{11}x_1 + a_{12}x_2 + \\cdots + a_{1n}x_n  &= & b_1 \\\\ a_{21}x_1 + a_{22}x_2 +  \\cdots + a_{2n}x_n &= & b_2 \\\\ \\vdots & & \\\\ a_{m1}x_1 + a_{m2}x_2 + \\cdots + a_{mn}x_n &=& b_m \\end{array}$$"
   ]
  },
  {
   "cell_type": "markdown",
   "metadata": {},
   "source": [
    "donde: las $x_i$'s son las incógnitas y las $a_i$'s y $b_i$'s son constantes conocidas."
   ]
  },
  {
   "cell_type": "markdown",
   "metadata": {},
   "source": [
    "Las entradas $a_{ij}$'s son llamadas coeficientes del sistema y el conjunto de $b_i$'s se le llama lado derecho del sistema. Si todas las $b_i$'s son iguales a $0$ el sistema se le nombra **homogéneo**."
   ]
  },
  {
   "cell_type": "markdown",
   "metadata": {},
   "source": [
    "**3 posibilidades para solución del sistema anterior:**\n",
    "\n",
    "* Una única solución: sólo existe uno y sólo un conjunto de valores de $x_i$'s que satisfacen todas las ecuaciones simultáneamente y el sistema se nombra **consistente** o **no singular**.\n",
    "\n",
    "* Ninguna solución: no existe ningún conjunto de valores de $x_i$'s que satisfacen todas las ecuaciones simultáneamente (el conjunto solución es vacío) y el sistema se nombra **inconsistente** o singular.\n",
    "\n",
    "* Infinitas soluciones: hay una infinidad de conjuntos (distintos) de valores de las $x_i$'s que satisfacen todas las ecuaciones simultáneamente. **obs:** si un sistema tiene más de una solución entonces tiene una infinidad de soluciones y el sistema se nombra **consistente** o **no singular**.\n",
    "\n"
   ]
  },
  {
   "cell_type": "markdown",
   "metadata": {},
   "source": [
    "## Interpretación geométrica"
   ]
  },
  {
   "cell_type": "markdown",
   "metadata": {},
   "source": [
    "Resolver un sistema de ecuaciones lineales equivale a encontrar la intersección entre rectas, planos o hiperplanos (2,3 o n dimensiones respectivamente). Por ejemplo para un caso de dos dimensiones se tiene:"
   ]
  },
  {
   "cell_type": "markdown",
   "metadata": {},
   "source": [
    "<img src=\"https://dl.dropboxusercontent.com/s/p92z7zlquo1adbm/algebra_lineal_1.jpg?dl=0\" heigth=\"700\" width=\"700\">\n"
   ]
  },
  {
   "cell_type": "markdown",
   "metadata": {},
   "source": [
    "El inciso a) representa un sistema de ecuaciones lineales sin solución, el inciso b) infinitas soluciones (en el dibujo ligeramente se desplazó hacia abajo una de las rectas para mostrar ambas) y el inciso c) una única solución. "
   ]
  },
  {
   "cell_type": "markdown",
   "metadata": {},
   "source": [
    "## Algoritmos"
   ]
  },
  {
   "cell_type": "markdown",
   "metadata": {},
   "source": [
    "Existen una gran cantidad de algoritmos para resolver los sistemas de ecuaciones. Típicamente se elige el algoritmo de acuerdo a las características de los coeficientes de la matriz del sistema y sus dimensiones."
   ]
  },
  {
   "cell_type": "markdown",
   "metadata": {},
   "source": [
    "### Sistemas triangulares\n",
    "\n",
    "Son sistemas cuya matriz es triangular inferior o superior. Un sistema triangular inferior se resuelve con el método de sustitución hacia delante. Si es triangular superior se resuelve con el método de sustitución hacia atrás.\n"
   ]
  },
  {
   "cell_type": "markdown",
   "metadata": {},
   "source": [
    "**Ejemplo matriz triangular inferior:**"
   ]
  },
  {
   "cell_type": "code",
   "execution_count": 2,
   "metadata": {
    "ExecuteTime": {
     "end_time": "2020-06-23T23:14:18.112061Z",
     "start_time": "2020-06-23T23:14:17.979537Z"
    }
   },
   "outputs": [],
   "source": [
    "import numpy as np"
   ]
  },
  {
   "cell_type": "code",
   "execution_count": 3,
   "metadata": {
    "ExecuteTime": {
     "end_time": "2020-06-23T23:14:18.204750Z",
     "start_time": "2020-06-23T23:14:18.195555Z"
    }
   },
   "outputs": [
    {
     "data": {
      "text/plain": [
       "array([[1., 0., 0., 0.],\n",
       "       [1., 1., 0., 0.],\n",
       "       [1., 1., 1., 0.],\n",
       "       [1., 1., 1., 1.]])"
      ]
     },
     "execution_count": 3,
     "metadata": {},
     "output_type": "execute_result"
    }
   ],
   "source": [
    "np.tril(np.ones(4))"
   ]
  },
  {
   "cell_type": "markdown",
   "metadata": {},
   "source": [
    "**Ejemplo matriz triangular superior:**"
   ]
  },
  {
   "cell_type": "code",
   "execution_count": 4,
   "metadata": {
    "ExecuteTime": {
     "end_time": "2020-06-23T23:14:19.375415Z",
     "start_time": "2020-06-23T23:14:19.371977Z"
    }
   },
   "outputs": [
    {
     "data": {
      "text/plain": [
       "array([[1., 1., 1., 1.],\n",
       "       [0., 1., 1., 1.],\n",
       "       [0., 0., 1., 1.],\n",
       "       [0., 0., 0., 1.]])"
      ]
     },
     "execution_count": 4,
     "metadata": {},
     "output_type": "execute_result"
    }
   ],
   "source": [
    "np.triu(np.ones(4))"
   ]
  },
  {
   "cell_type": "markdown",
   "metadata": {},
   "source": [
    "### Sistemas no triangulares"
   ]
  },
  {
   "cell_type": "markdown",
   "metadata": {},
   "source": [
    "Para sistemas de ecuaciones lineales más generales (no tienen estructura identificable) se tienen los métodos iterativos y directos o basados en factorizaciones matriciales.\n",
    "\n",
    "Entre los directos o basados en factorizaciones matriciales se encuentran:\n",
    "\n",
    "\n",
    "* Eliminación Gaussiana o factorización LU.\n",
    "* Factorización de Cholesky. (solo para matrices definidas positivas).\n",
    "* Factorización QR.\n",
    "* Descomposición en valores singulares (DVS o SVD por sus siglas en inglés).\n",
    "\n",
    "y como ejemplo de los iterativos están:\n",
    "\n",
    "* Jacobi.\n",
    "* Gauss-Seidel.\n",
    "* Gradiente conjugado.\n",
    "\n"
   ]
  },
  {
   "cell_type": "markdown",
   "metadata": {},
   "source": [
    "Los algoritmos directos encuentran sistemas de ecuaciones equivalentes a partir de operaciones básicas del álgebra lineal. **Obs:** dos sistemas de ecuaciones lineales son equivalentes si tienen el mismo conjunto solución."
   ]
  },
  {
   "cell_type": "markdown",
   "metadata": {},
   "source": [
    "Ambos métodos: iterativos y directos o basados en factorizaciones matriciales encuentran sistemas de ecuaciones equivalentes a partir de operaciones básicas del álgebra lineal. Dos sistemas de ecuaciones lineales son equivalentes si tienen el mismo conjunto solución."
   ]
  },
  {
   "cell_type": "markdown",
   "metadata": {},
   "source": [
    "Solo vamos a revisar los directos"
   ]
  },
  {
   "cell_type": "markdown",
   "metadata": {},
   "source": [
    "### Ejemplos de uso de los paquetes numpy y scipy para resolver ecuaciones lineales"
   ]
  },
  {
   "cell_type": "markdown",
   "metadata": {},
   "source": [
    "1)Resolver: $$\\begin{array}{ccc} 8x_1 -6x_2 + 2x_3  &= & 28 \\\\ -4x_1 + 11x_2 -7x_3 &= & -40 \\\\ 4x_1 -7x_2 + 6x_3 &=& 33\\end{array} $$"
   ]
  },
  {
   "cell_type": "code",
   "execution_count": 12,
   "metadata": {
    "ExecuteTime": {
     "end_time": "2020-06-23T23:22:28.404150Z",
     "start_time": "2020-06-23T23:22:28.308416Z"
    }
   },
   "outputs": [],
   "source": [
    "import numpy as np\n",
    "import pprint\n",
    "from pytest import approx"
   ]
  },
  {
   "cell_type": "code",
   "execution_count": 6,
   "metadata": {
    "ExecuteTime": {
     "end_time": "2020-06-23T23:19:45.246731Z",
     "start_time": "2020-06-23T23:19:45.243393Z"
    }
   },
   "outputs": [],
   "source": [
    "A = np.array([[8, -6, 2], [-4, 11, -7], [4, -7, 6]])\n",
    "b = np.array([28,-40,33])"
   ]
  },
  {
   "cell_type": "code",
   "execution_count": 7,
   "metadata": {
    "ExecuteTime": {
     "end_time": "2020-06-23T23:19:52.519002Z",
     "start_time": "2020-06-23T23:19:52.515029Z"
    }
   },
   "outputs": [
    {
     "name": "stdout",
     "output_type": "stream",
     "text": [
      "A:\n",
      "array([[ 8, -6,  2],\n",
      "       [-4, 11, -7],\n",
      "       [ 4, -7,  6]])\n",
      "b:\n",
      "array([ 28, -40,  33])\n"
     ]
    }
   ],
   "source": [
    "print('A:')\n",
    "pprint.pprint(A)\n",
    "print('b:')\n",
    "pprint.pprint(b)"
   ]
  },
  {
   "cell_type": "markdown",
   "metadata": {},
   "source": [
    "Usamos la función de [solve](https://numpy.org/doc/stable/reference/generated/numpy.linalg.solve.html) dentro de [numpy.linalg](https://numpy.org/doc/stable/reference/routines.linalg.html)"
   ]
  },
  {
   "cell_type": "code",
   "execution_count": 8,
   "metadata": {
    "ExecuteTime": {
     "end_time": "2020-06-23T23:20:27.928226Z",
     "start_time": "2020-06-23T23:20:27.921241Z"
    }
   },
   "outputs": [],
   "source": [
    "x = np.linalg.solve(A,b)"
   ]
  },
  {
   "cell_type": "code",
   "execution_count": 9,
   "metadata": {
    "ExecuteTime": {
     "end_time": "2020-06-23T23:20:28.085181Z",
     "start_time": "2020-06-23T23:20:28.081429Z"
    }
   },
   "outputs": [
    {
     "name": "stdout",
     "output_type": "stream",
     "text": [
      "x:\n",
      "array([ 2., -1.,  3.])\n"
     ]
    }
   ],
   "source": [
    "print('x:')\n",
    "pprint.pprint(x)"
   ]
  },
  {
   "cell_type": "code",
   "execution_count": 10,
   "metadata": {
    "ExecuteTime": {
     "end_time": "2020-06-23T23:20:51.579557Z",
     "start_time": "2020-06-23T23:20:51.575139Z"
    }
   },
   "outputs": [
    {
     "name": "stdout",
     "output_type": "stream",
     "text": [
      "Verificando resultado Ax = b\n",
      "b:\n",
      "array([ 28, -40,  33])\n",
      "Ax:\n",
      "array([ 28., -40.,  33.])\n"
     ]
    }
   ],
   "source": [
    "print('Verificando resultado Ax = b')\n",
    "print('b:')\n",
    "pprint.pprint(b)\n",
    "\n",
    "## Aquí estamos validando el resultado\n",
    "print('Ax:')\n",
    "pprint.pprint(A@x)"
   ]
  },
  {
   "cell_type": "code",
   "execution_count": 16,
   "metadata": {
    "ExecuteTime": {
     "end_time": "2020-06-23T23:23:40.816320Z",
     "start_time": "2020-06-23T23:23:40.813258Z"
    }
   },
   "outputs": [
    {
     "data": {
      "text/plain": [
       "array([ True,  True,  True])"
      ]
     },
     "execution_count": 16,
     "metadata": {},
     "output_type": "execute_result"
    }
   ],
   "source": [
    "## Validación del resultado\n",
    "b == A@x"
   ]
  },
  {
   "cell_type": "markdown",
   "metadata": {},
   "source": [
    "#### Validación del resultado con"
   ]
  },
  {
   "cell_type": "code",
   "execution_count": 13,
   "metadata": {
    "ExecuteTime": {
     "end_time": "2020-06-23T23:23:10.067881Z",
     "start_time": "2020-06-23T23:23:10.065235Z"
    }
   },
   "outputs": [],
   "source": [
    "sol_numpy = A@x"
   ]
  },
  {
   "cell_type": "code",
   "execution_count": 14,
   "metadata": {
    "ExecuteTime": {
     "end_time": "2020-06-23T23:23:13.441438Z",
     "start_time": "2020-06-23T23:23:13.438518Z"
    }
   },
   "outputs": [
    {
     "data": {
      "text/plain": [
       "array([ 28., -40.,  33.])"
      ]
     },
     "execution_count": 14,
     "metadata": {},
     "output_type": "execute_result"
    }
   ],
   "source": [
    "sol_numpy"
   ]
  },
  {
   "cell_type": "code",
   "execution_count": 15,
   "metadata": {
    "ExecuteTime": {
     "end_time": "2020-06-23T23:23:16.772852Z",
     "start_time": "2020-06-23T23:23:16.769099Z"
    }
   },
   "outputs": [
    {
     "data": {
      "text/plain": [
       "array([ 28, -40,  33])"
      ]
     },
     "execution_count": 15,
     "metadata": {},
     "output_type": "execute_result"
    }
   ],
   "source": [
    "b"
   ]
  },
  {
   "cell_type": "code",
   "execution_count": 17,
   "metadata": {
    "ExecuteTime": {
     "end_time": "2020-06-23T23:23:59.421710Z",
     "start_time": "2020-06-23T23:23:59.416283Z"
    }
   },
   "outputs": [
    {
     "data": {
      "text/plain": [
       "True"
      ]
     },
     "execution_count": 17,
     "metadata": {},
     "output_type": "execute_result"
    }
   ],
   "source": [
    "sol_numpy == approx(b)"
   ]
  },
  {
   "cell_type": "markdown",
   "metadata": {},
   "source": [
    "#### Validación de resultado con `np.allclose`"
   ]
  },
  {
   "cell_type": "code",
   "execution_count": 18,
   "metadata": {
    "ExecuteTime": {
     "end_time": "2020-06-23T23:24:18.873413Z",
     "start_time": "2020-06-23T23:24:18.870110Z"
    }
   },
   "outputs": [
    {
     "data": {
      "text/plain": [
       "True"
      ]
     },
     "execution_count": 18,
     "metadata": {},
     "output_type": "execute_result"
    }
   ],
   "source": [
    "np.allclose(sol_numpy, b)"
   ]
  },
  {
   "cell_type": "markdown",
   "metadata": {},
   "source": [
    "---"
   ]
  },
  {
   "cell_type": "markdown",
   "metadata": {},
   "source": [
    "2) Resolver $AX = B$ "
   ]
  },
  {
   "cell_type": "markdown",
   "metadata": {},
   "source": [
    "Cambiar la notación de las $x$s"
   ]
  },
  {
   "cell_type": "markdown",
   "metadata": {},
   "source": [
    "$$\\begin{array}{l}\n",
    "\\begin{array}{ccc}\n",
    "6x_1-4x_2+x_3&=&\\\\\n",
    "-4x_1+6x_2-4x_3&=&\\\\\n",
    "x_1-4x_2+6x_3&=&\n",
    "\\end{array}\n",
    "\\left[\\begin{array}{cc}\n",
    "-14 & 22\\\\\n",
    "36 & -18\\\\\n",
    "6 & 7\n",
    "\\end{array}\n",
    "\\right] \n",
    "\\end{array}\n",
    "$$"
   ]
  },
  {
   "cell_type": "code",
   "execution_count": 19,
   "metadata": {
    "ExecuteTime": {
     "end_time": "2020-06-23T23:26:19.339326Z",
     "start_time": "2020-06-23T23:26:19.335812Z"
    }
   },
   "outputs": [],
   "source": [
    "A = np.array([[6,-4,1], [-4,6,-4], [1,-4,6]])\n",
    "B = np.array([[-14,22],[36,-18],[6,7]])"
   ]
  },
  {
   "cell_type": "code",
   "execution_count": 20,
   "metadata": {
    "ExecuteTime": {
     "end_time": "2020-06-23T23:26:19.798592Z",
     "start_time": "2020-06-23T23:26:19.795105Z"
    }
   },
   "outputs": [
    {
     "name": "stdout",
     "output_type": "stream",
     "text": [
      "A:\n",
      "array([[ 6, -4,  1],\n",
      "       [-4,  6, -4],\n",
      "       [ 1, -4,  6]])\n",
      "B:\n",
      "array([[-14,  22],\n",
      "       [ 36, -18],\n",
      "       [  6,   7]])\n"
     ]
    }
   ],
   "source": [
    "print('A:')\n",
    "pprint.pprint(A)\n",
    "print('B:')\n",
    "pprint.pprint(B)"
   ]
  },
  {
   "cell_type": "code",
   "execution_count": 21,
   "metadata": {
    "ExecuteTime": {
     "end_time": "2020-06-23T23:26:21.420824Z",
     "start_time": "2020-06-23T23:26:21.416373Z"
    }
   },
   "outputs": [],
   "source": [
    "X=np.linalg.solve(A,B)"
   ]
  },
  {
   "cell_type": "code",
   "execution_count": 22,
   "metadata": {
    "ExecuteTime": {
     "end_time": "2020-06-23T23:26:22.996741Z",
     "start_time": "2020-06-23T23:26:22.994027Z"
    }
   },
   "outputs": [
    {
     "name": "stdout",
     "output_type": "stream",
     "text": [
      "X:\n",
      "array([[10.,  3.],\n",
      "       [22., -1.],\n",
      "       [14.,  0.]])\n"
     ]
    }
   ],
   "source": [
    "print('X:')\n",
    "pprint.pprint(X)"
   ]
  },
  {
   "cell_type": "code",
   "execution_count": 23,
   "metadata": {
    "ExecuteTime": {
     "end_time": "2020-06-23T23:26:26.833907Z",
     "start_time": "2020-06-23T23:26:26.829844Z"
    }
   },
   "outputs": [
    {
     "name": "stdout",
     "output_type": "stream",
     "text": [
      "Verificando resultado AX = B\n",
      "B:\n",
      "array([[-14,  22],\n",
      "       [ 36, -18],\n",
      "       [  6,   7]])\n",
      "AX:\n",
      "array([[-14.,  22.],\n",
      "       [ 36., -18.],\n",
      "       [  6.,   7.]])\n"
     ]
    }
   ],
   "source": [
    "print('Verificando resultado AX = B')\n",
    "print('B:')\n",
    "pprint.pprint(B)\n",
    "print('AX:')\n",
    "pprint.pprint(A@X)"
   ]
  },
  {
   "cell_type": "markdown",
   "metadata": {},
   "source": [
    "### Ejemplo factorización P, L, U"
   ]
  },
  {
   "cell_type": "markdown",
   "metadata": {},
   "source": [
    "**¿Dado el sistema $Ax=b$, $A \\in \\mathbb{R}^{n \\times n}$ cómo se resuelve con la factorización $PLU$?**"
   ]
  },
  {
   "cell_type": "markdown",
   "metadata": {},
   "source": [
    "Paso 1: encontrar factores $P,L,U$ tales que $PA=LU$. ($P$ es matriz de permutación; $L$ es matriz triangular inferior; $L$ matriz triangular superior.)\n",
    "\n",
    "Paso 2: resolver con el método de sustitución hacia delante el sistema triangular inferior $Ld=Pb$. (La incógnita es el vector $d$ y sacarlo solo es un paso intermedio)\n",
    "\n",
    "Paso 3: resolver con el método de sustitución hacia atrás el sistema triangular superior $UX=d$."
   ]
  },
  {
   "cell_type": "markdown",
   "metadata": {},
   "source": [
    "Por que querríamos hacer esto en lugar de usar `solve`?\n",
    "- La matriz A y el lado derecho son muy grandes; no es posible guardarlos en memoria. Tendríamos que particionar a la matriz. Podemos hacer particiones por bloques y resolver por cachos.\n",
    "- Lo más eficiente puede ser utilizar una factorización."
   ]
  },
  {
   "cell_type": "markdown",
   "metadata": {},
   "source": [
    "**Ejemplo:**"
   ]
  },
  {
   "cell_type": "markdown",
   "metadata": {},
   "source": [
    "Obtener los factores $P, L, U$ de la matriz $A$: $$A = \\begin{bmatrix} 2& -1&2 \\\\ 1& 6& -1 \\\\ 1& 4& 1\\end{bmatrix}$$ "
   ]
  },
  {
   "cell_type": "markdown",
   "metadata": {},
   "source": [
    "y utilizarlos para resolver $AX = B$ con $$B=\\begin{bmatrix}7 & -1\\\\13 & 6\\\\5 & 7\\end{bmatrix}$$"
   ]
  },
  {
   "cell_type": "markdown",
   "metadata": {},
   "source": [
    "La factorización P,L,U la encontramos con el nombre [lu](https://docs.scipy.org/doc/scipy/reference/generated/scipy.linalg.lu.html) dentro de [scipy.linalg](https://docs.scipy.org/doc/scipy/reference/linalg.html)."
   ]
  },
  {
   "cell_type": "markdown",
   "metadata": {},
   "source": [
    "#### Paso 1"
   ]
  },
  {
   "cell_type": "code",
   "execution_count": 24,
   "metadata": {
    "ExecuteTime": {
     "end_time": "2020-06-23T23:34:36.198748Z",
     "start_time": "2020-06-23T23:34:33.552716Z"
    }
   },
   "outputs": [],
   "source": [
    "import scipy\n",
    "import scipy.linalg "
   ]
  },
  {
   "cell_type": "code",
   "execution_count": 26,
   "metadata": {
    "ExecuteTime": {
     "end_time": "2020-06-23T23:34:54.059431Z",
     "start_time": "2020-06-23T23:34:54.055115Z"
    }
   },
   "outputs": [
    {
     "data": {
      "text/plain": [
       "array([[ 2, -1,  2],\n",
       "       [ 1,  6, -1],\n",
       "       [ 1,  4,  1]])"
      ]
     },
     "execution_count": 26,
     "metadata": {},
     "output_type": "execute_result"
    }
   ],
   "source": [
    "A = np.array([[2,-1,2], [1,6,-1], [1,4,1]])\n",
    "A"
   ]
  },
  {
   "cell_type": "code",
   "execution_count": 27,
   "metadata": {
    "ExecuteTime": {
     "end_time": "2020-06-23T23:34:55.976098Z",
     "start_time": "2020-06-23T23:34:55.973651Z"
    }
   },
   "outputs": [],
   "source": [
    "P, L, U = scipy.linalg.lu(A)"
   ]
  },
  {
   "cell_type": "code",
   "execution_count": 30,
   "metadata": {
    "ExecuteTime": {
     "end_time": "2020-06-23T23:35:39.129266Z",
     "start_time": "2020-06-23T23:35:39.123701Z"
    }
   },
   "outputs": [
    {
     "name": "stdout",
     "output_type": "stream",
     "text": [
      "A:\n",
      "array([[ 2, -1,  2],\n",
      "       [ 1,  6, -1],\n",
      "       [ 1,  4,  1]])\n",
      "\n",
      "\n",
      "P:\n",
      "array([[1., 0., 0.],\n",
      "       [0., 1., 0.],\n",
      "       [0., 0., 1.]])\n",
      "\n",
      "\n",
      "L:\n",
      "array([[1.        , 0.        , 0.        ],\n",
      "       [0.5       , 1.        , 0.        ],\n",
      "       [0.5       , 0.69230769, 1.        ]])\n",
      "\n",
      "\n",
      "U:\n",
      "array([[ 2.        , -1.        ,  2.        ],\n",
      "       [ 0.        ,  6.5       , -2.        ],\n",
      "       [ 0.        ,  0.        ,  1.38461538]])\n"
     ]
    }
   ],
   "source": [
    "print('A:')\n",
    "pprint.pprint(A)\n",
    "print('\\n')\n",
    "\n",
    "print('P:')\n",
    "pprint.pprint(P)\n",
    "print('\\n')\n",
    "\n",
    "print('L:')\n",
    "pprint.pprint(L)\n",
    "print('\\n')\n",
    "\n",
    "print('U:')\n",
    "pprint.pprint(U)"
   ]
  },
  {
   "cell_type": "code",
   "execution_count": 31,
   "metadata": {
    "ExecuteTime": {
     "end_time": "2020-06-23T23:36:00.769105Z",
     "start_time": "2020-06-23T23:36:00.764158Z"
    }
   },
   "outputs": [
    {
     "name": "stdout",
     "output_type": "stream",
     "text": [
      "Verificando que es igual PA al producto LU\n",
      "L*U:\n",
      "array([[ 2., -1.,  2.],\n",
      "       [ 1.,  6., -1.],\n",
      "       [ 1.,  4.,  1.]])\n",
      "P*A\n",
      "array([[ 2., -1.,  2.],\n",
      "       [ 1.,  6., -1.],\n",
      "       [ 1.,  4.,  1.]])\n"
     ]
    }
   ],
   "source": [
    "print('Verificando que es igual PA al producto LU')\n",
    "print('L*U:')\n",
    "pprint.pprint(L@U)\n",
    "print('P*A')\n",
    "pprint.pprint(P@A)"
   ]
  },
  {
   "cell_type": "markdown",
   "metadata": {},
   "source": [
    "#### Paso 2: $LD = PB$"
   ]
  },
  {
   "cell_type": "code",
   "execution_count": 32,
   "metadata": {
    "ExecuteTime": {
     "end_time": "2020-06-23T23:37:49.250733Z",
     "start_time": "2020-06-23T23:37:49.246290Z"
    }
   },
   "outputs": [
    {
     "name": "stdout",
     "output_type": "stream",
     "text": [
      "Usando los factores P,L,U para resolver AX = B\n"
     ]
    },
    {
     "data": {
      "text/plain": [
       "array([[ 7, -1],\n",
       "       [13,  6],\n",
       "       [ 5,  7]])"
      ]
     },
     "execution_count": 32,
     "metadata": {},
     "output_type": "execute_result"
    }
   ],
   "source": [
    "print('Usando los factores P,L,U para resolver AX = B')\n",
    "B = np.array([[7,-1],[13,6],[5,7]])\n",
    "B"
   ]
  },
  {
   "cell_type": "code",
   "execution_count": 33,
   "metadata": {
    "ExecuteTime": {
     "end_time": "2020-06-23T23:37:51.100526Z",
     "start_time": "2020-06-23T23:37:51.096775Z"
    }
   },
   "outputs": [
    {
     "data": {
      "text/plain": [
       "array([[ 7.        , -1.        ],\n",
       "       [ 9.5       ,  6.5       ],\n",
       "       [-5.07692308,  3.        ]])"
      ]
     },
     "execution_count": 33,
     "metadata": {},
     "output_type": "execute_result"
    }
   ],
   "source": [
    "D = scipy.linalg.solve_triangular(L, P@B, lower=True)\n",
    "D"
   ]
  },
  {
   "cell_type": "markdown",
   "metadata": {},
   "source": [
    "#### Paso 3: $UX = d$"
   ]
  },
  {
   "cell_type": "code",
   "execution_count": 34,
   "metadata": {
    "ExecuteTime": {
     "end_time": "2020-06-23T23:41:06.948392Z",
     "start_time": "2020-06-23T23:41:06.943531Z"
    }
   },
   "outputs": [
    {
     "data": {
      "text/plain": [
       "array([[ 7.33333333, -1.83333333],\n",
       "       [ 0.33333333,  1.66666667],\n",
       "       [-3.66666667,  2.16666667]])"
      ]
     },
     "execution_count": 34,
     "metadata": {},
     "output_type": "execute_result"
    }
   ],
   "source": [
    "X = scipy.linalg.solve_triangular(U, D) #by default parameter lower is False\n",
    "X"
   ]
  },
  {
   "cell_type": "code",
   "execution_count": 35,
   "metadata": {
    "ExecuteTime": {
     "end_time": "2020-06-23T23:41:10.874436Z",
     "start_time": "2020-06-23T23:41:10.870714Z"
    }
   },
   "outputs": [
    {
     "name": "stdout",
     "output_type": "stream",
     "text": [
      "X:\n",
      "array([[ 7.33333333, -1.83333333],\n",
      "       [ 0.33333333,  1.66666667],\n",
      "       [-3.66666667,  2.16666667]])\n"
     ]
    }
   ],
   "source": [
    "print('X:')\n",
    "pprint.pprint(X)"
   ]
  },
  {
   "cell_type": "code",
   "execution_count": 36,
   "metadata": {
    "ExecuteTime": {
     "end_time": "2020-06-23T23:41:13.073512Z",
     "start_time": "2020-06-23T23:41:13.069740Z"
    }
   },
   "outputs": [
    {
     "name": "stdout",
     "output_type": "stream",
     "text": [
      "Verificando resultado AX = B\n",
      "B:\n",
      "array([[ 7, -1],\n",
      "       [13,  6],\n",
      "       [ 5,  7]])\n",
      "AX:\n",
      "array([[ 7., -1.],\n",
      "       [13.,  6.],\n",
      "       [ 5.,  7.]])\n"
     ]
    }
   ],
   "source": [
    "print('Verificando resultado AX = B')\n",
    "print('B:')\n",
    "pprint.pprint(B)\n",
    "print('AX:')\n",
    "pprint.pprint(A@X)"
   ]
  },
  {
   "cell_type": "markdown",
   "metadata": {},
   "source": [
    "Otra matriz de permutación podría ser"
   ]
  },
  {
   "cell_type": "markdown",
   "metadata": {},
   "source": [
    "$$\n",
    "\\begin{array}{ccc}\n",
    "0 & 1 & 0\\\\\n",
    "1 & 0 & 0\\\\\n",
    "0 & 0 & 1\\\\\n",
    "\\end{array}\n",
    "$$"
   ]
  },
  {
   "cell_type": "markdown",
   "metadata": {},
   "source": [
    "### Ejercicio anterior con la factorización QR del paquete `numpy`"
   ]
  },
  {
   "cell_type": "markdown",
   "metadata": {},
   "source": [
    "**¿Dado el sistema $Ax=b$, $A \\in \\mathbb{R}^{n \\times n}$ cómo se resuelve con la factorización $QR$?**"
   ]
  },
  {
   "cell_type": "markdown",
   "metadata": {},
   "source": [
    "* **Paso 1: encontrar factores $Q,R$ tales que $A=QR$.**"
   ]
  },
  {
   "cell_type": "code",
   "execution_count": 37,
   "metadata": {
    "ExecuteTime": {
     "end_time": "2020-06-23T23:54:21.079917Z",
     "start_time": "2020-06-23T23:54:21.073449Z"
    }
   },
   "outputs": [],
   "source": [
    "Q, R = np.linalg.qr(A)"
   ]
  },
  {
   "cell_type": "code",
   "execution_count": 38,
   "metadata": {
    "ExecuteTime": {
     "end_time": "2020-06-23T23:54:21.694098Z",
     "start_time": "2020-06-23T23:54:21.690011Z"
    }
   },
   "outputs": [
    {
     "name": "stdout",
     "output_type": "stream",
     "text": [
      "A:\n",
      "array([[ 2, -1,  2],\n",
      "       [ 1,  6, -1],\n",
      "       [ 1,  4,  1]])\n",
      "Q:\n",
      "array([[-0.81649658,  0.56354707, -0.12549116],\n",
      "       [-0.40824829, -0.71724173, -0.56471022],\n",
      "       [-0.40824829, -0.40985242,  0.81569255]])\n",
      "R:\n",
      "array([[-2.44948974, -3.26598632, -1.63299316],\n",
      "       [ 0.        , -6.5064071 ,  1.43448345],\n",
      "       [ 0.        ,  0.        ,  1.12942045]])\n"
     ]
    }
   ],
   "source": [
    "print('A:')\n",
    "pprint.pprint(A)\n",
    "print('Q:')\n",
    "pprint.pprint(Q)\n",
    "print('R:')\n",
    "pprint.pprint(R)\n"
   ]
  },
  {
   "cell_type": "markdown",
   "metadata": {},
   "source": [
    "En esta factorización sabemos que la matriz $Q$ es ortogonal:\n",
    "\n",
    "$$Q^TQ = I$$\n",
    "\n",
    "También quiere decir que los productos puntos entre columnas es cero."
   ]
  },
  {
   "cell_type": "markdown",
   "metadata": {},
   "source": [
    "**Verificando la ortogonalidad:**\n",
    "\n",
    "- Norma de las columnas de $Q$"
   ]
  },
  {
   "cell_type": "code",
   "execution_count": 39,
   "metadata": {
    "ExecuteTime": {
     "end_time": "2020-06-23T23:58:25.143758Z",
     "start_time": "2020-06-23T23:58:25.139332Z"
    }
   },
   "outputs": [
    {
     "data": {
      "text/plain": [
       "0.9999999999999999"
      ]
     },
     "execution_count": 39,
     "metadata": {},
     "output_type": "execute_result"
    }
   ],
   "source": [
    "np.linalg.norm(Q[:, 0])"
   ]
  },
  {
   "cell_type": "code",
   "execution_count": 40,
   "metadata": {
    "ExecuteTime": {
     "end_time": "2020-06-23T23:58:45.911257Z",
     "start_time": "2020-06-23T23:58:45.907918Z"
    }
   },
   "outputs": [
    {
     "data": {
      "text/plain": [
       "0.9999999999999999"
      ]
     },
     "execution_count": 40,
     "metadata": {},
     "output_type": "execute_result"
    }
   ],
   "source": [
    "np.linalg.norm(Q[:, 1])"
   ]
  },
  {
   "cell_type": "code",
   "execution_count": 41,
   "metadata": {
    "ExecuteTime": {
     "end_time": "2020-06-23T23:58:45.911257Z",
     "start_time": "2020-06-23T23:58:45.907918Z"
    }
   },
   "outputs": [
    {
     "data": {
      "text/plain": [
       "1.0"
      ]
     },
     "execution_count": 41,
     "metadata": {},
     "output_type": "execute_result"
    }
   ],
   "source": [
    "np.linalg.norm(Q[:, 2])"
   ]
  },
  {
   "cell_type": "markdown",
   "metadata": {},
   "source": [
    "- Productos puntos entre 1ra y 2da columna"
   ]
  },
  {
   "cell_type": "code",
   "execution_count": 42,
   "metadata": {
    "ExecuteTime": {
     "end_time": "2020-06-23T23:59:20.395248Z",
     "start_time": "2020-06-23T23:59:20.391214Z"
    }
   },
   "outputs": [
    {
     "data": {
      "text/plain": [
       "-2.7755575615628914e-17"
      ]
     },
     "execution_count": 42,
     "metadata": {},
     "output_type": "execute_result"
    }
   ],
   "source": [
    "Q[:, 0].dot(Q[:, 1])"
   ]
  },
  {
   "cell_type": "markdown",
   "metadata": {},
   "source": [
    "- Cálculo de la siguiente igualdad:\n",
    "\n",
    "$$Q^TQ = I$$"
   ]
  },
  {
   "cell_type": "code",
   "execution_count": 55,
   "metadata": {
    "ExecuteTime": {
     "end_time": "2020-06-24T00:17:47.230062Z",
     "start_time": "2020-06-24T00:17:47.226737Z"
    }
   },
   "outputs": [
    {
     "data": {
      "text/plain": [
       "array([[ 1.00000000e+00, -1.57222206e-17,  4.07309668e-17],\n",
       "       [-1.57222206e-17,  1.00000000e+00, -6.35279172e-17],\n",
       "       [ 4.07309668e-17, -6.35279172e-17,  1.00000000e+00]])"
      ]
     },
     "execution_count": 55,
     "metadata": {},
     "output_type": "execute_result"
    }
   ],
   "source": [
    "Q.T.dot(Q)"
   ]
  },
  {
   "cell_type": "code",
   "execution_count": 57,
   "metadata": {
    "ExecuteTime": {
     "end_time": "2020-06-24T00:18:48.053277Z",
     "start_time": "2020-06-24T00:18:48.048162Z"
    }
   },
   "outputs": [
    {
     "data": {
      "text/plain": [
       "True"
      ]
     },
     "execution_count": 57,
     "metadata": {},
     "output_type": "execute_result"
    }
   ],
   "source": [
    "Q.T.dot(Q) == approx(np.eye(3))"
   ]
  },
  {
   "cell_type": "code",
   "execution_count": 43,
   "metadata": {
    "ExecuteTime": {
     "end_time": "2020-06-24T00:00:08.863458Z",
     "start_time": "2020-06-24T00:00:08.859666Z"
    }
   },
   "outputs": [
    {
     "name": "stdout",
     "output_type": "stream",
     "text": [
      "Verificando que es igual A al producto QR\n",
      "QR:\n",
      "array([[ 2., -1.,  2.],\n",
      "       [ 1.,  6., -1.],\n",
      "       [ 1.,  4.,  1.]])\n",
      "A\n",
      "array([[ 2, -1,  2],\n",
      "       [ 1,  6, -1],\n",
      "       [ 1,  4,  1]])\n"
     ]
    }
   ],
   "source": [
    "print('Verificando que es igual A al producto QR')\n",
    "print('QR:')\n",
    "pprint.pprint(Q@R)\n",
    "print('A')\n",
    "pprint.pprint(A)"
   ]
  },
  {
   "cell_type": "markdown",
   "metadata": {},
   "source": [
    "* **Paso 2: resolver con el método de sustitución hacia atrás el sistema triangular superior $Rx=Q^Tb$.**"
   ]
  },
  {
   "cell_type": "markdown",
   "metadata": {},
   "source": [
    "Resolvemos: $RX = QˆTB$"
   ]
  },
  {
   "cell_type": "code",
   "execution_count": 44,
   "metadata": {
    "ExecuteTime": {
     "end_time": "2020-06-24T00:02:25.228107Z",
     "start_time": "2020-06-24T00:02:25.222260Z"
    }
   },
   "outputs": [
    {
     "name": "stdout",
     "output_type": "stream",
     "text": [
      "Usando los factores Q,R para resolver AX = B\n"
     ]
    }
   ],
   "source": [
    "print('Usando los factores Q,R para resolver AX = B')\n",
    "X = scipy.linalg.solve_triangular(R, Q.T@B) #by default parameter lower is False\n"
   ]
  },
  {
   "cell_type": "code",
   "execution_count": 45,
   "metadata": {
    "ExecuteTime": {
     "end_time": "2020-06-24T00:02:25.517200Z",
     "start_time": "2020-06-24T00:02:25.513779Z"
    }
   },
   "outputs": [
    {
     "name": "stdout",
     "output_type": "stream",
     "text": [
      "X:\n",
      "array([[ 7.33333333, -1.83333333],\n",
      "       [ 0.33333333,  1.66666667],\n",
      "       [-3.66666667,  2.16666667]])\n"
     ]
    }
   ],
   "source": [
    "print('X:')\n",
    "pprint.pprint(X)"
   ]
  },
  {
   "cell_type": "code",
   "execution_count": 46,
   "metadata": {
    "ExecuteTime": {
     "end_time": "2020-06-24T00:02:25.741320Z",
     "start_time": "2020-06-24T00:02:25.737068Z"
    }
   },
   "outputs": [
    {
     "name": "stdout",
     "output_type": "stream",
     "text": [
      "Verificando resultado AX = B\n",
      "B:\n",
      "array([[ 7, -1],\n",
      "       [13,  6],\n",
      "       [ 5,  7]])\n",
      "AX:\n",
      "array([[ 7., -1.],\n",
      "       [13.,  6.],\n",
      "       [ 5.,  7.]])\n"
     ]
    }
   ],
   "source": [
    "print('Verificando resultado AX = B')\n",
    "print('B:')\n",
    "pprint.pprint(B)\n",
    "print('AX:')\n",
    "pprint.pprint(A@X)"
   ]
  },
  {
   "cell_type": "markdown",
   "metadata": {},
   "source": [
    "**(Tarea) Ejercicio: resolver los sistemas de ecuaciones lineales $Ax = b$ con la factorización P,L,U y QR. Para esto crear un módulo con nombre `solve_linear_system_of_equations.py` y colocar en tal módulo las siguientes funciones de Python:**"
   ]
  },
  {
   "cell_type": "markdown",
   "metadata": {},
   "source": [
    "Para factorización `PLU`:"
   ]
  },
  {
   "cell_type": "markdown",
   "metadata": {},
   "source": [
    "```\n",
    "def PLU(matrix, rhs):\n",
    "    \"\"\"\n",
    "    Compute numerical approximation to linear system of equations Ax=b using\n",
    "    factorization PLU via scipy.\n",
    "    Args:\n",
    "        matrix (numpy 2d array of floats): Square system matrix.\n",
    "        rhs (numpy 1d array of floats): Right hand side of linear system of equations.\n",
    "    Returns:\n",
    "        x (numpy 1d array of floats or string): solution of Ax=b if A is square, if not returns string \n",
    "        \"System matrix must be square\"\n",
    "    \"\"\"\n",
    "```"
   ]
  },
  {
   "cell_type": "markdown",
   "metadata": {},
   "source": [
    "Para factorización `QR`:"
   ]
  },
  {
   "cell_type": "markdown",
   "metadata": {},
   "source": [
    "```\n",
    "def QR(matrix, rhs):\n",
    "    \"\"\"\n",
    "    Compute numerical approximation to linear system of equations Ax=b using\n",
    "    factorization QR via numpy.\n",
    "    Args:\n",
    "        matrix (numpy 2d array of floats): Square system matrix.\n",
    "        rhs (numpy 1d array of floats): Right hand side of linear system of equations.\n",
    "    Returns:\n",
    "        x (numpy 1d array of floats or string): solution of Ax=b if A is square, if not returns string \n",
    "        \"System matrix must be square\"\n",
    "    \"\"\"\n",
    "```"
   ]
  },
  {
   "cell_type": "markdown",
   "metadata": {},
   "source": [
    "**La implementación de ambas funciones deben realizar un chequeo de dimensiones (ver *docstring* anteriores para saber qué mensaje deben regresar si la matriz del sistema no es cuadrada)**."
   ]
  },
  {
   "cell_type": "markdown",
   "metadata": {},
   "source": [
    "## Referencias:\n",
    "* [numpy.linalg.solve](https://docs.scipy.org/doc/numpy/reference/generated/numpy.linalg.solve.html)\n",
    "* [scipy.linalg.lu](https://docs.scipy.org/doc/scipy-0.14.0/reference/generated/scipy.linalg.lu.html)\n",
    "* [scipy.linalg.solve_triangular](https://docs.scipy.org/doc/scipy/reference/generated/scipy.linalg.solve_triangular.html)"
   ]
  },
  {
   "cell_type": "markdown",
   "metadata": {},
   "source": [
    "### Algoritmos iterativos"
   ]
  },
  {
   "cell_type": "markdown",
   "metadata": {},
   "source": [
    "A diferencia de los algoritmos directos que utilizan un número finito de pasos para resolver un sistema de ecuaciones lineales, esta clase de algoritmos utilizan un punto inicial y con un proceso iterativo van mejorando la solución hasta que se satisfaga un criterio de paro. Típicamente tienen un desempeño más lento que los directos pero aprovechan mejor la estructura de las matrices. Dependiendo de las características de las matrices convergen o no a la solución.\n",
    "\n",
    "Revisar sección 2.7 del libro de texto de J. Kiusalas Numerical Methods in Engineering with Python 3:\n",
    "\n",
    "* Gauss-Seidel.\n",
    "* Gradiente conjugado.\n"
   ]
  }
 ],
 "metadata": {
  "kernelspec": {
   "display_name": "Python 3",
   "language": "python",
   "name": "python3"
  },
  "language_info": {
   "codemirror_mode": {
    "name": "ipython",
    "version": 3
   },
   "file_extension": ".py",
   "mimetype": "text/x-python",
   "name": "python",
   "nbconvert_exporter": "python",
   "pygments_lexer": "ipython3",
   "version": "3.7.4"
  }
 },
 "nbformat": 4,
 "nbformat_minor": 4
}
