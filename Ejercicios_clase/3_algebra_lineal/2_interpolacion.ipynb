{
 "cells": [
  {
   "cell_type": "markdown",
   "metadata": {},
   "source": [
    "**Notas para contenedor de docker:**"
   ]
  },
  {
   "cell_type": "markdown",
   "metadata": {},
   "source": [
    "Comando de docker para ejecución de la nota de forma local:\n",
    "\n",
    "nota: cambiar `dir_montar` por la ruta de directorio que se desea mapear a `/datos` dentro del contenedor de docker.\n",
    "\n",
    "```\n",
    "dir_montar=<ruta completa de mi máquina a mi directorio>#aquí colocar la ruta al directorio a montar, por ejemplo: \n",
    "#dir_montar=/Users/erick/midirectorio.\n",
    "```\n",
    "\n",
    "Ejecutar:\n",
    "\n",
    "```\n",
    "$docker run --rm -v $dir_montar:/datos --name jupyterlab_prope_r_kernel_tidyverse -p 8888:8888 -d palmoreck/jupyterlab_prope_r_kernel_tidyverse:2.1.4   \n",
    "\n",
    "```"
   ]
  },
  {
   "cell_type": "markdown",
   "metadata": {},
   "source": [
    "Ir a `localhost:8888` y escribir el password para jupyterlab: `qwerty`\n",
    "\n",
    "Detener el contenedor de docker:\n",
    "\n",
    "```\n",
    "docker stop jupyterlab_prope_r_kernel_tidyverse\n",
    "```\n"
   ]
  },
  {
   "cell_type": "markdown",
   "metadata": {},
   "source": [
    "Documentación de la imagen de docker `palmoreck/jupyterlab_prope_r_kernel_tidyverse:2.1.4` en [liga](https://github.com/palmoreck/dockerfiles/tree/master/jupyterlab/prope_r_kernel_tidyverse)."
   ]
  },
  {
   "cell_type": "markdown",
   "metadata": {},
   "source": [
    "---"
   ]
  },
  {
   "cell_type": "markdown",
   "metadata": {},
   "source": [
    "Para ejecución de la nota usar:\n",
    "\n",
    "[docker](https://www.docker.com/) (instalación de forma **local** con [Get docker](https://docs.docker.com/install/)) y ejecutar comandos que están al inicio de la nota de forma **local**. \n",
    "\n",
    "**Esta nota utiliza la versión clásica de notebooks de jupyter a través del siguiente botón:**"
   ]
  },
  {
   "cell_type": "markdown",
   "metadata": {},
   "source": [
    "[![Binder](https://mybinder.org/badge_logo.svg)](https://mybinder.org/v2/gh/palmoreck/dockerfiles-for-binder/jupyterlab_prope_r_kernel_tidyerse?urlpath=/tree/Propedeutico/Python/clases/3_algebra_lineal/2_interpolacion.ipynb) esta opción crea una máquina individual en un servidor de Google, clona el repositorio y permite la ejecución de los notebooks de jupyter. **Se utiliza la versión clásica pues se usará el comando de magic `%matplotlib notebook`**"
   ]
  },
  {
   "cell_type": "markdown",
   "metadata": {},
   "source": [
    "[![Run on Repl.it](https://repl.it/badge/github/palmoreck/dummy)](https://repl.it/languages/python3) Esta opción no clona el repositorio, no ejecuta los notebooks de jupyter pero permite ejecución de instrucciones de Python de forma colaborativa con [repl.it](https://repl.it/). Al dar click se crearán nuevos ***repl*** debajo de sus users de ***repl.it***.\n"
   ]
  },
  {
   "cell_type": "markdown",
   "metadata": {},
   "source": [
    "# Interpolación"
   ]
  },
  {
   "cell_type": "markdown",
   "metadata": {},
   "source": [
    "Dados $n+1$ puntos $x_0,x_1,\\dots,x_n$ el objetivo es construir una función $f(x)$ tal que $f(x_i) = y_i$ con $y_i$ conocido $\\forall i=0,1,\\dots,n$."
   ]
  },
  {
   "cell_type": "markdown",
   "metadata": {},
   "source": [
    "<img src=\"https://dl.dropboxusercontent.com/s/m0gks881yffz85f/interpolacion.jpg?dl=0\" heigth=\"300\" width=\"300\">"
   ]
  },
  {
   "cell_type": "markdown",
   "metadata": {},
   "source": [
    "Entre las aplicaciones en interpolación se encuentran:\n",
    "\n",
    "* Reconstrucción de funciones.\n",
    "* Aproximación a derivadas e integrales.\n",
    "* Estimación de funciones en cantidades no conocidas."
   ]
  },
  {
   "cell_type": "markdown",
   "metadata": {},
   "source": [
    "## Modelo en interpolación"
   ]
  },
  {
   "cell_type": "markdown",
   "metadata": {},
   "source": [
    "Típicamente el modelo $f$ es de la forma $f(x|w) = \\displaystyle \\sum_{j=0}^nw_j \\phi_j(x)$ con $\\phi_j:\\mathbb{R} \\rightarrow \\mathbb{R}$ funciones conocidas y $w_j$ parámetros desconocidos por determinar $\\forall j=0,1,\\dots,n$."
   ]
  },
  {
   "cell_type": "markdown",
   "metadata": {},
   "source": [
    "- Tiene forma de sumas ponderada.\n",
    "\n",
    "- No estamos colocando ninguna restricción a las $w$s"
   ]
  },
  {
   "cell_type": "markdown",
   "metadata": {},
   "source": [
    "**Obs:**\n",
    "\n",
    "* Comúnmente las $\\phi_j$'s son funciones polinomiales, trigonométricas, racionales y exponenciales.\n",
    "* La notación $f(x|w)$ se utiliza para denotar que $w$ es un vector de parámetros a estimar."
   ]
  },
  {
   "cell_type": "markdown",
   "metadata": {},
   "source": [
    "## ¿Cómo ajustar el modelo anterior?"
   ]
  },
  {
   "cell_type": "markdown",
   "metadata": {},
   "source": [
    "El problema de interpolación conduce a plantear y posteriormente resolver un sistema de ecuaciones lineales de la forma $Aw = y$ pues la condición de interpolación es: $f(x_i|w_i) = y_i$, $\\forall i=0,1,\\dots,n$ con $A \\in \\mathbb{R}^{{n+1}x{n+1}}$, $w,y \\in \\mathbb{R}^{n+1}$ definidas como sigue:"
   ]
  },
  {
   "cell_type": "markdown",
   "metadata": {},
   "source": [
    "$$A = \\left[\\begin{array}{cccc}\n",
    "\\phi_0(x_0) &\\phi_1(x_0)&\\dots&\\phi_n(x_0)\\\\\n",
    "\\phi_0(x_1) &\\phi_1(x_1)&\\dots&\\phi_n(x_1)\\\\\n",
    "\\vdots &\\vdots& \\vdots&\\vdots\\\\\n",
    "\\phi_0(x_n) &\\phi_1(x_n)&\\dots&\\phi_n(x_n)\n",
    "\\end{array}\n",
    "\\right],\n",
    "w=\n",
    "\\left[\\begin{array}{c}\n",
    "w_0\\\\\n",
    "w_1\\\\\n",
    "\\vdots \\\\\n",
    "w_n\n",
    "\\end{array}\n",
    "\\right] ,\n",
    "y=\n",
    "\\left[\\begin{array}{c}\n",
    "y_0\\\\\n",
    "y_1\\\\\n",
    "\\vdots \\\\\n",
    "y_n\n",
    "\\end{array}\n",
    "\\right]\n",
    "$$"
   ]
  },
  {
   "cell_type": "markdown",
   "metadata": {},
   "source": [
    "Esto es, hay que resolver: $$\\begin{array}{ccc} \\phi_0(x_0)w_0 + \\phi_1(x_0)w_1 + \\cdots + \\phi_n(x_0)w_n  &= & y_0 \\\\ \\phi_0(x_1)w_0 + \\phi_1(x_1)w_1 + \\cdots + \\phi_n(x_1)w_n  &= & y_1\\\\ \\vdots & & \\\\ \\phi_0(x_n)w_0 + \\phi_1(x_n)w_1 + \\cdots + \\phi_n(x_n)w_n  &= & y_n \\end{array}$$ "
   ]
  },
  {
   "cell_type": "markdown",
   "metadata": {},
   "source": [
    "que es la condición de  interpolación $f(x_i|w) = y_i \\forall i=0,1,\\dots,n$ bajo el modelo: $f(x|w) = \\displaystyle \\sum_{j=0}^nw_j \\phi_j(x)$ en notación **matricial**."
   ]
  },
  {
   "cell_type": "markdown",
   "metadata": {},
   "source": [
    "Por qué podemos reescribir a problema algebráico? -> Por la condición de interpolación."
   ]
  },
  {
   "cell_type": "markdown",
   "metadata": {},
   "source": [
    "## Interpolación polinomial: funciones $\\phi_j$'s son polinomios"
   ]
  },
  {
   "cell_type": "markdown",
   "metadata": {},
   "source": [
    "**En numpy ...**"
   ]
  },
  {
   "cell_type": "code",
   "execution_count": null,
   "metadata": {
    "ExecuteTime": {
     "end_time": "2020-07-03T01:01:40.708366Z",
     "start_time": "2020-07-03T01:01:40.329742Z"
    }
   },
   "outputs": [],
   "source": [
    "import numpy as np\n",
    "import matplotlib.pyplot as plt\n",
    "import pprint"
   ]
  },
  {
   "cell_type": "markdown",
   "metadata": {},
   "source": [
    "Supongamos que queremos realizar la interpolación a los siguientes puntos:"
   ]
  },
  {
   "cell_type": "code",
   "execution_count": null,
   "metadata": {
    "ExecuteTime": {
     "end_time": "2020-06-24T00:46:00.236148Z",
     "start_time": "2020-06-24T00:46:00.232590Z"
    }
   },
   "outputs": [],
   "source": [
    "#pseudorandom array\n",
    "np.random.seed(2000) #for reproducibility\n",
    "npoints = 6\n",
    "x = np.random.randn(npoints) + 10\n",
    "y = np.random.randn(npoints) - 10\n"
   ]
  },
  {
   "cell_type": "code",
   "execution_count": null,
   "metadata": {
    "ExecuteTime": {
     "end_time": "2020-06-24T00:46:01.492008Z",
     "start_time": "2020-06-24T00:46:01.487910Z"
    }
   },
   "outputs": [],
   "source": [
    "pprint.pprint('x:')\n",
    "pprint.pprint(x)\n",
    "pprint.pprint('y:')\n",
    "pprint.pprint(y)"
   ]
  },
  {
   "cell_type": "markdown",
   "metadata": {},
   "source": [
    "ver: [numpy.random.randn](https://docs.scipy.org/doc/numpy/reference/generated/numpy.random.randn.html#numpy.random.randn)"
   ]
  },
  {
   "cell_type": "markdown",
   "metadata": {},
   "source": [
    "**Los datos ejemplo**"
   ]
  },
  {
   "cell_type": "code",
   "execution_count": null,
   "metadata": {
    "ExecuteTime": {
     "end_time": "2020-06-24T00:46:09.737704Z",
     "start_time": "2020-06-24T00:46:09.599009Z"
    }
   },
   "outputs": [],
   "source": [
    "plt.plot(x,y, 'r*')\n",
    "plt.xlabel('x')\n",
    "plt.ylabel('y')\n",
    "plt.title('Puntos ejemplo')\n",
    "plt.show()"
   ]
  },
  {
   "cell_type": "markdown",
   "metadata": {},
   "source": [
    "Con numpy podemos usar la función `polyfit` en el paquete de `numpy` para realizar lo anterior: (ver [numpy.polyfit](https://docs.scipy.org/doc/numpy/reference/generated/numpy.polyfit.html))"
   ]
  },
  {
   "cell_type": "markdown",
   "metadata": {},
   "source": [
    "El tercer argumento de polyfit especifica el grado del polinomio a ajustar. Como tenemos `npoints = 6` puntos, entonces debemos generar un polinomio de grado $5$"
   ]
  },
  {
   "cell_type": "code",
   "execution_count": null,
   "metadata": {
    "ExecuteTime": {
     "end_time": "2020-06-24T00:48:02.656477Z",
     "start_time": "2020-06-24T00:48:02.653971Z"
    }
   },
   "outputs": [],
   "source": [
    "ndegree = npoints -1\n",
    "coefficients = np.polyfit(x,y,ndegree)"
   ]
  },
  {
   "cell_type": "markdown",
   "metadata": {},
   "source": [
    "Una vez realizado el llamado a la función `polyfit` se regresan los coeficientes de $x$ ordenados del mayor grado al menor."
   ]
  },
  {
   "cell_type": "code",
   "execution_count": null,
   "metadata": {
    "ExecuteTime": {
     "end_time": "2020-06-24T00:48:08.253554Z",
     "start_time": "2020-06-24T00:48:08.250360Z"
    }
   },
   "outputs": [],
   "source": [
    "np.set_printoptions(precision = 2) #sólo dos decimales que se muestren\n",
    "pprint.pprint(coefficients)"
   ]
  },
  {
   "cell_type": "markdown",
   "metadata": {},
   "source": [
    "Entonces nuestro polinomio es: $$p_{npoints}(x) = .0816x^5 -4.26x^4 +87.8x^3-895x^2+4500x-8980$$"
   ]
  },
  {
   "cell_type": "markdown",
   "metadata": {},
   "source": [
    "$$\\phi_0(x) = 1, \\phi_1(x) = x,    \\phi_2(x) = xˆ2 ... \\phi_5(xˆ5)$$"
   ]
  },
  {
   "cell_type": "markdown",
   "metadata": {},
   "source": [
    "**La gráfica**"
   ]
  },
  {
   "cell_type": "markdown",
   "metadata": {},
   "source": [
    "Ahora nos gustaría graficarlo en el intervalo `[min(x),max(x)]` con `min(x)` la entrada con valor mínimo del numpy array `x` y `max(x)` su entrada con valor máximo."
   ]
  },
  {
   "cell_type": "markdown",
   "metadata": {},
   "source": [
    "Para lo anterior debemos evaluar $p_{npoints}(x)$ en diferentes valores de $x$. Para esto, generamos un numpy array con un número de puntos `neval`:"
   ]
  },
  {
   "cell_type": "code",
   "execution_count": null,
   "metadata": {
    "ExecuteTime": {
     "end_time": "2020-06-24T00:49:01.051830Z",
     "start_time": "2020-06-24T00:49:01.049104Z"
    }
   },
   "outputs": [],
   "source": [
    "neval = 100\n",
    "xeval = np.linspace(min(x),max(x), neval)\n",
    "yeval = np.polyval(coefficients,xeval)"
   ]
  },
  {
   "cell_type": "code",
   "execution_count": null,
   "metadata": {
    "ExecuteTime": {
     "end_time": "2020-06-24T00:49:02.406334Z",
     "start_time": "2020-06-24T00:49:02.403600Z"
    }
   },
   "outputs": [],
   "source": [
    "print('xeval.shape:', xeval.shape[0])\n",
    "print('yeval.shape:', yeval.shape[0])"
   ]
  },
  {
   "cell_type": "code",
   "execution_count": null,
   "metadata": {
    "ExecuteTime": {
     "end_time": "2020-06-24T00:49:02.780275Z",
     "start_time": "2020-06-24T00:49:02.636018Z"
    }
   },
   "outputs": [],
   "source": [
    "plt.plot(x, y, 'r*', xeval, yeval, 'k-')\n",
    "plt.legend(['datos','interpolador'], loc='best')\n",
    "plt.show()"
   ]
  },
  {
   "cell_type": "code",
   "execution_count": null,
   "metadata": {
    "ExecuteTime": {
     "end_time": "2020-06-24T00:50:43.418121Z",
     "start_time": "2020-06-24T00:50:43.414131Z"
    }
   },
   "outputs": [],
   "source": [
    "max(yeval)"
   ]
  },
  {
   "cell_type": "markdown",
   "metadata": {},
   "source": [
    "Si tuviéramos que estimar cantidades negativas con nuestro interpolador, entonces la siguiente estimación calcularíamos:"
   ]
  },
  {
   "cell_type": "code",
   "execution_count": null,
   "metadata": {
    "ExecuteTime": {
     "end_time": "2020-06-24T00:50:45.805489Z",
     "start_time": "2020-06-24T00:50:45.801830Z"
    }
   },
   "outputs": [],
   "source": [
    "np.polyval(coefficients, 8.5)"
   ]
  },
  {
   "cell_type": "markdown",
   "metadata": {},
   "source": [
    "### Problema con: número de puntos y la interpolación polinomial"
   ]
  },
  {
   "cell_type": "markdown",
   "metadata": {},
   "source": [
    "Si incrementamos a 9 puntos por los que deseamos hacer pasar un interpolador tenemos:"
   ]
  },
  {
   "cell_type": "code",
   "execution_count": null,
   "metadata": {
    "ExecuteTime": {
     "end_time": "2020-06-24T01:25:23.623576Z",
     "start_time": "2020-06-24T01:25:23.608571Z"
    }
   },
   "outputs": [],
   "source": [
    "#pseudorandom array\n",
    "np.random.seed(2000) #for reproducibility\n",
    "npoints = 9\n",
    "x = np.random.randn(npoints) + 10\n",
    "y = np.random.randn(npoints) - 10"
   ]
  },
  {
   "cell_type": "code",
   "execution_count": null,
   "metadata": {
    "ExecuteTime": {
     "end_time": "2020-06-24T01:25:23.859530Z",
     "start_time": "2020-06-24T01:25:23.851612Z"
    }
   },
   "outputs": [],
   "source": [
    "pprint.pprint('x:')\n",
    "pprint.pprint(x)\n",
    "pprint.pprint('y:')\n",
    "pprint.pprint(y)"
   ]
  },
  {
   "cell_type": "markdown",
   "metadata": {},
   "source": [
    "**Los datos**"
   ]
  },
  {
   "cell_type": "code",
   "execution_count": null,
   "metadata": {
    "ExecuteTime": {
     "end_time": "2020-06-24T01:25:24.649004Z",
     "start_time": "2020-06-24T01:25:24.503217Z"
    }
   },
   "outputs": [],
   "source": [
    "plt.plot(x,y, 'r*')\n",
    "plt.xlabel('x')\n",
    "plt.ylabel('y')\n",
    "plt.title('Puntos ejemplo')\n",
    "plt.show()"
   ]
  },
  {
   "cell_type": "code",
   "execution_count": null,
   "metadata": {
    "ExecuteTime": {
     "end_time": "2020-06-24T01:25:25.017288Z",
     "start_time": "2020-06-24T01:25:25.009672Z"
    }
   },
   "outputs": [],
   "source": [
    "ndegree = npoints -1\n",
    "new_coefficients = np.polyfit(x,y,ndegree)\n",
    "pprint.pprint(new_coefficients)"
   ]
  },
  {
   "cell_type": "markdown",
   "metadata": {},
   "source": [
    "Nuestro polinomio ahora es (considerando dos dígitos a la derecha del punto decimal de los resultados anteriores): $$p_{npoints}(x) = 2.55x^8 -201x^7 + 6940x^6-1.36*10^5x^5+1.66*10^6x^4-1.3*10^7x^3 +6.31*10^7x^2-1.75*10^8x+2.11*10^8$$"
   ]
  },
  {
   "cell_type": "markdown",
   "metadata": {},
   "source": [
    "**La gráfica**"
   ]
  },
  {
   "cell_type": "code",
   "execution_count": null,
   "metadata": {
    "ExecuteTime": {
     "end_time": "2020-06-24T01:25:26.819179Z",
     "start_time": "2020-06-24T01:25:26.815706Z"
    }
   },
   "outputs": [],
   "source": [
    "neval = 100\n",
    "xeval = np.linspace(min(x),max(x), neval)\n",
    "yeval = np.polyval(new_coefficients,xeval)"
   ]
  },
  {
   "cell_type": "code",
   "execution_count": null,
   "metadata": {
    "ExecuteTime": {
     "end_time": "2020-06-24T01:25:26.987815Z",
     "start_time": "2020-06-24T01:25:26.984310Z"
    }
   },
   "outputs": [],
   "source": [
    "print('xeval.shape:', xeval.shape[0])\n",
    "print('yeval.shape:', yeval.shape[0])"
   ]
  },
  {
   "cell_type": "markdown",
   "metadata": {},
   "source": [
    "Obsérvese la oscilación que debe tener el polinomio de grado $9$ para pasar por los $10$ puntos:"
   ]
  },
  {
   "cell_type": "code",
   "execution_count": null,
   "metadata": {
    "ExecuteTime": {
     "end_time": "2020-06-24T01:25:27.638688Z",
     "start_time": "2020-06-24T01:25:27.500648Z"
    }
   },
   "outputs": [],
   "source": [
    "plt.plot(x, y, 'r*',xeval, yeval, 'k-')\n",
    "plt.legend(['datos','interpolador'], loc='best')\n",
    "plt.show()"
   ]
  },
  {
   "cell_type": "code",
   "execution_count": null,
   "metadata": {
    "ExecuteTime": {
     "end_time": "2020-06-24T01:25:27.744159Z",
     "start_time": "2020-06-24T01:25:27.739826Z"
    }
   },
   "outputs": [],
   "source": [
    "max(yeval)"
   ]
  },
  {
   "cell_type": "markdown",
   "metadata": {},
   "source": [
    "Este tipo de oscilación es típica al tener un polinomio mayor o igual a $6$ (más de $7$ puntos). Si tuviéramos que estimar cantidades negativas con nuestro interpolador, entonces la siguiente estimación sería errórena:"
   ]
  },
  {
   "cell_type": "code",
   "execution_count": null,
   "metadata": {
    "ExecuteTime": {
     "end_time": "2020-06-24T01:25:28.322069Z",
     "start_time": "2020-06-24T01:25:28.317909Z"
    }
   },
   "outputs": [],
   "source": [
    "np.polyval(new_coefficients,8.5)"
   ]
  },
  {
   "cell_type": "markdown",
   "metadata": {},
   "source": [
    "lo cual es erróneo."
   ]
  },
  {
   "cell_type": "markdown",
   "metadata": {},
   "source": [
    "**Nota**"
   ]
  },
  {
   "cell_type": "markdown",
   "metadata": {},
   "source": [
    "Los interpoladores obtenidos con alguno de los métodos anteriores se utilizan para estimar cantidades en el intervalo con el que fueron construídos. Si deseamos estimar fuera del intervalo debe de realizarse con cuidado pues se pueden tener estimaciones incorrectas."
   ]
  },
  {
   "cell_type": "code",
   "execution_count": null,
   "metadata": {},
   "outputs": [],
   "source": [
    "np.polyval(coefficients, 15)"
   ]
  },
  {
   "cell_type": "code",
   "execution_count": null,
   "metadata": {},
   "outputs": [],
   "source": [
    "np.polyval(new_coefficients, 15)"
   ]
  },
  {
   "cell_type": "markdown",
   "metadata": {},
   "source": [
    "### Polinomios piecewise"
   ]
  },
  {
   "cell_type": "markdown",
   "metadata": {},
   "source": [
    "Para arreglar la oscilación de interpoladores de grado alto, una solución es interpolar con polinomios de grado bajo en cada subintervalo compuesto por las $x$'s, esto es, una forma *piecewise*. En python se realiza con el método `interpolate` del paquete `scipy`:"
   ]
  },
  {
   "cell_type": "markdown",
   "metadata": {},
   "source": [
    "**Lineal**"
   ]
  },
  {
   "cell_type": "code",
   "execution_count": null,
   "metadata": {
    "ExecuteTime": {
     "end_time": "2020-06-24T01:27:34.943036Z",
     "start_time": "2020-06-24T01:27:32.849236Z"
    }
   },
   "outputs": [],
   "source": [
    "from scipy.interpolate import interp1d"
   ]
  },
  {
   "cell_type": "code",
   "execution_count": null,
   "metadata": {
    "ExecuteTime": {
     "end_time": "2020-06-24T01:27:55.819680Z",
     "start_time": "2020-06-24T01:27:55.816817Z"
    }
   },
   "outputs": [],
   "source": [
    "pw_l = interp1d(x, y) #linear piecewise "
   ]
  },
  {
   "cell_type": "code",
   "execution_count": null,
   "metadata": {
    "ExecuteTime": {
     "end_time": "2020-06-24T01:28:07.438534Z",
     "start_time": "2020-06-24T01:28:07.435027Z"
    }
   },
   "outputs": [],
   "source": [
    "neval = 100\n",
    "xeval = np.linspace(min(x),max(x), neval)\n",
    "yeval = pw_l(xeval)"
   ]
  },
  {
   "cell_type": "code",
   "execution_count": null,
   "metadata": {
    "ExecuteTime": {
     "end_time": "2020-06-24T01:29:01.376222Z",
     "start_time": "2020-06-24T01:29:01.372903Z"
    }
   },
   "outputs": [],
   "source": [
    "print('xeval.shape:', xeval.shape[0])\n",
    "print('yeval.shape:', yeval.shape[0])"
   ]
  },
  {
   "cell_type": "code",
   "execution_count": null,
   "metadata": {
    "ExecuteTime": {
     "end_time": "2020-06-24T01:29:04.938983Z",
     "start_time": "2020-06-24T01:29:04.796318Z"
    }
   },
   "outputs": [],
   "source": [
    "plt.plot(x, y, 'r*',xeval, yeval, 'k-')\n",
    "plt.legend(['datos','interpolador lineal piecewise'], loc='best')\n",
    "plt.show()"
   ]
  },
  {
   "cell_type": "markdown",
   "metadata": {},
   "source": [
    "Aunque se ha resuelto la estimación:"
   ]
  },
  {
   "cell_type": "code",
   "execution_count": null,
   "metadata": {
    "ExecuteTime": {
     "end_time": "2020-06-24T01:29:06.635488Z",
     "start_time": "2020-06-24T01:29:06.632374Z"
    }
   },
   "outputs": [],
   "source": [
    "print(pw_l(8.5))"
   ]
  },
  {
   "cell_type": "markdown",
   "metadata": {},
   "source": [
    "Lo malo de este método es que la función no es continua y no podemos sacar derivadas y así"
   ]
  },
  {
   "cell_type": "markdown",
   "metadata": {},
   "source": [
    "**Splines**"
   ]
  },
  {
   "cell_type": "markdown",
   "metadata": {},
   "source": [
    "Los *splines* se proponen en cuestiones de predicciones."
   ]
  },
  {
   "cell_type": "markdown",
   "metadata": {},
   "source": [
    "Los *splines* cúbicos *piecewise* resuelven la no diferenciabilidad del interpolador lineal en los puntos dados:"
   ]
  },
  {
   "cell_type": "code",
   "execution_count": null,
   "metadata": {
    "ExecuteTime": {
     "end_time": "2020-06-24T01:31:24.318617Z",
     "start_time": "2020-06-24T01:31:24.313677Z"
    }
   },
   "outputs": [],
   "source": [
    "pw_spline = interp1d(x, y, kind = 'cubic') #spline piecewise \n",
    "neval = 100\n",
    "xeval = np.linspace(min(x),max(x), neval)\n",
    "yeval = pw_spline(xeval)"
   ]
  },
  {
   "cell_type": "code",
   "execution_count": null,
   "metadata": {
    "ExecuteTime": {
     "end_time": "2020-06-24T01:31:24.602793Z",
     "start_time": "2020-06-24T01:31:24.598887Z"
    }
   },
   "outputs": [],
   "source": [
    "print('xeval.shape:', xeval.shape[0])\n",
    "print('yeval.shape:', yeval.shape[0])"
   ]
  },
  {
   "cell_type": "code",
   "execution_count": null,
   "metadata": {
    "ExecuteTime": {
     "end_time": "2020-06-24T01:31:24.918139Z",
     "start_time": "2020-06-24T01:31:24.770278Z"
    }
   },
   "outputs": [],
   "source": [
    "plt.plot(x, y, 'r*',xeval, yeval, 'k-')\n",
    "plt.legend(['datos','cubic splines piecewise'], loc='best')\n",
    "plt.show()"
   ]
  },
  {
   "cell_type": "code",
   "execution_count": null,
   "metadata": {
    "ExecuteTime": {
     "end_time": "2020-06-24T01:31:25.156807Z",
     "start_time": "2020-06-24T01:31:25.153681Z"
    }
   },
   "outputs": [],
   "source": [
    "print(pw_spline(8.5))"
   ]
  },
  {
   "cell_type": "markdown",
   "metadata": {},
   "source": [
    "Ver: [Interpolation (scipy.interpolate)](https://docs.scipy.org/doc/scipy/reference/tutorial/interpolate.html)"
   ]
  },
  {
   "cell_type": "markdown",
   "metadata": {},
   "source": [
    "### Ejercicio Tarea"
   ]
  },
  {
   "cell_type": "markdown",
   "metadata": {},
   "source": [
    "- [x] **Interpolar con 10 puntos generados de la función de [Runge](https://en.wikipedia.org/wiki/Runge%27s_phenomenon) $f(x) = \\frac{1}{1+25x^2}$ en el intervalo $[-1,1]$ equidistantes. Hacer la gráfica con $10,000$ puntos en el mismo intervalo. Utilizar polyfit para el polinomio interpolador y splines cúbicos.**"
   ]
  },
  {
   "cell_type": "markdown",
   "metadata": {},
   "source": [
    "#### Imports"
   ]
  },
  {
   "cell_type": "code",
   "execution_count": null,
   "metadata": {
    "ExecuteTime": {
     "end_time": "2020-07-03T01:23:15.678041Z",
     "start_time": "2020-07-03T01:23:15.437452Z"
    }
   },
   "outputs": [],
   "source": [
    "## Python libraries\n",
    "import numpy as np\n",
    "from scipy.interpolate import interp1d\n",
    "import matplotlib.pyplot as plt"
   ]
  },
  {
   "cell_type": "markdown",
   "metadata": {},
   "source": [
    "#### Initial parameters"
   ]
  },
  {
   "cell_type": "code",
   "execution_count": null,
   "metadata": {
    "ExecuteTime": {
     "end_time": "2020-07-03T01:23:16.281046Z",
     "start_time": "2020-07-03T01:23:16.277342Z"
    }
   },
   "outputs": [],
   "source": [
    "x = np.linspace(-1, 1, 10, endpoint=True)\n",
    "\n",
    "f = lambda x: 1/(1 + 25*x**2)\n",
    "\n",
    "y = [f(v) for v in x]"
   ]
  },
  {
   "cell_type": "markdown",
   "metadata": {},
   "source": [
    "#### Interpolation"
   ]
  },
  {
   "cell_type": "markdown",
   "metadata": {},
   "source": [
    "**Polynomial interpolation *polyfit***"
   ]
  },
  {
   "cell_type": "code",
   "execution_count": null,
   "metadata": {
    "ExecuteTime": {
     "end_time": "2020-07-03T01:23:16.954911Z",
     "start_time": "2020-07-03T01:23:16.951734Z"
    }
   },
   "outputs": [],
   "source": [
    "## Obtaining coefficients of polynomial\n",
    "n_degree = len(x) - 1\n",
    "coefficients = np.polyfit(x, y, n_degree)"
   ]
  },
  {
   "cell_type": "code",
   "execution_count": null,
   "metadata": {
    "ExecuteTime": {
     "end_time": "2020-07-03T01:23:17.147464Z",
     "start_time": "2020-07-03T01:23:17.143537Z"
    }
   },
   "outputs": [],
   "source": [
    "## Evaluating polynomial in selected number of points\n",
    "n_eval_p = 10000\n",
    "x_eval_p = np.linspace(min(x), max(x), n_eval_p, endpoint=True)\n",
    "y_eval_p = np.polyval(coefficients, x_eval_p)"
   ]
  },
  {
   "cell_type": "markdown",
   "metadata": {},
   "source": [
    "**Splines**"
   ]
  },
  {
   "cell_type": "code",
   "execution_count": null,
   "metadata": {
    "ExecuteTime": {
     "end_time": "2020-07-03T01:23:17.511657Z",
     "start_time": "2020-07-03T01:23:17.508486Z"
    }
   },
   "outputs": [],
   "source": [
    "## Obtaining spline interpolation\n",
    "pw_spline = interp1d(x, y, kind='cubic')"
   ]
  },
  {
   "cell_type": "code",
   "execution_count": null,
   "metadata": {
    "ExecuteTime": {
     "end_time": "2020-07-03T01:23:17.741259Z",
     "start_time": "2020-07-03T01:23:17.737108Z"
    }
   },
   "outputs": [],
   "source": [
    "## Evaluating spline interpolation in selected number of points\n",
    "n_eval_s = 10000\n",
    "x_eval_s = np.linspace(min(x), max(x), n_eval_s, endpoint=True)\n",
    "y_eval_s = pw_spline(x_eval_s)"
   ]
  },
  {
   "cell_type": "markdown",
   "metadata": {},
   "source": [
    "#### Plot"
   ]
  },
  {
   "cell_type": "code",
   "execution_count": null,
   "metadata": {
    "ExecuteTime": {
     "end_time": "2020-07-03T01:24:51.985592Z",
     "start_time": "2020-07-03T01:24:51.804398Z"
    }
   },
   "outputs": [],
   "source": [
    "plt.plot(\n",
    "    x, y, 'b*',\n",
    "    x_eval_p, y_eval_p, 'k-',\n",
    "    x_eval_s, y_eval_s, 'r-',\n",
    ")\n",
    "\n",
    "plt.title('Interpolation of Runge function')\n",
    "plt.legend(['datos', 'polifit', 'splines'])\n",
    "plt.xlabel('Independent variable')\n",
    "plt.ylabel('Dependent variable')"
   ]
  },
  {
   "cell_type": "markdown",
   "metadata": {},
   "source": [
    "# Curvas paramétricas e interpolación"
   ]
  },
  {
   "cell_type": "markdown",
   "metadata": {},
   "source": [
    "Ninguna de las técnicas vistas anteriormente pueden usarse para generar curvas como la de una circunferencia:"
   ]
  },
  {
   "cell_type": "markdown",
   "metadata": {},
   "source": [
    "- La circunferenciano es una función (si trazas una recta vertical por todo el rango solo debe de tocar un punto)"
   ]
  },
  {
   "cell_type": "code",
   "execution_count": null,
   "metadata": {},
   "outputs": [],
   "source": [
    "radius = 1\n",
    "npoints = 100"
   ]
  },
  {
   "cell_type": "code",
   "execution_count": null,
   "metadata": {},
   "outputs": [],
   "source": [
    "x = np.linspace(-radius,radius,npoints)\n",
    "y1 = np.sqrt(radius-x**2)\n",
    "y2 = -np.sqrt(radius-x**2)"
   ]
  },
  {
   "cell_type": "code",
   "execution_count": null,
   "metadata": {
    "scrolled": true
   },
   "outputs": [],
   "source": [
    "plt.plot(x,y1,'m',\n",
    "         x,y2,'m')\n",
    "plt.title(\"Circunferencia\")\n",
    "plt.show()"
   ]
  },
  {
   "cell_type": "markdown",
   "metadata": {},
   "source": [
    "pues no puede expresarse como una función del tipo: $y = f(x)$. Obsérvese que para la gráfica anterior se han usado dos funciones: $y_1 = f_1(x) = \\sqrt{r-x^2}$, $y_2 = f_2(x) =  -\\sqrt{r-x^2}$."
   ]
  },
  {
   "cell_type": "markdown",
   "metadata": {},
   "source": [
    "Lo anterior puede resolverse definiendo una función, $f: \\mathbb{R} \\rightarrow \\mathbb{R}^2$, de un parámetro $t$ que tome valores en el intervalo $[0,2\\pi)$ y definida por $f(t) = (\\cos(t), \\sin(t))$. Obsérvese que para $t=0$ se obtiene el punto $(1,0)$, para $t=\\frac{\\pi}{2}$ se obtiene $(0,1)$ y así sucesivamente hasta $t=2\\pi$ en el que obtendríamos nuevamente el punto $(1,0)$. Para este caso se cumple:\n",
    "\n",
    "$$f(t) = (x(t), y(t))$$\n",
    "\n",
    "con $x(t) = \\cos(t)$, $y(t) = \\sin(t)$ funciones tales que $x : \\mathbb{R} \\rightarrow \\mathbb{R}$, $y: \\mathbb{R} \\rightarrow \\mathbb{R}$."
   ]
  },
  {
   "cell_type": "code",
   "execution_count": null,
   "metadata": {
    "ExecuteTime": {
     "end_time": "2020-06-24T01:56:42.279815Z",
     "start_time": "2020-06-24T01:56:42.277216Z"
    }
   },
   "outputs": [],
   "source": [
    "import time"
   ]
  },
  {
   "cell_type": "code",
   "execution_count": null,
   "metadata": {
    "ExecuteTime": {
     "end_time": "2020-06-24T01:56:42.657357Z",
     "start_time": "2020-06-24T01:56:42.651077Z"
    }
   },
   "outputs": [],
   "source": [
    "npoints = 100\n",
    "a = 0\n",
    "b = 2*np.pi\n",
    "t = np.linspace(a,b,npoints)\n",
    "x = np.cos(t)\n",
    "y = np.sin(t)\n",
    "x_min = np.min(x)\n",
    "y_min = np.min(y)\n",
    "x_max = np.max(x)\n",
    "y_max = np.max(y)"
   ]
  },
  {
   "cell_type": "markdown",
   "metadata": {},
   "source": [
    "Ver [plt.draw](https://matplotlib.org/3.1.1/api/_as_gen/matplotlib.pyplot.draw.html#matplotlib-pyplot-draw)"
   ]
  },
  {
   "cell_type": "code",
   "execution_count": null,
   "metadata": {
    "ExecuteTime": {
     "end_time": "2020-06-24T01:56:44.451668Z",
     "start_time": "2020-06-24T01:56:44.445478Z"
    }
   },
   "outputs": [],
   "source": [
    "def make_plot(ax, idx):\n",
    "    ax.plot(x[:idx], y[:idx])\n",
    "    window = 0.5\n",
    "    plt.xlim(x_min-window, x_max+window)\n",
    "    plt.ylim(y_min-window, y_max+window)\n",
    "    plt.plot(x[:idx], y[:idx], 'mo')\n",
    "    fig.canvas.draw() #redraw the current figure"
   ]
  },
  {
   "cell_type": "markdown",
   "metadata": {},
   "source": [
    "Ver: [matplotlib magic command](https://ipython.readthedocs.io/en/stable/interactive/magics.html#magic-matplotlib), [plt.subplots](https://matplotlib.org/3.2.1/api/_as_gen/matplotlib.pyplot.subplots.html#matplotlib-pyplot-subplots)"
   ]
  },
  {
   "cell_type": "code",
   "execution_count": null,
   "metadata": {
    "ExecuteTime": {
     "end_time": "2020-06-24T01:57:29.491074Z",
     "start_time": "2020-06-24T01:57:03.447150Z"
    },
    "scrolled": true
   },
   "outputs": [],
   "source": [
    "%matplotlib notebook\n",
    "fig, ax = plt.subplots() #create figure that will be used\n",
    "                         #in make_plot func. Also retrieve axes\n",
    "for idx,_ in enumerate(t): #enumerate creates tuples \n",
    "                           #in a sequentially way\n",
    "    make_plot(ax, idx)\n",
    "    time.sleep(0.2)"
   ]
  },
  {
   "cell_type": "markdown",
   "metadata": {},
   "source": [
    "**Nota: Hay que dar click en el botón arriba de la figura de apagar interactividad.**"
   ]
  },
  {
   "cell_type": "markdown",
   "metadata": {},
   "source": [
    "## Ejemplo"
   ]
  },
  {
   "cell_type": "markdown",
   "metadata": {},
   "source": [
    "Usemos la imagen siguiente para realizar una interpolación a una curva paramétrica con *splines*:"
   ]
  },
  {
   "cell_type": "code",
   "execution_count": null,
   "metadata": {
    "ExecuteTime": {
     "end_time": "2020-06-24T01:59:55.998970Z",
     "start_time": "2020-06-24T01:59:55.876258Z"
    }
   },
   "outputs": [],
   "source": [
    "!wget https://www.dropbox.com/s/25zbthmsco6u1u6/hummingbird.png?dl=0 -O hummingbird.png"
   ]
  },
  {
   "cell_type": "code",
   "execution_count": null,
   "metadata": {
    "ExecuteTime": {
     "end_time": "2020-06-24T01:58:42.093765Z",
     "start_time": "2020-06-24T01:58:42.074794Z"
    }
   },
   "outputs": [],
   "source": [
    "%%bash \n",
    "ls "
   ]
  },
  {
   "cell_type": "code",
   "execution_count": null,
   "metadata": {
    "ExecuteTime": {
     "end_time": "2020-06-24T02:01:00.748295Z",
     "start_time": "2020-06-24T02:01:00.508177Z"
    },
    "scrolled": true
   },
   "outputs": [],
   "source": [
    "img=plt.imread('hummingbird.png')\n",
    "plt.imshow(img)\n",
    "plt.title('Colibrí')\n",
    "plt.show()"
   ]
  },
  {
   "cell_type": "markdown",
   "metadata": {},
   "source": [
    "**Nota: Hay que dar click en el botón arriba de la figura de apagar interactividad.**"
   ]
  },
  {
   "cell_type": "markdown",
   "metadata": {},
   "source": [
    "**De manera interactiva vamos dando click a la imagen anterior con la siguiente celda, en la lista `pos` se irán guardando las coordenadas en donde hagamos click.**"
   ]
  },
  {
   "cell_type": "code",
   "execution_count": null,
   "metadata": {
    "ExecuteTime": {
     "end_time": "2020-06-24T02:02:05.696542Z",
     "start_time": "2020-06-24T02:02:05.668506Z"
    }
   },
   "outputs": [],
   "source": [
    "%matplotlib notebook\n",
    "fig, ax = plt.subplots()\n",
    "pos = []\n",
    "def onclick(event):\n",
    "    pos.append([event.xdata,event.ydata])\n",
    "fig.canvas.mpl_connect('button_press_event', onclick)\n",
    "plt.title('Colibrí')\n",
    "plt.imshow(img)"
   ]
  },
  {
   "cell_type": "code",
   "execution_count": null,
   "metadata": {
    "ExecuteTime": {
     "end_time": "2020-06-24T02:03:02.750686Z",
     "start_time": "2020-06-24T02:03:02.747508Z"
    }
   },
   "outputs": [],
   "source": [
    "pos"
   ]
  },
  {
   "cell_type": "markdown",
   "metadata": {},
   "source": [
    "**Nota: una vez obtenida la lista `pos` dar click en el botón de apagado de interactividad.**"
   ]
  },
  {
   "cell_type": "code",
   "execution_count": null,
   "metadata": {
    "ExecuteTime": {
     "end_time": "2020-06-24T02:02:10.458306Z",
     "start_time": "2020-06-24T02:02:10.455482Z"
    }
   },
   "outputs": [],
   "source": [
    "pos_array = np.array(pos)"
   ]
  },
  {
   "cell_type": "code",
   "execution_count": null,
   "metadata": {
    "ExecuteTime": {
     "end_time": "2020-06-24T02:02:10.707018Z",
     "start_time": "2020-06-24T02:02:10.700303Z"
    }
   },
   "outputs": [],
   "source": [
    "x = pos_array[:,0]"
   ]
  },
  {
   "cell_type": "markdown",
   "metadata": {},
   "source": [
    "Algunas entradas imprimimos de $x$:"
   ]
  },
  {
   "cell_type": "code",
   "execution_count": null,
   "metadata": {},
   "outputs": [],
   "source": [
    "x[0:10]"
   ]
  },
  {
   "cell_type": "code",
   "execution_count": null,
   "metadata": {},
   "outputs": [],
   "source": [
    "y = pos_array[:,1]"
   ]
  },
  {
   "cell_type": "markdown",
   "metadata": {},
   "source": [
    "Algunas entradas imprimimos de $y$:"
   ]
  },
  {
   "cell_type": "code",
   "execution_count": null,
   "metadata": {},
   "outputs": [],
   "source": [
    "y[0:10]"
   ]
  },
  {
   "cell_type": "markdown",
   "metadata": {},
   "source": [
    "Definamos nuestro parámetro $t$ en el intervalo $[0,1]$:"
   ]
  },
  {
   "cell_type": "code",
   "execution_count": null,
   "metadata": {},
   "outputs": [],
   "source": [
    "t = np.linspace(0,1, len(x))"
   ]
  },
  {
   "cell_type": "code",
   "execution_count": null,
   "metadata": {},
   "outputs": [],
   "source": [
    "t"
   ]
  },
  {
   "cell_type": "markdown",
   "metadata": {},
   "source": [
    "Construyamos el spline para las curvas $x(t)$, $y(t)$ que nos definirán las coordenadas."
   ]
  },
  {
   "cell_type": "code",
   "execution_count": null,
   "metadata": {},
   "outputs": [],
   "source": [
    "pw_spline_x = interp1d(t, x, kind = 'cubic') #spline piecewise \n",
    "pw_spline_y = interp1d(t,y, kind = 'cubic') #spline piecewise "
   ]
  },
  {
   "cell_type": "markdown",
   "metadata": {},
   "source": [
    "Realicemos interpolación en $100$ puntos:"
   ]
  },
  {
   "cell_type": "code",
   "execution_count": null,
   "metadata": {},
   "outputs": [],
   "source": [
    "neval = 100\n",
    "teval = np.linspace(min(t),max(t), neval)"
   ]
  },
  {
   "cell_type": "code",
   "execution_count": null,
   "metadata": {},
   "outputs": [],
   "source": [
    "xeval = pw_spline_x(teval)\n",
    "yeval = pw_spline_y(teval)"
   ]
  },
  {
   "cell_type": "code",
   "execution_count": null,
   "metadata": {},
   "outputs": [],
   "source": [
    "print('xeval.shape:', xeval.shape[0])\n",
    "print('yeval.shape:', yeval.shape[0])"
   ]
  },
  {
   "cell_type": "code",
   "execution_count": null,
   "metadata": {},
   "outputs": [],
   "source": [
    "xeval[0:10]"
   ]
  },
  {
   "cell_type": "code",
   "execution_count": null,
   "metadata": {
    "scrolled": true
   },
   "outputs": [],
   "source": [
    "yeval[0:10]"
   ]
  },
  {
   "cell_type": "code",
   "execution_count": null,
   "metadata": {},
   "outputs": [],
   "source": [
    "window_y = 50\n",
    "window_x = 500    \n",
    "x_min = np.min(x)\n",
    "y_min = np.min(y)\n",
    "x_max = np.max(x)\n",
    "y_max = np.max(y)"
   ]
  },
  {
   "cell_type": "code",
   "execution_count": null,
   "metadata": {},
   "outputs": [],
   "source": [
    "fig, ax = plt.subplots()\n",
    "ax.plot(xeval,yeval)\n",
    "ax.set_ylim(np.max(y)+window_y,np.min(y)-window_y)\n",
    "plt.xlim(np.min(x)-window_x,np.max(x)+window_x)\n",
    "plt.title('Colibrí con interpolación vía curva paramétrica')\n",
    "plt.show()"
   ]
  },
  {
   "cell_type": "code",
   "execution_count": null,
   "metadata": {},
   "outputs": [],
   "source": [
    "def make_plot(ax, idx):\n",
    "    ax.plot(x[:idx], y[:idx])\n",
    "    ax.set_ylim(y_max+window_y,y_min-window_y)\n",
    "    plt.xlim(x_min-window_x,x_max+window_x)\n",
    "    plt.plot(x[:idx], y[:idx], 'bo-')\n",
    "    plt.title('Colibrí con interpolación vía curva paramétrica')\n",
    "    fig.canvas.draw()"
   ]
  },
  {
   "cell_type": "code",
   "execution_count": null,
   "metadata": {
    "scrolled": true
   },
   "outputs": [],
   "source": [
    "%matplotlib notebook\n",
    "fig, ax = plt.subplots()\n",
    "for idx,_ in enumerate(t):\n",
    "    make_plot(ax, idx)\n",
    "    time.sleep(0.2)"
   ]
  },
  {
   "cell_type": "markdown",
   "metadata": {},
   "source": [
    "### Ejercicio 2"
   ]
  },
  {
   "cell_type": "markdown",
   "metadata": {},
   "source": [
    "- [x] **(Tarea) elegir una imagen y realizar interpolación con una curva paramétrica.**"
   ]
  },
  {
   "cell_type": "markdown",
   "metadata": {},
   "source": [
    "#### Imports"
   ]
  },
  {
   "cell_type": "code",
   "execution_count": 25,
   "metadata": {
    "ExecuteTime": {
     "end_time": "2020-07-03T12:39:42.808837Z",
     "start_time": "2020-07-03T12:39:42.805850Z"
    }
   },
   "outputs": [],
   "source": [
    "## Python libraries\n",
    "import matplotlib.pyplot as plt\n",
    "import numpy as np\n",
    "from scipy.interpolate import interp1d\n",
    "import time"
   ]
  },
  {
   "cell_type": "markdown",
   "metadata": {},
   "source": [
    "#### Reading image"
   ]
  },
  {
   "cell_type": "code",
   "execution_count": 2,
   "metadata": {
    "ExecuteTime": {
     "end_time": "2020-07-03T12:15:54.448957Z",
     "start_time": "2020-07-03T12:15:54.196776Z"
    }
   },
   "outputs": [
    {
     "data": {
      "image/png": "[encoded data removed]",
      "text/plain": [
       "<Figure size 432x288 with 1 Axes>"
      ]
     },
     "metadata": {
      "needs_background": "light"
     },
     "output_type": "display_data"
    }
   ],
   "source": [
    "img = plt.imread('h_and_a.png')\n",
    "plt.imshow(img)\n",
    "plt.title('Hamhocks and Armlocks')\n",
    "plt.show()"
   ]
  },
  {
   "cell_type": "markdown",
   "metadata": {},
   "source": [
    "#### Displaying interactive image and outlining silhouette"
   ]
  },
  {
   "cell_type": "code",
   "execution_count": 3,
   "metadata": {
    "ExecuteTime": {
     "end_time": "2020-07-03T12:15:57.801356Z",
     "start_time": "2020-07-03T12:15:57.769626Z"
    }
   },
   "outputs": [
    {
     "data": {
      "application/javascript": [
       "/* Put everything inside the global mpl namespace */\n",
       "window.mpl = {};\n",
       "\n",
       "\n",
       "mpl.get_websocket_type = function() {\n",
       "    if (typeof(WebSocket) !== 'undefined') {\n",
       "        return WebSocket;\n",
       "    } else if (typeof(MozWebSocket) !== 'undefined') {\n",
       "        return MozWebSocket;\n",
       "    } else {\n",
       "        alert('Your browser does not have WebSocket support. ' +\n",
       "              'Please try Chrome, Safari or Firefox ≥ 6. ' +\n",
       "              'Firefox 4 and 5 are also supported but you ' +\n",
       "              'have to enable WebSockets in about:config.');\n",
       "    };\n",
       "}\n",
       "\n",
       "mpl.figure = function(figure_id, websocket, ondownload, parent_element) {\n",
       "    this.id = figure_id;\n",
       "\n",
       "    this.ws = websocket;\n",
       "\n",
       "    this.supports_binary = (this.ws.binaryType != undefined);\n",
       "\n",
       "    if (!this.supports_binary) {\n",
       "        var warnings = document.getElementById(\"mpl-warnings\");\n",
       "        if (warnings) {\n",
       "            warnings.style.display = 'block';\n",
       "            warnings.textContent = (\n",
       "                \"This browser does not support binary websocket messages. \" +\n",
       "                    \"Performance may be slow.\");\n",
       "        }\n",
       "    }\n",
       "\n",
       "    this.imageObj = new Image();\n",
       "\n",
       "    this.context = undefined;\n",
       "    this.message = undefined;\n",
       "    this.canvas = undefined;\n",
       "    this.rubberband_canvas = undefined;\n",
       "    this.rubberband_context = undefined;\n",
       "    this.format_dropdown = undefined;\n",
       "\n",
       "    this.image_mode = 'full';\n",
       "\n",
       "    this.root = $('<div/>');\n",
       "    this._root_extra_style(this.root)\n",
       "    this.root.attr('style', 'display: inline-block');\n",
       "\n",
       "    $(parent_element).append(this.root);\n",
       "\n",
       "    this._init_header(this);\n",
       "    this._init_canvas(this);\n",
       "    this._init_toolbar(this);\n",
       "\n",
       "    var fig = this;\n",
       "\n",
       "    this.waiting = false;\n",
       "\n",
       "    this.ws.onopen =  function () {\n",
       "            fig.send_message(\"supports_binary\", {value: fig.supports_binary});\n",
       "            fig.send_message(\"send_image_mode\", {});\n",
       "            if (mpl.ratio != 1) {\n",
       "                fig.send_message(\"set_dpi_ratio\", {'dpi_ratio': mpl.ratio});\n",
       "            }\n",
       "            fig.send_message(\"refresh\", {});\n",
       "        }\n",
       "\n",
       "    this.imageObj.onload = function() {\n",
       "            if (fig.image_mode == 'full') {\n",
       "                // Full images could contain transparency (where diff images\n",
       "                // almost always do), so we need to clear the canvas so that\n",
       "                // there is no ghosting.\n",
       "                fig.context.clearRect(0, 0, fig.canvas.width, fig.canvas.height);\n",
       "            }\n",
       "            fig.context.drawImage(fig.imageObj, 0, 0);\n",
       "        };\n",
       "\n",
       "    this.imageObj.onunload = function() {\n",
       "        fig.ws.close();\n",
       "    }\n",
       "\n",
       "    this.ws.onmessage = this._make_on_message_function(this);\n",
       "\n",
       "    this.ondownload = ondownload;\n",
       "}\n",
       "\n",
       "mpl.figure.prototype._init_header = function() {\n",
       "    var titlebar = $(\n",
       "        '<div class=\"ui-dialog-titlebar ui-widget-header ui-corner-all ' +\n",
       "        'ui-helper-clearfix\"/>');\n",
       "    var titletext = $(\n",
       "        '<div class=\"ui-dialog-title\" style=\"width: 100%; ' +\n",
       "        'text-align: center; padding: 3px;\"/>');\n",
       "    titlebar.append(titletext)\n",
       "    this.root.append(titlebar);\n",
       "    this.header = titletext[0];\n",
       "}\n",
       "\n",
       "\n",
       "\n",
       "mpl.figure.prototype._canvas_extra_style = function(canvas_div) {\n",
       "\n",
       "}\n",
       "\n",
       "\n",
       "mpl.figure.prototype._root_extra_style = function(canvas_div) {\n",
       "\n",
       "}\n",
       "\n",
       "mpl.figure.prototype._init_canvas = function() {\n",
       "    var fig = this;\n",
       "\n",
       "    var canvas_div = $('<div/>');\n",
       "\n",
       "    canvas_div.attr('style', 'position: relative; clear: both; outline: 0');\n",
       "\n",
       "    function canvas_keyboard_event(event) {\n",
       "        return fig.key_event(event, event['data']);\n",
       "    }\n",
       "\n",
       "    canvas_div.keydown('key_press', canvas_keyboard_event);\n",
       "    canvas_div.keyup('key_release', canvas_keyboard_event);\n",
       "    this.canvas_div = canvas_div\n",
       "    this._canvas_extra_style(canvas_div)\n",
       "    this.root.append(canvas_div);\n",
       "\n",
       "    var canvas = $('<canvas/>');\n",
       "    canvas.addClass('mpl-canvas');\n",
       "    canvas.attr('style', \"left: 0; top: 0; z-index: 0; outline: 0\")\n",
       "\n",
       "    this.canvas = canvas[0];\n",
       "    this.context = canvas[0].getContext(\"2d\");\n",
       "\n",
       "    var backingStore = this.context.backingStorePixelRatio ||\n",
       "\tthis.context.webkitBackingStorePixelRatio ||\n",
       "\tthis.context.mozBackingStorePixelRatio ||\n",
       "\tthis.context.msBackingStorePixelRatio ||\n",
       "\tthis.context.oBackingStorePixelRatio ||\n",
       "\tthis.context.backingStorePixelRatio || 1;\n",
       "\n",
       "    mpl.ratio = (window.devicePixelRatio || 1) / backingStore;\n",
       "\n",
       "    var rubberband = $('<canvas/>');\n",
       "    rubberband.attr('style', \"position: absolute; left: 0; top: 0; z-index: 1;\")\n",
       "\n",
       "    var pass_mouse_events = true;\n",
       "\n",
       "    canvas_div.resizable({\n",
       "        start: function(event, ui) {\n",
       "            pass_mouse_events = false;\n",
       "        },\n",
       "        resize: function(event, ui) {\n",
       "            fig.request_resize(ui.size.width, ui.size.height);\n",
       "        },\n",
       "        stop: function(event, ui) {\n",
       "            pass_mouse_events = true;\n",
       "            fig.request_resize(ui.size.width, ui.size.height);\n",
       "        },\n",
       "    });\n",
       "\n",
       "    function mouse_event_fn(event) {\n",
       "        if (pass_mouse_events)\n",
       "            return fig.mouse_event(event, event['data']);\n",
       "    }\n",
       "\n",
       "    rubberband.mousedown('button_press', mouse_event_fn);\n",
       "    rubberband.mouseup('button_release', mouse_event_fn);\n",
       "    // Throttle sequential mouse events to 1 every 20ms.\n",
       "    rubberband.mousemove('motion_notify', mouse_event_fn);\n",
       "\n",
       "    rubberband.mouseenter('figure_enter', mouse_event_fn);\n",
       "    rubberband.mouseleave('figure_leave', mouse_event_fn);\n",
       "\n",
       "    canvas_div.on(\"wheel\", function (event) {\n",
       "        event = event.originalEvent;\n",
       "        event['data'] = 'scroll'\n",
       "        if (event.deltaY < 0) {\n",
       "            event.step = 1;\n",
       "        } else {\n",
       "            event.step = -1;\n",
       "        }\n",
       "        mouse_event_fn(event);\n",
       "    });\n",
       "\n",
       "    canvas_div.append(canvas);\n",
       "    canvas_div.append(rubberband);\n",
       "\n",
       "    this.rubberband = rubberband;\n",
       "    this.rubberband_canvas = rubberband[0];\n",
       "    this.rubberband_context = rubberband[0].getContext(\"2d\");\n",
       "    this.rubberband_context.strokeStyle = \"#000000\";\n",
       "\n",
       "    this._resize_canvas = function(width, height) {\n",
       "        // Keep the size of the canvas, canvas container, and rubber band\n",
       "        // canvas in synch.\n",
       "        canvas_div.css('width', width)\n",
       "        canvas_div.css('height', height)\n",
       "\n",
       "        canvas.attr('width', width * mpl.ratio);\n",
       "        canvas.attr('height', height * mpl.ratio);\n",
       "        canvas.attr('style', 'width: ' + width + 'px; height: ' + height + 'px;');\n",
       "\n",
       "        rubberband.attr('width', width);\n",
       "        rubberband.attr('height', height);\n",
       "    }\n",
       "\n",
       "    // Set the figure to an initial 600x600px, this will subsequently be updated\n",
       "    // upon first draw.\n",
       "    this._resize_canvas(600, 600);\n",
       "\n",
       "    // Disable right mouse context menu.\n",
       "    $(this.rubberband_canvas).bind(\"contextmenu\",function(e){\n",
       "        return false;\n",
       "    });\n",
       "\n",
       "    function set_focus () {\n",
       "        canvas.focus();\n",
       "        canvas_div.focus();\n",
       "    }\n",
       "\n",
       "    window.setTimeout(set_focus, 100);\n",
       "}\n",
       "\n",
       "mpl.figure.prototype._init_toolbar = function() {\n",
       "    var fig = this;\n",
       "\n",
       "    var nav_element = $('<div/>');\n",
       "    nav_element.attr('style', 'width: 100%');\n",
       "    this.root.append(nav_element);\n",
       "\n",
       "    // Define a callback function for later on.\n",
       "    function toolbar_event(event) {\n",
       "        return fig.toolbar_button_onclick(event['data']);\n",
       "    }\n",
       "    function toolbar_mouse_event(event) {\n",
       "        return fig.toolbar_button_onmouseover(event['data']);\n",
       "    }\n",
       "\n",
       "    for(var toolbar_ind in mpl.toolbar_items) {\n",
       "        var name = mpl.toolbar_items[toolbar_ind][0];\n",
       "        var tooltip = mpl.toolbar_items[toolbar_ind][1];\n",
       "        var image = mpl.toolbar_items[toolbar_ind][2];\n",
       "        var method_name = mpl.toolbar_items[toolbar_ind][3];\n",
       "\n",
       "        if (!name) {\n",
       "            // put a spacer in here.\n",
       "            continue;\n",
       "        }\n",
       "        var button = $('<button/>');\n",
       "        button.addClass('ui-button ui-widget ui-state-default ui-corner-all ' +\n",
       "                        'ui-button-icon-only');\n",
       "        button.attr('role', 'button');\n",
       "        button.attr('aria-disabled', 'false');\n",
       "        button.click(method_name, toolbar_event);\n",
       "        button.mouseover(tooltip, toolbar_mouse_event);\n",
       "\n",
       "        var icon_img = $('<span/>');\n",
       "        icon_img.addClass('ui-button-icon-primary ui-icon');\n",
       "        icon_img.addClass(image);\n",
       "        icon_img.addClass('ui-corner-all');\n",
       "\n",
       "        var tooltip_span = $('<span/>');\n",
       "        tooltip_span.addClass('ui-button-text');\n",
       "        tooltip_span.html(tooltip);\n",
       "\n",
       "        button.append(icon_img);\n",
       "        button.append(tooltip_span);\n",
       "\n",
       "        nav_element.append(button);\n",
       "    }\n",
       "\n",
       "    var fmt_picker_span = $('<span/>');\n",
       "\n",
       "    var fmt_picker = $('<select/>');\n",
       "    fmt_picker.addClass('mpl-toolbar-option ui-widget ui-widget-content');\n",
       "    fmt_picker_span.append(fmt_picker);\n",
       "    nav_element.append(fmt_picker_span);\n",
       "    this.format_dropdown = fmt_picker[0];\n",
       "\n",
       "    for (var ind in mpl.extensions) {\n",
       "        var fmt = mpl.extensions[ind];\n",
       "        var option = $(\n",
       "            '<option/>', {selected: fmt === mpl.default_extension}).html(fmt);\n",
       "        fmt_picker.append(option);\n",
       "    }\n",
       "\n",
       "    // Add hover states to the ui-buttons\n",
       "    $( \".ui-button\" ).hover(\n",
       "        function() { $(this).addClass(\"ui-state-hover\");},\n",
       "        function() { $(this).removeClass(\"ui-state-hover\");}\n",
       "    );\n",
       "\n",
       "    var status_bar = $('<span class=\"mpl-message\"/>');\n",
       "    nav_element.append(status_bar);\n",
       "    this.message = status_bar[0];\n",
       "}\n",
       "\n",
       "mpl.figure.prototype.request_resize = function(x_pixels, y_pixels) {\n",
       "    // Request matplotlib to resize the figure. Matplotlib will then trigger a resize in the client,\n",
       "    // which will in turn request a refresh of the image.\n",
       "    this.send_message('resize', {'width': x_pixels, 'height': y_pixels});\n",
       "}\n",
       "\n",
       "mpl.figure.prototype.send_message = function(type, properties) {\n",
       "    properties['type'] = type;\n",
       "    properties['figure_id'] = this.id;\n",
       "    this.ws.send(JSON.stringify(properties));\n",
       "}\n",
       "\n",
       "mpl.figure.prototype.send_draw_message = function() {\n",
       "    if (!this.waiting) {\n",
       "        this.waiting = true;\n",
       "        this.ws.send(JSON.stringify({type: \"draw\", figure_id: this.id}));\n",
       "    }\n",
       "}\n",
       "\n",
       "\n",
       "mpl.figure.prototype.handle_save = function(fig, msg) {\n",
       "    var format_dropdown = fig.format_dropdown;\n",
       "    var format = format_dropdown.options[format_dropdown.selectedIndex].value;\n",
       "    fig.ondownload(fig, format);\n",
       "}\n",
       "\n",
       "\n",
       "mpl.figure.prototype.handle_resize = function(fig, msg) {\n",
       "    var size = msg['size'];\n",
       "    if (size[0] != fig.canvas.width || size[1] != fig.canvas.height) {\n",
       "        fig._resize_canvas(size[0], size[1]);\n",
       "        fig.send_message(\"refresh\", {});\n",
       "    };\n",
       "}\n",
       "\n",
       "mpl.figure.prototype.handle_rubberband = function(fig, msg) {\n",
       "    var x0 = msg['x0'] / mpl.ratio;\n",
       "    var y0 = (fig.canvas.height - msg['y0']) / mpl.ratio;\n",
       "    var x1 = msg['x1'] / mpl.ratio;\n",
       "    var y1 = (fig.canvas.height - msg['y1']) / mpl.ratio;\n",
       "    x0 = Math.floor(x0) + 0.5;\n",
       "    y0 = Math.floor(y0) + 0.5;\n",
       "    x1 = Math.floor(x1) + 0.5;\n",
       "    y1 = Math.floor(y1) + 0.5;\n",
       "    var min_x = Math.min(x0, x1);\n",
       "    var min_y = Math.min(y0, y1);\n",
       "    var width = Math.abs(x1 - x0);\n",
       "    var height = Math.abs(y1 - y0);\n",
       "\n",
       "    fig.rubberband_context.clearRect(\n",
       "        0, 0, fig.canvas.width / mpl.ratio, fig.canvas.height / mpl.ratio);\n",
       "\n",
       "    fig.rubberband_context.strokeRect(min_x, min_y, width, height);\n",
       "}\n",
       "\n",
       "mpl.figure.prototype.handle_figure_label = function(fig, msg) {\n",
       "    // Updates the figure title.\n",
       "    fig.header.textContent = msg['label'];\n",
       "}\n",
       "\n",
       "mpl.figure.prototype.handle_cursor = function(fig, msg) {\n",
       "    var cursor = msg['cursor'];\n",
       "    switch(cursor)\n",
       "    {\n",
       "    case 0:\n",
       "        cursor = 'pointer';\n",
       "        break;\n",
       "    case 1:\n",
       "        cursor = 'default';\n",
       "        break;\n",
       "    case 2:\n",
       "        cursor = 'crosshair';\n",
       "        break;\n",
       "    case 3:\n",
       "        cursor = 'move';\n",
       "        break;\n",
       "    }\n",
       "    fig.rubberband_canvas.style.cursor = cursor;\n",
       "}\n",
       "\n",
       "mpl.figure.prototype.handle_message = function(fig, msg) {\n",
       "    fig.message.textContent = msg['message'];\n",
       "}\n",
       "\n",
       "mpl.figure.prototype.handle_draw = function(fig, msg) {\n",
       "    // Request the server to send over a new figure.\n",
       "    fig.send_draw_message();\n",
       "}\n",
       "\n",
       "mpl.figure.prototype.handle_image_mode = function(fig, msg) {\n",
       "    fig.image_mode = msg['mode'];\n",
       "}\n",
       "\n",
       "mpl.figure.prototype.updated_canvas_event = function() {\n",
       "    // Called whenever the canvas gets updated.\n",
       "    this.send_message(\"ack\", {});\n",
       "}\n",
       "\n",
       "// A function to construct a web socket function for onmessage handling.\n",
       "// Called in the figure constructor.\n",
       "mpl.figure.prototype._make_on_message_function = function(fig) {\n",
       "    return function socket_on_message(evt) {\n",
       "        if (evt.data instanceof Blob) {\n",
       "            /* FIXME: We get \"Resource interpreted as Image but\n",
       "             * transferred with MIME type text/plain:\" errors on\n",
       "             * Chrome.  But how to set the MIME type?  It doesn't seem\n",
       "             * to be part of the websocket stream */\n",
       "            evt.data.type = \"image/png\";\n",
       "\n",
       "            /* Free the memory for the previous frames */\n",
       "            if (fig.imageObj.src) {\n",
       "                (window.URL || window.webkitURL).revokeObjectURL(\n",
       "                    fig.imageObj.src);\n",
       "            }\n",
       "\n",
       "            fig.imageObj.src = (window.URL || window.webkitURL).createObjectURL(\n",
       "                evt.data);\n",
       "            fig.updated_canvas_event();\n",
       "            fig.waiting = false;\n",
       "            return;\n",
       "        }\n",
       "        else if (typeof evt.data === 'string' && evt.data.slice(0, 21) == \"data:image/png;base64\") {\n",
       "            fig.imageObj.src = evt.data;\n",
       "            fig.updated_canvas_event();\n",
       "            fig.waiting = false;\n",
       "            return;\n",
       "        }\n",
       "\n",
       "        var msg = JSON.parse(evt.data);\n",
       "        var msg_type = msg['type'];\n",
       "\n",
       "        // Call the  \"handle_{type}\" callback, which takes\n",
       "        // the figure and JSON message as its only arguments.\n",
       "        try {\n",
       "            var callback = fig[\"handle_\" + msg_type];\n",
       "        } catch (e) {\n",
       "            console.log(\"No handler for the '\" + msg_type + \"' message type: \", msg);\n",
       "            return;\n",
       "        }\n",
       "\n",
       "        if (callback) {\n",
       "            try {\n",
       "                // console.log(\"Handling '\" + msg_type + \"' message: \", msg);\n",
       "                callback(fig, msg);\n",
       "            } catch (e) {\n",
       "                console.log(\"Exception inside the 'handler_\" + msg_type + \"' callback:\", e, e.stack, msg);\n",
       "            }\n",
       "        }\n",
       "    };\n",
       "}\n",
       "\n",
       "// from http://stackoverflow.com/questions/1114465/getting-mouse-location-in-canvas\n",
       "mpl.findpos = function(e) {\n",
       "    //this section is from http://www.quirksmode.org/js/events_properties.html\n",
       "    var targ;\n",
       "    if (!e)\n",
       "        e = window.event;\n",
       "    if (e.target)\n",
       "        targ = e.target;\n",
       "    else if (e.srcElement)\n",
       "        targ = e.srcElement;\n",
       "    if (targ.nodeType == 3) // defeat Safari bug\n",
       "        targ = targ.parentNode;\n",
       "\n",
       "    // jQuery normalizes the pageX and pageY\n",
       "    // pageX,Y are the mouse positions relative to the document\n",
       "    // offset() returns the position of the element relative to the document\n",
       "    var x = e.pageX - $(targ).offset().left;\n",
       "    var y = e.pageY - $(targ).offset().top;\n",
       "\n",
       "    return {\"x\": x, \"y\": y};\n",
       "};\n",
       "\n",
       "/*\n",
       " * return a copy of an object with only non-object keys\n",
       " * we need this to avoid circular references\n",
       " * http://stackoverflow.com/a/24161582/3208463\n",
       " */\n",
       "function simpleKeys (original) {\n",
       "  return Object.keys(original).reduce(function (obj, key) {\n",
       "    if (typeof original[key] !== 'object')\n",
       "        obj[key] = original[key]\n",
       "    return obj;\n",
       "  }, {});\n",
       "}\n",
       "\n",
       "mpl.figure.prototype.mouse_event = function(event, name) {\n",
       "    var canvas_pos = mpl.findpos(event)\n",
       "\n",
       "    if (name === 'button_press')\n",
       "    {\n",
       "        this.canvas.focus();\n",
       "        this.canvas_div.focus();\n",
       "    }\n",
       "\n",
       "    var x = canvas_pos.x * mpl.ratio;\n",
       "    var y = canvas_pos.y * mpl.ratio;\n",
       "\n",
       "    this.send_message(name, {x: x, y: y, button: event.button,\n",
       "                             step: event.step,\n",
       "                             guiEvent: simpleKeys(event)});\n",
       "\n",
       "    /* This prevents the web browser from automatically changing to\n",
       "     * the text insertion cursor when the button is pressed.  We want\n",
       "     * to control all of the cursor setting manually through the\n",
       "     * 'cursor' event from matplotlib */\n",
       "    event.preventDefault();\n",
       "    return false;\n",
       "}\n",
       "\n",
       "mpl.figure.prototype._key_event_extra = function(event, name) {\n",
       "    // Handle any extra behaviour associated with a key event\n",
       "}\n",
       "\n",
       "mpl.figure.prototype.key_event = function(event, name) {\n",
       "\n",
       "    // Prevent repeat events\n",
       "    if (name == 'key_press')\n",
       "    {\n",
       "        if (event.which === this._key)\n",
       "            return;\n",
       "        else\n",
       "            this._key = event.which;\n",
       "    }\n",
       "    if (name == 'key_release')\n",
       "        this._key = null;\n",
       "\n",
       "    var value = '';\n",
       "    if (event.ctrlKey && event.which != 17)\n",
       "        value += \"ctrl+\";\n",
       "    if (event.altKey && event.which != 18)\n",
       "        value += \"alt+\";\n",
       "    if (event.shiftKey && event.which != 16)\n",
       "        value += \"shift+\";\n",
       "\n",
       "    value += 'k';\n",
       "    value += event.which.toString();\n",
       "\n",
       "    this._key_event_extra(event, name);\n",
       "\n",
       "    this.send_message(name, {key: value,\n",
       "                             guiEvent: simpleKeys(event)});\n",
       "    return false;\n",
       "}\n",
       "\n",
       "mpl.figure.prototype.toolbar_button_onclick = function(name) {\n",
       "    if (name == 'download') {\n",
       "        this.handle_save(this, null);\n",
       "    } else {\n",
       "        this.send_message(\"toolbar_button\", {name: name});\n",
       "    }\n",
       "};\n",
       "\n",
       "mpl.figure.prototype.toolbar_button_onmouseover = function(tooltip) {\n",
       "    this.message.textContent = tooltip;\n",
       "};\n",
       "mpl.toolbar_items = [[\"Home\", \"Reset original view\", \"fa fa-home icon-home\", \"home\"], [\"Back\", \"Back to previous view\", \"fa fa-arrow-left icon-arrow-left\", \"back\"], [\"Forward\", \"Forward to next view\", \"fa fa-arrow-right icon-arrow-right\", \"forward\"], [\"\", \"\", \"\", \"\"], [\"Pan\", \"Pan axes with left mouse, zoom with right\", \"fa fa-arrows icon-move\", \"pan\"], [\"Zoom\", \"Zoom to rectangle\", \"fa fa-square-o icon-check-empty\", \"zoom\"], [\"\", \"\", \"\", \"\"], [\"Download\", \"Download plot\", \"fa fa-floppy-o icon-save\", \"download\"]];\n",
       "\n",
       "mpl.extensions = [\"eps\", \"pdf\", \"png\", \"ps\", \"raw\", \"svg\"];\n",
       "\n",
       "mpl.default_extension = \"png\";var comm_websocket_adapter = function(comm) {\n",
       "    // Create a \"websocket\"-like object which calls the given IPython comm\n",
       "    // object with the appropriate methods. Currently this is a non binary\n",
       "    // socket, so there is still some room for performance tuning.\n",
       "    var ws = {};\n",
       "\n",
       "    ws.close = function() {\n",
       "        comm.close()\n",
       "    };\n",
       "    ws.send = function(m) {\n",
       "        //console.log('sending', m);\n",
       "        comm.send(m);\n",
       "    };\n",
       "    // Register the callback with on_msg.\n",
       "    comm.on_msg(function(msg) {\n",
       "        //console.log('receiving', msg['content']['data'], msg);\n",
       "        // Pass the mpl event to the overridden (by mpl) onmessage function.\n",
       "        ws.onmessage(msg['content']['data'])\n",
       "    });\n",
       "    return ws;\n",
       "}\n",
       "\n",
       "mpl.mpl_figure_comm = function(comm, msg) {\n",
       "    // This is the function which gets called when the mpl process\n",
       "    // starts-up an IPython Comm through the \"matplotlib\" channel.\n",
       "\n",
       "    var id = msg.content.data.id;\n",
       "    // Get hold of the div created by the display call when the Comm\n",
       "    // socket was opened in Python.\n",
       "    var element = $(\"#\" + id);\n",
       "    var ws_proxy = comm_websocket_adapter(comm)\n",
       "\n",
       "    function ondownload(figure, format) {\n",
       "        window.open(figure.imageObj.src);\n",
       "    }\n",
       "\n",
       "    var fig = new mpl.figure(id, ws_proxy,\n",
       "                           ondownload,\n",
       "                           element.get(0));\n",
       "\n",
       "    // Call onopen now - mpl needs it, as it is assuming we've passed it a real\n",
       "    // web socket which is closed, not our websocket->open comm proxy.\n",
       "    ws_proxy.onopen();\n",
       "\n",
       "    fig.parent_element = element.get(0);\n",
       "    fig.cell_info = mpl.find_output_cell(\"<div id='\" + id + \"'></div>\");\n",
       "    if (!fig.cell_info) {\n",
       "        console.error(\"Failed to find cell for figure\", id, fig);\n",
       "        return;\n",
       "    }\n",
       "\n",
       "    var output_index = fig.cell_info[2]\n",
       "    var cell = fig.cell_info[0];\n",
       "\n",
       "};\n",
       "\n",
       "mpl.figure.prototype.handle_close = function(fig, msg) {\n",
       "    var width = fig.canvas.width/mpl.ratio\n",
       "    fig.root.unbind('remove')\n",
       "\n",
       "    // Update the output cell to use the data from the current canvas.\n",
       "    fig.push_to_output();\n",
       "    var dataURL = fig.canvas.toDataURL();\n",
       "    // Re-enable the keyboard manager in IPython - without this line, in FF,\n",
       "    // the notebook keyboard shortcuts fail.\n",
       "    IPython.keyboard_manager.enable()\n",
       "    $(fig.parent_element).html('<img src=\"' + dataURL + '\" width=\"' + width + '\">');\n",
       "    fig.close_ws(fig, msg);\n",
       "}\n",
       "\n",
       "mpl.figure.prototype.close_ws = function(fig, msg){\n",
       "    fig.send_message('closing', msg);\n",
       "    // fig.ws.close()\n",
       "}\n",
       "\n",
       "mpl.figure.prototype.push_to_output = function(remove_interactive) {\n",
       "    // Turn the data on the canvas into data in the output cell.\n",
       "    var width = this.canvas.width/mpl.ratio\n",
       "    var dataURL = this.canvas.toDataURL();\n",
       "    this.cell_info[1]['text/html'] = '<img src=\"' + dataURL + '\" width=\"' + width + '\">';\n",
       "}\n",
       "\n",
       "mpl.figure.prototype.updated_canvas_event = function() {\n",
       "    // Tell IPython that the notebook contents must change.\n",
       "    IPython.notebook.set_dirty(true);\n",
       "    this.send_message(\"ack\", {});\n",
       "    var fig = this;\n",
       "    // Wait a second, then push the new image to the DOM so\n",
       "    // that it is saved nicely (might be nice to debounce this).\n",
       "    setTimeout(function () { fig.push_to_output() }, 1000);\n",
       "}\n",
       "\n",
       "mpl.figure.prototype._init_toolbar = function() {\n",
       "    var fig = this;\n",
       "\n",
       "    var nav_element = $('<div/>');\n",
       "    nav_element.attr('style', 'width: 100%');\n",
       "    this.root.append(nav_element);\n",
       "\n",
       "    // Define a callback function for later on.\n",
       "    function toolbar_event(event) {\n",
       "        return fig.toolbar_button_onclick(event['data']);\n",
       "    }\n",
       "    function toolbar_mouse_event(event) {\n",
       "        return fig.toolbar_button_onmouseover(event['data']);\n",
       "    }\n",
       "\n",
       "    for(var toolbar_ind in mpl.toolbar_items){\n",
       "        var name = mpl.toolbar_items[toolbar_ind][0];\n",
       "        var tooltip = mpl.toolbar_items[toolbar_ind][1];\n",
       "        var image = mpl.toolbar_items[toolbar_ind][2];\n",
       "        var method_name = mpl.toolbar_items[toolbar_ind][3];\n",
       "\n",
       "        if (!name) { continue; };\n",
       "\n",
       "        var button = $('<button class=\"btn btn-default\" href=\"#\" title=\"' + name + '\"><i class=\"fa ' + image + ' fa-lg\"></i></button>');\n",
       "        button.click(method_name, toolbar_event);\n",
       "        button.mouseover(tooltip, toolbar_mouse_event);\n",
       "        nav_element.append(button);\n",
       "    }\n",
       "\n",
       "    // Add the status bar.\n",
       "    var status_bar = $('<span class=\"mpl-message\" style=\"text-align:right; float: right;\"/>');\n",
       "    nav_element.append(status_bar);\n",
       "    this.message = status_bar[0];\n",
       "\n",
       "    // Add the close button to the window.\n",
       "    var buttongrp = $('<div class=\"btn-group inline pull-right\"></div>');\n",
       "    var button = $('<button class=\"btn btn-mini btn-primary\" href=\"#\" title=\"Stop Interaction\"><i class=\"fa fa-power-off icon-remove icon-large\"></i></button>');\n",
       "    button.click(function (evt) { fig.handle_close(fig, {}); } );\n",
       "    button.mouseover('Stop Interaction', toolbar_mouse_event);\n",
       "    buttongrp.append(button);\n",
       "    var titlebar = this.root.find($('.ui-dialog-titlebar'));\n",
       "    titlebar.prepend(buttongrp);\n",
       "}\n",
       "\n",
       "mpl.figure.prototype._root_extra_style = function(el){\n",
       "    var fig = this\n",
       "    el.on(\"remove\", function(){\n",
       "\tfig.close_ws(fig, {});\n",
       "    });\n",
       "}\n",
       "\n",
       "mpl.figure.prototype._canvas_extra_style = function(el){\n",
       "    // this is important to make the div 'focusable\n",
       "    el.attr('tabindex', 0)\n",
       "    // reach out to IPython and tell the keyboard manager to turn it's self\n",
       "    // off when our div gets focus\n",
       "\n",
       "    // location in version 3\n",
       "    if (IPython.notebook.keyboard_manager) {\n",
       "        IPython.notebook.keyboard_manager.register_events(el);\n",
       "    }\n",
       "    else {\n",
       "        // location in version 2\n",
       "        IPython.keyboard_manager.register_events(el);\n",
       "    }\n",
       "\n",
       "}\n",
       "\n",
       "mpl.figure.prototype._key_event_extra = function(event, name) {\n",
       "    var manager = IPython.notebook.keyboard_manager;\n",
       "    if (!manager)\n",
       "        manager = IPython.keyboard_manager;\n",
       "\n",
       "    // Check for shift+enter\n",
       "    if (event.shiftKey && event.which == 13) {\n",
       "        this.canvas_div.blur();\n",
       "        // select the cell after this one\n",
       "        var index = IPython.notebook.find_cell_index(this.cell_info[0]);\n",
       "        IPython.notebook.select(index + 1);\n",
       "    }\n",
       "}\n",
       "\n",
       "mpl.figure.prototype.handle_save = function(fig, msg) {\n",
       "    fig.ondownload(fig, null);\n",
       "}\n",
       "\n",
       "\n",
       "mpl.find_output_cell = function(html_output) {\n",
       "    // Return the cell and output element which can be found *uniquely* in the notebook.\n",
       "    // Note - this is a bit hacky, but it is done because the \"notebook_saving.Notebook\"\n",
       "    // IPython event is triggered only after the cells have been serialised, which for\n",
       "    // our purposes (turning an active figure into a static one), is too late.\n",
       "    var cells = IPython.notebook.get_cells();\n",
       "    var ncells = cells.length;\n",
       "    for (var i=0; i<ncells; i++) {\n",
       "        var cell = cells[i];\n",
       "        if (cell.cell_type === 'code'){\n",
       "            for (var j=0; j<cell.output_area.outputs.length; j++) {\n",
       "                var data = cell.output_area.outputs[j];\n",
       "                if (data.data) {\n",
       "                    // IPython >= 3 moved mimebundle to data attribute of output\n",
       "                    data = data.data;\n",
       "                }\n",
       "                if (data['text/html'] == html_output) {\n",
       "                    return [cell, data, j];\n",
       "                }\n",
       "            }\n",
       "        }\n",
       "    }\n",
       "}\n",
       "\n",
       "// Register the function which deals with the matplotlib target/channel.\n",
       "// The kernel may be null if the page has been refreshed.\n",
       "if (IPython.notebook.kernel != null) {\n",
       "    IPython.notebook.kernel.comm_manager.register_target('matplotlib', mpl.mpl_figure_comm);\n",
       "}\n"
      ],
      "text/plain": [
       "<IPython.core.display.Javascript object>"
      ]
     },
     "metadata": {},
     "output_type": "display_data"
    },
    {
     "data": {
      "text/html": [
       "<img src=\"data:image/png;base64,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\" width=\"639.999990463257\">"
      ],
      "text/plain": [
       "<IPython.core.display.HTML object>"
      ]
     },
     "metadata": {},
     "output_type": "display_data"
    },
    {
     "data": {
      "text/plain": [
       "<matplotlib.image.AxesImage at 0x11be25850>"
      ]
     },
     "execution_count": 3,
     "metadata": {},
     "output_type": "execute_result"
    }
   ],
   "source": [
    "%matplotlib notebook\n",
    "fig, ax = plt.subplots()\n",
    "pos = []\n",
    "def onclick(event):\n",
    "    pos.append([event.xdata, event.ydata])\n",
    "fig.canvas.mpl_connect('button_press_event', onclick)\n",
    "plt.title('Hamhocks and Armlocks')\n",
    "plt.imshow(img)"
   ]
  },
  {
   "cell_type": "markdown",
   "metadata": {},
   "source": [
    "#### Processing coordinates obtained from interactive figure"
   ]
  },
  {
   "cell_type": "code",
   "execution_count": 7,
   "metadata": {
    "ExecuteTime": {
     "end_time": "2020-07-03T12:19:50.876426Z",
     "start_time": "2020-07-03T12:19:50.868248Z"
    },
    "scrolled": true
   },
   "outputs": [
    {
     "data": {
      "text/plain": [
       "array([[134.0105138 , 263.22893323],\n",
       "       [111.8996267 , 277.29949774],\n",
       "       [ 87.77865896, 277.29949774],\n",
       "       [ 81.74841702, 281.31965903],\n",
       "       [ 99.83914283, 291.37006226],\n",
       "       [117.92986864, 291.37006226],\n",
       "       [ 95.81898154, 299.41038484],\n",
       "       [ 77.72825573, 299.41038484],\n",
       "       [ 61.64761057, 301.42046549],\n",
       "       [ 81.74841702, 319.51119129],\n",
       "       [ 99.83914283, 323.53135258],\n",
       "       [123.96011057, 321.52127194],\n",
       "       [105.86938477, 331.57167516],\n",
       "       [ 91.79882025, 337.6019171 ],\n",
       "       [111.8996267 , 343.63215903],\n",
       "       [127.98027186, 345.64223968],\n",
       "       [142.05083638, 351.67248162],\n",
       "       [142.05083638, 393.88417516],\n",
       "       [142.05083638, 426.04546549],\n",
       "       [142.05083638, 452.17651387],\n",
       "       [121.95002993, 470.26723968],\n",
       "       [ 95.81898154, 486.34788484],\n",
       "       [132.00043315, 480.31764291],\n",
       "       [146.07099767, 474.28740097],\n",
       "       [154.11132025, 482.32772355],\n",
       "       [158.13148154, 452.17651387],\n",
       "       [160.14156218, 432.07570742],\n",
       "       [162.15164283, 405.94465903],\n",
       "       [172.20204606, 373.78336871],\n",
       "       [180.24236864, 343.63215903],\n",
       "       [200.34317509, 349.66240097],\n",
       "       [212.40365896, 377.80353   ],\n",
       "       [212.40365896, 393.88417516],\n",
       "       [204.36333638, 411.97490097],\n",
       "       [192.30285251, 440.11603   ],\n",
       "       [194.31293315, 464.23699774],\n",
       "       [204.36333638, 480.31764291],\n",
       "       [222.45406218, 486.34788484],\n",
       "       [246.57502993, 490.36804613],\n",
       "       [270.69599767, 486.34788484],\n",
       "       [292.80688477, 478.30756226],\n",
       "       [310.89761057, 472.27732032],\n",
       "       [320.9480138 , 466.24707839],\n",
       "       [337.02865896, 456.19667516],\n",
       "       [355.11938477, 446.14627194],\n",
       "       [369.18994928, 440.11603   ],\n",
       "       [385.27059444, 430.06562678],\n",
       "       [403.36132025, 420.01522355],\n",
       "       [437.53269122, 391.87409452],\n",
       "       [449.59317509, 407.95473968],\n",
       "       [463.6637396 , 420.01522355],\n",
       "       [479.74438477, 426.04546549],\n",
       "       [495.82502993, 432.07570742],\n",
       "       [527.98632025, 444.13619129],\n",
       "       [550.09720735, 454.18659452],\n",
       "       [558.13752993, 464.23699774],\n",
       "       [568.18793315, 476.29748162],\n",
       "       [568.18793315, 486.34788484],\n",
       "       [584.26857831, 486.34788484],\n",
       "       [606.37946541, 486.34788484],\n",
       "       [624.47019122, 486.34788484],\n",
       "       [606.37946541, 472.27732032],\n",
       "       [588.2887396 , 458.20675581],\n",
       "       [568.18793315, 444.13619129],\n",
       "       [548.0871267 , 428.05554613],\n",
       "       [523.96615896, 411.97490097],\n",
       "       [503.86535251, 397.90433645],\n",
       "       [475.72422348, 379.81361065],\n",
       "       [451.60325573, 365.74304613],\n",
       "       [439.54277186, 355.69264291],\n",
       "       [413.41172348, 355.69264291],\n",
       "       [383.2605138 , 363.73296549],\n",
       "       [345.06898154, 373.78336871],\n",
       "       [310.89761057, 381.82369129],\n",
       "       [282.75648154, 387.85393323],\n",
       "       [268.68591702, 391.87409452],\n",
       "       [262.65567509, 377.80353   ],\n",
       "       [254.61535251, 359.7128042 ],\n",
       "       [272.70607831, 343.63215903],\n",
       "       [282.75648154, 329.56159452],\n",
       "       [280.74640089, 319.51119129],\n",
       "       [260.64559444, 311.47086871],\n",
       "       [236.5246267 , 295.39022355],\n",
       "       [218.43390089, 283.32973968],\n",
       "       [210.39357831, 273.27933645],\n",
       "       [206.37341702, 253.17853   ],\n",
       "       [232.50446541, 265.23901387],\n",
       "       [248.58511057, 255.18861065],\n",
       "       [256.62543315, 247.14828807],\n",
       "       [256.62543315, 233.07772355],\n",
       "       [252.60527186, 214.98699774],\n",
       "       [258.6355138 , 198.90635258],\n",
       "       [256.62543315, 178.80554613],\n",
       "       [246.57502993, 160.71482032],\n",
       "       [224.46414283, 154.68457839],\n",
       "       [202.35325573, 154.68457839],\n",
       "       [172.20204606, 162.72490097],\n",
       "       [156.12140089, 180.81562678],\n",
       "       [146.07099767, 206.94667516],\n",
       "       [146.07099767, 231.06764291]])"
      ]
     },
     "execution_count": 7,
     "metadata": {},
     "output_type": "execute_result"
    }
   ],
   "source": [
    "pos_array"
   ]
  },
  {
   "cell_type": "code",
   "execution_count": 12,
   "metadata": {
    "ExecuteTime": {
     "end_time": "2020-07-03T12:20:44.278004Z",
     "start_time": "2020-07-03T12:20:44.275098Z"
    },
    "scrolled": true
   },
   "outputs": [],
   "source": [
    "pos_array = np.array(pos)\n",
    "x = pos_array[:, 0]\n",
    "y = pos_array[:, 1]"
   ]
  },
  {
   "cell_type": "markdown",
   "metadata": {},
   "source": [
    "#### Spline interpolation"
   ]
  },
  {
   "cell_type": "code",
   "execution_count": 14,
   "metadata": {
    "ExecuteTime": {
     "end_time": "2020-07-03T12:24:01.878924Z",
     "start_time": "2020-07-03T12:24:01.874605Z"
    }
   },
   "outputs": [],
   "source": [
    "## Reference points for spline interpolation\n",
    "t = np.linspace(0, 1, len(x))"
   ]
  },
  {
   "cell_type": "code",
   "execution_count": 17,
   "metadata": {
    "ExecuteTime": {
     "end_time": "2020-07-03T12:26:57.223224Z",
     "start_time": "2020-07-03T12:26:57.218101Z"
    }
   },
   "outputs": [],
   "source": [
    "## Spline piecewise interpolation\n",
    "pw_spline_x = interp1d(t, x, kind='cubic')\n",
    "pw_spline_y = interp1d(t, y, kind='cubic')"
   ]
  },
  {
   "cell_type": "code",
   "execution_count": 18,
   "metadata": {
    "ExecuteTime": {
     "end_time": "2020-07-03T12:29:00.968907Z",
     "start_time": "2020-07-03T12:29:00.963521Z"
    }
   },
   "outputs": [],
   "source": [
    "## Evaluation of the spline interpolation\n",
    "n_eval = 100\n",
    "t_eval = np.linspace(min(t), max(t), n_eval)\n",
    "\n",
    "x_eval = pw_spline_x(t_eval)\n",
    "y_eval = pw_spline_y(t_eval)"
   ]
  },
  {
   "cell_type": "markdown",
   "metadata": {},
   "source": [
    "#### Plotting figure"
   ]
  },
  {
   "cell_type": "code",
   "execution_count": 19,
   "metadata": {
    "ExecuteTime": {
     "end_time": "2020-07-03T12:30:24.935862Z",
     "start_time": "2020-07-03T12:30:24.932140Z"
    }
   },
   "outputs": [],
   "source": [
    "window_y = 50\n",
    "window_x = 50\n",
    "\n",
    "x_min = np.min(x)\n",
    "y_min = np.min(y)\n",
    "\n",
    "x_max = np.max(x)\n",
    "y_max = np.max(y)"
   ]
  },
  {
   "cell_type": "code",
   "execution_count": 21,
   "metadata": {
    "ExecuteTime": {
     "end_time": "2020-07-03T12:34:17.339997Z",
     "start_time": "2020-07-03T12:34:17.315151Z"
    }
   },
   "outputs": [
    {
     "data": {
      "application/javascript": [
       "/* Put everything inside the global mpl namespace */\n",
       "window.mpl = {};\n",
       "\n",
       "\n",
       "mpl.get_websocket_type = function() {\n",
       "    if (typeof(WebSocket) !== 'undefined') {\n",
       "        return WebSocket;\n",
       "    } else if (typeof(MozWebSocket) !== 'undefined') {\n",
       "        return MozWebSocket;\n",
       "    } else {\n",
       "        alert('Your browser does not have WebSocket support. ' +\n",
       "              'Please try Chrome, Safari or Firefox ≥ 6. ' +\n",
       "              'Firefox 4 and 5 are also supported but you ' +\n",
       "              'have to enable WebSockets in about:config.');\n",
       "    };\n",
       "}\n",
       "\n",
       "mpl.figure = function(figure_id, websocket, ondownload, parent_element) {\n",
       "    this.id = figure_id;\n",
       "\n",
       "    this.ws = websocket;\n",
       "\n",
       "    this.supports_binary = (this.ws.binaryType != undefined);\n",
       "\n",
       "    if (!this.supports_binary) {\n",
       "        var warnings = document.getElementById(\"mpl-warnings\");\n",
       "        if (warnings) {\n",
       "            warnings.style.display = 'block';\n",
       "            warnings.textContent = (\n",
       "                \"This browser does not support binary websocket messages. \" +\n",
       "                    \"Performance may be slow.\");\n",
       "        }\n",
       "    }\n",
       "\n",
       "    this.imageObj = new Image();\n",
       "\n",
       "    this.context = undefined;\n",
       "    this.message = undefined;\n",
       "    this.canvas = undefined;\n",
       "    this.rubberband_canvas = undefined;\n",
       "    this.rubberband_context = undefined;\n",
       "    this.format_dropdown = undefined;\n",
       "\n",
       "    this.image_mode = 'full';\n",
       "\n",
       "    this.root = $('<div/>');\n",
       "    this._root_extra_style(this.root)\n",
       "    this.root.attr('style', 'display: inline-block');\n",
       "\n",
       "    $(parent_element).append(this.root);\n",
       "\n",
       "    this._init_header(this);\n",
       "    this._init_canvas(this);\n",
       "    this._init_toolbar(this);\n",
       "\n",
       "    var fig = this;\n",
       "\n",
       "    this.waiting = false;\n",
       "\n",
       "    this.ws.onopen =  function () {\n",
       "            fig.send_message(\"supports_binary\", {value: fig.supports_binary});\n",
       "            fig.send_message(\"send_image_mode\", {});\n",
       "            if (mpl.ratio != 1) {\n",
       "                fig.send_message(\"set_dpi_ratio\", {'dpi_ratio': mpl.ratio});\n",
       "            }\n",
       "            fig.send_message(\"refresh\", {});\n",
       "        }\n",
       "\n",
       "    this.imageObj.onload = function() {\n",
       "            if (fig.image_mode == 'full') {\n",
       "                // Full images could contain transparency (where diff images\n",
       "                // almost always do), so we need to clear the canvas so that\n",
       "                // there is no ghosting.\n",
       "                fig.context.clearRect(0, 0, fig.canvas.width, fig.canvas.height);\n",
       "            }\n",
       "            fig.context.drawImage(fig.imageObj, 0, 0);\n",
       "        };\n",
       "\n",
       "    this.imageObj.onunload = function() {\n",
       "        fig.ws.close();\n",
       "    }\n",
       "\n",
       "    this.ws.onmessage = this._make_on_message_function(this);\n",
       "\n",
       "    this.ondownload = ondownload;\n",
       "}\n",
       "\n",
       "mpl.figure.prototype._init_header = function() {\n",
       "    var titlebar = $(\n",
       "        '<div class=\"ui-dialog-titlebar ui-widget-header ui-corner-all ' +\n",
       "        'ui-helper-clearfix\"/>');\n",
       "    var titletext = $(\n",
       "        '<div class=\"ui-dialog-title\" style=\"width: 100%; ' +\n",
       "        'text-align: center; padding: 3px;\"/>');\n",
       "    titlebar.append(titletext)\n",
       "    this.root.append(titlebar);\n",
       "    this.header = titletext[0];\n",
       "}\n",
       "\n",
       "\n",
       "\n",
       "mpl.figure.prototype._canvas_extra_style = function(canvas_div) {\n",
       "\n",
       "}\n",
       "\n",
       "\n",
       "mpl.figure.prototype._root_extra_style = function(canvas_div) {\n",
       "\n",
       "}\n",
       "\n",
       "mpl.figure.prototype._init_canvas = function() {\n",
       "    var fig = this;\n",
       "\n",
       "    var canvas_div = $('<div/>');\n",
       "\n",
       "    canvas_div.attr('style', 'position: relative; clear: both; outline: 0');\n",
       "\n",
       "    function canvas_keyboard_event(event) {\n",
       "        return fig.key_event(event, event['data']);\n",
       "    }\n",
       "\n",
       "    canvas_div.keydown('key_press', canvas_keyboard_event);\n",
       "    canvas_div.keyup('key_release', canvas_keyboard_event);\n",
       "    this.canvas_div = canvas_div\n",
       "    this._canvas_extra_style(canvas_div)\n",
       "    this.root.append(canvas_div);\n",
       "\n",
       "    var canvas = $('<canvas/>');\n",
       "    canvas.addClass('mpl-canvas');\n",
       "    canvas.attr('style', \"left: 0; top: 0; z-index: 0; outline: 0\")\n",
       "\n",
       "    this.canvas = canvas[0];\n",
       "    this.context = canvas[0].getContext(\"2d\");\n",
       "\n",
       "    var backingStore = this.context.backingStorePixelRatio ||\n",
       "\tthis.context.webkitBackingStorePixelRatio ||\n",
       "\tthis.context.mozBackingStorePixelRatio ||\n",
       "\tthis.context.msBackingStorePixelRatio ||\n",
       "\tthis.context.oBackingStorePixelRatio ||\n",
       "\tthis.context.backingStorePixelRatio || 1;\n",
       "\n",
       "    mpl.ratio = (window.devicePixelRatio || 1) / backingStore;\n",
       "\n",
       "    var rubberband = $('<canvas/>');\n",
       "    rubberband.attr('style', \"position: absolute; left: 0; top: 0; z-index: 1;\")\n",
       "\n",
       "    var pass_mouse_events = true;\n",
       "\n",
       "    canvas_div.resizable({\n",
       "        start: function(event, ui) {\n",
       "            pass_mouse_events = false;\n",
       "        },\n",
       "        resize: function(event, ui) {\n",
       "            fig.request_resize(ui.size.width, ui.size.height);\n",
       "        },\n",
       "        stop: function(event, ui) {\n",
       "            pass_mouse_events = true;\n",
       "            fig.request_resize(ui.size.width, ui.size.height);\n",
       "        },\n",
       "    });\n",
       "\n",
       "    function mouse_event_fn(event) {\n",
       "        if (pass_mouse_events)\n",
       "            return fig.mouse_event(event, event['data']);\n",
       "    }\n",
       "\n",
       "    rubberband.mousedown('button_press', mouse_event_fn);\n",
       "    rubberband.mouseup('button_release', mouse_event_fn);\n",
       "    // Throttle sequential mouse events to 1 every 20ms.\n",
       "    rubberband.mousemove('motion_notify', mouse_event_fn);\n",
       "\n",
       "    rubberband.mouseenter('figure_enter', mouse_event_fn);\n",
       "    rubberband.mouseleave('figure_leave', mouse_event_fn);\n",
       "\n",
       "    canvas_div.on(\"wheel\", function (event) {\n",
       "        event = event.originalEvent;\n",
       "        event['data'] = 'scroll'\n",
       "        if (event.deltaY < 0) {\n",
       "            event.step = 1;\n",
       "        } else {\n",
       "            event.step = -1;\n",
       "        }\n",
       "        mouse_event_fn(event);\n",
       "    });\n",
       "\n",
       "    canvas_div.append(canvas);\n",
       "    canvas_div.append(rubberband);\n",
       "\n",
       "    this.rubberband = rubberband;\n",
       "    this.rubberband_canvas = rubberband[0];\n",
       "    this.rubberband_context = rubberband[0].getContext(\"2d\");\n",
       "    this.rubberband_context.strokeStyle = \"#000000\";\n",
       "\n",
       "    this._resize_canvas = function(width, height) {\n",
       "        // Keep the size of the canvas, canvas container, and rubber band\n",
       "        // canvas in synch.\n",
       "        canvas_div.css('width', width)\n",
       "        canvas_div.css('height', height)\n",
       "\n",
       "        canvas.attr('width', width * mpl.ratio);\n",
       "        canvas.attr('height', height * mpl.ratio);\n",
       "        canvas.attr('style', 'width: ' + width + 'px; height: ' + height + 'px;');\n",
       "\n",
       "        rubberband.attr('width', width);\n",
       "        rubberband.attr('height', height);\n",
       "    }\n",
       "\n",
       "    // Set the figure to an initial 600x600px, this will subsequently be updated\n",
       "    // upon first draw.\n",
       "    this._resize_canvas(600, 600);\n",
       "\n",
       "    // Disable right mouse context menu.\n",
       "    $(this.rubberband_canvas).bind(\"contextmenu\",function(e){\n",
       "        return false;\n",
       "    });\n",
       "\n",
       "    function set_focus () {\n",
       "        canvas.focus();\n",
       "        canvas_div.focus();\n",
       "    }\n",
       "\n",
       "    window.setTimeout(set_focus, 100);\n",
       "}\n",
       "\n",
       "mpl.figure.prototype._init_toolbar = function() {\n",
       "    var fig = this;\n",
       "\n",
       "    var nav_element = $('<div/>');\n",
       "    nav_element.attr('style', 'width: 100%');\n",
       "    this.root.append(nav_element);\n",
       "\n",
       "    // Define a callback function for later on.\n",
       "    function toolbar_event(event) {\n",
       "        return fig.toolbar_button_onclick(event['data']);\n",
       "    }\n",
       "    function toolbar_mouse_event(event) {\n",
       "        return fig.toolbar_button_onmouseover(event['data']);\n",
       "    }\n",
       "\n",
       "    for(var toolbar_ind in mpl.toolbar_items) {\n",
       "        var name = mpl.toolbar_items[toolbar_ind][0];\n",
       "        var tooltip = mpl.toolbar_items[toolbar_ind][1];\n",
       "        var image = mpl.toolbar_items[toolbar_ind][2];\n",
       "        var method_name = mpl.toolbar_items[toolbar_ind][3];\n",
       "\n",
       "        if (!name) {\n",
       "            // put a spacer in here.\n",
       "            continue;\n",
       "        }\n",
       "        var button = $('<button/>');\n",
       "        button.addClass('ui-button ui-widget ui-state-default ui-corner-all ' +\n",
       "                        'ui-button-icon-only');\n",
       "        button.attr('role', 'button');\n",
       "        button.attr('aria-disabled', 'false');\n",
       "        button.click(method_name, toolbar_event);\n",
       "        button.mouseover(tooltip, toolbar_mouse_event);\n",
       "\n",
       "        var icon_img = $('<span/>');\n",
       "        icon_img.addClass('ui-button-icon-primary ui-icon');\n",
       "        icon_img.addClass(image);\n",
       "        icon_img.addClass('ui-corner-all');\n",
       "\n",
       "        var tooltip_span = $('<span/>');\n",
       "        tooltip_span.addClass('ui-button-text');\n",
       "        tooltip_span.html(tooltip);\n",
       "\n",
       "        button.append(icon_img);\n",
       "        button.append(tooltip_span);\n",
       "\n",
       "        nav_element.append(button);\n",
       "    }\n",
       "\n",
       "    var fmt_picker_span = $('<span/>');\n",
       "\n",
       "    var fmt_picker = $('<select/>');\n",
       "    fmt_picker.addClass('mpl-toolbar-option ui-widget ui-widget-content');\n",
       "    fmt_picker_span.append(fmt_picker);\n",
       "    nav_element.append(fmt_picker_span);\n",
       "    this.format_dropdown = fmt_picker[0];\n",
       "\n",
       "    for (var ind in mpl.extensions) {\n",
       "        var fmt = mpl.extensions[ind];\n",
       "        var option = $(\n",
       "            '<option/>', {selected: fmt === mpl.default_extension}).html(fmt);\n",
       "        fmt_picker.append(option);\n",
       "    }\n",
       "\n",
       "    // Add hover states to the ui-buttons\n",
       "    $( \".ui-button\" ).hover(\n",
       "        function() { $(this).addClass(\"ui-state-hover\");},\n",
       "        function() { $(this).removeClass(\"ui-state-hover\");}\n",
       "    );\n",
       "\n",
       "    var status_bar = $('<span class=\"mpl-message\"/>');\n",
       "    nav_element.append(status_bar);\n",
       "    this.message = status_bar[0];\n",
       "}\n",
       "\n",
       "mpl.figure.prototype.request_resize = function(x_pixels, y_pixels) {\n",
       "    // Request matplotlib to resize the figure. Matplotlib will then trigger a resize in the client,\n",
       "    // which will in turn request a refresh of the image.\n",
       "    this.send_message('resize', {'width': x_pixels, 'height': y_pixels});\n",
       "}\n",
       "\n",
       "mpl.figure.prototype.send_message = function(type, properties) {\n",
       "    properties['type'] = type;\n",
       "    properties['figure_id'] = this.id;\n",
       "    this.ws.send(JSON.stringify(properties));\n",
       "}\n",
       "\n",
       "mpl.figure.prototype.send_draw_message = function() {\n",
       "    if (!this.waiting) {\n",
       "        this.waiting = true;\n",
       "        this.ws.send(JSON.stringify({type: \"draw\", figure_id: this.id}));\n",
       "    }\n",
       "}\n",
       "\n",
       "\n",
       "mpl.figure.prototype.handle_save = function(fig, msg) {\n",
       "    var format_dropdown = fig.format_dropdown;\n",
       "    var format = format_dropdown.options[format_dropdown.selectedIndex].value;\n",
       "    fig.ondownload(fig, format);\n",
       "}\n",
       "\n",
       "\n",
       "mpl.figure.prototype.handle_resize = function(fig, msg) {\n",
       "    var size = msg['size'];\n",
       "    if (size[0] != fig.canvas.width || size[1] != fig.canvas.height) {\n",
       "        fig._resize_canvas(size[0], size[1]);\n",
       "        fig.send_message(\"refresh\", {});\n",
       "    };\n",
       "}\n",
       "\n",
       "mpl.figure.prototype.handle_rubberband = function(fig, msg) {\n",
       "    var x0 = msg['x0'] / mpl.ratio;\n",
       "    var y0 = (fig.canvas.height - msg['y0']) / mpl.ratio;\n",
       "    var x1 = msg['x1'] / mpl.ratio;\n",
       "    var y1 = (fig.canvas.height - msg['y1']) / mpl.ratio;\n",
       "    x0 = Math.floor(x0) + 0.5;\n",
       "    y0 = Math.floor(y0) + 0.5;\n",
       "    x1 = Math.floor(x1) + 0.5;\n",
       "    y1 = Math.floor(y1) + 0.5;\n",
       "    var min_x = Math.min(x0, x1);\n",
       "    var min_y = Math.min(y0, y1);\n",
       "    var width = Math.abs(x1 - x0);\n",
       "    var height = Math.abs(y1 - y0);\n",
       "\n",
       "    fig.rubberband_context.clearRect(\n",
       "        0, 0, fig.canvas.width / mpl.ratio, fig.canvas.height / mpl.ratio);\n",
       "\n",
       "    fig.rubberband_context.strokeRect(min_x, min_y, width, height);\n",
       "}\n",
       "\n",
       "mpl.figure.prototype.handle_figure_label = function(fig, msg) {\n",
       "    // Updates the figure title.\n",
       "    fig.header.textContent = msg['label'];\n",
       "}\n",
       "\n",
       "mpl.figure.prototype.handle_cursor = function(fig, msg) {\n",
       "    var cursor = msg['cursor'];\n",
       "    switch(cursor)\n",
       "    {\n",
       "    case 0:\n",
       "        cursor = 'pointer';\n",
       "        break;\n",
       "    case 1:\n",
       "        cursor = 'default';\n",
       "        break;\n",
       "    case 2:\n",
       "        cursor = 'crosshair';\n",
       "        break;\n",
       "    case 3:\n",
       "        cursor = 'move';\n",
       "        break;\n",
       "    }\n",
       "    fig.rubberband_canvas.style.cursor = cursor;\n",
       "}\n",
       "\n",
       "mpl.figure.prototype.handle_message = function(fig, msg) {\n",
       "    fig.message.textContent = msg['message'];\n",
       "}\n",
       "\n",
       "mpl.figure.prototype.handle_draw = function(fig, msg) {\n",
       "    // Request the server to send over a new figure.\n",
       "    fig.send_draw_message();\n",
       "}\n",
       "\n",
       "mpl.figure.prototype.handle_image_mode = function(fig, msg) {\n",
       "    fig.image_mode = msg['mode'];\n",
       "}\n",
       "\n",
       "mpl.figure.prototype.updated_canvas_event = function() {\n",
       "    // Called whenever the canvas gets updated.\n",
       "    this.send_message(\"ack\", {});\n",
       "}\n",
       "\n",
       "// A function to construct a web socket function for onmessage handling.\n",
       "// Called in the figure constructor.\n",
       "mpl.figure.prototype._make_on_message_function = function(fig) {\n",
       "    return function socket_on_message(evt) {\n",
       "        if (evt.data instanceof Blob) {\n",
       "            /* FIXME: We get \"Resource interpreted as Image but\n",
       "             * transferred with MIME type text/plain:\" errors on\n",
       "             * Chrome.  But how to set the MIME type?  It doesn't seem\n",
       "             * to be part of the websocket stream */\n",
       "            evt.data.type = \"image/png\";\n",
       "\n",
       "            /* Free the memory for the previous frames */\n",
       "            if (fig.imageObj.src) {\n",
       "                (window.URL || window.webkitURL).revokeObjectURL(\n",
       "                    fig.imageObj.src);\n",
       "            }\n",
       "\n",
       "            fig.imageObj.src = (window.URL || window.webkitURL).createObjectURL(\n",
       "                evt.data);\n",
       "            fig.updated_canvas_event();\n",
       "            fig.waiting = false;\n",
       "            return;\n",
       "        }\n",
       "        else if (typeof evt.data === 'string' && evt.data.slice(0, 21) == \"data:image/png;base64\") {\n",
       "            fig.imageObj.src = evt.data;\n",
       "            fig.updated_canvas_event();\n",
       "            fig.waiting = false;\n",
       "            return;\n",
       "        }\n",
       "\n",
       "        var msg = JSON.parse(evt.data);\n",
       "        var msg_type = msg['type'];\n",
       "\n",
       "        // Call the  \"handle_{type}\" callback, which takes\n",
       "        // the figure and JSON message as its only arguments.\n",
       "        try {\n",
       "            var callback = fig[\"handle_\" + msg_type];\n",
       "        } catch (e) {\n",
       "            console.log(\"No handler for the '\" + msg_type + \"' message type: \", msg);\n",
       "            return;\n",
       "        }\n",
       "\n",
       "        if (callback) {\n",
       "            try {\n",
       "                // console.log(\"Handling '\" + msg_type + \"' message: \", msg);\n",
       "                callback(fig, msg);\n",
       "            } catch (e) {\n",
       "                console.log(\"Exception inside the 'handler_\" + msg_type + \"' callback:\", e, e.stack, msg);\n",
       "            }\n",
       "        }\n",
       "    };\n",
       "}\n",
       "\n",
       "// from http://stackoverflow.com/questions/1114465/getting-mouse-location-in-canvas\n",
       "mpl.findpos = function(e) {\n",
       "    //this section is from http://www.quirksmode.org/js/events_properties.html\n",
       "    var targ;\n",
       "    if (!e)\n",
       "        e = window.event;\n",
       "    if (e.target)\n",
       "        targ = e.target;\n",
       "    else if (e.srcElement)\n",
       "        targ = e.srcElement;\n",
       "    if (targ.nodeType == 3) // defeat Safari bug\n",
       "        targ = targ.parentNode;\n",
       "\n",
       "    // jQuery normalizes the pageX and pageY\n",
       "    // pageX,Y are the mouse positions relative to the document\n",
       "    // offset() returns the position of the element relative to the document\n",
       "    var x = e.pageX - $(targ).offset().left;\n",
       "    var y = e.pageY - $(targ).offset().top;\n",
       "\n",
       "    return {\"x\": x, \"y\": y};\n",
       "};\n",
       "\n",
       "/*\n",
       " * return a copy of an object with only non-object keys\n",
       " * we need this to avoid circular references\n",
       " * http://stackoverflow.com/a/24161582/3208463\n",
       " */\n",
       "function simpleKeys (original) {\n",
       "  return Object.keys(original).reduce(function (obj, key) {\n",
       "    if (typeof original[key] !== 'object')\n",
       "        obj[key] = original[key]\n",
       "    return obj;\n",
       "  }, {});\n",
       "}\n",
       "\n",
       "mpl.figure.prototype.mouse_event = function(event, name) {\n",
       "    var canvas_pos = mpl.findpos(event)\n",
       "\n",
       "    if (name === 'button_press')\n",
       "    {\n",
       "        this.canvas.focus();\n",
       "        this.canvas_div.focus();\n",
       "    }\n",
       "\n",
       "    var x = canvas_pos.x * mpl.ratio;\n",
       "    var y = canvas_pos.y * mpl.ratio;\n",
       "\n",
       "    this.send_message(name, {x: x, y: y, button: event.button,\n",
       "                             step: event.step,\n",
       "                             guiEvent: simpleKeys(event)});\n",
       "\n",
       "    /* This prevents the web browser from automatically changing to\n",
       "     * the text insertion cursor when the button is pressed.  We want\n",
       "     * to control all of the cursor setting manually through the\n",
       "     * 'cursor' event from matplotlib */\n",
       "    event.preventDefault();\n",
       "    return false;\n",
       "}\n",
       "\n",
       "mpl.figure.prototype._key_event_extra = function(event, name) {\n",
       "    // Handle any extra behaviour associated with a key event\n",
       "}\n",
       "\n",
       "mpl.figure.prototype.key_event = function(event, name) {\n",
       "\n",
       "    // Prevent repeat events\n",
       "    if (name == 'key_press')\n",
       "    {\n",
       "        if (event.which === this._key)\n",
       "            return;\n",
       "        else\n",
       "            this._key = event.which;\n",
       "    }\n",
       "    if (name == 'key_release')\n",
       "        this._key = null;\n",
       "\n",
       "    var value = '';\n",
       "    if (event.ctrlKey && event.which != 17)\n",
       "        value += \"ctrl+\";\n",
       "    if (event.altKey && event.which != 18)\n",
       "        value += \"alt+\";\n",
       "    if (event.shiftKey && event.which != 16)\n",
       "        value += \"shift+\";\n",
       "\n",
       "    value += 'k';\n",
       "    value += event.which.toString();\n",
       "\n",
       "    this._key_event_extra(event, name);\n",
       "\n",
       "    this.send_message(name, {key: value,\n",
       "                             guiEvent: simpleKeys(event)});\n",
       "    return false;\n",
       "}\n",
       "\n",
       "mpl.figure.prototype.toolbar_button_onclick = function(name) {\n",
       "    if (name == 'download') {\n",
       "        this.handle_save(this, null);\n",
       "    } else {\n",
       "        this.send_message(\"toolbar_button\", {name: name});\n",
       "    }\n",
       "};\n",
       "\n",
       "mpl.figure.prototype.toolbar_button_onmouseover = function(tooltip) {\n",
       "    this.message.textContent = tooltip;\n",
       "};\n",
       "mpl.toolbar_items = [[\"Home\", \"Reset original view\", \"fa fa-home icon-home\", \"home\"], [\"Back\", \"Back to previous view\", \"fa fa-arrow-left icon-arrow-left\", \"back\"], [\"Forward\", \"Forward to next view\", \"fa fa-arrow-right icon-arrow-right\", \"forward\"], [\"\", \"\", \"\", \"\"], [\"Pan\", \"Pan axes with left mouse, zoom with right\", \"fa fa-arrows icon-move\", \"pan\"], [\"Zoom\", \"Zoom to rectangle\", \"fa fa-square-o icon-check-empty\", \"zoom\"], [\"\", \"\", \"\", \"\"], [\"Download\", \"Download plot\", \"fa fa-floppy-o icon-save\", \"download\"]];\n",
       "\n",
       "mpl.extensions = [\"eps\", \"pdf\", \"png\", \"ps\", \"raw\", \"svg\"];\n",
       "\n",
       "mpl.default_extension = \"png\";var comm_websocket_adapter = function(comm) {\n",
       "    // Create a \"websocket\"-like object which calls the given IPython comm\n",
       "    // object with the appropriate methods. Currently this is a non binary\n",
       "    // socket, so there is still some room for performance tuning.\n",
       "    var ws = {};\n",
       "\n",
       "    ws.close = function() {\n",
       "        comm.close()\n",
       "    };\n",
       "    ws.send = function(m) {\n",
       "        //console.log('sending', m);\n",
       "        comm.send(m);\n",
       "    };\n",
       "    // Register the callback with on_msg.\n",
       "    comm.on_msg(function(msg) {\n",
       "        //console.log('receiving', msg['content']['data'], msg);\n",
       "        // Pass the mpl event to the overridden (by mpl) onmessage function.\n",
       "        ws.onmessage(msg['content']['data'])\n",
       "    });\n",
       "    return ws;\n",
       "}\n",
       "\n",
       "mpl.mpl_figure_comm = function(comm, msg) {\n",
       "    // This is the function which gets called when the mpl process\n",
       "    // starts-up an IPython Comm through the \"matplotlib\" channel.\n",
       "\n",
       "    var id = msg.content.data.id;\n",
       "    // Get hold of the div created by the display call when the Comm\n",
       "    // socket was opened in Python.\n",
       "    var element = $(\"#\" + id);\n",
       "    var ws_proxy = comm_websocket_adapter(comm)\n",
       "\n",
       "    function ondownload(figure, format) {\n",
       "        window.open(figure.imageObj.src);\n",
       "    }\n",
       "\n",
       "    var fig = new mpl.figure(id, ws_proxy,\n",
       "                           ondownload,\n",
       "                           element.get(0));\n",
       "\n",
       "    // Call onopen now - mpl needs it, as it is assuming we've passed it a real\n",
       "    // web socket which is closed, not our websocket->open comm proxy.\n",
       "    ws_proxy.onopen();\n",
       "\n",
       "    fig.parent_element = element.get(0);\n",
       "    fig.cell_info = mpl.find_output_cell(\"<div id='\" + id + \"'></div>\");\n",
       "    if (!fig.cell_info) {\n",
       "        console.error(\"Failed to find cell for figure\", id, fig);\n",
       "        return;\n",
       "    }\n",
       "\n",
       "    var output_index = fig.cell_info[2]\n",
       "    var cell = fig.cell_info[0];\n",
       "\n",
       "};\n",
       "\n",
       "mpl.figure.prototype.handle_close = function(fig, msg) {\n",
       "    var width = fig.canvas.width/mpl.ratio\n",
       "    fig.root.unbind('remove')\n",
       "\n",
       "    // Update the output cell to use the data from the current canvas.\n",
       "    fig.push_to_output();\n",
       "    var dataURL = fig.canvas.toDataURL();\n",
       "    // Re-enable the keyboard manager in IPython - without this line, in FF,\n",
       "    // the notebook keyboard shortcuts fail.\n",
       "    IPython.keyboard_manager.enable()\n",
       "    $(fig.parent_element).html('<img src=\"' + dataURL + '\" width=\"' + width + '\">');\n",
       "    fig.close_ws(fig, msg);\n",
       "}\n",
       "\n",
       "mpl.figure.prototype.close_ws = function(fig, msg){\n",
       "    fig.send_message('closing', msg);\n",
       "    // fig.ws.close()\n",
       "}\n",
       "\n",
       "mpl.figure.prototype.push_to_output = function(remove_interactive) {\n",
       "    // Turn the data on the canvas into data in the output cell.\n",
       "    var width = this.canvas.width/mpl.ratio\n",
       "    var dataURL = this.canvas.toDataURL();\n",
       "    this.cell_info[1]['text/html'] = '<img src=\"' + dataURL + '\" width=\"' + width + '\">';\n",
       "}\n",
       "\n",
       "mpl.figure.prototype.updated_canvas_event = function() {\n",
       "    // Tell IPython that the notebook contents must change.\n",
       "    IPython.notebook.set_dirty(true);\n",
       "    this.send_message(\"ack\", {});\n",
       "    var fig = this;\n",
       "    // Wait a second, then push the new image to the DOM so\n",
       "    // that it is saved nicely (might be nice to debounce this).\n",
       "    setTimeout(function () { fig.push_to_output() }, 1000);\n",
       "}\n",
       "\n",
       "mpl.figure.prototype._init_toolbar = function() {\n",
       "    var fig = this;\n",
       "\n",
       "    var nav_element = $('<div/>');\n",
       "    nav_element.attr('style', 'width: 100%');\n",
       "    this.root.append(nav_element);\n",
       "\n",
       "    // Define a callback function for later on.\n",
       "    function toolbar_event(event) {\n",
       "        return fig.toolbar_button_onclick(event['data']);\n",
       "    }\n",
       "    function toolbar_mouse_event(event) {\n",
       "        return fig.toolbar_button_onmouseover(event['data']);\n",
       "    }\n",
       "\n",
       "    for(var toolbar_ind in mpl.toolbar_items){\n",
       "        var name = mpl.toolbar_items[toolbar_ind][0];\n",
       "        var tooltip = mpl.toolbar_items[toolbar_ind][1];\n",
       "        var image = mpl.toolbar_items[toolbar_ind][2];\n",
       "        var method_name = mpl.toolbar_items[toolbar_ind][3];\n",
       "\n",
       "        if (!name) { continue; };\n",
       "\n",
       "        var button = $('<button class=\"btn btn-default\" href=\"#\" title=\"' + name + '\"><i class=\"fa ' + image + ' fa-lg\"></i></button>');\n",
       "        button.click(method_name, toolbar_event);\n",
       "        button.mouseover(tooltip, toolbar_mouse_event);\n",
       "        nav_element.append(button);\n",
       "    }\n",
       "\n",
       "    // Add the status bar.\n",
       "    var status_bar = $('<span class=\"mpl-message\" style=\"text-align:right; float: right;\"/>');\n",
       "    nav_element.append(status_bar);\n",
       "    this.message = status_bar[0];\n",
       "\n",
       "    // Add the close button to the window.\n",
       "    var buttongrp = $('<div class=\"btn-group inline pull-right\"></div>');\n",
       "    var button = $('<button class=\"btn btn-mini btn-primary\" href=\"#\" title=\"Stop Interaction\"><i class=\"fa fa-power-off icon-remove icon-large\"></i></button>');\n",
       "    button.click(function (evt) { fig.handle_close(fig, {}); } );\n",
       "    button.mouseover('Stop Interaction', toolbar_mouse_event);\n",
       "    buttongrp.append(button);\n",
       "    var titlebar = this.root.find($('.ui-dialog-titlebar'));\n",
       "    titlebar.prepend(buttongrp);\n",
       "}\n",
       "\n",
       "mpl.figure.prototype._root_extra_style = function(el){\n",
       "    var fig = this\n",
       "    el.on(\"remove\", function(){\n",
       "\tfig.close_ws(fig, {});\n",
       "    });\n",
       "}\n",
       "\n",
       "mpl.figure.prototype._canvas_extra_style = function(el){\n",
       "    // this is important to make the div 'focusable\n",
       "    el.attr('tabindex', 0)\n",
       "    // reach out to IPython and tell the keyboard manager to turn it's self\n",
       "    // off when our div gets focus\n",
       "\n",
       "    // location in version 3\n",
       "    if (IPython.notebook.keyboard_manager) {\n",
       "        IPython.notebook.keyboard_manager.register_events(el);\n",
       "    }\n",
       "    else {\n",
       "        // location in version 2\n",
       "        IPython.keyboard_manager.register_events(el);\n",
       "    }\n",
       "\n",
       "}\n",
       "\n",
       "mpl.figure.prototype._key_event_extra = function(event, name) {\n",
       "    var manager = IPython.notebook.keyboard_manager;\n",
       "    if (!manager)\n",
       "        manager = IPython.keyboard_manager;\n",
       "\n",
       "    // Check for shift+enter\n",
       "    if (event.shiftKey && event.which == 13) {\n",
       "        this.canvas_div.blur();\n",
       "        // select the cell after this one\n",
       "        var index = IPython.notebook.find_cell_index(this.cell_info[0]);\n",
       "        IPython.notebook.select(index + 1);\n",
       "    }\n",
       "}\n",
       "\n",
       "mpl.figure.prototype.handle_save = function(fig, msg) {\n",
       "    fig.ondownload(fig, null);\n",
       "}\n",
       "\n",
       "\n",
       "mpl.find_output_cell = function(html_output) {\n",
       "    // Return the cell and output element which can be found *uniquely* in the notebook.\n",
       "    // Note - this is a bit hacky, but it is done because the \"notebook_saving.Notebook\"\n",
       "    // IPython event is triggered only after the cells have been serialised, which for\n",
       "    // our purposes (turning an active figure into a static one), is too late.\n",
       "    var cells = IPython.notebook.get_cells();\n",
       "    var ncells = cells.length;\n",
       "    for (var i=0; i<ncells; i++) {\n",
       "        var cell = cells[i];\n",
       "        if (cell.cell_type === 'code'){\n",
       "            for (var j=0; j<cell.output_area.outputs.length; j++) {\n",
       "                var data = cell.output_area.outputs[j];\n",
       "                if (data.data) {\n",
       "                    // IPython >= 3 moved mimebundle to data attribute of output\n",
       "                    data = data.data;\n",
       "                }\n",
       "                if (data['text/html'] == html_output) {\n",
       "                    return [cell, data, j];\n",
       "                }\n",
       "            }\n",
       "        }\n",
       "    }\n",
       "}\n",
       "\n",
       "// Register the function which deals with the matplotlib target/channel.\n",
       "// The kernel may be null if the page has been refreshed.\n",
       "if (IPython.notebook.kernel != null) {\n",
       "    IPython.notebook.kernel.comm_manager.register_target('matplotlib', mpl.mpl_figure_comm);\n",
       "}\n"
      ],
      "text/plain": [
       "<IPython.core.display.Javascript object>"
      ]
     },
     "metadata": {},
     "output_type": "display_data"
    },
    {
     "data": {
      "text/html": [
       "<img src=\"data:image/png;base64,iVBORw0KGgoAAAANSUhEUgAAAgAAAAGACAYAAADbINq/AAAgAElEQVR4XuxdB3hUxfc9hJDQEkqAQIAQQui9hY50wQZIU5QiihUVy8+CDVSaIoJSLChYQECaioj03kLvgQQSQgkhgUBCSOf/ncHlH2PK7ubt7tu3d74vHwnvvZk7587MPXNn5k6h27dv34YkQUAQEAQEAUFAEHApBAoJAXApfUtlBQFBQBAQBAQBhYAQAGkIgoAgIAgIAoKACyIgBMAFlS5VFgQEAUFAEBAEhABIGxAEBAFBQBAQBFwQASEALqh0qbIgIAgIAoKAICAEQNqAICAICAKCgCDggggIAXBBpUuVBQFBQBAQBAQBIQDSBgQBQUAQEAQEARdEQAiACypdqiwICAKCgCAgCAgBkDYgCAgCgoAgIAi4IAJCAFxQ6VJlQUAQEAQEAUFACIC0AUFAEBAEBAFBwAUREALggkqXKgsCgoAgIAgIAkIApA0IAoKAICAICAIuiIAQABdUulRZEBAEBAFBQBAQAiBtQBAQBAQBQUAQcEEEhAC4oNKlyoKAICAICAKCgBAAaQOCgCAgCAgCgoALIiAEwAWVLlUWBAQBQUAQEASEAEgbEAQEAUFAEBAEXBABIQAuqHSpsiAgCAgCgoAgIARA2oAgIAgIAoKAIOCCCAgBcEGlS5UFAUFAEBAEBAEhANIGBAFBQBAQBAQBF0RACIALKl2qLAgIAoKAICAICAGQNiAICAKCgCAgCLggAkIAXFDpUmVBQBAQBAQBQUAIgLQBQUAQEAQEAUHABREQAmCB0ufNm4d3330X58+ft+Ar81/dtGkTOnfujLS0NLi7u5v/oR3fbN++Pbp164axY8fasdSci4qIiED16tVx+vRpBAUFFVieTp06gfX7+OOPC5yXvTOYP38+PvzwQ4SGhtq7aE3K01qXvXr1Qtu2bfHee+/9S77MzEw89thj8PX1xeeff45ChQppIn9OmVy/fh0tWrTApEmT0K9fP5uVIxlbh0BCQgK6du2K559/HsOHD7cqk5IlS2LlypXg2OGMyekIQG6DNBWYnp6On3/+2WZ6EAIAZSDNIQBz587FiBEj8Oabb6oB0BZJa6PhzATAUny1xs7S8rO/by95XnjhBWX833///YKKnO/3Dz/8sCIhr7/+er7vygv2RYCTrD59+uCJJ55A//79/1U4SeHatWvVOGf0JATAAg0LATCfALRs2RJnz56Fm5sboqKi4OnpmSvSqamp8PDwsEATd17V2mgIAbBYBbBWd44iAJbX0Lov2Db//vtvPPPMM9ZlYIOvaPSKFClig5y1zTIjI0N5Zjh2OCKZQwC0aveOqF/WMg1LAGbOnInZs2fj3LlzKF68OLp3765cfuXKlVP1pwt73bp16NKlC7799lvcvHkTzz77LN5++2317+rVq1GmTBlMnz4dvXv3Vt+YCADdihMnTsS1a9fQo0cPfPfdd/D29lbvXLhwAa+88go2b96s/qZRYbl+fn7qb3opvvjiC8yZM0cZxlKlSuHFF19UM+XsSwBhYWF48MEH8cADD2Dy5Mk4cuQIXnrpJRw6dEh1kMDAQCxYsAC1a9f+Tzu6dOkSRo4ciZCQECQlJSlXOeUeMGDA3XeZB2VZuHChypPvEDPO8k2yjhkzBj/++CPYKZ966ils3bo1Xw8AywwODsZff/2lsCM+jz/++N1y6a2hTD4+PliyZIlyk7L+XP6gLJSTyyx0z/3000/47LPPFF4cwDiDGzduXK4EgDqaMmWK0ru/vz/+97//YdiwYXfLPnHihCprz549uHXrFurWrYtff/0VVatWVbrKugTw0UcfgZ6M33//HfXr18cHH3yA77//HnTtUm9Dhw7FhAkTcuzDzHv8+PFYvHgxqIvy5cur702y5CWnidjwnalTp+LMmTOqfJZdr169HMvLTk6JcXJysmrvv/zyi1pSevrpp8E6MZUoUULpgH2D7YD6+eqrr9Q3XEpYtGgRrl69ioYNG6o+0LRp03/1G+qKei1dujSOHz+OgIAAVTe2D2LLv6m3e++996685tTZtJxz9OhRvPzyyzh8+LAiGXXq1FF9jv3VlCzRJd999dVXVX8oWrQo7r//fnzyySdKj6Z+2rhxY1y5cgV//vmn6s9s+88991yOeA8ePBjFihVTGJjS/v370bp1a9Wvqf+sy1Pm1Cd7QcSfS47sR7GxsahcubLSBTHNyeOZvf1Sr2w/bN/s37NmzVL1ITHp0KHD3eI4prDNsZ1zDGK9uZTE5RLqnXk0adIkRxz4nyyHumY7I85soyyL/ZopvzxN4x6/p2cmMjJS/bAt0XvI9l+4cGHlTWH9iSuTqc1TXo6PxIjj25dffok33nhD9T1OLDjWZyViu3fvVmMAx1O68NmP2TfZR9jP2J7ZRlgmcSL+OY1Z/P/sZGHnzp145513VLslfmxTq1atUm2FdeP4xvGA/YYeCMrNPuioZFgCsHTpUjV4cW2YHXLgwIHKYLKRMbFRcICmseAa0MGDB1UDo8JosNu1a4dp06ap9WAaIyqJDY5GkAabA398fDw6duwIDgY0SjSSbPQcrDiY3r59Ww26bMBsdGxQ7NBsBDTcfJd5sLO1adPmXwRg27ZteOSRR5SMTz75pJKZMrHzs8EzcVCpVKmScmlmT5SZAzEJCmffNOIkNqwnG7mp4zZq1AjEigM2XZXLly9XnY+Jdfzmm29UA65Ro4bCgh2SDTyvPQB0q7GcAwcOqDrQGO/YseOuiOxMXLP++uuvMWTIEGXYKSuNCv8meeMASmPMDka8KfvevXvV/3FgIF7ZPQCsB8tmHTgYbty4UXUyLgvx38uXL6u6UydvvfWWMoIctDmg0FCaBlDqiJhTb7/99hsqVKigXILMm/UgseDgbNJbTp2XBvXUqVP44YcfVHtgp4+OjkazZs0U3nnJaaqXiQCRiDI/GicTscxeZk4EgG2d5XNQJL5sq2vWrFE45+Y9oW7YdphfxYoVVTsmIWBdOGhR72wHHMw4yHKQY99g+yGJXrFiBVq1aqXKZb86efKkwtfcOmclAMSM+uZMkMaf/ZLPqQ9zdUlZudZLHbAtkgCRwPF34kp5TQSA7dXUdvgvxwzqOKf9JRs2bFDkljLSiDDRuFKuZcuW/Qdf9tW86pNdnxw77rnnHpU3dUCCSo8aCRoNrLkEgJMDykOiy29pCIkn9cvE/+PkhH8/9NBD2L59u+pzHJtSUlLw2muvKcJA3HPz0vF9jg8kEPyXumIf5gSGBCu/PE0EgH2URJ91pjFmn+P41qBBAzXZYp+hkaeRNREAjsejR49WbfLixYtKbrZbjpusD/X46KOPqr5MDKnP5s2bq3Lo+ueEje9R1xzXTONi9iWAnMYsE3k2vXvs2DFVPm0KZWUdOF5wrOIYzMkMdUo5SDLYftg3iZejklMSgF27dimGljVxNkMl5rYHgA2BjSUuLu4uAaBCwsPD72ZDtsuZKw0TE9+lYaAxIzFgJ6Eh4oBicqVxhsnOTTbIhkkjze84uJjy4OyPDYEDI2cWnFVmX3fiu6aOwFk4GSmJAgdrU+Lv7GD0UvBfSxPrYCIwpobOgZoMmIkNmJ2NhoqkombNmsrjQAPMRILDDsmBPTcCwI7KmQpnBBwQOVDSkJkwZD7sTOyIpo6cte4kC+wgTPSkkHxk3dhGUsc6cHaY3YiRHHFwpKEwJb7H7+nRYcekDqmvnBIJAOvM59WqVVPvmtoZDS83crHN8D0y+twSBynqnLNN0ywo67v5yWmqF8uk0WbirJSDBdt5TiknAkAsib8pcVmG7Y6zn5wIgKm902hn9SoRE7ZHkhDqnR4zkoSsG+hIAIgP9W5KbO/0XtGjY26d89rQSQJC/OkVM0eXJm8OiRDbMQ2waXMtjT3JGP+PBoM65QSBXhZTog5nzJiBQYMG/QdyGmjiQiLJ9ki90JCS2N93331mLU9lrU/2Akh2ORaRUFCO7MlcAkDykHX2u2XLFnCDJOvNsYhEnGMYJ0mcoGRP7M9ly5ZVM1r2vZySyZNoGidICjkG0MNCQp9fnqZxL3u7y/6dSWc3btyAl5dXjuNx3759lS5IWkyJ9WS7ocFlOyCRNk0E+Q4xYPsmYWHKaQkgpzEr+7ujRo1SeuemQHMSxynaq3379pnzuk3ecUoCkNNO7ewdgqyXgwSVSpbLRskZCl3wbOimJQDOtE0p+wY3fseBnjNOPstpD0DWfOhyonGkAcia6OqmUacB5+wlt85k6ggckMiG+U3WxJk5mS5ncTTGHMz5t2kGkvVddlzO0LjMwYGdrD8xMVGRB5MbOHtDz24UWHe6DzmImxINGv/OjQDQXcgB3zTAcKCsVauWct2aiBV1RbcuB0tTyukEBGfi1A+fmRJdrCyfz7LLS+NP/NkRTYnuQOJIxs3lA5IbzkZzSjQCJAvEiYQlO8micSBh4kBElyjryaWl7Mm0BGIaqLI/z0/OnIxzfidEciIA2TfFZnUR51QGvVTE1+QWN8lNXXHGT2NHvbP9ZfXo8D2TBykr9pxlc/ClF8nSOpO8sP2yHHrJ2H6JJ8kHvTPm6NI0TtAQsW/SqJoSSTxlY51paHPa/8E6sZ3RwOeU6CH7448/FJFlu+C77KOUNTu++dUne/7sd5xsmCYs2Z+bSwBoCOkFzJpI7rgcQmLAMYkzVNNSFscmzoTpGSNGrAs9JhxHSORzShxHiEPWcYLtiDNreivzy9PUtulxyOplIAGm94l9l2M3E2XimM6+mdN4TJJKkmfycPAbjqe0BXxG8kPPYNYJJG0Df9jvmXIjANnHrOzvclmJnqasJDgrXhz/+MM2wr5JzydtA8mXo5IhCQBnJ5zBkV2REVLZ9ABwV67piJ0tCAAHAg46JAAmDwBdxfQiZPUAsHHmdCzI1BE4C2JD7dmzp1qjz+moEjsBGS2JAt1d2RM7NzsO2S1n1MyDHgDOnkzH3PIjAJzhcAZtGtRJOjjL4cw+JwJAY8/Bha5KNmxT4gBC0kUXHQfdnAYvLQhATrNMugc5s6AH4NNPP1UzAQ5IuREA6o/uOpIGDp45zXo4UNHFycGNswnORrIm/h+JHg0O3Y3ZU35y2oMA0CCxj2SdcXNgotHjv1zmyCnl1G9MBICElAOtKdEIcDZM8mBpnfk+iQgJHL1RbFvsU8yfBtlcXbKtc7bHdsz2Z/IAkODR45fVA5B9YpEfAWB+xJB50VjTmNJgMeXkncqrPtmxJomkByUmJubuvqWs73C2zXGO45opkWjTC5pb/za9R0JEgkFc2F+5vGMiu/ybYw9nxMTb5AHIa1c8xxHqyTRO0JhWqVJFLRfSu5hfnjn1fRpbjiFsO8SWfczkATC1WWsIAF3zlDerpyc79iQ9JLlZTwHkdsos6xhKUsp+RTKUPdE2mJbg2M7oQaYHgGTBVsfKzSEVhiQAHPC55kUlcobGBsOzv+xUtiQANJB0K9KNTgPCQYuNl7NKlk0jSKPBjW+c/dI4sIPltAeAzJ8EgDMnNnQ2GP7LRkn3Go0M60YCYNoUl1XhnH0xb3pC+C2ZJ13qnMWZSwD4Hjc5cXmD67icJfAntz0AxJsDN93OxN+UyNo52HKtiwOXrQgABzUaB67bc/MOZxAkSZydkfzRnUq52FE5u+QaHgcVDvRZ9wCw3nSdckbHvLiswzV0eoToRieh5Boi3YnUU06beLgvhOuOLJsDIA0Nf9g+8pPTHgSAeyzoOeK6LWcupkTCzNkJXd80btQdvTD0eHD5Jy8CQNcr8SJGJN8mEkrjYmmdSR7Y9qkH9ll6rWj8+Td1bIku6TngzIwzQPYVElKuC9OosP5M1ngA+B1nuTR47CNcTmRbyokA5Fef7IM1xw62YRphjiU0qKY9AGzDbFckNVwOJb4kpHTlc3knPwJA7DgpYF/lzDrrMhFny9wjQz3T88J9QVyyzI8AcJ+EaQ8AN7Zxsx4nKVzmyC/PnAgAZ+P81qRvki1uauaSYEEIAMdhejI4rnFs4JhMXCkrx1smTnI4xnGcMCVzCACXDukh5d4xbog17QGg7k37kTgpoH2gh4VLepxMCAEwh6r88465cQDIPtkI2ZA4i6NBZIexJQGgiHTn0NByrY2Jmz7I9NiBmTi40k3OBsgNKGzkNCQ0SNk7AgcuDjA0MCQNnHmzI3IA40yaDZh55WSA2KB5Dp8Nje/ydy5lcFAxlwAQKxIGDuYc5PI7BUDjQbwpY/bEmTgJAr0StiIALJOGmZhQD5zFchMT625K7KTEmgadujCdAqB+srctGi0OhvSi0OjzO5I1zhA426JRMg0a2evLgZWzQebBWRw9AjQ+pjXRvOS0BwGgvByoOViRDJCwcOc2f+f/k6CSsNBIcgAjIeDAmBcB4GyPZIHYkjxwlk4PgClZUmfmwfZOMk9yRkPE2VJWl7wluuT+Frq9OQBTl5SLM2GTp85aAkCjx35IMs72bUrZdWhOfbK3IZJLLtmRXNAYs41yTKNLn22XM27TTndONDh+ZPVi5HWcjYSY3gO2berelGhg2Wc4k+VEg95FehXyIwDUDduMafJFQsKlFab88sxteYsTHrY3elRJcjiucgZfEAJAebjsw+U7kn+OcSRtbGumvRIkV3zO8Zd4ck3fHALAvNn+TacAiD8nPvyeXkW2P46lLJPLLtx0zuUxIQAWEAB5VRAQBPSHQH7ucv1JLBJphYA55+a1Kkvy0RYBp1sC0Lb6kpsgIAhogYAQAC1QdM48hAA4p94otRAA59WdSC4I6AYBIQC6UYXdBRECYHfINStQCIBmUEpGgoAgIAgIAoKA8yAgBMB5dCWSCgKCgCAgCAgCmiEgBEAzKCUjQUAQEAQEAUHAeRAQAuA8uhJJBQFBQBAQBAQBzRBweQLA85k5xdrWDGHJSBAQBAQBQcAwCDAIGwP4GCG5PAFgcA1HBmIwQiOSOggCgoAg4CoIGMlmCAEQAuAq/VbqKQgIAoJAgREQAlBgCPWTgZGUqR9URRJBQBAQBIyJgJFshngAxANgzF4qtRIEBAFBwAYICAGwAaiOytJIynQUhlKuICAICAKugoCRbIZ4AMQD4Cr9VuopCAgCgkCBERACUGAI9ZOBkZSpH1RFEkFAEBAEjImAkWyGeADEA2DMXiq1EgQEAUHABggIAbABqI7K0kjKdBSGUq4gIAgIAq6CgJFshngAxAPgKv1W6ikICAKCQIEREAJQYAj1k4GRlKkfVEUSQUAQEASMiYCRbIZ4AMQDYMxeKrUSBAQBQcAGCAgBsAGojsrSSMp0FIZSriAgCAgCroKAkWyGeADEA+Aq/VbqKQgIAoJAgREQAlBgCPWTgZGUqR9URRJBQBAQBIyJgJFshngAxANgzF4qtRIEBAFBwAYICAGwAaiOytJIynQUhlKuICAICAKugoCRbIZ4AMQD4Cr9VuopCAgCgkCBERACUGAI9ZOBkZSpH1RFEkFAEBAEjImAkWyGeADEA2DMXiq1EgQEAUHABggIAbABqI7K0kjKdBSGUq4gIAgIAq6CgJFshngAxAPgKv1W6ikICAKCQIEREAJQYAj1k4GRlKkfVEUSQUAQEASMiYCRbIZ4AMQDYMxeKrUSBAQBQcAGCAgBsAGojsrSSMp0FIZSriAgCAgCroKAkWyGeADEA+Aq/VbqKQgIAoJAgREQAlBgCHPP4KWXXsLvv/+OyMhIHDhwAE2aNFEvBwQEwNPTE8WKFVN/v/322xg0aJD6/fTp0xg2bBhiY2NRqlQpzJs3D/Xr1zdLSiMp06wKy0uCgCAgCAgCViNgJJuhOw/Ali1bEBgYiPbt22PFihX/IgBZ/86qvS5dumDo0KEYPnw4lixZgsmTJyMkJMQsBRtJmWZVWF4SBAQBQUAQsBoBI9kM3REAk1Y44zeHAMTExCAoKAhXr16Fu7s7bt++jUqVKmHbtm3q//NLRlJmfnWV54KAICAICAIFQ8BINsOpCIC3t7cy8MHBwZg0aRLKly+Pffv2YfDgwQgNDb2rVdNzegbyS0ZSZn51leeCgCAgCAgCBUPASDbDaQjAuXPn4O/vj7S0NLz77rs4cuQIVq1aZTEBmDp1KvhjSomJiYiPjy9Yi5CvBQFBQBAQBFwCASEAdlBz9iWArEVeunQJtWrVQkJCAmQJwA7KkCIEAUFAEBAEFAJCAOzQELISgJs3b6qZf+nSpVXJnMFzfwA3DDJ16tRJbQA0bQLk8sDevXvNktJIyjSrwgZ6KT4pFZtCr2DticsIj0m0uGaeRQqjXQ0fdK/ni8ZVSsPNrZDFecgHgoAg4FoIGMlm6G4J4JlnnsGff/6J6Oho+Pj4wMvLC2vWrEG/fv2QkZGh9gDwlMD06dPV0UAmrv/T+MfFxYH7BObOnYuGDRua1SqNpEyzKuzkL525koj1J2KU0d8XeQ0ZmbdVjfzLFoe7hQb8WlIqriWlqe8reHmia11f9KjnizY1fFC0SGEnR0rEFwQEAVsgYCSboTsCYAuF5ZWnkZRpb+zsUV56RqYy9OtPxmDd8cs4E3tTFVu0iBs61CyPbnUroHOdCqjgVdRicUgeDkZdw5rjl7GWeV+5k3cJj8K4p3Z55RnoUtsXpYoXsThv+UAQEASMiYCRbIYQAIkEqLteeiM5DVtOXVEz/Y2hMYj/Z5bu6+2JLnV80b1eBbStUU7zWXr4lURFBPiz/9w13L4NFHYrhOCAsooM8Kdq2eK6w0sEEgQEAfshIATAfljbvCQjKdPmYNmwgKirSVh34rIy+rvPxiEt445rv76ft3LNd6/rq3631zr9lYQUrD9xhwxsDYtFanqmkqduJW98NqAx6vl52xANyVoQEAT0ioCRbIZ4AMQD4LB+dv5aEn7Zcw7rjscg9HKCksOjsBvaBvkoo9+1TgX4lb4T+tmRKSk1HVtOxSoy8NvBC2jqXxqLn2mDQoVk06Aj9SJlCwKOQEAIgCNQt1GZRlKmjSCySbaxiSl48MttuHQ9GT4lPNClTgVl9DvULIcSnu42KVOLTN9cchiL9kbhl5Gt1WZBSYKAIOBaCBjJZogHQDwAdu+93Ng35Ls92HkmDh/3aYBHg/3VWrszpMi4m+jy2Wa0ql4WC0a2dgaRRUZBQBDQEAEhABqC6eisjKRMR2NpbvkT/zqBrzefwZDW1fBRnwbmfqab915dfBDL9l/AkmfboEVAWd3IJYIIAoKA7REwks0QD4B4AGzfY7KU8NeRS3hu/n61jr7o6TbwcHeza/laFMbTAt2nbkb7muXx44hgLbKUPAQBQcBJEBAC4CSKMkdMIynTnPo68p2wmAT0nrEdxTwKY+WLHVCxlOVn9x0pf9ayX/rlAH4/dBErXmiHJlXvRKiUJAgIAsZHwEg2QzwA4gGwS49NTElH7xnbEBGXhPlPtULrQOfeQHfqcgLunbYFXWpXwHfDW9oFQylEEBAEHI+AEADH60AzCYykTM1A0Tgjhm9+fv5+/HU0Gu/eXxdPdQjUuATHZPf8/H1YdSQaK19sjwaVSzlGCClVEBAE7IqAkWyGeADEA2DzzvP15nBM/Osk7m9UCTMebWqY8/PHL97AfV9sxb31ffH1kBY2x1EKEAQEAccjIATA8TrQTAIjKVMzUDTMaEdYLB7/bjdqlC+p1sv1fMbfmmqP/HGvChD018sdVJRASYKAIGBsBIxkM8QDIB4Am/XWi/G38MCX21QY3d9GtVMkwGjpyPnreHDGNtzfsBJmPtbMaNWT+ggCgkA2BIQAGKhJGEmZelJLSnoGBn69C4ei4vHV483Rs0FFPYmnqSxPzN2DTaeuYM3ojqjp66Vp3pKZICAI6AsBI9kM8QCIB8AmvWvM8iNYsPscnutUA2/2rGOTMvSS6a4zcXjkm10Y3a0mRnerpRexRA5BQBCwAQJCAGwAqqOyNJIyHYVh9nI3hcZg+NwQtA8qhx9GBDtNmF9r8eO9Bi0+XofBrfwxoW9Da7OR7wQBQcAJEDCSzRAPgHgANO9ypiA5W9/ojKpli2uev94yzMi8jZrvrEL3enIaQG+6EXkEAa0REAKgNaIOzM9IynQgjHeLvpWageYfr0Xtil5Y/nw7PYhkFxnoAajmUxxLn2trl/KkEEFAEHAMAkayGeIBEA+Apr1o1ZFLKujPew/Uw5Ptq2uat54z6zltC5LTMrDpf531LKbIJggIAgVEQAhAAQHU0+dGUqYecGV0PEb82/lWV6eO9W8plo/P2Y2DUfE4Ou5eSz+V9wUBQcCJEDCSzRAPgHgANOt6N1PSlfu/UeXSWPxsG83ydYaMXl54AL8dvIiTH/VE0SKFnUFkkVEQEASsQEAIgBWg6fUTIynT0Rj/dvACXl54EB/2ro+hbQIcLY5dy/9o5XF8t+0str3ZGVXKGH/jo13BlcIEAR0hYCSbIR4A8QBo1rWe/nEv1p24jN1juqG8l6dm+TpDRrM3hWPy6pNyPbAzKEtkFAQKgIAQgAKAp7dPjaRMR2KbkJyG5h+vQ4tqZbBgZGtHiuKQshfvjcIbSw7ju2Et0LWur0NkkEIFAUHA9ggYyWaIB0A8AJr0mGX7z+PVxYdUIBwGxHG1tPFkDJ6YF4LJ/RpiUEvXq7+r6Vvq67oICAGwoe6Tk5PxyCOP4Pjx4yhWrBgqVKiA2bNnIygoCDExMRg6dCjCw8Ph6emJWbNmoWPHjkqavJ7lJa6RlGlDteSb9Yh5Idh86gpC3umGsiU88n3faC8cPh+Ph2Zsx//urY0XOgcZrXpSH0FAEPgHASPZDN15AEgANmzYgF69eql742fMmIElS5Zg06ZNGDFiBPz9/TF27FiEhISgb9++OHv2LIoUKZLnMyEAtu2715PS0GL8WrSpUQ4/jgi2bWE6zZ03H7adtAFPtAvABw/W16mUIpYgIAgUFAEhAAVF0ILv9+7di/79+yMiIgIlS5ZEWFgYKla8c7NccHAwJkyYgG7duuX5TAiABYBb8erikCi8sfQwPunXCANbVrUiB2AMha0AACAASURBVOf/hLcf1n53NR5s7IcvH23q/BWSGggCgkCOCAgBsGPDGDJkCMqWLYv3338ffn5+SElJuVv6wIED0bNnT/Tu3TvXZ/QaCAGwrcKGfr8HO8Njsfed7ihVvIhtC9Np7icu3UCv6VsxrE01jOvdQKdSiliCgCBQUASEABQUQTO/5+z+jz/+wPr163Hr1i1NCMDUqVPBH1NKTExEfHy8mRLJa9kRuHozFS3Hr8M9tcrj++EtXRagqWtC8cWGMPwysjXa1PBxWRyk4oKA0REQAmAHDU+ZMgULFy7EunXrULp0aVViiRIl1AbAnJYA8nomHgDbKWzB7nMYs/wIpg5sjIebVbFdQTrO+fbt2+g2dTOu30pTMRAKuxXSsbQimiAgCBQEASEABUHPjG85Q58/f74y/mXKlLn7xfDhwxEQEHB3E2CfPn3U3gBuAszrmRAAM0C38pXB3+7C3shr2PduN3gVdU33f2h0Au6dtgWPtfLH+L4NrURSPhMEBAFnQEAIgA21dP78eVStWhWBgYHw8vJSJfHI3+7du3H58mVwTwB3/nt4eKgTAp0737l9La9nQgBso7ArCSloNWEdutX1xTdDW9imECfIderaU/hi/WkseKoV2gaVcwKJRURBQBCwFgEhANYip8PvjKRMe8P7x6GLePGXA5gyoDH6N3dN9z8x7z51M7gXYveYrnAv7GZvNUh5goAgYEcEjGQzdBcHwI56VEUZSZn2xm75gfN4ZdEhfDu0BbrXc83wt6cvJ6D751tU9ENGQZQkCAgCxkbASDZDCICEAra6twoBAKatO4Vp607j5ydboX1Ncf9b3ZjkQ0HASRAQAuAkijJHTCMp05z6avmOEADg3s+34EpiCvaI+1/LpiV5CQK6RcBINkM8AOIBsLqjuToBCItJVMf/Hg2uiokPN7IaR/lQEBAEnAcBIQDOo6t8JTWSMvOtrMYvuDoBmLkxDJ/+HaruP+hYq7zG6Ep2goAgoEcEjGQzxAMgHgCr+5irEwAe/eMRwN9eaIfGVe8Eq5IkCAgCxkZACICB9GskZdpbLa5OADacvIwR8/ZifN8GeKxVNXvDL+UJAoKAAxAwks0QD4B4AKzuQq5OAGJuJCN4wno8GuyPiQ/LEUCrG5J8KAg4EQJCAJxIWfmJaiRl5ldXrZ+7OgEgnrwIqaJ3UfzxYnut4ZX8BAFBQIcIGMlmiAdAPABWdzEhAMATc/dge1gcjo67Fx7uEgXQ6sYkHwoCToKAEAAnUZQ5YhpJmebUV8t3hAAAn60JxZcbwvDnS+1R36+UlvBKXoKAIKBDBIxkM8QDIB4Aq7uYEADg72PReOanffikXyMMbFnVaizlQ0FAEHAOBIQAOIeezJLSSMo0q8IaviQEALgQfwvtJm3A0DbV8GHvBhqiK1kJAoKAHhEwks0QD4B4AKzuY0IAgNu3b6PZR2tRvVwJLHu+ndVYyoeCgCDgHAgIAXAOPZklpZGUaVaFNXxJCMAdMId8txshEVdxbFxPFHYrpCHCkpUgIAjoDQEj2QzxAIgHwOr+JQTgDnST/jqJrzaHY80rHVHL18tqPOVDQUAQ0D8CQgD0ryOzJTSSMs2utEYv7joTh++3ncXznYPQxIVD4a48fBGjFhzA1IGN8XCzKhqhK9kIAoKAHhEwks0QD4B4APTYx5xKpmMXr+P+L7bh1e618FLXmk4luwgrCAgCliEgBMAyvHT9tpGUqWugDSzcyegb6DltqxAAA+tYqiYImBAwks0QD4B4AKRnFxABIQAFBFA+FwScCAEhAE6krPxENZIy86urPLcNAkIAbIOr5CoI6BEBI9kM8QCIB0CPfcypZBIC4FTqEmEFgQIhIASgQPDp62MjKVNfyLqONEIAXEfXUlNBwEg2QzwA4gGQHl1ABIQAFBBA+VwQcCIEhAA4kbLyE9VIysyvrvLcNggIAbANrpKrIKBHBIxkM3TnAUhOTsYjjzyC48ePo1ixYqhQoQJmz56NoKAgdOrUCZGRkShV6s61q8OGDcMrr7yifo+JicHQoUMRHh4OT09PzJo1Cx07dsy3/RhJmflWVl6wCQJCAGwCq2QqCOgSASPZDF0SgA0bNqBXr14oVKgQZsyYgSVLlmDTpk2KAIwePRp9+vT5T8MYMWIE/P39MXbsWISEhKBv3744e/YsihQpkmcjMpIyddlbXEAo05XAr/eohVFdJBCQC6hcqujCCBjJZuiOAGRvV3v37kX//v0RERGRJwEoWbIkwsLCULFiRZVFcHAwJkyYgG7dugkBcOHOauuqh0YnoP9XO4DbwIpR7VCjfElbFyn5CwKCgAMREAJgR/CHDBmCsmXLYvr06YoAREdHq1l9vXr1MHHiRAQGBiIuLg5+fn5ISUm5K9nAgQPRs2dP0DOQVzKSMu2oFikKQPT1ZPSdtR2xiSn44YlgtA0qJ7gIAoKAwREwks3QtQeAM/g//vgD69evR/HixREVFYWqVauqO9hnzpyp1vm5V8ASAjB16lTwx5QSExMRHx9v8CYr1dMagRvJaRj41U6cjE7A54Mao29TuQRIa4wlP0FAjwgIAbCDVqZMmYKFCxdi3bp1KF26dI4lFi1aFBcuXICPjw9KlCihNgDKEoAdlKPTIi7E38KA2TtwT+3yeLFLTfiVLmYTSVPTM/HEvD3YHhaH/91bGy90DrJJOZKpICAI6A8BIQA21gln6PPnz1fGv0yZMqq09PR0NdP39fVVfy9duhSvvvqqOhXANHz4cAQEBNzdBMiNgtw3IJsAbawsHWUfFpOAblO3KIk83N0wpHU1PN+pBnxKemomZXJaBt5Ychi/H7qIx1r54+M+DdRmVUmCgCDgGggIAbChns+fP6/c/Fzb9/LyUiXxWB9PBtxzzz1qnd/NzQ3lypVTrvzGjRurdy5fvgzuF+DOfw8PD3V6oHPnzvlKaiRl5ltZg7+QnpGJeh/8DV9vT5QqVgRHL9xACY/CeLJ9dTzVMRDeRfM+EZIfPDzu9/IvBxF6OQHd6vriq8ebwb2wW36fyXNBQBAwEAJGshm63gNgjzZjJGXaAy+9l3Hf9K24lpSK7W92wepj0fhsTSjCr9xUhOC5TjUwrE0AinkUtqgamZm3MW9HBCatPomMzNsY3bWmykuMv0UwysuCgCEQMJLNEAIgoYAN0SlNlXh10UEsO3ABh97vgVLFi4BegeUHLmDautPgHoHyXp54qUsQBrX0V8sE+aWYG8l47ddD2Ho6FtV8imPaoCZo6n9nWUqSICAIuB4CQgAMpHMjKdNAarG6Kl9vDsfEv05i8TNtEFy97N18UtIzsHBPFL7cEKaO7VUpUwyju9VC36aVUdgt5zV8Bvh5a+lhXEtKw6AWVfH+g/VQwtPdatnkQ0FAEHB+BIxkM8QDIB6APHtkWkYmDkXFo0XA/xtTPXfhTaExGD43BB/1ro8hbQL+I2pSarpy53+1KRw3ktMRVKEkXuteCz0bVLy7mY/vfLTyOH7ZE4XSxYtg0sMN0bNBJT1XW2QTBAQBOyEgBMBOQNujGCMpU2u8ImJv4uWFB3DiUgL+fKk9avre2ZSp53T5RjJaTVivduiP79swV1Gv30rDt1vO4PvtZ5GUmoGGlUvh9Xtro3SxIhi96CDOxt5E+6BymDKgMSqWKqrnKotsgoAgYEcEjGQzxAMgHoD/dB0GWlq2/wLe/+0oktIy8Ow9NfBq91oo4gQ73il704/WqpC8S59rm++wcCUhBbM2hWH+rnNIzchU73sUdsMbPWtjRLvqcMtleSDfjOUFQUAQMCQCQgAMpFYjKVMLtTDC3XsrjuK3gxfVcbrPBzZxuhC3g77eieMXb+Dw2B5mn9HnBsEv15/GmSs3Mfah+qjn560FnJKHICAIGAwBI9kM8QCIB+Bu99x/7ppy+UddvaXOuX/SvxHKlvBwuu77wW9H8cPOSGx7szOqlCnudPKLwIKAIKBfBIQA6Fc3FktmJGVaXPl/PuDZ9tmbwvD5utNwdyuEd++vi8dbVzN79mxtubb6bsHucxiz/Ai+G9YCXeveiRwpSRAQBAQBLRAwks0QD4CLewAuxt/CK4sOYvfZq6jt64UvHm2K2hX1v9kvr468L/Ia+s3eIXH6tRjtJA9BQBD4FwJCAAzUIIykTEvVsvroJby59Ai4I35om2oYc19dFC1iWZQ8S8u0x/uJKelo8MHfeLCxH758tKk9ipQyBAFBwEUQMJLNEA+AC3oAbqVm4EN1zv0cyhQvgk/7N0a3esZylXf6dKMiNn+/0hEVvOQYn4uMzVJNQcDmCAgBsDnE9ivASMo0BzXujn9p4QGExSSiXZAPpg5sAl9v4xnIPw5dxIu/HEDn2uXx/fCWTrufwRydyjuCgCBgPwSMZDPEA+BkHgDGpv9myxnQzW1p4jn3lYcuIfP2bRX05ukOgYY+5266FyC3qICW4ifvCwKCgCAgBMBAbcCZlLk9LFYd04tNTLVaA4HlSuDzQU3QuGppq/Nwlg8TktPQa/pWMNgPIxkGVXDuzY3OgrvIKQgYGQFnshn56UE8AE7gAeAxvS/Wn8YXG06jpIc7JvZriI61yuen2xyf83tXim4XEnEVDAzEwD7Lnmtn1g2AVgErHwkCgoBLICAEwEBqdgZlvr3ssLqYhsf0vh7SHAHlShhIA7avypS/QzFjY5gKafxWrzq2L1BKEAQEAcMi4Aw2w1zwxQPgBB4AkwEr7lEYr/WojeFtA3K9wtZcxbvSe7zRsP/sHTh84Tp+HBGMDjWt8564EmZSV0FAEMgZASEABmoZzqLMzaeu4N0VR1SYXt5cN/HhhmhQuZSBNGHbqpy5kogHvtyG1PRMvH1fXYxoFyAnA2wLueQuCBgSAWexGeaALx4AJ/AAmBTJ8/vT1p/CnK1nwVvvnmxfHa90r4XiHu7m6Nrl3zlx6Qaen79fXfV7b33eddAYpYoVcXlcBABBQBAwHwEhAOZjpfs3nVGZxy5ex5hlR3Do/HVULl0MH/dpgM51Kugeaz0IyJMBby87gpWHL6Fq2WKYNbg5GlYRT4oedCMyCALOgIAz2ozccBUPgBN5ALIqkScDftoZgU//DsXN1Azc36gSPniwnkS9M2MEoffk512R+GjlCfX2ew849+VHZlRZXhEEBAGNEBACoBGQesjG2ZV56fotfPDbMaw5fhneRd3xVq+6igwUKpQ/urz5z5WXD46cv44XFuzHuatJeKBRJbWvwquoLAnk33LkDUHAdRFwdpuRVXPiAXBSD0D27rf6aDQ++P0oLt9IMbtnFnYrhDnDWqBzbdddPuB9AW8sOYS/j11G9XIlMHNwMxUzQJIgIAgIAjkhIATAQO3CSMrk+jY3CEZfT/6PhhJS0rD+RAxS0jPvPmsfVA6fDWxsyLsALGmiXBKYuz0CE/86AbdChTDuofoY1LKqnBKwBER5VxBwEQSMZDPEA2AQD0Bufe/oheuYvzsSKw5cxK20DLXrvX/zKnislT8Cy5d0kS5rXjUPRsXjhfn7cSH+Fvo2raw2V5bwlBMW5qEnbwkCroGAEAAb67lHjx6Ijo6Gm5sbvLy88MUXX6Bp06Y4ffo0hg0bhtjYWJQqVQrz5s1D/fr1lTR5PctLXCMp01TP5LQM/Hn4En7aFQkaNabGVUrhsdbV8GAjPxTzKGxjDTpv9vFJqXj910NYdyIGQRVKYtZjzVDLV+4QcF6NiuSCgLYIGMlm6NIDEB8fj9Kl71xWs3z5cowdOxaHDh1Cly5dMHToUAwfPhxLlizB5MmTERISot7L65mrEIDIuJuYv/scFu+NQnxSGjzd3dC7iR8eb10NjaoY//Ifrbo5lwR44+Inf4fCo7Cb8gT0a15Fq+wlH0FAEHBiBIQA2FF5nOVPmzYNa9asQVBQEK5evQp3d3cVCKdSpUrYtm0bvL29c33Gb5yFACSlpiMyLgk05Gdjk3AhPgk87mdOYoTAbWGx6lXe+MfZfv9mVVCquOxqNwe/nN7ZG3EVoxYcQPSNZAxqURXjetdH0SLiPbEWT/lOEDACAkIA7KBFzvQ3btyoSlq1ahVSU1MxePBghIaG3i09ODgYkyZNUssBuT2jZ0BvBCAmIRl7I66piHQ09hFxSYiIvYmYBPN38GevE3f0d6/riyFtqqFtDR/ZwKZRG41LTMEriw9hy6krqFPRCzMfa4YasndCI3QlG0HA+RAQAmBHnf3www9YtGgRPvroI00IwNSpU8EfU0pMTASXHOyZHvhyK45euHG3SJ7f5xG0aj4lEOBTXN32x98Zqc6zsHkzTg93N1nbt5ESMzNvY/bmcHy2JhTFihTGhIcboneTyjYqTbIVBAQBPSMgBMDO2ilWrBgiIiJQs2ZNQywBrDhwAa8sPoiSHu5Y+Exr1PeTULR2blJWFbczPA4vLTyAKwkp6hTFew/UkyUBq5CUjwQB50VACIANdcfZeFJSEvz8/FQpK1aswKhRoxAVFYXOnTurDYCmTYB0/+/du1e916lTp1yf6W0JgPIsDonCG0sPo5pPcSx6ug0qlipqQ1Qla60QoPF/eeEB7AiPQ30/b3VKgN4aSYKAIOAaCAgBsKGeIyMjMWDAANy6dUsdAyxfvjymTJmCJk2aqPV/Gv+4uDi18W/u3Llo2LChkiavZ3okAJRpwe5zGLP8iHL/L3q6NSp4CwmwYdPSLGtuzPxi/Wl8seG08uJ80r8RejWspFn+kpEgIAjoFwEhAPrVjcWSOVqZP+6MwPu/HUON8iWw8Ok2KO/laXEd5APHILD19BWMXngQcTdTMbxtAMbcVxfciyFJEBAEjIuAo22GlsjqMg6AlhXMLy89KPP7bWfx4crjqOVbEr+MbA2fkkIC8tObXp5fvpGMF385gD1nr6pgSzMGN0PVssX1Ip7IIQgIAhojoAeboVWVhADoJBTwN1vCMWHVSXXUjCSgTAkPrXQs+dgYgfSMTExdewqzNoWrGxnH922I+xtWgpubGVcy2lg2yV4QEAS0RUAIgLZ4OjQ3PSlz5sYwfPp3qNpctuCp1hLEx6Etw/LCN56MUac7GIUxsHwJjOwQqO4UkOBBlmMpXwgCekVATzajoBiJB0AnHgCTIqevO43P151S7uSfnmoFb7mfvqBt3K7fM8gTbxb8eVckEpLTUa6kB4a2CVDhmMuKV8euupDCBAFbICAEwBaoOihPPSqTAWe+3BCGpv6l8eOIYHgJCXBQ67C+2MSUdCwKiQL3d/B2waJF3DCgeVU82b66CvQkSRAQBJwTAT3aDGuRFA+AzjwAVCTvOZi8OhRfbQ5Hi2pl8MOIYLmW1toW7uDvuD9g1dFocI8Hoz8WKgTcW68iRnYMRPNqZRwsnRQvCAgCliIgBMBSxHT8vl6VSRIw/s8TmLPtLFpVL4u5T7REcQ+5m17HTSlP0ajPXWeu4tutZ7DhZIx6lwSA+wS61/MF73KQJAgIAvpHQK82wxrkxAOgQw+ASZE0GuP+OI55OyJQuXQxdKhZDm1q+KB1oA98JWiQNe1dF9+cvpygiMCKAxeRmpGJTrXLY94TwbqQTYQQBASBvBEQAmCgFqJ3ZZIEfLE+DEv2R4FX/poSr/xt/Q8ZaB1YFhW8zIsiyPwSUtJVPHvTD28h5O++3p54ol11A2lX31WJuZGsrhveE3EVh8f2kA2f+laXSCcIKAT0bjMsUZN4AHTsAciuyKirSdh99ip4Kc2uM3Fqc5kpMZIgvQOtqvuoY2d3DXxiMmJupOBK4v8b/JT0zBzbCAnAjre6ijvakh5UwHdnbQrDJ6tDseTZNmgRULaAucnngoAgYGsEhADYGmE75u/MyiQh2HkmDrvC49S/l64n54gcl5fLlfRUYYb5U8HLU0Ub5Ln1k9EJ6pse9Xwxrnd9VCpVzI7oS1EbTl7GiHl78XGfBuqooCRBQBDQNwLObDOyIyseACfyAOTVLeja5xIB3clMytj/Y/R5/jzrJrNTlxMwZtkR7I28horeRZXhv7d+RX33OoNKdzH+FtpO2oAhravhoz4NDFpLqZYgYBwEhAAYR5eGWs/JTy3JaRlgtEEeL0zPvI2hravh9XtrS5yB/ICz4XMSt0bj1qBuRW8sfraNDUuSrAUBQUALBIQAaIGiTvIwkjLzgnRHeCzeWX4UZ2NvqvsGJj7cEE395Ry6HprhgK92IDQ6AYc+6IFCDBQgSRAQBHSLgJFshiwBGGQJILfecu1mKsavOoEl+87D090No7vVwlMdqqNIYbm2Vi8jzLM/7cPqY9E48F53uQRKL0oROQSBXBAQAmCgpmEkZWZVy63UDCwMOadCCl+9mapiCHCjWTUfCUOrp+Z7MCoefWdtRzP/MuokgHgA9KQdkUUQ+C8CRrIZ4gEwmAeAMeh5Ec2crWcQm5iqdv+/e39d9G7iJ8ZFZ6NZWkYmHpqxHQwM9OdLHVC7opfOJBRxBAFBIDsCQgAM1CaMoszrt9Lww44IfL/9rLqOtlKponj2nhoY1LKqXEer0/b69eZwTPzrJEZ1DlKbMSUJAoKA/hEwis0g0uIBcHIPAN37vHGOxp8R/qqWLYbnOwXh4WaV4eleWP+9yUUlZAyH7p9vVscwV4/uKCTNRduBVNv5EBAC4Hw6y1ViZ1bmjzsjMOmvk0hKzQBDA7/QOQgPNfGTDX46b588+jd8bgg2n7qC+U+1QrugcjqXWMQTBAQBEwLObDOya1E8AE7sARi98ABWHLyodFqlTDHc36gSHmzkh/p+3rLer+Px6vdDF/HSLwfQr1kVfDawsY4lFdEEAUFA9gAYuA04M5vjTPLw+etYefgi/jx8CRf/CQUc4FMcDzTywwONK6G2r5eQAR213/ikVHSbuhkZmbex/rVOYJRGSYKAIOA8CDizzRAPQDYEjKLMzMzbOBB1DX8cuoQ/j1xSlwExBVUoiQcaVVKEgL9LciwCby09jIUhUfhsQGP0a17FscJI6YKAIGAxAkaxGay4LAE48RJAbi2Xs8s9Z68qz8Dqo9GIu5mqXmUEwHtql0d1nxIqHkD1ciXUxUBuvC1IJ4mejOgbyejVoCL8ShvrYiJGYxz87W60C/LBz0+2Es+MTtqciCEIWIKAEABL0NL5u0ZSZk5Qp2dkqpsCVx66pKLN8bhg1lS0iBuqlSUhKK4IAYlBQLniaFGtLDzc7RstMCU9A43GroHpuuIW1coo78V9DSuhgndRnbekvMVjwJ8hc3arOxj+erkDAspJQCanVqgI77IIGMlm6NID0KNHD0RHR8PNzQ1eXl744osv0LRpUwQEBMDT0xPFit2ZGb799tsYNGiQ+v306dMYNmwYYmNjUapUKcybNw/169fPt5EaSZn5VZaBZ85dTUJE7E1ExCUhMu7Ov/z7/LUkZN7+/xz8GEegUw0MbGG/OAL7Iq+i3+yduK9hRbgVKoT1J2JwKy0DDI/fqnpZtYxBzwCvMnamdPh8PB6bsxvE//vhLdG2huz6dyb9iayCQFYEjGQzdEkA4uPjUbp0aYX58uXLMXbsWBw6dEgRgBUrVqBJkyb/aZFdunTB0KFDMXz4cCxZsgSTJ09GSEhIvi3XSMrMt7J5vJCanokL8bcQEXcTh6Oug0cMuXTAa4Wf6RiIwa38UdzDvSBF5PstbynkscYFI1spI5mUmq5IAJcyNoZeAWXktcZta/gozwCvMC5dXN+b6I6cv47H5uxSXo25NP5y5C/fdiAvCAJ6RsBINkOXBCCr8jmTnzZtGg4ePJgrAYiJiUFQUBCuXr0Kd3d3cHd8pUqVsG3bNvX/eSUjKVPLTkPj+8ueKDBaXUxCitqt/mT76hjapprNrg9+6ocQbAq9gsNje/yHbCQkp2HdictqKWPL6StIy7iNIoULoX1QOYzqUhPNq+nvZsOjF2j8d4PXMH83rCXa15SZv5ZtVPISBByBgJFshm4JAGfzGzduVPpdtWoVGjZsqAiAt7e3MvDBwcGYNGkSypcvj3379mHw4MEIDQ292x5Mz+kZEAJgfTeh8fp133l8tSlceQi8i7pjeLvqGNEuQNPZN08xNPt4rdqD8NsL7fIU+HpSGv4+Ho2Vhy9he1isIic73+oCdx3dcJjV+M8Z1gIdapa3XgnypSAgCOgGASEAdlTFDz/8gEWLFikScO7cOfj7+yMtLQ3vvvsujhw5ov7fEgIwdepU8MeUEhMTwSUHSXkjwPXr5QcuYNbGMLVvgMGGeIGNVokX4nT/fAtGdqiOd+6vZ3a2X6w/jalrT+H74S3QpY6v2d/Z8sXjF29g8JxdKkLjnKEt0LGWGH9b4i15CwL2REAIgD3RBtSmv/Pnz8PHx+duyZcuXUKtWrWQkJAAWQKwn0J4qqD3zO0qzsCed7ppVvD83ZF4Z/lRfD2kuVrbNzdx82KHTzaiZ/2KmP14c3M/s9l7Jy7dwOBvd+Fmaga+HdoC94jxtxnWkrEg4AgEhADYEHXOxpOSkuDn56dK4aa/UaNGKfc+Z/6mzYGcxfPZli1b1HudOnVSGwBNmwC5PLB37958JTWSMvOtrEYv9J+9Q50m0JIAvLLooPIw7Hu3m8W7/LnJjnEP9ozphjIOjKx3MprGfzcSk9Px9dDm6Fy7gkaISzY5IcBTLLvPXEVqRqbVANUoXxJtavz/xMLqjORDl0HASDZDd3sAIiMjMWDAANy6dUsdA+Qa/5QpU9Taf79+/ZCRkaH2AAQGBmL69OlqXwATCQKNf1xcnHp37ty5at9AfslIysyvrlo9twUBaD95g4o7sOG1ThaLueLABYxedBBjH6yn9ic4IoVGJ+DRb3fdMf5DmqNzHTH+WuuBAa4OnLuGdSdi1IbQsJhETYoYc18dPN2xhiZ5SSbGR8BINkN3BMDezcdIyrQXdloTgEvXb6HNxA14pGVVTOrXyOJq3ErNQPD4dfD3Ka7pvgRzBTl1OQGPfrMLN5LT8NXjzdG1rj72Ipgrv57fS0xJRK9OIwAAIABJREFUx9ZTV5TR3xgaA15/zcTjqV3rVFBLLN7FilhVBQZlmvDnCYReTsBLXYLwSvdaEp3RKiRd6yMj2QwhAAYMBWzr7qg1ATDdjjdlQGP0tzI+/tvLDqtji6te6oB6ft62huBu/tyD0GfmdhVhcfZjzdGtnhj/goLP0ybrT1xWRn9XeNxdFz9DWXev56sIVqPKpTQJYX3tZiqGz92DQ+ev44l2AXjv/nqa5FtQDOR7/SIgBEC/urFYMiMp0+LKW/mB1gTg/d+O4sedkdj8v07qGKA1aV/kNfSbvQMj2lXH+w+af4rAmrKyfrP51BUM+34PhrcNwNiH8o88WdDyjPg9j4AeuXBdufVp9LmRkolxHloH+iij36VOBVQpU9wm1WeMiSd/2Kv2kQxsUQUTH26kAk5JEgRyQsBINkM8AOIBsLiXa00Aek3fitjEFOwZ09VqFyz3hXSduhnxSWnY9XZXu91jwOORbSdtAO9U2Px6Z5k9mtmauGyzLSxWzfTXn4y5e3tlmeJF1P6JbnV90aFmOZsFncouJuV5bv4+FYjq/oaV8PmgJnZrQ2ZCJq/pBAEhADpRhBZiGEmZWuBhTh5aEgCumzcetwb3NaiEmY81M6f4XN+ZvSkck1efVOvwPRuYf5SwQIUCqkyWzRv+JNpf7mhyr8eGkzHYcCIG28NjkZx2Z/c+r6nuWveO0W/mX8Zhs2+GmuZpFF6n3al2edWOihYpXNDmId8bDAEj2QzxAIgHwOLuqSUB2BQag+FzQ/DBg/XwRAF38F++kYw2E9crd/GcYS0trpe1H/AypU5TNqn7CWYMLhiJsVYGPX5H1/7hC9ex4Z9Z/rGLd1z7dK+3DCijDD5/9HQzIk8avLX0sIp+yQuoqE9uOJQkCJgQEAJgoLZgJGXaSy1aEoBP/z6JmRvDsfLF9mhQuVSBq8ANXVtPx2Ln211Qwct+VwjzFAD3Iewa01WFJnbVdDMl/a5rf8PJK2pph6k0Xfu1KyhyxsiIpazcuW8PXElcPvrzOOZujwCXJLi346HGflYvT9lDZinDfggYyWaIB0A8ABb3HC0JwMCvd+LYhes49EEPTWL5/3n4El5YsB/v3FcXIzsGWlw3az/47eAFvLzwIN69vy6e6mC/cq2VV8vveBKCrv3su/ZrKtc+d+1XQNOqpTXRr5Zy55fXqiOX8N6Ko+pWTG5EHN+nASp4249U5iefPHcMAkIAHIO7TUo1kjJtAlAOmWpFAFLSM9Bo7BoEVy+Ln55spYn4zLPVhPWo4OWJv0d3tNusjZcmmcpd84r9ytUENAszoZv8YNQ1dVUzf3iOnsm0a5/n83kvA+MyOHti3IEPfj+GPw5dVF4LLlX1bVrZbu3K2fEzovxGshniARAPgMV9VCsCYDq692r3Wnipa02L5cjtgw9+O4ofdkaqWwUbVy2tWb75ZTT292OYtyMCS59rq8vrifOTP6/nPCq35VQs1p+8rHbKmwLy+JTwULv2afQ71CqPkp7uBSlGt9/+fSxa3VXBJQ0uY0zo2xAVS4k3QLcKs6FgQgBsCK69szaSMu2FnVYE4OvN4Zj410ksGNkKbWuU00x8XsX7wJfb8Hhrf3zcJ/9w0FoVzLsAek7bigHNq+DTAY21ytZh+XBzI4/obTh5WcXcZ+Q8Jgbk4ea9LnUroEmV0i5z9DE+KRXj/jiu7qzwKuquggYNaFFFvAEOa6GOKdhINkM8AOIBsLgXaUUAnpwXAgbSOTy2B4p7aDdzZEwAxha4GH9LXVhkz6NcjArIewH2vNPVbmfYLVZgLh8wKt6O8DhsC7uiNvJFXb2l3uQdDe1q+KALjX6dCqhcuphWRTplPoxdMGb5EVy+kaI2NE58uKHLY+KUirRSaCEAVgKnx8+MpEx74asFAeCZ66YfrkF9v1JY/GwbzUWfs/UMPv7zBL58tCkebHznZkl7pIV7zuGtZUeUi3hwK397FGl1Gdy3sDfimjL2NPo8pnf7ziQf1XyKo11QObVzv12Qj6YEzWqBdfTh9aQ0dVJgyb7zatljzH118WhwVfEG6EhHthLFSDZDPADiAbC4n2hBAHadicMj3+zCa91r4UUN1/9NlYlLTFGb8toGlcOPI4ItrqO1H/DyGl5MxOA2v49qb202NvmOx9to5E0GPyTiGkjEmHjcjVi1/+enalnn38BnExCzZcoLisYsO4JL15MVUZr0cCMIdvZA3nFlCAFwHPaal2wkZWoOTi4ZakEATOf/bblRjzH6t56+gtPj77NrdDkGklkYEoW/Xu6AupXsdzFRTuo6F5ekDP52/oTHqlDJTJ7ubur0BWf5NPr1Knm7zFq+1v2E0Sx5qyB1XtyjMN7qVQePt6omeGoNtE7yM5LNEA+AeAAs7lZaEIAHv9yGqGtJ2Pdud5sZ55d+OQDeNBg2vpddz6Dvi7yKfrN32v1iIiry/9fx7xj9c1eTlH4LFQIaVi511+A3r1bGrnsjLG5kTvgByeZbS4+AtxnSG/D5wCYSN8AJ9ZifyEIA8kPIiZ4bSZn2gr2gBIDu+Rbj16lLV2wZOtdRBMCeFxNxLXpv5FV1kx038B29eP0/6/ic4bet4YPSxV03QqG9+gaXgMb/eVxdTc0jklMGNlb7KCQZBwEj2QzxAIgHwOKeWVACYIqa90m/RhjYsqrF5Zv7gaMIAOWbtSkMn6wO1fxiIp5DDzl7Fbv/+eHRQ9PGPVnHN7dl2P49RqR8a9lhJCSn48n21fFGz9rwdJeLhWyPvO1LEAJge4ztVoKRlGkv0ApKAF5bfAhL959X8forlbLdkTJHEoD/v5jIF3OGtbBaNbxBj7P7XWc4y49D+JWbd/PiJTVcx+elNfy3VgUvWXe2GmntP2SIZIaHZsCrBpW98cUjTRFYvqT2BUmOdkXASDZDPADiAbC48xSEANA9zt35DKu69tV7LC7bkg8cSQAop+liol1vdzXrRjliExmXpAw+Z/h7IuLunsVnfjx/bzL2rQJ9EOBTXI6dWdIgHPBuekYmpq8/jRkbw1CsSGF81LsB+jWv4gBJpEitEBACoBWSOsjHSMq0F5wFIQCmaHl0i773QD2biuxoArDy8EWMWnAgz4uJuIbP8LobQ6+oGT6Dy5hSYLkSd2b4gWXRMqAsqpSRo3k2bTA2zHxHeCxeWXRQ6Zd3CXzUp4FhwybbEEZdZG0kmyEeAPEAWNypCkIAvt1yBuNXncAPI4JxT63yFpdtyQeOJgCmC4J8vf99MRE3Qa45fhl/HY3GjrDYf4XYvePS90HL6mXsep2xJbjKu9YhwPsT3lhySN2ayEBLDFLVqIr97qqwTmr5KjsCQgAM1CaMpEx7qaUgBGDId7uVe/vQ+z1QzMO2m6IcTQCoj/d/O4ofd0bi26EtVGjiv45eUi5+htXn7Xm8A6FXg4roVs8X5Up62kuFUo6DEOAyzw87IjBh1Uncxm28cW8dtUnQza2QgySSYi1FwEg2QzwA4gGwtP3DWgLAGXGjcWvUOrZW1//mJbweCMCR89fx4Ixtd8VkAB7Gj6fR71rXV+2FkGRfBG6lZuC9346iondRvH5vbfsW/k9pxy5ex4u/HMCZKzeVJ2zKgMZm7RNxiLBS6L8QEAJgoAZhJGXaSy3WEgBe/MPofGPuq4OnO9awubh6IACc8b274iiu30pDzwYV1ZnwEga9MtfmCtWgAOqBl1DtjbymcpsztIXyvjgiJaWmg1dIL957Xnl/Ph/UGB1q2nZZzBH1NFqZRrIZuvYAzJ07FyNGjMDy5cvRp08fxMTEYOjQoQgPD4enpydmzZqFjh07qvaV17O8GqCRlGmvjmYtAfho5XF8t+0sVo/ugDoVbR8i13Qz37Fx94qL1V6NQ8flMIbC0O/24PilG3g02B/cpMmd+WtfuQelijvOE8Nole8sO4KElHQ8c08gXuteW93AKEmfCBjJZuiWAERERGDw4MHgDOrNN99UBIBkwN/fH2PHjkVISAj69u2Ls2fPokiRInk+EwKgbUeylgD0+HyzikW/e0xXmx9fO3U5AT0+34J+zargs4GNtQVAcnM6BBied8ic3TgTexOv96iFFzoH4de95/HG0sPo37yKcsE7MvHOhpcWHsDBqHg0rloaXz7SFP4+curDkTrJrWwhADbWSmZmJnr06IHJkyfjtddew+jRoxUBKFmyJMLCwlCxYkUlQXBwMCZMmIBu3brl+UwIgLYKs4YAMKBNm4kb7GaQTd6GJc+2QYuAstoCILk5FQJhMYng5lPe2Pdh7/oY2iZAyc/JxbC5Idhy6grmPtHS4SF70zIyMXXtKXy1ORwlPNzxSf9GuK9hJafC2hWEFQJgYy1PmTIFCQkJGDduHDp16qQIQIcOHeDn54eUlP8/Jz1w4ED07NkTvXv3zvUZvQZCALRVmDUEYPHeKLyx5DCmP9IEvZtU1lagbLmlpGeg9YT1KFvCA+tevcfm3gabVkYyLxACRy9cx9Dv96g9GFMGNELfpv8OwsOTGfQUlfR0x5pXO8K7qOOWAkwV3XY6FqMXHQSXLLgkwJMCheWUQIHagZYfCwHQEs1seR09ehQjR47Eli1blGtfawIwdepU8MeUEhMTER8fb8MaGS9rawjAqAX7sfLwJex7txt8bHzc7Y9DF9UO63fuq4uRHQONpwCpkVkI8LglN/ylZGRi1uBmuW72W7D7HMYsP4JHWlbFpH6NzMrb1i9FX0/Gc/P34cC5eHVdM2MGlCkhlznZGndz8hcCYA5KVr4ze/ZsfPjhh2qTH1N0dDS8vb2VN+D1119XGwBzWgIoUaJErs/EA2ClMnL5zFICkJF5G80/XosqZYph5YsdtBUmh9wem7PrTvz8t7vanGzYvDJSgFUIbDwZg2d/3gd3t0KYM6wl2tTwyTUfLgUM+W4PtoXF4scRweqYph4SPVnj/jgOEhSGgf56SHM0qFxKD6K5tAxCAOyofpMHgHsAhg8fjoCAgLubAPl/3CxIT0Fez4QAaKswSwnAoah49J65Hc93qoE3etbRVphsuXEzVcdPN6qrhmc+1symZUnm+kSAu+pfXXQQXkXdVcRJc6LtRV1Nwr3TtqBMcQ/8/UpHXYXpXbjnHN7/7RgKFQImPtwQDzeTuwQc2fKEANgR/awE4PLlyxgyZIja+e/h4YEZM2agc+fOSpq8ngkB0FZhlhKAGRtOY8qaU1j4dGu0Dsx9JqaFlFP+DlUXr+hpJqdFvSQP8xCYvztSxV2o4OWJn59shZq+XuZ9COCnXZF4b8VRPNbKH+P7NjT7O3u8eODcNTz3835E30jG8LYBeOf+uihSWI4K2gP77GUIAXAE6jYq00jKtBFE/8nWUgLATVi7z8ThyNh7bXq+mTevtZu8Ae5ubtj6Rmc5+2+vBqGTcmZtCsMnq0NVnH0a/6plLTtGl5l5G4Pn7FJXLy94qhXaBpXTSc3uiHElIQUvLNivlrd4Z8TMwc0keqADNGQkm6HbOAD20quRlGkvzCwlAPd/sRU3ktOw9Y0uNhVx3fHLeOrHvXi1ey281LWmTcuSzPWDANfwJ68OVcfn6lT0Ut6fCt5FrRKQS0hcCuAJkl+fbQO/0sWsysdWH/Go4IRVJzB3e4QKZTz78WZo6l/GVsVJvjkgYCSbIQRA7gKwuJNbSgDaT96A0sWL2HwD4FM/hGDDyRhse7OL7gZui0GWD8xCgBtM6fL/Zc85NPUvjbnDW6J08YLtll+y7zxe//WQ2rT6y8jWFnsSzBK8gC8tP3Aeby87gsxMYFzv+iqyoST7ICAEwD4426UUIynTLoABFl8G1HDs32hUpRTmP9XaZiLy2FTbSevVxSpznwi2WTmSsX4QSE3PxKuLD6rjpR1qllO75It7uGsi4OKQKLy57DAqeRfFgpGtEVCuhCb5apkJLxR65qd9OH/tFh4NroqxD9WHp7ttb9jUUn5nzctINkM8AOIBsLgfWuIB4AytxphVNt+VP3NjGD79OxRfPd5cXbojydgI8EY/npPfFHoFPetXxPRHm2hu/DjLfm3xIXVRD0lAUIWSugP12s1UFUJ46+lYRbK5L8DSvQ+6q5TOBRICoHMFWSKekZRpSb0L8q4lBIADVNOP1ioXJY8w2SJxDbjzlE1ISE7HrjFdZXe0LUDWUZ7cT8IAPyER1zCgeRXVrtxttCP+z8OX8PLCA2oJix6s2hXNP1VgL8hIsqeuDcXMjeHwLuqu7jXoUV9IsK3wN5LNEA+AeAAs7ieWEICI2JvoNGUTnutUA2/aKAbA3oir6P/VTjzZvjree6CexfWRD5wHAYbH5ZXSxy7eUPpmtEc3G4fJXXMsWu2+Z7jgn55spdtgPBtDY1T8g2tJaXiqfXW82auOkGEbNG0hADYA1VFZGkmZ9sLQEgLA2814Le9bverg2Xtq2ETEN5ccxqK9UXa7ZtgmlZBM80Ug641+r3WvhVFdgux2zwMjCz7z8z4UdXfDj0+2QpOqpfOV1xEv8G4DhsHeF3kNzfxLY8bgZrIhVmNFGMlmiAdAPAAWdw9LCMDmU1fUjI1uWlvsVE5KTUfLj9chsHxJ/PFie4vrIh84BwLhVxLVdb4Xrydj3EP1MaztnRv97Jl4Sc9TP4aoOBPznmip21smeVSQ+2G+2XJGLV18PrAJOtepYE+oDF2WEAADqddIyrSXWiwhAL8dvICXFx7E7MeaoZcNrjZduu88Xvv10L+uebUXDlKOfRAgiaRrO/5WGj7t38ihoXB3nYnDiHkhquKMNzGgRVWUKub4GwRz0gTjYrBv8CZELsHRa2KrvRL2aQn6KMVINkM8AOIBsLhXWUIAftoZgfd+O2azyGqPfLMT+yPjseedrgU+/20xEPKBTRFg5LuPVh4HY/sX9yiMaYOa6GJz277Iq+r4XWxiKooVKYy+zSpjWJsAXW4Q5B0Ho345AN7HweiBvFXQ18ogSTZVthNlLgTAiZSVn6hGUmZ+ddXquSUEwHQPwMoX22u+eYqDW4dP5OIfrfSql3wYknfx3ihM/Oukmr12q1sB43o3UDfi6SUlp2Wo+AM/7IjAkQvXlVitA8uqOP3d6vrqaqbNeAkT/7oTPdCnhAemPdIEHWrq48ZDvejTEjmMZDPEAyAeAEvavnrXEgLw8crjmLPtLLa92RlVylgWmz0/wT5fewrT15/G3CdaonNtWePMDy9neB4Wk4gxy4+oePe80Ifr/YzrUIhX4ekw8Qjqgah4RQRWHbmEtIzb8CtVFI+3qYZHWvqrkMJ6SX8duYQ3lhxGYmo6XuxSEy93rYnCNj5BoZe6aymHEAAt0XRwXkZSpr2gtIQA/O/XQ/h133kcGdsDXkW1WyvlLJGz//TMTOx4q6sMZPZSvo3KSUnPwKyN4Zi9KRxpmZl4vFU1/K9nbXhr2GZsJPrdbGMSkrFg9znM331OXdzj4e6Ghxr7Ka9Ag8qlbF28WflHxt3E8/P3q2OU7YJ8MG1QU7lQyCzk/v8lI9kM8QCIB8DC5m+ZB+DpH/di/ckYhI3vpeksbkdYLAbP2W3T+AIWAyMfWIUAb4rkrD/8yk3U9vXChIcbonk1573ghi731ceilVeAx/GYWB+eXOjVoKLDz+Zz+eLjP4/j513nlPH/4pGmaFPDttd0W9UwdPqREACdKsYasYykTGvqb803lngABn69E3Tr7n+vuzVF5foNd4UvO3AB61+7BzXK6y9Eq6aVNWhm8UmpmLjqpIrh4Onupm5wfLpjoMMNpJZwH71wHfN2RKiNjCQGXNZ4rFU1PNqqKip4WXdjoVbyUaa3lx5GSnomPh3QCH2bVtEqa0PnYySbIR4A8QBY3FktIQA9p21RA8zG1ztZXE5uHyQkp6Hl+HWoV8kby55vp1m+kpH9EFh/4jLeXHpY7aRvH1QO4/s2QDUf/V24oxUicYkpWBgShfm7IlUsgyKFC+G+hpWUV6Bp1dKaescskfn05QQVp4MyvXt/XTzVIdCSz13yXSEABlK7kZRpL7VYQgBaT1iPiqWKYsUL2hnqhXvO4a1lR2wWXMheOLpiObzEZ/yqO+5nxq3nDXZ9m1Z2mAG0tw7SMzKx9vhl5RXYffaqKp6X+PAY4QONK2l+oZE59bt0/RaGfrcHp2MS8UzHQBWy29bhlc2RS6/vGMlmiAdAPAAW9zNzCQB3SNd5b7VaX5yn4RW9/WbvAK9CDXmnm6YbCy0GQj6wCAG6w3mxDtf62wT64LOBjV06TO2JSzfw485I8NbB5LRMdUSP0TIfa+2PSqXse+SRyzFP/rBX7Vl4uFllTO7XyFBLMRY11HxeFgKgJZoOzstIyrQXlOYSgMSUdDT44G/0b15F3VCmRWJI2K6fbVazxs8HNdEiS8nDxgjwxMY3W8/gszWhqqTXe9TGyA6BMsv8B/frSWkq7sGPuyIQdfWWOtFyb31f5RVg8B57HYGkd2bUgv1q027n2uUx87FmKO7hbuPW4XzZG8lmiAdAPAAW90BzCYDpJsBn7gnE273qWlxOTh98svokZm0Kx/ynWqFdUDlN8pRMbIcAL6d5bfEh7DwThxrlS2D6I011cyTOdrW2Lmde67spNEYtD2w9HasyqVvJG8PaVEPvJpVRzKOwdRlb8BWXKHgiY/He8+rCo7nDW6KMjmIZWFAVm70qBMBm0No/YyMp017omUsAGDK13+ydmm0u4gDZbtIGNUPa+kZnmUHaS+FWlrPy8EWMWXYEN5LTMaR1NYy5r65djJiV4urqM56cYRjtJfvO42ZqhrpvYFDLqgrHqmW1DaiVveJcuuNlQiTaJG28/VBPURgdrSgj2QzxAIgHwOL+ZC4BWH00Gs/+vA+fD2qsyREjzo6Gzw1Rx8V4EYskfSLAUxpjfz+OpfvPq3XtT/o3Qte6vvoUVudSEUteeMW9Amdib4IBEbvW8VXBhRjIx5bLA99vO4sPVx5HRe+i+PHJYNTy9dI5WvYRTwiAfXC2SylGUqZdALMgFPDPuyLx7oqj+OnJYE1ij7+x5JByTW75X2f4+9h2FmQvLI1Uzs2UdFDn3249i9jEFLWO/En/xhJpTgMlcx/FtrBYFVxoQ2gMbt8GgiqUVMsDfZtVQUlP26zV8zbP1389pC49+n64fq9A1gBis7Mwks0QD4B4AMxu+KYXzfUATF93Gp+vO4VVL3VAPT9vi8vJ/sGriw9i2f4LOP7hvbI5qcBoapcBL+z5cUcEvtt+FvFJaWrG+HK3mnikZVWbzlC1q4Fz5cRwvj/tjFQbB7m84uXpjn7Nq2Bom2oItEFQrK2nr6jbD7kEN3NwM3Sr59reHCEAztVf8pTWSMq0l1rMJQDvcfa/K1Jd1atF1LMP/ziO77efxfa3usiapL2UnUc5V2+mYu72s5i3PQIJKemoUqYYnu8UhH7NKzvkPLsOILGrCEmp6Vhx4KLyCoReTlBl31OrPEa0r46ONctpSr4On49Xy28kexP6NsCglv52raueCjOSzdC1B2Du3LkYMWIEli9fjj59+qBTp06IjIxEqVJ3LtYYNmwYXnnlFfV7TEwMhg4divDwcHh6emLWrFno2LFjvu3GSMrMt7IavWAuAXh+/j78dTQapz/upcn1qF+uP43P1p6CLa4W1ggal8iGl97M2XpWufuTUjMQWK4EXugchIea+MnZcQe0AG7a23XmqiICa45HI/P2nbsHXutRC21raHdS5syVRAz9fg/OX7uFJ9oFqE2dRQq7OaDGji3SSDZDtwQgIiICgwcPBhv3m2++eZcAjB49Wv2ePZEo+Pv7Y+zYsQgJCUHfvn1x9uxZFCmS9w10RlKmvbqFuQRg4Fc7EXZFu3sA6E2gV+HnJ1uhfU3tBjZ74ebs5aRlZOLbrWfwxfrTKnANL+4Z1SVIhbSVa2X1od0L8bcwa2MYFoVEIT3zNtrW8FFEoHm1spoIyFsOX5i/H3sirqJV9bKYMbiZy+3xMJLN0CUByMzMRI8ePTB58mS89tprMBl9egByIwAlS5ZEWFgYKlasqBp6cHAwJkyYgG7duskSgCZd//8zMZcAdJmySRmGta/eo4kEPFY2asEBzBjcFA808tMkT8nEPAT2n7umjvSdjE5QM/43etZBj3q+chTTPPjs/lbU1SRMX38ay/afVx4Bbsh8tXttNKxS8GuJSQTH/3lCxSvgfo+vhjRXMQNcJQkBsLGmp0yZgoSEBIwbN065/bMSgOjoaDWrr1evHiZOnIjAwEDExcXBz88PKSkpdyUbOHAgevbsqZYQ8kpGUqaN1XI3e3MJQKOxf6O+Xyn88nRrTUTbHhaLx+bsxkd9Gqjz0JJsjwCPofFMOL0v7m6F8FynIDzfqQaKFrF9UBrb1874JTBy5rR1p/HHoYuqsowwSCJQu2LBj/SRXLy97Ig6kfBRn/ousy/ASDZDdx6Ao0ePYuTIkdiyZYsy9FkJQFRUFKpWraqWBWbOnKnW+Y8fP24RAZg6dSr4Y0qJiYmIj483/kigYQ3NIQAp6Rmo/e5qPNjYD18+2lST0hlL/oEvt+G17rXwYteamuQpmeSOAOM4fPD7UVy+kYKWAWUwoW9D1JSz4E7ZZHjvwOdrT2HN8csqlsCDjfwwulvNAp8aYJ/kCQEuPQxu5Y8PHqxn+A2gQgBs2AVmz56NDz/8UG3kY+KM39vbW3kDnnvuuX+VXLRoUVy4cAE+Pj4oUaKE2gAoSwA2VA4Auv94xW9Ccjr2vJP78gpDwLadtEEFLOGNb1okDjKMBDiiXXW8/2A9LbKUPHJAgLfDvf/bMXVrHW/se/u+uhjUoqq4+w3QWribf+raU9gUegVuhYB+zaqowFoFiS7I0yAv/XJAxSlo6l8asx9rrm4ANWoSAmBHzZo8AA888ICa6fv63jmDunTpUrz66qvqVADT8OHDERAQcHcTIDcKciOhbALUTlmME/7SwgNYdSQaj7f2x8d9GuaaOdeMH561A2/1qoNn/6+9M4F21uFaAAAZUElEQVSuosj6+J8QEsKSsAbCJsaA7Am7jCwhAgqogCAgDIss46ioLDIeRmAQRj4YkQFEcJwFUFBUFARF4ZNFQBEJ+yIBwhKWQEjCFsISAnNuxccEhJfkdb9Od71/ncPh5PTr6lu/29V169atW60eMEUI2fZUa+wKPFW/IqbyICBTmGavRPZ5S/pZcflL+lnx3ox5vKYpWzhNF5YVGiIQeyQVU1bGqd0DhQoWQK8mVfB6x1oI8Pcsql++DW+tjMM/vj+EMsUCMfv3DdC4qjmBh4Ya6oWbaQB4Aeq9qnQZAG3btkWrVq3UOr+fnx/KlCmjXPmRkVmnzJ0+fRp9+vRRkf8BAQGYOXMmWrdunaOkOikzx8Ya+IF08GGf7lBriY/XC8O0HlFut/a5AvZmPFMfT0aaE7AnSz8PjvkWzSPKqKxkLOYR2HvyAkYt3oUdx86p/fwSZ9H6wVDzHsCabEngx4PJauDelnBOxXZIcKeRIv3+T4t24tr1GxjzeC2VnMib6YqNyOrpvTqNGbaLAfBUKZ7ep5MyPWWQ030yM5R0oIu3nUD7OuUhg3pO+3/fXxePicv34fPnm5m2BUnkbDrxO3WG/OIXHs5JbF7PBQHR7Xvfx6v14ZsABja/X60N8xjYXMDT5CeyrNd19o/YdeI8PvlDM3UEsZESd+oi/vBhLI6mpOOpBhVV7IhOQaM6jRk0AJgK2G1flxzkf/p8pzqVrE3NcpjVu0Gu3ITjlu5R24Q2jopBWEiQke/JbfdK/MHV6zew5tVo0+r01YqOn03H8E934OfDqagWWgx/7xHFo3p99GWQJD8dZ2xAqaIB+GZoCwQXdp8/JSdMkjFw6MJtWBN3BnUrhuDf/RohNFiPuAAaADlp30HXdVKm2dhl8H99yS58/PMxtY9Y9vsG+udu+9fgD2Kxel8S9v+1valJYnr8Y6NKe7p9bDuzm+tT9ckhL3JQkwRzSqCmxGroNEvzKWWa1NgFm47i9cW70TmqAqb1NL5zR74fchbIO6sPqtTd8wY0RkSo8e2HJjXX42p0GjPoAaAH4K4dQdbbx3y5G/N/SkCLamXwz76N8jRAdJyxXh0MI3n7zSx//HALVuw9hYNvdjDVsDBTRjvXdeFKBsYu2Y0l20+qYK0pT9dDNNf67awyy2STPi+G+3e/JGF6zyh0iqpoyrM/iz2m8gUUCSiIf/VrbHiJwRShDFRCA8AAPLvdqpMyzWIrH4I3lu1VLnxJJSoBd3mdHUaNX6nOD//0uWZmiaXqGfXFTuWR2D62LUoUCTC1bt0r23wkFUMXbld7ttvUDMXkrvVQuljWdlsWEhACcoyza5nt26EtTTt06/v9Z/DC/C3IyLyplpo61gtzLHCdxgx6AOgBuK0jyuA/cfkv6kx3CQaa+2zjPAeEybnwtf+yAl3qV1Sd3cwy+dt9mL02HqtGtMIDXjj61ExZ7VKXBHnJ0cyz1h5U8RsSnS3bvnSLzrYLb6fLsWZfEp6du1nl+v9o8EOmedokadCAuZuRdPEqRnesqQJOnfgO0gBw+hueTX6dlGlULTL4/21FnBpgG91XEvMGNEHRQP88V3sw6SLaTF2HF1s/gJGPGttWdOfDZRviSx9vw/PRD+A1g1uW8twwB95wOPmSCsbacfw86lQMxrQe9RERWsyBLaHIVhIY++VufLDxKIa3ra4SBZlVJPBUjhU+mJSmThQc3bGWaQaGWTLmVI9OYwY9APQA3HrfJUOYnPQm2bw+GNAExT2MBBZ3X7///Iw3u9RB76bm5uyXbWsSX3Ao+ZLaCSDBRSy/JSABWJK///+++UXtmpBkTMPaVM/VDg7yJIErGZno/O4P2H/6IhaasDUwO9Hz6RkY/GGs2n0i24rFS5jXJcb81BANgPykb/KzdVKmETTvrDqAt/9/P+pVCsH8QU0NbQP6+OcEFfQz59nGXkkms27/GXUuOTMC3l3jMsuSZCw/xqegcqkgTOkWiabhpY28HrzXBwnILP2JdzagRJFCWP5yC5Qsal7MjRgYIz7bga93JipvowQZm1m/N9Wl05hBD4CPewBkRi3HhsrMv1ZYMD4e/BBCihjbA/z2yji19WflsJYqENAbpc+/N6nc48uGNOfe9V8ByxLOZ7HHMf6rvUi7eh29m1bBnzvU9GgZxxs6Y53OIyAR/CMX7VQ5QP7Zt6Gpa/bipZr07T68v+4QwssWxbxnmxg6k8AqujQArCJtwXN0UmZeccmZ4SMkEcyRVNQMC8aCQU1VIhCjZfin2/HF1hPYNa6dx8sIOckgp5t1mLFe7VKYP7CpqR+mnJ5tx+sy65cDfCT3gpzRPrlbPbSqXtaOolImBxEQo3LYJ9vVttFxT9RC/4fvN136OT8cVkZr6aIBasdRvUolTH+GmRXqNGbQA+CDHgDp1J9vPQHJ1iczRbMTwfR8fyMkt/zOcY+a2e9+U5ekJ5YMhd5aavCq8CZULm7UFXtOKQbiDZFz2WVZ5C9P1DbsxTFBPFahCQH5Rjw+Yz1OnruCL174nVc8bt/uTsQrC7ergMB3ezVA6xr2PYeCBoAmL7Y0Qydl5kYtcnTn64t34Zvdp1AuOBBvdYtESw9mikkXr+Bf6w9j1S+n8WaXungo2xpzi7+tRrHAQvjmlRa5Ecnj38ixta2nrEWVUkXUGqV/Qc9OMvNYgHy4UYw3iegX1+zSHSdVJj9/vwKIqRGK3z90n0e6zIdm8JEOI7Dr+Hk8NfsHVCpZBMteao5iHuwOyqnJW46mYuC8WPVO/7VzHTzTpEpOt+TLdZ3GDHoAfMgDsDYuSa3nnbl4FR3rhqko/bwm0zl57rJas5NAP4kulyJnxi96/ndqvV9iCmqM+Ua5nyXrl7fLWyv24d018Zj0VF30tOkHwwwGYnAt3npCzfYPJKWpKmuUL46nG1VWqVuZ0McMyqzDHYH/bMhy1XdtUAlvd886hdXsEn8mDf3n/IxjqZfxckwEhrWtbrvlPRoAZms9H+vTSZn3wnj5WqZK7iPbwooH+mN859roHFUxTx0rISUds78/qAYgyeYlB3wMiYlQ6T2fnbMZocUDsfjFrBP6mk5cpY4BHd+pjtc1e/FKBqLfWqtch2tHRuc5aZHXBTTwADlSdfW+0yqwb+3+M8q4kojsTpEV1MBfu0JwnnRoQBTeSgIQ71O39zZia8JZxL/ZAX5+BbxCRSYoA+dtxs7j55WxMalr3RxPH/WKIPeoVKcxgx4AzT0Acr67BPHIvnnJ7CWWu7jxcltkK5BkkPty+0k1ADWoUgIvPVIN0dXL3hp8vth6XJ0qJ4GEo9rXUFv05HAZ2XtuRflw4xGM+XKP2uf+ShvzkpZYIfvdniFeFvGwSMpjSc0q31nxqMig/0jN0FwfyJRf8vO5+hJ48aOtauveoYneMwCEXvq16xjy0TYV1CpnkcgppJ7mJTFbGzQAzCaaj/XppMzsGK9n3sCstfFqe59fgQJ49dHqGNg83G3WLUkZKy44CeDbc/ICJHWn7BCQ4LJm4aXxUkwEmj1Q+q6zzpmrD2DKyv0qkjfl0jXMeKY+noysYIlmRe5H/74Opy5cUVnLJBDOaUePypao9QeTMf+noyqu4sZNoFLJILUO2q1hJZTT5ChVS14IPsRrBKwyAKQB8g0Tw16MYZlcSFpyO/QDncYMegA09AAcSb6EYZ9ux7aEc3iwXHFM6xmlOlD2IpG9+xIvYG/iBew5kfW/HLMrbmdXKRpQUAX3SdrdRlVLuf2oiHvwz4t3q84q5fPnm6Hhfe7vMfMrtTE+BS8s2IKz6RnKyJEZswycdp8xn710DZ9tOYYFmxJwNCUdBQpAJU/q82tAn7SFhQTsQsBKA0DaLN8Vmci8tSIOFUIKY+6AJl7LLZJbxjQAckvKAb/TSZnSWRZuPoYJX+3F5YxMDGp+P0a0exAXLmdgjwz2J3/9l3gBR1IuqZm9q5QtHqjWlCUZUO0KIahVIRj3lSqSp3U+sdif+3AL1h9Ixk9/fsSUnAJ5eYWuXs/E6l+S8NmW45CAR5lFy5q5xDuIMVCnYkheqvPab0VP24+dUzEZX+1MVEaX5F/o0biyOqSncqncL9F4TUhWTAJ3IWC1AeASQZYZJbtlUEBBvN+nkfJE5lfRacygB0ATD4AEzshRuXKWt5SoyiUQHFRIDfqyjuwqMsO8v0xRNdDLIC+Dfc2w4ggtXtiU/iRxAilpV/PdBZ904QoWbzuhjAGJY5AiXhAxBPIral7WNZduP6kGfllikSJpUPs0uw+P1SnPtX1T3kBW4k0C+WUASJs2HEjGH+dvUQbzlO6Rli0x3smTBoA33zCL69ZBmbJu3/29jWrtPXsJ9PdTW8VkoM8a8EPU356c8GexWkx7nGu2LYaAnCTo2jf/cEQZRFYST0eI8nzIervZR5OKe18G+r2J59X/EtAkz5edE3JUsuzbv3NpxrSGsyIS8AIBlwEgGThlMmF1SUhNV1sEpUztHomnGlSyWgStcsfQA6CBByD2SKo6WEMGsewz+/AyRX0iOU5uvwDZM+dJzMB1WSP4tRQv7H8bO+FYrVyxXG0/EiPj+NnL2HPyfNYyi8RVnLyAxPNXbhNNjC/Jz9+5fkXbRDTnlh1/RwJC4IONR/D2yv1qbT6/y0sx1TC4ZbjlYugwaXRBowGggQFgeQ/Q4IESL3DgdJoarLPHRkhwpKsEFPRTRkBWXESWB6VaaDE1sKvB3nVv4gU1s3eVQgULoFro/zwvcm+NsGCEBBk7ZEkD7GwCCTieAA0Ax6vwfw3QSZkaqSVfmiJb8Y6dTb9tFi/GgWwvvFeRxEo1bwVPZsVVyOAf4K9/WuJ8URIfSgL5TECnMYMeAHoA8rk72f/xEtTomu1LGl7ZjpQVVxGCyqXMjx2wPxFKSAK+S4AGgEa610mZGqmFTSEBEiABWxLQacywpQegatWqCAwMRFBQkHoBRo0ahR49euDAgQPo168fkpOTERISgrlz56J27drqN+6uuXuLdFKmLXsLhSIBEiABjQjoNGbY1gBYsmQJoqKibnttYmJi0LdvX/Tv3x+LFi3C5MmTsXnzZvUbd9doAGjU+9gUEiABEshHAjQAvAxfPAB3GgBJSUmIiIhAamoq/P391TaUsLAwbNiwAcHBwfe8JvfQAPCywlg9CZAACfgIARoAXla0GAAyqMsg36RJE0yaNAkJCQno1asX4uLibj3ddU2WA+51TTwDNAC8rDBWTwIkQAI+QoAGgJcVLYN9lSpVkJGRgdGjR2PXrl2YMGGCKQbA1KlTIf9cJS0tDefOnfNyi1g9CZAACZCADgRoAFioxcTERFSvXh3x8fFcArCQOx9FAiRAAiTwWwI0ALz4Vly6dEnN/EuUKKGeIrN1iQdYt24doqOjVQCgKwhQlgZiY2PV79xd4xKAFxXGqkmABEjAhwjQAPCisg8dOoSuXbsiMzNTxQCEh4dj+vTpkLgAWf+XwT8lJUXFCMyZMwd169ZV0ri7RgPAiwpj1SRAAiTgQwRoAGikbJ2UqZFa2BQSIAESsCUBncYMW+YBsFLrOinTSm58FgmQAAn4IgGdxgwaADwLwBf7MNtMAiRAAh4RoAHgETZ73qSTMu1JmFKRAAmQgD4EdBoz6AGgB0CfnsmWkAAJkICXCdAA8DJgK6vXSZlWcuOzSIAESMAXCeg0ZtADQA+AL/ZhtpkESIAEPCJAA8AjbPa8SSdl2pMwpSIBEiABfQjoNGbQA0APgD49ky0hARIgAS8ToAHgZcBWVq+TMq3kxmeRAAmQgC8S0GnMoAeAHgBf7MNsMwmQAAl4RIAGgEfY7HmTTsq0J2FKRQIkQAL6ENBpzKAHgB4AfXomW0ICJEACXiZAA8DLgK2sXidlWsmNzyIBEiABXySg05hBDwA9AL7Yh9lmEiABEvCIAA0Aj7DZ8yadlGlPwpSKBEiABPQhoNOYQQ8APQD69Ey2hARIgAS8TIAGgJcBW1m9Tsq0khufRQIkQAK+SECnMYMeAHoAfLEPs80kQAIk4BEBGgAeYbPnTTop056EKRUJkAAJ6ENApzGDHgB6APTpmWwJCZAACXiZAA0ALwO2snqdlGklNz6LBEiABHyRgE5jBj0A9AD4Yh9mm0mABEjAIwI0ADzCZs+bdFKmPQlTKhIgARLQh4BOY4bPewACAwNRtmxZfd5OAGlpaShWrJhWbXLXGLZXX1VTt/rqVlrmRP2eOXMGV69e1UIxPm8AaKHFOxqhk4WaG/2wvbmh5MzfULfO1FtupfY1/eaWi1W/owFgFWkLn+NrnYrttfDlsvhR1K3FwC1+nK/p12K8OT6OBkCOiJz3A1/rVGyv897R3EpM3eaWlDN/52v6tZuWaADYTSMmyDN16lQMHz7chJqcUQXb6ww9eSIldesJNefc42v6tZtmaADYTSOUhwRIgARIgAQsIEADwALIfAQJkAAJkAAJ2I0ADQC7aYTykAAJkAAJkIAFBGgAWADZzEe8/PLLWLp0KY4ePYpt27YhKipKVX/gwAH069cPycnJCAkJwdy5c1G7du0cr5kpm9l1XblyBT179sTevXsRFBSE0NBQzJ49GxEREUhKSkLfvn0RHx8PyeUwa9YstGzZUong7prZMppdX7t27XDq1Cn4+fmhePHimDFjBurXr6+lfl3s5syZgwEDBmDx4sXo3LmztrqV9latWlW9r/I+Sxk1ahR69OihpX5lr/yIESOwYsUKFC5cGJGRkZg/f76WbTX7O2BVfTQArCJt0nPWrVuH8PBwNG/eHEuWLLllAMTExKgBsX///li0aBEmT56MzZs3q6e6u2aSWF6pRgyA1atXo3379ihQoABmzpyp2rZ27Vo1YFSpUgXjxo1T7ezSpQsOHz6MQoUKub3mFUFNrPTcuXMoUaKEqlEGRGnfjh073OrQqfqVNh45cgS9evXCzZs38dprrykDQFfdugyA7P3W9ero2H+HDRuG69evKyNW+q8YtuXLl9f2XTbxM2BZVTQALENt7oNkJuH6kMiMV2bFqamp8Pf3Vx/TsLAwbNiwAcHBwfe8Jvc4qcTGxqJbt25q0JBMhwcPHlQfFClNmjTBxIkT0aZNG7fXnNRe8eJMmzYNK1eu1FK/N27cgHg8xFiVmeLQoUOVAaCzbrP3W9e7qGP/vXTpkvoGHT9+XH2DdG6rk74pd8pKA8Ch2sv+IdmyZYuaRcXFxd1qjQyIkyZNUssB97omsw4nlT59+qBUqVIYO3YsKlSocFs6zu7du+Oxxx5Dp06d7nlNZpZOKOLJWbNmjRJ1+fLluHbtmpb6nTJlCi5evIg33ngD0dHRygBo0aKF1rqVfisDohjprj6akJCgnX537tyJJ598Ui3hfffdd2rJQ7xZ4t3yhW+VE74zIiMNAKdo6g45fc0AkNn9smXLsGrVKly+fFnrQcKl6nnz5uGTTz7BhAkTtPto7t69G4MHD4Ysacmyja8YADLYy9JVRkYGRo8ejV27dmmp361bt6Jhw4aQd1gMWolXatu2Lb7++mv1t+6TFacMKzQAnKIpNwaAji7E7M2VmeLChQvVTMK1Pl60aFEVAHi3JQB315ymbpk5yZJHtWrVtFrikWDO8ePHq4A4KbI+LDNj8Qa8+uqrPqHbxMREVK9eXbVVtyU8CUYuV66c8l4VLFhQ6bhx48YYOXIkBg0apNW77LRvSnZ5aQA4VHt3riXKDEoCAF1BgOL+lzVzKe6u2b35kilswYIFavAvWbLkLXGlncLAFQQoa8cyUMps0t01O7dXAgDT09OVd0OKxHgMGTIEx44dQ+vWrbXUr0sfLg+A6FFH3Uo7ZV1cZv4uI1bebdGxeEF07L8S3yHLOh06dFABumIASEBr7969tX6X7fyNuVM2GgBO0haA5557TrnRZMZUunRptVVMguHEpSYfzpSUFDWTkq1VdevWVa1zd83OzZcAosqVK6tdD9JOKTJj3LRpE06fPg2JCZAPS0BAgNohIIOkFHfX7Nxe2dr59NNPqyUO2QYox1SL90O2euqo3+y6yG4A6KhbaeuhQ4fQtWtXZGZmqhgAea+nT5+uDFkd9SvtHThwoNqaLO+zxO5I+3Vsq52/K+5kowHgVM1RbhIgARIgARIwQIAGgAF4vJUESIAESIAEnEqABoBTNUe5SYAESIAESMAAARoABuDxVhIgARIgARJwKgEaAE7VHOUmARIgARIgAQMEaAAYgMdbSYAESIAESMCpBGgAOFVzlJsESIAESIAEDBCgAWAAHm8lARIgARIgAacSoAHgVM1RbhIgARIgARIwQIAGgAF4vJUESIAESIAEnEqABoBTNUe5SYAESIAESMAAARoABuDxVhIgARIgARJwKgEaAE7VHOUmARIgARIgAQMEaAAYgMdbSYAESIAESMCpBGgAOFVzlJsESIAESIAEDBCgAWAAHm8lARIgARIgAacSoAHgVM1RbhIgARIgARIwQIAGgAF4vJUESIAESIAEnEqABoBTNUe5SYAESIAESMAAARoABuDxVhIgARIgARJwKgEaAE7VHOUmARIgARIgAQMEaAAYgMdbSYAESIAESMCpBGgAOFVzlJsESIAESIAEDBCgAWAAHm8lARIgARIgAacSoAHgVM1RbhIgARIgARIwQIAGgAF4vJUESIAESIAEnErgvz5XkUGpB4OjAAAAAElFTkSuQmCC\" width=\"639.999990463257\">"
      ],
      "text/plain": [
       "<IPython.core.display.HTML object>"
      ]
     },
     "metadata": {},
     "output_type": "display_data"
    }
   ],
   "source": [
    "fig, ax = plt.subplots()\n",
    "\n",
    "ax.plot(x_eval, y_eval)\n",
    "ax.set_ylim(np.max(y) + window_y, np.min(y) - window_y)\n",
    "\n",
    "plt.xlim(np.min(x) - window_x, np.max(x) + window_x)\n",
    "\n",
    "plt.title('Hamhocks and Armlocks con interpolación vía curva paramétrica')\n",
    "\n",
    "plt.show()"
   ]
  },
  {
   "cell_type": "markdown",
   "metadata": {},
   "source": [
    "#### Automated plotting"
   ]
  },
  {
   "cell_type": "code",
   "execution_count": 22,
   "metadata": {
    "ExecuteTime": {
     "end_time": "2020-07-03T12:38:06.145346Z",
     "start_time": "2020-07-03T12:38:06.140911Z"
    }
   },
   "outputs": [],
   "source": [
    "def make_plot(ax, idx):\n",
    "    \n",
    "    ax.plot(x[:idx], y[:idx])\n",
    "    ax.set_ylim(np.max(y) + window_y, np.min(y) - window_y)\n",
    "    \n",
    "    plt.xlim(np.min(x) - window_x, np.max(x) + window_x)\n",
    "    \n",
    "    plt.title('Hamhocks and Armlocks con interpolación vía curva paramétrica')\n",
    "    \n",
    "    fig.canvas.draw()    "
   ]
  },
  {
   "cell_type": "code",
   "execution_count": 26,
   "metadata": {
    "ExecuteTime": {
     "end_time": "2020-07-03T12:40:11.945804Z",
     "start_time": "2020-07-03T12:39:46.080930Z"
    }
   },
   "outputs": [
    {
     "data": {
      "application/javascript": [
       "/* Put everything inside the global mpl namespace */\n",
       "window.mpl = {};\n",
       "\n",
       "\n",
       "mpl.get_websocket_type = function() {\n",
       "    if (typeof(WebSocket) !== 'undefined') {\n",
       "        return WebSocket;\n",
       "    } else if (typeof(MozWebSocket) !== 'undefined') {\n",
       "        return MozWebSocket;\n",
       "    } else {\n",
       "        alert('Your browser does not have WebSocket support. ' +\n",
       "              'Please try Chrome, Safari or Firefox ≥ 6. ' +\n",
       "              'Firefox 4 and 5 are also supported but you ' +\n",
       "              'have to enable WebSockets in about:config.');\n",
       "    };\n",
       "}\n",
       "\n",
       "mpl.figure = function(figure_id, websocket, ondownload, parent_element) {\n",
       "    this.id = figure_id;\n",
       "\n",
       "    this.ws = websocket;\n",
       "\n",
       "    this.supports_binary = (this.ws.binaryType != undefined);\n",
       "\n",
       "    if (!this.supports_binary) {\n",
       "        var warnings = document.getElementById(\"mpl-warnings\");\n",
       "        if (warnings) {\n",
       "            warnings.style.display = 'block';\n",
       "            warnings.textContent = (\n",
       "                \"This browser does not support binary websocket messages. \" +\n",
       "                    \"Performance may be slow.\");\n",
       "        }\n",
       "    }\n",
       "\n",
       "    this.imageObj = new Image();\n",
       "\n",
       "    this.context = undefined;\n",
       "    this.message = undefined;\n",
       "    this.canvas = undefined;\n",
       "    this.rubberband_canvas = undefined;\n",
       "    this.rubberband_context = undefined;\n",
       "    this.format_dropdown = undefined;\n",
       "\n",
       "    this.image_mode = 'full';\n",
       "\n",
       "    this.root = $('<div/>');\n",
       "    this._root_extra_style(this.root)\n",
       "    this.root.attr('style', 'display: inline-block');\n",
       "\n",
       "    $(parent_element).append(this.root);\n",
       "\n",
       "    this._init_header(this);\n",
       "    this._init_canvas(this);\n",
       "    this._init_toolbar(this);\n",
       "\n",
       "    var fig = this;\n",
       "\n",
       "    this.waiting = false;\n",
       "\n",
       "    this.ws.onopen =  function () {\n",
       "            fig.send_message(\"supports_binary\", {value: fig.supports_binary});\n",
       "            fig.send_message(\"send_image_mode\", {});\n",
       "            if (mpl.ratio != 1) {\n",
       "                fig.send_message(\"set_dpi_ratio\", {'dpi_ratio': mpl.ratio});\n",
       "            }\n",
       "            fig.send_message(\"refresh\", {});\n",
       "        }\n",
       "\n",
       "    this.imageObj.onload = function() {\n",
       "            if (fig.image_mode == 'full') {\n",
       "                // Full images could contain transparency (where diff images\n",
       "                // almost always do), so we need to clear the canvas so that\n",
       "                // there is no ghosting.\n",
       "                fig.context.clearRect(0, 0, fig.canvas.width, fig.canvas.height);\n",
       "            }\n",
       "            fig.context.drawImage(fig.imageObj, 0, 0);\n",
       "        };\n",
       "\n",
       "    this.imageObj.onunload = function() {\n",
       "        fig.ws.close();\n",
       "    }\n",
       "\n",
       "    this.ws.onmessage = this._make_on_message_function(this);\n",
       "\n",
       "    this.ondownload = ondownload;\n",
       "}\n",
       "\n",
       "mpl.figure.prototype._init_header = function() {\n",
       "    var titlebar = $(\n",
       "        '<div class=\"ui-dialog-titlebar ui-widget-header ui-corner-all ' +\n",
       "        'ui-helper-clearfix\"/>');\n",
       "    var titletext = $(\n",
       "        '<div class=\"ui-dialog-title\" style=\"width: 100%; ' +\n",
       "        'text-align: center; padding: 3px;\"/>');\n",
       "    titlebar.append(titletext)\n",
       "    this.root.append(titlebar);\n",
       "    this.header = titletext[0];\n",
       "}\n",
       "\n",
       "\n",
       "\n",
       "mpl.figure.prototype._canvas_extra_style = function(canvas_div) {\n",
       "\n",
       "}\n",
       "\n",
       "\n",
       "mpl.figure.prototype._root_extra_style = function(canvas_div) {\n",
       "\n",
       "}\n",
       "\n",
       "mpl.figure.prototype._init_canvas = function() {\n",
       "    var fig = this;\n",
       "\n",
       "    var canvas_div = $('<div/>');\n",
       "\n",
       "    canvas_div.attr('style', 'position: relative; clear: both; outline: 0');\n",
       "\n",
       "    function canvas_keyboard_event(event) {\n",
       "        return fig.key_event(event, event['data']);\n",
       "    }\n",
       "\n",
       "    canvas_div.keydown('key_press', canvas_keyboard_event);\n",
       "    canvas_div.keyup('key_release', canvas_keyboard_event);\n",
       "    this.canvas_div = canvas_div\n",
       "    this._canvas_extra_style(canvas_div)\n",
       "    this.root.append(canvas_div);\n",
       "\n",
       "    var canvas = $('<canvas/>');\n",
       "    canvas.addClass('mpl-canvas');\n",
       "    canvas.attr('style', \"left: 0; top: 0; z-index: 0; outline: 0\")\n",
       "\n",
       "    this.canvas = canvas[0];\n",
       "    this.context = canvas[0].getContext(\"2d\");\n",
       "\n",
       "    var backingStore = this.context.backingStorePixelRatio ||\n",
       "\tthis.context.webkitBackingStorePixelRatio ||\n",
       "\tthis.context.mozBackingStorePixelRatio ||\n",
       "\tthis.context.msBackingStorePixelRatio ||\n",
       "\tthis.context.oBackingStorePixelRatio ||\n",
       "\tthis.context.backingStorePixelRatio || 1;\n",
       "\n",
       "    mpl.ratio = (window.devicePixelRatio || 1) / backingStore;\n",
       "\n",
       "    var rubberband = $('<canvas/>');\n",
       "    rubberband.attr('style', \"position: absolute; left: 0; top: 0; z-index: 1;\")\n",
       "\n",
       "    var pass_mouse_events = true;\n",
       "\n",
       "    canvas_div.resizable({\n",
       "        start: function(event, ui) {\n",
       "            pass_mouse_events = false;\n",
       "        },\n",
       "        resize: function(event, ui) {\n",
       "            fig.request_resize(ui.size.width, ui.size.height);\n",
       "        },\n",
       "        stop: function(event, ui) {\n",
       "            pass_mouse_events = true;\n",
       "            fig.request_resize(ui.size.width, ui.size.height);\n",
       "        },\n",
       "    });\n",
       "\n",
       "    function mouse_event_fn(event) {\n",
       "        if (pass_mouse_events)\n",
       "            return fig.mouse_event(event, event['data']);\n",
       "    }\n",
       "\n",
       "    rubberband.mousedown('button_press', mouse_event_fn);\n",
       "    rubberband.mouseup('button_release', mouse_event_fn);\n",
       "    // Throttle sequential mouse events to 1 every 20ms.\n",
       "    rubberband.mousemove('motion_notify', mouse_event_fn);\n",
       "\n",
       "    rubberband.mouseenter('figure_enter', mouse_event_fn);\n",
       "    rubberband.mouseleave('figure_leave', mouse_event_fn);\n",
       "\n",
       "    canvas_div.on(\"wheel\", function (event) {\n",
       "        event = event.originalEvent;\n",
       "        event['data'] = 'scroll'\n",
       "        if (event.deltaY < 0) {\n",
       "            event.step = 1;\n",
       "        } else {\n",
       "            event.step = -1;\n",
       "        }\n",
       "        mouse_event_fn(event);\n",
       "    });\n",
       "\n",
       "    canvas_div.append(canvas);\n",
       "    canvas_div.append(rubberband);\n",
       "\n",
       "    this.rubberband = rubberband;\n",
       "    this.rubberband_canvas = rubberband[0];\n",
       "    this.rubberband_context = rubberband[0].getContext(\"2d\");\n",
       "    this.rubberband_context.strokeStyle = \"#000000\";\n",
       "\n",
       "    this._resize_canvas = function(width, height) {\n",
       "        // Keep the size of the canvas, canvas container, and rubber band\n",
       "        // canvas in synch.\n",
       "        canvas_div.css('width', width)\n",
       "        canvas_div.css('height', height)\n",
       "\n",
       "        canvas.attr('width', width * mpl.ratio);\n",
       "        canvas.attr('height', height * mpl.ratio);\n",
       "        canvas.attr('style', 'width: ' + width + 'px; height: ' + height + 'px;');\n",
       "\n",
       "        rubberband.attr('width', width);\n",
       "        rubberband.attr('height', height);\n",
       "    }\n",
       "\n",
       "    // Set the figure to an initial 600x600px, this will subsequently be updated\n",
       "    // upon first draw.\n",
       "    this._resize_canvas(600, 600);\n",
       "\n",
       "    // Disable right mouse context menu.\n",
       "    $(this.rubberband_canvas).bind(\"contextmenu\",function(e){\n",
       "        return false;\n",
       "    });\n",
       "\n",
       "    function set_focus () {\n",
       "        canvas.focus();\n",
       "        canvas_div.focus();\n",
       "    }\n",
       "\n",
       "    window.setTimeout(set_focus, 100);\n",
       "}\n",
       "\n",
       "mpl.figure.prototype._init_toolbar = function() {\n",
       "    var fig = this;\n",
       "\n",
       "    var nav_element = $('<div/>');\n",
       "    nav_element.attr('style', 'width: 100%');\n",
       "    this.root.append(nav_element);\n",
       "\n",
       "    // Define a callback function for later on.\n",
       "    function toolbar_event(event) {\n",
       "        return fig.toolbar_button_onclick(event['data']);\n",
       "    }\n",
       "    function toolbar_mouse_event(event) {\n",
       "        return fig.toolbar_button_onmouseover(event['data']);\n",
       "    }\n",
       "\n",
       "    for(var toolbar_ind in mpl.toolbar_items) {\n",
       "        var name = mpl.toolbar_items[toolbar_ind][0];\n",
       "        var tooltip = mpl.toolbar_items[toolbar_ind][1];\n",
       "        var image = mpl.toolbar_items[toolbar_ind][2];\n",
       "        var method_name = mpl.toolbar_items[toolbar_ind][3];\n",
       "\n",
       "        if (!name) {\n",
       "            // put a spacer in here.\n",
       "            continue;\n",
       "        }\n",
       "        var button = $('<button/>');\n",
       "        button.addClass('ui-button ui-widget ui-state-default ui-corner-all ' +\n",
       "                        'ui-button-icon-only');\n",
       "        button.attr('role', 'button');\n",
       "        button.attr('aria-disabled', 'false');\n",
       "        button.click(method_name, toolbar_event);\n",
       "        button.mouseover(tooltip, toolbar_mouse_event);\n",
       "\n",
       "        var icon_img = $('<span/>');\n",
       "        icon_img.addClass('ui-button-icon-primary ui-icon');\n",
       "        icon_img.addClass(image);\n",
       "        icon_img.addClass('ui-corner-all');\n",
       "\n",
       "        var tooltip_span = $('<span/>');\n",
       "        tooltip_span.addClass('ui-button-text');\n",
       "        tooltip_span.html(tooltip);\n",
       "\n",
       "        button.append(icon_img);\n",
       "        button.append(tooltip_span);\n",
       "\n",
       "        nav_element.append(button);\n",
       "    }\n",
       "\n",
       "    var fmt_picker_span = $('<span/>');\n",
       "\n",
       "    var fmt_picker = $('<select/>');\n",
       "    fmt_picker.addClass('mpl-toolbar-option ui-widget ui-widget-content');\n",
       "    fmt_picker_span.append(fmt_picker);\n",
       "    nav_element.append(fmt_picker_span);\n",
       "    this.format_dropdown = fmt_picker[0];\n",
       "\n",
       "    for (var ind in mpl.extensions) {\n",
       "        var fmt = mpl.extensions[ind];\n",
       "        var option = $(\n",
       "            '<option/>', {selected: fmt === mpl.default_extension}).html(fmt);\n",
       "        fmt_picker.append(option);\n",
       "    }\n",
       "\n",
       "    // Add hover states to the ui-buttons\n",
       "    $( \".ui-button\" ).hover(\n",
       "        function() { $(this).addClass(\"ui-state-hover\");},\n",
       "        function() { $(this).removeClass(\"ui-state-hover\");}\n",
       "    );\n",
       "\n",
       "    var status_bar = $('<span class=\"mpl-message\"/>');\n",
       "    nav_element.append(status_bar);\n",
       "    this.message = status_bar[0];\n",
       "}\n",
       "\n",
       "mpl.figure.prototype.request_resize = function(x_pixels, y_pixels) {\n",
       "    // Request matplotlib to resize the figure. Matplotlib will then trigger a resize in the client,\n",
       "    // which will in turn request a refresh of the image.\n",
       "    this.send_message('resize', {'width': x_pixels, 'height': y_pixels});\n",
       "}\n",
       "\n",
       "mpl.figure.prototype.send_message = function(type, properties) {\n",
       "    properties['type'] = type;\n",
       "    properties['figure_id'] = this.id;\n",
       "    this.ws.send(JSON.stringify(properties));\n",
       "}\n",
       "\n",
       "mpl.figure.prototype.send_draw_message = function() {\n",
       "    if (!this.waiting) {\n",
       "        this.waiting = true;\n",
       "        this.ws.send(JSON.stringify({type: \"draw\", figure_id: this.id}));\n",
       "    }\n",
       "}\n",
       "\n",
       "\n",
       "mpl.figure.prototype.handle_save = function(fig, msg) {\n",
       "    var format_dropdown = fig.format_dropdown;\n",
       "    var format = format_dropdown.options[format_dropdown.selectedIndex].value;\n",
       "    fig.ondownload(fig, format);\n",
       "}\n",
       "\n",
       "\n",
       "mpl.figure.prototype.handle_resize = function(fig, msg) {\n",
       "    var size = msg['size'];\n",
       "    if (size[0] != fig.canvas.width || size[1] != fig.canvas.height) {\n",
       "        fig._resize_canvas(size[0], size[1]);\n",
       "        fig.send_message(\"refresh\", {});\n",
       "    };\n",
       "}\n",
       "\n",
       "mpl.figure.prototype.handle_rubberband = function(fig, msg) {\n",
       "    var x0 = msg['x0'] / mpl.ratio;\n",
       "    var y0 = (fig.canvas.height - msg['y0']) / mpl.ratio;\n",
       "    var x1 = msg['x1'] / mpl.ratio;\n",
       "    var y1 = (fig.canvas.height - msg['y1']) / mpl.ratio;\n",
       "    x0 = Math.floor(x0) + 0.5;\n",
       "    y0 = Math.floor(y0) + 0.5;\n",
       "    x1 = Math.floor(x1) + 0.5;\n",
       "    y1 = Math.floor(y1) + 0.5;\n",
       "    var min_x = Math.min(x0, x1);\n",
       "    var min_y = Math.min(y0, y1);\n",
       "    var width = Math.abs(x1 - x0);\n",
       "    var height = Math.abs(y1 - y0);\n",
       "\n",
       "    fig.rubberband_context.clearRect(\n",
       "        0, 0, fig.canvas.width / mpl.ratio, fig.canvas.height / mpl.ratio);\n",
       "\n",
       "    fig.rubberband_context.strokeRect(min_x, min_y, width, height);\n",
       "}\n",
       "\n",
       "mpl.figure.prototype.handle_figure_label = function(fig, msg) {\n",
       "    // Updates the figure title.\n",
       "    fig.header.textContent = msg['label'];\n",
       "}\n",
       "\n",
       "mpl.figure.prototype.handle_cursor = function(fig, msg) {\n",
       "    var cursor = msg['cursor'];\n",
       "    switch(cursor)\n",
       "    {\n",
       "    case 0:\n",
       "        cursor = 'pointer';\n",
       "        break;\n",
       "    case 1:\n",
       "        cursor = 'default';\n",
       "        break;\n",
       "    case 2:\n",
       "        cursor = 'crosshair';\n",
       "        break;\n",
       "    case 3:\n",
       "        cursor = 'move';\n",
       "        break;\n",
       "    }\n",
       "    fig.rubberband_canvas.style.cursor = cursor;\n",
       "}\n",
       "\n",
       "mpl.figure.prototype.handle_message = function(fig, msg) {\n",
       "    fig.message.textContent = msg['message'];\n",
       "}\n",
       "\n",
       "mpl.figure.prototype.handle_draw = function(fig, msg) {\n",
       "    // Request the server to send over a new figure.\n",
       "    fig.send_draw_message();\n",
       "}\n",
       "\n",
       "mpl.figure.prototype.handle_image_mode = function(fig, msg) {\n",
       "    fig.image_mode = msg['mode'];\n",
       "}\n",
       "\n",
       "mpl.figure.prototype.updated_canvas_event = function() {\n",
       "    // Called whenever the canvas gets updated.\n",
       "    this.send_message(\"ack\", {});\n",
       "}\n",
       "\n",
       "// A function to construct a web socket function for onmessage handling.\n",
       "// Called in the figure constructor.\n",
       "mpl.figure.prototype._make_on_message_function = function(fig) {\n",
       "    return function socket_on_message(evt) {\n",
       "        if (evt.data instanceof Blob) {\n",
       "            /* FIXME: We get \"Resource interpreted as Image but\n",
       "             * transferred with MIME type text/plain:\" errors on\n",
       "             * Chrome.  But how to set the MIME type?  It doesn't seem\n",
       "             * to be part of the websocket stream */\n",
       "            evt.data.type = \"image/png\";\n",
       "\n",
       "            /* Free the memory for the previous frames */\n",
       "            if (fig.imageObj.src) {\n",
       "                (window.URL || window.webkitURL).revokeObjectURL(\n",
       "                    fig.imageObj.src);\n",
       "            }\n",
       "\n",
       "            fig.imageObj.src = (window.URL || window.webkitURL).createObjectURL(\n",
       "                evt.data);\n",
       "            fig.updated_canvas_event();\n",
       "            fig.waiting = false;\n",
       "            return;\n",
       "        }\n",
       "        else if (typeof evt.data === 'string' && evt.data.slice(0, 21) == \"data:image/png;base64\") {\n",
       "            fig.imageObj.src = evt.data;\n",
       "            fig.updated_canvas_event();\n",
       "            fig.waiting = false;\n",
       "            return;\n",
       "        }\n",
       "\n",
       "        var msg = JSON.parse(evt.data);\n",
       "        var msg_type = msg['type'];\n",
       "\n",
       "        // Call the  \"handle_{type}\" callback, which takes\n",
       "        // the figure and JSON message as its only arguments.\n",
       "        try {\n",
       "            var callback = fig[\"handle_\" + msg_type];\n",
       "        } catch (e) {\n",
       "            console.log(\"No handler for the '\" + msg_type + \"' message type: \", msg);\n",
       "            return;\n",
       "        }\n",
       "\n",
       "        if (callback) {\n",
       "            try {\n",
       "                // console.log(\"Handling '\" + msg_type + \"' message: \", msg);\n",
       "                callback(fig, msg);\n",
       "            } catch (e) {\n",
       "                console.log(\"Exception inside the 'handler_\" + msg_type + \"' callback:\", e, e.stack, msg);\n",
       "            }\n",
       "        }\n",
       "    };\n",
       "}\n",
       "\n",
       "// from http://stackoverflow.com/questions/1114465/getting-mouse-location-in-canvas\n",
       "mpl.findpos = function(e) {\n",
       "    //this section is from http://www.quirksmode.org/js/events_properties.html\n",
       "    var targ;\n",
       "    if (!e)\n",
       "        e = window.event;\n",
       "    if (e.target)\n",
       "        targ = e.target;\n",
       "    else if (e.srcElement)\n",
       "        targ = e.srcElement;\n",
       "    if (targ.nodeType == 3) // defeat Safari bug\n",
       "        targ = targ.parentNode;\n",
       "\n",
       "    // jQuery normalizes the pageX and pageY\n",
       "    // pageX,Y are the mouse positions relative to the document\n",
       "    // offset() returns the position of the element relative to the document\n",
       "    var x = e.pageX - $(targ).offset().left;\n",
       "    var y = e.pageY - $(targ).offset().top;\n",
       "\n",
       "    return {\"x\": x, \"y\": y};\n",
       "};\n",
       "\n",
       "/*\n",
       " * return a copy of an object with only non-object keys\n",
       " * we need this to avoid circular references\n",
       " * http://stackoverflow.com/a/24161582/3208463\n",
       " */\n",
       "function simpleKeys (original) {\n",
       "  return Object.keys(original).reduce(function (obj, key) {\n",
       "    if (typeof original[key] !== 'object')\n",
       "        obj[key] = original[key]\n",
       "    return obj;\n",
       "  }, {});\n",
       "}\n",
       "\n",
       "mpl.figure.prototype.mouse_event = function(event, name) {\n",
       "    var canvas_pos = mpl.findpos(event)\n",
       "\n",
       "    if (name === 'button_press')\n",
       "    {\n",
       "        this.canvas.focus();\n",
       "        this.canvas_div.focus();\n",
       "    }\n",
       "\n",
       "    var x = canvas_pos.x * mpl.ratio;\n",
       "    var y = canvas_pos.y * mpl.ratio;\n",
       "\n",
       "    this.send_message(name, {x: x, y: y, button: event.button,\n",
       "                             step: event.step,\n",
       "                             guiEvent: simpleKeys(event)});\n",
       "\n",
       "    /* This prevents the web browser from automatically changing to\n",
       "     * the text insertion cursor when the button is pressed.  We want\n",
       "     * to control all of the cursor setting manually through the\n",
       "     * 'cursor' event from matplotlib */\n",
       "    event.preventDefault();\n",
       "    return false;\n",
       "}\n",
       "\n",
       "mpl.figure.prototype._key_event_extra = function(event, name) {\n",
       "    // Handle any extra behaviour associated with a key event\n",
       "}\n",
       "\n",
       "mpl.figure.prototype.key_event = function(event, name) {\n",
       "\n",
       "    // Prevent repeat events\n",
       "    if (name == 'key_press')\n",
       "    {\n",
       "        if (event.which === this._key)\n",
       "            return;\n",
       "        else\n",
       "            this._key = event.which;\n",
       "    }\n",
       "    if (name == 'key_release')\n",
       "        this._key = null;\n",
       "\n",
       "    var value = '';\n",
       "    if (event.ctrlKey && event.which != 17)\n",
       "        value += \"ctrl+\";\n",
       "    if (event.altKey && event.which != 18)\n",
       "        value += \"alt+\";\n",
       "    if (event.shiftKey && event.which != 16)\n",
       "        value += \"shift+\";\n",
       "\n",
       "    value += 'k';\n",
       "    value += event.which.toString();\n",
       "\n",
       "    this._key_event_extra(event, name);\n",
       "\n",
       "    this.send_message(name, {key: value,\n",
       "                             guiEvent: simpleKeys(event)});\n",
       "    return false;\n",
       "}\n",
       "\n",
       "mpl.figure.prototype.toolbar_button_onclick = function(name) {\n",
       "    if (name == 'download') {\n",
       "        this.handle_save(this, null);\n",
       "    } else {\n",
       "        this.send_message(\"toolbar_button\", {name: name});\n",
       "    }\n",
       "};\n",
       "\n",
       "mpl.figure.prototype.toolbar_button_onmouseover = function(tooltip) {\n",
       "    this.message.textContent = tooltip;\n",
       "};\n",
       "mpl.toolbar_items = [[\"Home\", \"Reset original view\", \"fa fa-home icon-home\", \"home\"], [\"Back\", \"Back to previous view\", \"fa fa-arrow-left icon-arrow-left\", \"back\"], [\"Forward\", \"Forward to next view\", \"fa fa-arrow-right icon-arrow-right\", \"forward\"], [\"\", \"\", \"\", \"\"], [\"Pan\", \"Pan axes with left mouse, zoom with right\", \"fa fa-arrows icon-move\", \"pan\"], [\"Zoom\", \"Zoom to rectangle\", \"fa fa-square-o icon-check-empty\", \"zoom\"], [\"\", \"\", \"\", \"\"], [\"Download\", \"Download plot\", \"fa fa-floppy-o icon-save\", \"download\"]];\n",
       "\n",
       "mpl.extensions = [\"eps\", \"pdf\", \"png\", \"ps\", \"raw\", \"svg\"];\n",
       "\n",
       "mpl.default_extension = \"png\";var comm_websocket_adapter = function(comm) {\n",
       "    // Create a \"websocket\"-like object which calls the given IPython comm\n",
       "    // object with the appropriate methods. Currently this is a non binary\n",
       "    // socket, so there is still some room for performance tuning.\n",
       "    var ws = {};\n",
       "\n",
       "    ws.close = function() {\n",
       "        comm.close()\n",
       "    };\n",
       "    ws.send = function(m) {\n",
       "        //console.log('sending', m);\n",
       "        comm.send(m);\n",
       "    };\n",
       "    // Register the callback with on_msg.\n",
       "    comm.on_msg(function(msg) {\n",
       "        //console.log('receiving', msg['content']['data'], msg);\n",
       "        // Pass the mpl event to the overridden (by mpl) onmessage function.\n",
       "        ws.onmessage(msg['content']['data'])\n",
       "    });\n",
       "    return ws;\n",
       "}\n",
       "\n",
       "mpl.mpl_figure_comm = function(comm, msg) {\n",
       "    // This is the function which gets called when the mpl process\n",
       "    // starts-up an IPython Comm through the \"matplotlib\" channel.\n",
       "\n",
       "    var id = msg.content.data.id;\n",
       "    // Get hold of the div created by the display call when the Comm\n",
       "    // socket was opened in Python.\n",
       "    var element = $(\"#\" + id);\n",
       "    var ws_proxy = comm_websocket_adapter(comm)\n",
       "\n",
       "    function ondownload(figure, format) {\n",
       "        window.open(figure.imageObj.src);\n",
       "    }\n",
       "\n",
       "    var fig = new mpl.figure(id, ws_proxy,\n",
       "                           ondownload,\n",
       "                           element.get(0));\n",
       "\n",
       "    // Call onopen now - mpl needs it, as it is assuming we've passed it a real\n",
       "    // web socket which is closed, not our websocket->open comm proxy.\n",
       "    ws_proxy.onopen();\n",
       "\n",
       "    fig.parent_element = element.get(0);\n",
       "    fig.cell_info = mpl.find_output_cell(\"<div id='\" + id + \"'></div>\");\n",
       "    if (!fig.cell_info) {\n",
       "        console.error(\"Failed to find cell for figure\", id, fig);\n",
       "        return;\n",
       "    }\n",
       "\n",
       "    var output_index = fig.cell_info[2]\n",
       "    var cell = fig.cell_info[0];\n",
       "\n",
       "};\n",
       "\n",
       "mpl.figure.prototype.handle_close = function(fig, msg) {\n",
       "    var width = fig.canvas.width/mpl.ratio\n",
       "    fig.root.unbind('remove')\n",
       "\n",
       "    // Update the output cell to use the data from the current canvas.\n",
       "    fig.push_to_output();\n",
       "    var dataURL = fig.canvas.toDataURL();\n",
       "    // Re-enable the keyboard manager in IPython - without this line, in FF,\n",
       "    // the notebook keyboard shortcuts fail.\n",
       "    IPython.keyboard_manager.enable()\n",
       "    $(fig.parent_element).html('<img src=\"' + dataURL + '\" width=\"' + width + '\">');\n",
       "    fig.close_ws(fig, msg);\n",
       "}\n",
       "\n",
       "mpl.figure.prototype.close_ws = function(fig, msg){\n",
       "    fig.send_message('closing', msg);\n",
       "    // fig.ws.close()\n",
       "}\n",
       "\n",
       "mpl.figure.prototype.push_to_output = function(remove_interactive) {\n",
       "    // Turn the data on the canvas into data in the output cell.\n",
       "    var width = this.canvas.width/mpl.ratio\n",
       "    var dataURL = this.canvas.toDataURL();\n",
       "    this.cell_info[1]['text/html'] = '<img src=\"' + dataURL + '\" width=\"' + width + '\">';\n",
       "}\n",
       "\n",
       "mpl.figure.prototype.updated_canvas_event = function() {\n",
       "    // Tell IPython that the notebook contents must change.\n",
       "    IPython.notebook.set_dirty(true);\n",
       "    this.send_message(\"ack\", {});\n",
       "    var fig = this;\n",
       "    // Wait a second, then push the new image to the DOM so\n",
       "    // that it is saved nicely (might be nice to debounce this).\n",
       "    setTimeout(function () { fig.push_to_output() }, 1000);\n",
       "}\n",
       "\n",
       "mpl.figure.prototype._init_toolbar = function() {\n",
       "    var fig = this;\n",
       "\n",
       "    var nav_element = $('<div/>');\n",
       "    nav_element.attr('style', 'width: 100%');\n",
       "    this.root.append(nav_element);\n",
       "\n",
       "    // Define a callback function for later on.\n",
       "    function toolbar_event(event) {\n",
       "        return fig.toolbar_button_onclick(event['data']);\n",
       "    }\n",
       "    function toolbar_mouse_event(event) {\n",
       "        return fig.toolbar_button_onmouseover(event['data']);\n",
       "    }\n",
       "\n",
       "    for(var toolbar_ind in mpl.toolbar_items){\n",
       "        var name = mpl.toolbar_items[toolbar_ind][0];\n",
       "        var tooltip = mpl.toolbar_items[toolbar_ind][1];\n",
       "        var image = mpl.toolbar_items[toolbar_ind][2];\n",
       "        var method_name = mpl.toolbar_items[toolbar_ind][3];\n",
       "\n",
       "        if (!name) { continue; };\n",
       "\n",
       "        var button = $('<button class=\"btn btn-default\" href=\"#\" title=\"' + name + '\"><i class=\"fa ' + image + ' fa-lg\"></i></button>');\n",
       "        button.click(method_name, toolbar_event);\n",
       "        button.mouseover(tooltip, toolbar_mouse_event);\n",
       "        nav_element.append(button);\n",
       "    }\n",
       "\n",
       "    // Add the status bar.\n",
       "    var status_bar = $('<span class=\"mpl-message\" style=\"text-align:right; float: right;\"/>');\n",
       "    nav_element.append(status_bar);\n",
       "    this.message = status_bar[0];\n",
       "\n",
       "    // Add the close button to the window.\n",
       "    var buttongrp = $('<div class=\"btn-group inline pull-right\"></div>');\n",
       "    var button = $('<button class=\"btn btn-mini btn-primary\" href=\"#\" title=\"Stop Interaction\"><i class=\"fa fa-power-off icon-remove icon-large\"></i></button>');\n",
       "    button.click(function (evt) { fig.handle_close(fig, {}); } );\n",
       "    button.mouseover('Stop Interaction', toolbar_mouse_event);\n",
       "    buttongrp.append(button);\n",
       "    var titlebar = this.root.find($('.ui-dialog-titlebar'));\n",
       "    titlebar.prepend(buttongrp);\n",
       "}\n",
       "\n",
       "mpl.figure.prototype._root_extra_style = function(el){\n",
       "    var fig = this\n",
       "    el.on(\"remove\", function(){\n",
       "\tfig.close_ws(fig, {});\n",
       "    });\n",
       "}\n",
       "\n",
       "mpl.figure.prototype._canvas_extra_style = function(el){\n",
       "    // this is important to make the div 'focusable\n",
       "    el.attr('tabindex', 0)\n",
       "    // reach out to IPython and tell the keyboard manager to turn it's self\n",
       "    // off when our div gets focus\n",
       "\n",
       "    // location in version 3\n",
       "    if (IPython.notebook.keyboard_manager) {\n",
       "        IPython.notebook.keyboard_manager.register_events(el);\n",
       "    }\n",
       "    else {\n",
       "        // location in version 2\n",
       "        IPython.keyboard_manager.register_events(el);\n",
       "    }\n",
       "\n",
       "}\n",
       "\n",
       "mpl.figure.prototype._key_event_extra = function(event, name) {\n",
       "    var manager = IPython.notebook.keyboard_manager;\n",
       "    if (!manager)\n",
       "        manager = IPython.keyboard_manager;\n",
       "\n",
       "    // Check for shift+enter\n",
       "    if (event.shiftKey && event.which == 13) {\n",
       "        this.canvas_div.blur();\n",
       "        // select the cell after this one\n",
       "        var index = IPython.notebook.find_cell_index(this.cell_info[0]);\n",
       "        IPython.notebook.select(index + 1);\n",
       "    }\n",
       "}\n",
       "\n",
       "mpl.figure.prototype.handle_save = function(fig, msg) {\n",
       "    fig.ondownload(fig, null);\n",
       "}\n",
       "\n",
       "\n",
       "mpl.find_output_cell = function(html_output) {\n",
       "    // Return the cell and output element which can be found *uniquely* in the notebook.\n",
       "    // Note - this is a bit hacky, but it is done because the \"notebook_saving.Notebook\"\n",
       "    // IPython event is triggered only after the cells have been serialised, which for\n",
       "    // our purposes (turning an active figure into a static one), is too late.\n",
       "    var cells = IPython.notebook.get_cells();\n",
       "    var ncells = cells.length;\n",
       "    for (var i=0; i<ncells; i++) {\n",
       "        var cell = cells[i];\n",
       "        if (cell.cell_type === 'code'){\n",
       "            for (var j=0; j<cell.output_area.outputs.length; j++) {\n",
       "                var data = cell.output_area.outputs[j];\n",
       "                if (data.data) {\n",
       "                    // IPython >= 3 moved mimebundle to data attribute of output\n",
       "                    data = data.data;\n",
       "                }\n",
       "                if (data['text/html'] == html_output) {\n",
       "                    return [cell, data, j];\n",
       "                }\n",
       "            }\n",
       "        }\n",
       "    }\n",
       "}\n",
       "\n",
       "// Register the function which deals with the matplotlib target/channel.\n",
       "// The kernel may be null if the page has been refreshed.\n",
       "if (IPython.notebook.kernel != null) {\n",
       "    IPython.notebook.kernel.comm_manager.register_target('matplotlib', mpl.mpl_figure_comm);\n",
       "}\n"
      ],
      "text/plain": [
       "<IPython.core.display.Javascript object>"
      ]
     },
     "metadata": {},
     "output_type": "display_data"
    },
    {
     "data": {
      "text/html": [
       "<img src=\"data:image/png;base64,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\" width=\"639.999990463257\">"
      ],
      "text/plain": [
       "<IPython.core.display.HTML object>"
      ]
     },
     "metadata": {},
     "output_type": "display_data"
    }
   ],
   "source": [
    "%matplotlib notebook\n",
    "fig, ax = plt.subplots()\n",
    "for idx,_ in enumerate(t):\n",
    "    make_plot(ax, idx)\n",
    "    time.sleep(0.2)"
   ]
  },
  {
   "cell_type": "markdown",
   "metadata": {},
   "source": [
    "---"
   ]
  },
  {
   "cell_type": "markdown",
   "metadata": {},
   "source": [
    "**Referencias:**\n",
    "\n",
    "* [animated_matplotlib-binder](https://github.com/fomightez/animated_matplotlib-binder)\n",
    "\n",
    "* [how-get-a-x-y-position-pointing-with-mouse-in-a-interactive-plot-python](https://stackoverflow.com/questions/29379502/how-get-a-x-y-position-pointing-with-mouse-in-a-interactive-plot-python)\n",
    "\n",
    "* [matplotlib: invert_axes](https://matplotlib.org/3.1.1/gallery/subplots_axes_and_figures/invert_axes.html)"
   ]
  }
 ],
 "metadata": {
  "kernelspec": {
   "display_name": "Python 3",
   "language": "python",
   "name": "python3"
  },
  "language_info": {
   "codemirror_mode": {
    "name": "ipython",
    "version": 3
   },
   "file_extension": ".py",
   "mimetype": "text/x-python",
   "name": "python",
   "nbconvert_exporter": "python",
   "pygments_lexer": "ipython3",
   "version": "3.7.4"
  }
 },
 "nbformat": 4,
 "nbformat_minor": 4
}
