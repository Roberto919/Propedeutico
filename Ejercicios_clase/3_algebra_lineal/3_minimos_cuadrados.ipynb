{
 "cells": [
  {
   "cell_type": "markdown",
   "metadata": {},
   "source": [
    "**Notas para contenedor de docker:**"
   ]
  },
  {
   "cell_type": "markdown",
   "metadata": {},
   "source": [
    "Comando de docker para ejecución de la nota de forma local:\n",
    "\n",
    "nota: cambiar `dir_montar` por la ruta de directorio que se desea mapear a `/datos` dentro del contenedor de docker.\n",
    "\n",
    "```\n",
    "dir_montar=<ruta completa de mi máquina a mi directorio>#aquí colocar la ruta al directorio a montar, por ejemplo: \n",
    "#dir_montar=/Users/erick/midirectorio.\n",
    "```\n",
    "\n",
    "Ejecutar:\n",
    "\n",
    "```\n",
    "$docker run --rm -v $dir_montar:/datos --name jupyterlab_prope_r_kernel_tidyverse -p 8888:8888 -d palmoreck/jupyterlab_prope_r_kernel_tidyverse:2.1.4   \n",
    "\n",
    "```"
   ]
  },
  {
   "cell_type": "markdown",
   "metadata": {},
   "source": [
    "Ir a `localhost:8888` y escribir el password para jupyterlab: `qwerty`\n",
    "\n",
    "Detener el contenedor de docker:\n",
    "\n",
    "```\n",
    "docker stop jupyterlab_prope_r_kernel_tidyverse\n",
    "```\n"
   ]
  },
  {
   "cell_type": "markdown",
   "metadata": {},
   "source": [
    "Documentación de la imagen de docker `palmoreck/jupyterlab_prope_r_kernel_tidyverse:2.1.4` en [liga](https://github.com/palmoreck/dockerfiles/tree/master/jupyterlab/prope_r_kernel_tidyverse)."
   ]
  },
  {
   "cell_type": "markdown",
   "metadata": {},
   "source": [
    "---"
   ]
  },
  {
   "cell_type": "markdown",
   "metadata": {},
   "source": [
    "Para ejecución de la nota usar:\n",
    "\n",
    "[docker](https://www.docker.com/) (instalación de forma **local** con [Get docker](https://docs.docker.com/install/)) y ejecutar comandos que están al inicio de la nota de forma **local**. \n",
    "\n",
    "O bien dar click en alguno de los botones siguientes:"
   ]
  },
  {
   "cell_type": "markdown",
   "metadata": {},
   "source": [
    "[![Binder](https://mybinder.org/badge_logo.svg)](https://mybinder.org/v2/gh/palmoreck/dockerfiles-for-binder/jupyterlab_prope_r_kernel_tidyerse?urlpath=lab/tree/Propedeutico/Python/clases/3_algebra_lineal/3_minimos_cuadrados.ipynb) esta opción crea una máquina individual en un servidor de Google, clona el repositorio y permite la ejecución de los notebooks de jupyter."
   ]
  },
  {
   "cell_type": "markdown",
   "metadata": {},
   "source": [
    "[![Run on Repl.it](https://repl.it/badge/github/palmoreck/dummy)](https://repl.it/languages/python3) esta opción no clona el repositorio, no ejecuta los notebooks de jupyter pero permite ejecución de instrucciones de Python de forma colaborativa con [repl.it](https://repl.it/). Al dar click se crearán nuevos ***repl*** debajo de sus users de ***repl.it***.\n"
   ]
  },
  {
   "cell_type": "markdown",
   "metadata": {},
   "source": [
    "# Mínimos cuadrados lineales"
   ]
  },
  {
   "cell_type": "markdown",
   "metadata": {},
   "source": [
    "Supóngase que se han realizado mediciones de un fenómeno de interés en diferentes puntos $x_i$'s resultando en cantidades $y_i$'s $\\forall i=0,1,\\dots, m$ (se tienen $m+1$ puntos) y además las $y_i$'s contienen un ruido aleatorio causado por errores de medición:"
   ]
  },
  {
   "cell_type": "markdown",
   "metadata": {},
   "source": [
    "<img src=\"https://dl.dropboxusercontent.com/s/z0ksltumd4ibyjp/mcuadrados_1.jpg?dl=0\" heigth=\"400\" width=\"400\">"
   ]
  },
  {
   "cell_type": "markdown",
   "metadata": {},
   "source": [
    "El objetivo de los mínimos cuadrados lineales es construir una curva, $f(x|\\beta)$ que \"mejor\" se ajuste a los datos $(x_i,y_i)$, $\\forall i=0,1,\\dots,m$. El término de \"mejor\" se refiere a que la suma: $$\\displaystyle \\sum_{i=0}^m (y_i -f(x_i|\\beta))^2$$ sea lo más pequeña posible, esto es, a que la suma de las distancias verticales entre $y_i$ y $f(x_i|\\beta)$ $\\forall i=0,1,\\dots,m$ al cuadrado sea mínima. Por ejemplo:"
   ]
  },
  {
   "cell_type": "markdown",
   "metadata": {},
   "source": [
    "<img src=\"https://dl.dropboxusercontent.com/s/z31rni7hrp6w91s/mcuadrados_2.jpg?dl=0\" heigth=\"400\" width=\"400\">"
   ]
  },
  {
   "cell_type": "markdown",
   "metadata": {},
   "source": [
    "**Obs:**\n",
    "\n",
    "* La notación $f(x|\\beta)$ se utiliza para denotar que $\\beta$ es un vector de parámetros a estimar, en específico $\\beta_0, \\beta_1, \\dots \\beta_n$, esto es: $n+1$ parámetros a estimar."
   ]
  },
  {
   "cell_type": "markdown",
   "metadata": {},
   "source": [
    "- Aquí vemos la primera diferencia con interpolación. En interpolación tenemos $n + 1$ puntos y $n + 1$ parámetros (sistema cuadrado). En mínimos cuadrados tenemos $n + 1$ puntos y $n$ parámetros."
   ]
  },
  {
   "cell_type": "markdown",
   "metadata": {},
   "source": [
    "- La ventaja de interpolación es que pasa por todos los puntos; en los mínimos cuadrados permites que haya un error ya que no forzas a que pase por todos los puntos."
   ]
  },
  {
   "cell_type": "markdown",
   "metadata": {},
   "source": [
    "## Modelo en mínimos cuadrados lineales o también nombrados ordinarios"
   ]
  },
  {
   "cell_type": "markdown",
   "metadata": {},
   "source": [
    "En los mínimos cuadrados lineales se supone:  $f(x|\\beta) = \\displaystyle \\sum_{j=0}^n\\beta_j\\phi_j(x)$ con $\\phi_j: \\mathbb{R} \\rightarrow \\mathbb{R}$ funciones conocidas por lo que se tiene una gran flexibilidad para el proceso de ajuste."
   ]
  },
  {
   "cell_type": "markdown",
   "metadata": {},
   "source": [
    "Cabe destacar que también existen mínimos cuadrados no lineales."
   ]
  },
  {
   "cell_type": "markdown",
   "metadata": {},
   "source": [
    "**Obs:** \n",
    "\n",
    "* Si $n=m$ entonces se tiene un problema de interpolación.\n",
    "* x se nombra variable **regresora**."
   ]
  },
  {
   "cell_type": "markdown",
   "metadata": {},
   "source": [
    "## ¿Cómo ajustar el modelo anterior?"
   ]
  },
  {
   "cell_type": "markdown",
   "metadata": {},
   "source": [
    "En lo siguiente se **asume** $n+1 \\leq m+1$ (tenemos más puntos $(x_i,y_i)$'s que parámetros a estimar)."
   ]
  },
  {
   "cell_type": "markdown",
   "metadata": {},
   "source": [
    "Para realizar el ajuste de mínimos cuadrados se utilizan las **ecuaciones normales**: $$A^TA\\beta=A^Ty$$ donde: $A$ se construye con las $\\phi_j$'s evaluadas en los puntos $x_i$'s, el vector $\\beta$ contiene a los parámetros $\\beta_j$'s a estimar y el vector $y$, la variable **respuesta**, se construye con los puntos $y_i$'s:"
   ]
  },
  {
   "cell_type": "markdown",
   "metadata": {},
   "source": [
    "- (Estamos viendo otro ejemplo de aplicaciones de ecuaciones lineales)\n",
    "- Recordemos que las $\\phi$'s son funciones conocidas (e.g. polinomios, logaritmos, etc. [tenemos gran gama de posibilidades])\n",
    "- Los problemas de mínimos cuadrados son simplemente una minimización. Se puede resolver desde la perspectiva geométrica. También se puede abordar el problema a través de la teoría de optimización."
   ]
  },
  {
   "cell_type": "markdown",
   "metadata": {},
   "source": [
    "$$A = \\left[\\begin{array}{cccc}\n",
    "\\phi_0(x_0) &\\phi_1(x_0)&\\dots&\\phi_n(x_0)\\\\\n",
    "\\phi_0(x_1) &\\phi_1(x_1)&\\dots&\\phi_n(x_1)\\\\\n",
    "\\vdots &\\vdots& \\vdots&\\vdots\\\\\n",
    "\\phi_0(x_n) &\\phi_1(x_n)&\\dots&\\phi_n(x_n)\\\\\n",
    "\\vdots &\\vdots& \\vdots&\\vdots\\\\\n",
    "\\phi_0(x_{m-1}) &\\phi_1(x_{m-1})&\\dots&\\phi_n(x_{m-1})\\\\\n",
    "\\phi_0(x_m) &\\phi_1(x_m)&\\dots&\\phi_n(x_m)\n",
    "\\end{array}\n",
    "\\right] \\in \\mathbb{R}^{(m+1)x(n+1)},\n",
    "\\beta=\n",
    "\\left[\\begin{array}{c}\n",
    "\\beta_0\\\\\n",
    "\\beta_1\\\\\n",
    "\\vdots \\\\\n",
    "\\beta_n\n",
    "\\end{array}\n",
    "\\right] \\in \\mathbb{R}^n,\n",
    "y=\n",
    "\\left[\\begin{array}{c}\n",
    "y_0\\\\\n",
    "y_1\\\\\n",
    "\\vdots \\\\\n",
    "y_m\n",
    "\\end{array}\n",
    "\\right] \\in \\mathbb{R}^m\n",
    "$$"
   ]
  },
  {
   "cell_type": "markdown",
   "metadata": {},
   "source": [
    "- Si el rank no es completo se tiene que utilizar otra estrategia.\n",
    "- También hay factorizaciones \"delgadas\". Este se utiliza para este problema de mínimos cuadrados."
   ]
  },
  {
   "cell_type": "markdown",
   "metadata": {},
   "source": [
    "y si $A$ es de $rank$ completo (tiene $n+1$ columnas linealmente independientes) se calcula la factorización $QR$ de $A$ : $A = QR$ y entonces: $$A^TA\\beta = A^Ty$$ "
   ]
  },
  {
   "cell_type": "markdown",
   "metadata": {},
   "source": [
    "y como $A=QR$ se tiene: $A^TA = (R^TQ^T)(QR)$ y $A^T = R^TQ^T$ por lo que:"
   ]
  },
  {
   "cell_type": "markdown",
   "metadata": {},
   "source": [
    "$$(R^TQ^T)(QR) \\beta =  R^TQ^T y$$"
   ]
  },
  {
   "cell_type": "markdown",
   "metadata": {},
   "source": [
    "y usando que $Q$ tiene columnas ortonormales:"
   ]
  },
  {
   "cell_type": "markdown",
   "metadata": {},
   "source": [
    "$$R^TR\\beta = R^TQ^Ty$$"
   ]
  },
  {
   "cell_type": "markdown",
   "metadata": {},
   "source": [
    "Como $A$ tiene $n+1$ columnas linealmente independientes, la matriz $R$ es invertible por lo que $R^T$ también lo es y finalmente se tiene el sistema de ecuaciones por resolver:"
   ]
  },
  {
   "cell_type": "markdown",
   "metadata": {},
   "source": [
    "$$R\\beta = Q^Ty$$"
   ]
  },
  {
   "cell_type": "markdown",
   "metadata": {},
   "source": [
    "## Ejemplo: regresión lineal"
   ]
  },
  {
   "cell_type": "markdown",
   "metadata": {},
   "source": [
    "En el caso de la regresión lineal se tienen dos modelos que se pueden ajustar un modelo con intercepto y otro sin él. La elección depende de los datos."
   ]
  },
  {
   "cell_type": "markdown",
   "metadata": {},
   "source": [
    "### Modelo con intercepto"
   ]
  },
  {
   "cell_type": "markdown",
   "metadata": {},
   "source": [
    "Se ajusta un modelo de la forma: $f(x|\\beta) = \\beta_0 + \\beta_1 x$ a los datos $(x_i,y_i)$'s $\\forall i=0,1,\\dots,m$."
   ]
  },
  {
   "cell_type": "markdown",
   "metadata": {},
   "source": [
    "**Obs:** En este caso se eligen $\\phi_0(x) = 1$, $\\phi_1(x) =x$. Y tenemos que estimar dos parámetros: $\\beta_0, \\beta_1$."
   ]
  },
  {
   "cell_type": "markdown",
   "metadata": {},
   "source": [
    "#### Ejemplo numérico en numpy:"
   ]
  },
  {
   "cell_type": "code",
   "execution_count": 1,
   "metadata": {
    "ExecuteTime": {
     "end_time": "2020-07-06T12:23:47.907643Z",
     "start_time": "2020-07-06T12:23:46.618297Z"
    }
   },
   "outputs": [],
   "source": [
    "import numpy as np\n",
    "import matplotlib.pyplot as plt \n",
    "import pprint"
   ]
  },
  {
   "cell_type": "code",
   "execution_count": 2,
   "metadata": {
    "ExecuteTime": {
     "end_time": "2020-07-06T12:23:49.516557Z",
     "start_time": "2020-07-06T12:23:49.513767Z"
    }
   },
   "outputs": [],
   "source": [
    "np.set_printoptions(precision = 2) #sólo dos decimales que se muestren"
   ]
  },
  {
   "cell_type": "code",
   "execution_count": 3,
   "metadata": {
    "ExecuteTime": {
     "end_time": "2020-07-06T12:23:50.806945Z",
     "start_time": "2020-07-06T12:23:50.803190Z"
    }
   },
   "outputs": [],
   "source": [
    "np.random.seed(1989) #para reproducibilidad\n",
    "mpoints = 20\n",
    "x = np.random.randn(mpoints) \n",
    "y = -3*x + np.random.normal(2,1,mpoints)"
   ]
  },
  {
   "cell_type": "markdown",
   "metadata": {},
   "source": [
    "##### Los datos ejemplo"
   ]
  },
  {
   "cell_type": "code",
   "execution_count": 4,
   "metadata": {
    "ExecuteTime": {
     "end_time": "2020-07-06T12:23:53.732659Z",
     "start_time": "2020-07-06T12:23:53.536094Z"
    }
   },
   "outputs": [
    {
     "data": {
      "image/png": "[encoded data removed]",
      "text/plain": [
       "<Figure size 432x288 with 1 Axes>"
      ]
     },
     "metadata": {
      "needs_background": "light"
     },
     "output_type": "display_data"
    }
   ],
   "source": [
    "plt.plot(x,y, 'r*')\n",
    "plt.xlabel('x')\n",
    "plt.ylabel('y')\n",
    "plt.title('Puntos ejemplo')\n",
    "plt.show()"
   ]
  },
  {
   "cell_type": "markdown",
   "metadata": {},
   "source": [
    "##### El ajuste"
   ]
  },
  {
   "cell_type": "markdown",
   "metadata": {},
   "source": [
    "Con numpy podemos usar la función `polyfit` en el paquete de `numpy` para realizar el ajuste: (ver [numpy.polyfit](https://docs.scipy.org/doc/numpy/reference/generated/numpy.polyfit.html))"
   ]
  },
  {
   "cell_type": "markdown",
   "metadata": {},
   "source": [
    "El tercer argumento de polyfit especifica el grado del polinomio a ajustar. Usaremos `ndegree = 1` pues queremos ajustar una recta."
   ]
  },
  {
   "cell_type": "code",
   "execution_count": 5,
   "metadata": {
    "ExecuteTime": {
     "end_time": "2020-07-06T12:23:59.932778Z",
     "start_time": "2020-07-06T12:23:59.929667Z"
    }
   },
   "outputs": [],
   "source": [
    "ndegree = 1\n",
    "coefficients = np.polyfit(x, y, ndegree)"
   ]
  },
  {
   "cell_type": "markdown",
   "metadata": {},
   "source": [
    "Una vez realizado el llamado a la función polyfit se regresan los coeficientes de $x$ ordenados del mayor grado al menor."
   ]
  },
  {
   "cell_type": "code",
   "execution_count": 6,
   "metadata": {
    "ExecuteTime": {
     "end_time": "2020-07-06T12:24:07.721840Z",
     "start_time": "2020-07-06T12:24:07.718113Z"
    }
   },
   "outputs": [
    {
     "name": "stdout",
     "output_type": "stream",
     "text": [
      "array([-2.65,  2.03])\n"
     ]
    }
   ],
   "source": [
    "pprint.pprint(coefficients)"
   ]
  },
  {
   "cell_type": "markdown",
   "metadata": {},
   "source": [
    "Entonces nuestro polinomio es: $$p_{1}(x) = -2.65x + 2.03$$"
   ]
  },
  {
   "cell_type": "markdown",
   "metadata": {},
   "source": [
    "y así tenemos nuestras beta's ajustadas $\\hat{\\beta_0} = 2.03$, $\\hat{\\beta_1} = -2.65$."
   ]
  },
  {
   "cell_type": "markdown",
   "metadata": {},
   "source": [
    "##### La gráfica"
   ]
  },
  {
   "cell_type": "markdown",
   "metadata": {},
   "source": [
    "Ahora nos gustaría graficar el modelo en el intervalo $[min(x),max(x)]$ con $min(x)$ la entrada con valor mínimo del numpy array $x$ y $max(x)$ su entrada con valor máximo."
   ]
  },
  {
   "cell_type": "markdown",
   "metadata": {},
   "source": [
    "Para lo anterior debemos obtener los valores ajustados al evaluar $p_1(x)$ los valores de $x$:"
   ]
  },
  {
   "cell_type": "markdown",
   "metadata": {},
   "source": [
    "- Grafiquemos con $x$'s que no hayamos medido (graficar más allá)"
   ]
  },
  {
   "cell_type": "code",
   "execution_count": 7,
   "metadata": {
    "ExecuteTime": {
     "end_time": "2020-07-06T12:24:17.163310Z",
     "start_time": "2020-07-06T12:24:17.159172Z"
    }
   },
   "outputs": [
    {
     "data": {
      "text/plain": [
       "(-1.2005252660472876, 2.5180237924466593)"
      ]
     },
     "execution_count": 7,
     "metadata": {},
     "output_type": "execute_result"
    }
   ],
   "source": [
    "(np.min(x), np.max(x))"
   ]
  },
  {
   "cell_type": "code",
   "execution_count": 8,
   "metadata": {
    "ExecuteTime": {
     "end_time": "2020-07-06T12:24:25.924190Z",
     "start_time": "2020-07-06T12:24:25.920367Z"
    }
   },
   "outputs": [],
   "source": [
    "mpoints_new = 30\n",
    "x_new_values = np.linspace(-1.5, 3, mpoints_new)"
   ]
  },
  {
   "cell_type": "code",
   "execution_count": 9,
   "metadata": {
    "ExecuteTime": {
     "end_time": "2020-07-06T12:24:28.211939Z",
     "start_time": "2020-07-06T12:24:28.208258Z"
    }
   },
   "outputs": [],
   "source": [
    "y_hat_numpy_new = coefficients[1] + coefficients[0] * x_new_values"
   ]
  },
  {
   "cell_type": "code",
   "execution_count": 10,
   "metadata": {
    "ExecuteTime": {
     "end_time": "2020-07-06T12:24:29.091975Z",
     "start_time": "2020-07-06T12:24:28.960312Z"
    }
   },
   "outputs": [
    {
     "data": {
      "image/png": "[encoded data removed]",
      "text/plain": [
       "<Figure size 432x288 with 1 Axes>"
      ]
     },
     "metadata": {
      "needs_background": "light"
     },
     "output_type": "display_data"
    }
   ],
   "source": [
    "plt.plot(x_new_values, y_hat_numpy_new, 'k-',x, y, 'r*')\n",
    "plt.legend(['modelo lineal','datos'], loc='best')\n",
    "plt.show()"
   ]
  },
  {
   "cell_type": "markdown",
   "metadata": {},
   "source": [
    "- skit-learn también es una librería muy útil que nos puede ayudar incluso a evitar overfitting"
   ]
  },
  {
   "cell_type": "markdown",
   "metadata": {},
   "source": [
    "**También podemos obtener lo anterior con la factorización QR construyendo a la matriz A de forma explícita**\n"
   ]
  },
  {
   "cell_type": "code",
   "execution_count": 11,
   "metadata": {
    "ExecuteTime": {
     "end_time": "2020-07-06T12:24:50.446562Z",
     "start_time": "2020-07-06T12:24:50.443985Z"
    }
   },
   "outputs": [],
   "source": [
    "A=np.ones((mpoints,2))"
   ]
  },
  {
   "cell_type": "code",
   "execution_count": 12,
   "metadata": {
    "ExecuteTime": {
     "end_time": "2020-07-06T12:24:50.979936Z",
     "start_time": "2020-07-06T12:24:50.976275Z"
    }
   },
   "outputs": [],
   "source": [
    "A[:,1] = x"
   ]
  },
  {
   "cell_type": "markdown",
   "metadata": {},
   "source": [
    "Con esto obtenemos la matriz $A$ a la cual le aplicaremos la función $QR$"
   ]
  },
  {
   "cell_type": "markdown",
   "metadata": {},
   "source": [
    "- Los 1's se agregan porque queremos ajustar un modelo con intercepto."
   ]
  },
  {
   "cell_type": "code",
   "execution_count": 13,
   "metadata": {
    "ExecuteTime": {
     "end_time": "2020-07-06T12:24:56.703070Z",
     "start_time": "2020-07-06T12:24:56.698268Z"
    }
   },
   "outputs": [
    {
     "data": {
      "text/plain": [
       "array([[ 1.  , -0.26],\n",
       "       [ 1.  ,  0.09],\n",
       "       [ 1.  ,  0.43],\n",
       "       [ 1.  ,  0.9 ],\n",
       "       [ 1.  ,  0.56],\n",
       "       [ 1.  ,  0.44],\n",
       "       [ 1.  ,  0.38],\n",
       "       [ 1.  , -0.15],\n",
       "       [ 1.  ,  0.78],\n",
       "       [ 1.  , -0.02],\n",
       "       [ 1.  ,  1.61],\n",
       "       [ 1.  , -0.37],\n",
       "       [ 1.  ,  0.36],\n",
       "       [ 1.  ,  0.17],\n",
       "       [ 1.  ,  2.52],\n",
       "       [ 1.  ,  0.14],\n",
       "       [ 1.  ,  1.16],\n",
       "       [ 1.  ,  0.59],\n",
       "       [ 1.  , -1.2 ],\n",
       "       [ 1.  , -0.37]])"
      ]
     },
     "execution_count": 13,
     "metadata": {},
     "output_type": "execute_result"
    }
   ],
   "source": [
    "A"
   ]
  },
  {
   "cell_type": "code",
   "execution_count": 14,
   "metadata": {
    "ExecuteTime": {
     "end_time": "2020-07-06T12:25:30.859947Z",
     "start_time": "2020-07-06T12:25:30.855886Z"
    }
   },
   "outputs": [],
   "source": [
    "Q,R = np.linalg.qr(A)"
   ]
  },
  {
   "cell_type": "markdown",
   "metadata": {},
   "source": [
    "Resolvemos el sistema $R\\beta = Q^Ty$"
   ]
  },
  {
   "cell_type": "code",
   "execution_count": 15,
   "metadata": {
    "ExecuteTime": {
     "end_time": "2020-07-06T12:25:49.146324Z",
     "start_time": "2020-07-06T12:25:49.140332Z"
    }
   },
   "outputs": [
    {
     "name": "stdout",
     "output_type": "stream",
     "text": [
      "array([ 2.03, -2.65])\n"
     ]
    }
   ],
   "source": [
    "beta = np.linalg.solve(R,Q.T@y)\n",
    "pprint.pprint(beta)"
   ]
  },
  {
   "cell_type": "code",
   "execution_count": 16,
   "metadata": {
    "ExecuteTime": {
     "end_time": "2020-07-06T12:25:59.867089Z",
     "start_time": "2020-07-06T12:25:59.863487Z"
    }
   },
   "outputs": [],
   "source": [
    "y_hat_QR = A@beta"
   ]
  },
  {
   "cell_type": "markdown",
   "metadata": {},
   "source": [
    "**Obs: que la línea anterior es equivalente a realizar: `y_hat_QR = beta[0] + beta[1]*x`**"
   ]
  },
  {
   "cell_type": "code",
   "execution_count": 17,
   "metadata": {
    "ExecuteTime": {
     "end_time": "2020-07-06T12:26:17.745614Z",
     "start_time": "2020-07-06T12:26:17.596074Z"
    }
   },
   "outputs": [
    {
     "data": {
      "image/png": "[encoded data removed]",
      "text/plain": [
       "<Figure size 432x288 with 1 Axes>"
      ]
     },
     "metadata": {
      "needs_background": "light"
     },
     "output_type": "display_data"
    }
   ],
   "source": [
    "plt.plot(x, y_hat_QR , 'k-',x, y, 'r*')\n",
    "plt.legend(['modelo lineal','datos'], loc='best')\n",
    "plt.show()"
   ]
  },
  {
   "cell_type": "markdown",
   "metadata": {},
   "source": [
    "### Modelo sin intercepto"
   ]
  },
  {
   "cell_type": "markdown",
   "metadata": {},
   "source": [
    "- Se usará el mismo conjunto de datos"
   ]
  },
  {
   "cell_type": "markdown",
   "metadata": {},
   "source": [
    "Se ajusta un modelo de la forma: $f(x|\\beta) = \\beta_1 x$ a los datos $(x_i,y_i)$'s $\\forall i=0,1,\\dots,m$."
   ]
  },
  {
   "cell_type": "markdown",
   "metadata": {},
   "source": [
    "**Obs:** En este caso se elige $\\phi_1(x) =x$ y no hay $\\phi_0$ por lo que sólo se tiene que estimar $\\beta_1$."
   ]
  },
  {
   "cell_type": "markdown",
   "metadata": {},
   "source": [
    "### (Tarea) Ejemplo numérico en numpy:"
   ]
  },
  {
   "cell_type": "markdown",
   "metadata": {},
   "source": [
    "- [x] **Realizar el ajuste correspondiente para este caso con `QR` con un notebook de jupyter**"
   ]
  },
  {
   "cell_type": "markdown",
   "metadata": {},
   "source": [
    "**Puntos a ser evaluados**"
   ]
  },
  {
   "cell_type": "code",
   "execution_count": 18,
   "metadata": {
    "ExecuteTime": {
     "end_time": "2020-07-06T12:28:34.062388Z",
     "start_time": "2020-07-06T12:28:33.925928Z"
    }
   },
   "outputs": [
    {
     "data": {
      "image/png": "[encoded data removed]",
      "text/plain": [
       "<Figure size 432x288 with 1 Axes>"
      ]
     },
     "metadata": {
      "needs_background": "light"
     },
     "output_type": "display_data"
    }
   ],
   "source": [
    "plt.plot(x,y, 'r*')\n",
    "plt.xlabel('x')\n",
    "plt.ylabel('y')\n",
    "plt.title('Puntos ejemplo')\n",
    "plt.show()"
   ]
  },
  {
   "cell_type": "markdown",
   "metadata": {},
   "source": [
    "**Creación de la matriz *A***"
   ]
  },
  {
   "cell_type": "code",
   "execution_count": 33,
   "metadata": {
    "ExecuteTime": {
     "end_time": "2020-07-06T12:40:07.453560Z",
     "start_time": "2020-07-06T12:40:07.450886Z"
    }
   },
   "outputs": [],
   "source": [
    "A = np.ones((mpoints, 1))\n",
    "A[:, 0] = x"
   ]
  },
  {
   "cell_type": "code",
   "execution_count": 19,
   "metadata": {
    "ExecuteTime": {
     "end_time": "2020-07-06T12:29:23.005661Z",
     "start_time": "2020-07-06T12:29:23.002428Z"
    }
   },
   "outputs": [
    {
     "data": {
      "text/plain": [
       "20"
      ]
     },
     "execution_count": 19,
     "metadata": {},
     "output_type": "execute_result"
    }
   ],
   "source": [
    "mpoints"
   ]
  },
  {
   "cell_type": "code",
   "execution_count": 20,
   "metadata": {
    "ExecuteTime": {
     "end_time": "2020-07-06T12:29:46.999963Z",
     "start_time": "2020-07-06T12:29:46.995914Z"
    }
   },
   "outputs": [
    {
     "data": {
      "text/plain": [
       "array([-0.26,  0.09,  0.43,  0.9 ,  0.56,  0.44,  0.38, -0.15,  0.78,\n",
       "       -0.02,  1.61, -0.37,  0.36,  0.17,  2.52,  0.14,  1.16,  0.59,\n",
       "       -1.2 , -0.37])"
      ]
     },
     "execution_count": 20,
     "metadata": {},
     "output_type": "execute_result"
    }
   ],
   "source": [
    "x"
   ]
  },
  {
   "cell_type": "code",
   "execution_count": 26,
   "metadata": {
    "ExecuteTime": {
     "end_time": "2020-07-06T12:36:58.528561Z",
     "start_time": "2020-07-06T12:36:58.526167Z"
    }
   },
   "outputs": [],
   "source": [
    "A[:, 0] = 0"
   ]
  },
  {
   "cell_type": "code",
   "execution_count": 28,
   "metadata": {
    "ExecuteTime": {
     "end_time": "2020-07-06T12:37:20.290344Z",
     "start_time": "2020-07-06T12:37:20.287472Z"
    }
   },
   "outputs": [],
   "source": [
    "A[:, 1] = x"
   ]
  },
  {
   "cell_type": "code",
   "execution_count": 34,
   "metadata": {
    "ExecuteTime": {
     "end_time": "2020-07-06T12:40:07.971383Z",
     "start_time": "2020-07-06T12:40:07.968296Z"
    }
   },
   "outputs": [
    {
     "data": {
      "text/plain": [
       "array([[-0.26],\n",
       "       [ 0.09],\n",
       "       [ 0.43],\n",
       "       [ 0.9 ],\n",
       "       [ 0.56],\n",
       "       [ 0.44],\n",
       "       [ 0.38],\n",
       "       [-0.15],\n",
       "       [ 0.78],\n",
       "       [-0.02],\n",
       "       [ 1.61],\n",
       "       [-0.37],\n",
       "       [ 0.36],\n",
       "       [ 0.17],\n",
       "       [ 2.52],\n",
       "       [ 0.14],\n",
       "       [ 1.16],\n",
       "       [ 0.59],\n",
       "       [-1.2 ],\n",
       "       [-0.37]])"
      ]
     },
     "execution_count": 34,
     "metadata": {},
     "output_type": "execute_result"
    }
   ],
   "source": [
    "A"
   ]
  },
  {
   "cell_type": "markdown",
   "metadata": {},
   "source": [
    "**Factorización QR**"
   ]
  },
  {
   "cell_type": "code",
   "execution_count": 35,
   "metadata": {
    "ExecuteTime": {
     "end_time": "2020-07-06T12:40:09.618451Z",
     "start_time": "2020-07-06T12:40:09.610948Z"
    }
   },
   "outputs": [],
   "source": [
    "Q, R = np.linalg.qr(A)"
   ]
  },
  {
   "cell_type": "markdown",
   "metadata": {},
   "source": [
    "**Solución del sistema $R\\beta = Q^Ty$ (obtención de $\\beta$)**"
   ]
  },
  {
   "cell_type": "code",
   "execution_count": 32,
   "metadata": {
    "ExecuteTime": {
     "end_time": "2020-07-06T12:39:35.257909Z",
     "start_time": "2020-07-06T12:39:35.253172Z"
    }
   },
   "outputs": [
    {
     "data": {
      "text/plain": [
       "array([ 2.64,  1.71,  2.91, -0.62,  1.41, -0.36,  1.22,  3.64,  0.02,\n",
       "        0.59, -3.67,  3.26,  1.17,  1.61, -4.93,  0.26,  1.36, -0.04,\n",
       "        5.11,  2.79])"
      ]
     },
     "execution_count": 32,
     "metadata": {},
     "output_type": "execute_result"
    }
   ],
   "source": [
    "y"
   ]
  },
  {
   "cell_type": "code",
   "execution_count": 37,
   "metadata": {
    "ExecuteTime": {
     "end_time": "2020-07-06T12:40:44.391830Z",
     "start_time": "2020-07-06T12:40:44.386413Z"
    }
   },
   "outputs": [
    {
     "name": "stdout",
     "output_type": "stream",
     "text": [
      "array([-1.6])\n"
     ]
    }
   ],
   "source": [
    "beta = np.linalg.solve(R, Q.T@y)\n",
    "pprint.pprint(beta)"
   ]
  },
  {
   "cell_type": "markdown",
   "metadata": {},
   "source": [
    "**Valores derivados del ajuste $\\hat{y}$**"
   ]
  },
  {
   "cell_type": "code",
   "execution_count": 38,
   "metadata": {
    "ExecuteTime": {
     "end_time": "2020-07-06T12:42:37.246610Z",
     "start_time": "2020-07-06T12:42:37.244302Z"
    }
   },
   "outputs": [],
   "source": [
    "y_hat_QR = A@beta"
   ]
  },
  {
   "cell_type": "markdown",
   "metadata": {},
   "source": [
    "**Gráfica con los resultados**"
   ]
  },
  {
   "cell_type": "code",
   "execution_count": 39,
   "metadata": {
    "ExecuteTime": {
     "end_time": "2020-07-06T12:43:52.794644Z",
     "start_time": "2020-07-06T12:43:52.641225Z"
    },
    "scrolled": true
   },
   "outputs": [
    {
     "data": {
      "image/png": "[encoded data removed]",
      "text/plain": [
       "<Figure size 432x288 with 1 Axes>"
      ]
     },
     "metadata": {
      "needs_background": "light"
     },
     "output_type": "display_data"
    }
   ],
   "source": [
    "plt.plot(x, y_hat_QR, 'k-', x, y, 'r*')\n",
    "plt.legend(['modelo lineal sin intercepto', 'datos'], loc='best')\n",
    "plt.show()"
   ]
  },
  {
   "cell_type": "markdown",
   "metadata": {},
   "source": [
    "## Una vez hecho el ajuste..."
   ]
  },
  {
   "cell_type": "markdown",
   "metadata": {},
   "source": [
    "Se realiza un **análisis de residuales**, se hace una **gráfica** del modelo si las dimensiones en las que se está trabajando lo permiten y se calcula el **error cuadrático medio**."
   ]
  },
  {
   "cell_type": "markdown",
   "metadata": {},
   "source": [
    "Si $\\hat{y}_i$ es el valor ajustado para el dato $x_i$, esto es: $\\hat{y}_i = f(x_i|\\hat{\\beta}) = \\displaystyle \\sum_{i=0}^m \\left (y_i -\\displaystyle \\sum_{j=0}^n\\hat{\\beta}_j\\phi_j(x_i)\\right )^2$ el residual $i$ es: $r_i = y_i - \\hat{y}_i$ y representa la discrepancia entre los datos y el modelo."
   ]
  },
  {
   "cell_type": "markdown",
   "metadata": {},
   "source": [
    "El error cuadrático medio se calcula como: $$ECM(\\hat{y}) = \\frac{1}{m} \\displaystyle \\sum_{i=0}^m(y_i-\\hat{y}_i)^2$$"
   ]
  },
  {
   "cell_type": "markdown",
   "metadata": {},
   "source": [
    "- $m$ se refiere al número de puntos\n",
    "- Los residuales te pueden dar información de la dispersión del error."
   ]
  },
  {
   "cell_type": "markdown",
   "metadata": {},
   "source": [
    "### Ejercicio tarea 1"
   ]
  },
  {
   "cell_type": "markdown",
   "metadata": {},
   "source": [
    "- [ ] **Tarea: crear un módulo de nombre `utils.py` en el que se tenga la función:**"
   ]
  },
  {
   "cell_type": "markdown",
   "metadata": {},
   "source": [
    "```\n",
    "def MSE(y, y_hat):\n",
    "    \"\"\"\n",
    "    Compute mean squared error.\n",
    "    See: https://en.wikipedia.org/wiki/Mean_squared_error\n",
    "    Args:\n",
    "        y (numpy 1d array of floats): actual values of data.\n",
    "        y_hat (numpy 1d array of floats): estimated values via model.\n",
    "    Returns:\n",
    "        ecm (float): mean squared error result.\n",
    "    \"\"\"\n",
    "```"
   ]
  },
  {
   "cell_type": "markdown",
   "metadata": {},
   "source": [
    "**En esta función se implementa la fórmula de error cuadrático medio.**"
   ]
  },
  {
   "cell_type": "markdown",
   "metadata": {},
   "source": [
    "## Ejemplo: ajuste de un modelo por mínimos cuadrados lineales con funciones $\\phi_j$'s no lineales"
   ]
  },
  {
   "cell_type": "markdown",
   "metadata": {},
   "source": [
    "Sigue siendo un modelo lineal porque tenemos linealidad en las $\\beta$'s"
   ]
  },
  {
   "cell_type": "markdown",
   "metadata": {},
   "source": [
    "Obsérvese que el modelo que se ha utilizado: $f(x|\\beta) = \\displaystyle \\sum_{j=0}^n\\beta_j\\phi_j(x)$ permite elegir las $\\phi_j$'s como funciones de $\\mathbb{R}$ a $\\mathbb{R}$. Por lo que tenemos una amplia gama de posibilidades de ajuste de curvas a datos."
   ]
  },
  {
   "cell_type": "markdown",
   "metadata": {},
   "source": [
    "Como ejemplo utilizaremos el conjunto de datos **data_for_nbook_3_minimos_cuadrados.txt** el cual lo pueden descargar en el mismo directorio de este *ipynb* o bien dando click [aquí](https://drive.google.com/file/d/1Ht7d2E1LWw7EIrrkULFQ_7-5nGVxHT4P/view?usp=sharing) y ajustaremos tres modelos de la forma:"
   ]
  },
  {
   "cell_type": "markdown",
   "metadata": {},
   "source": [
    "$$f_1(x|\\beta) = \\beta_0 + \\beta_1 \\frac{x}{x+1}$$"
   ]
  },
  {
   "cell_type": "markdown",
   "metadata": {},
   "source": [
    "$$f_2(x|\\beta) = \\beta_0 + \\beta_1x + \\beta_2x^2$$"
   ]
  },
  {
   "cell_type": "markdown",
   "metadata": {},
   "source": [
    "$$f_3(x|\\beta) = \\beta_0 + \\beta_1\\text{log}(x+1)$$"
   ]
  },
  {
   "cell_type": "markdown",
   "metadata": {},
   "source": [
    "tomando como variable respuesta la segunda columna de los datos etiquetada como $y$."
   ]
  },
  {
   "cell_type": "code",
   "execution_count": null,
   "metadata": {
    "ExecuteTime": {
     "end_time": "2020-06-25T01:18:32.472230Z",
     "start_time": "2020-06-25T01:18:32.414662Z"
    }
   },
   "outputs": [],
   "source": [
    "datos = np.loadtxt('data_for_nbook_3_minimos_cuadrados.txt', skiprows=1)"
   ]
  },
  {
   "cell_type": "markdown",
   "metadata": {},
   "source": [
    "ver: [numpy.loadtxt](https://docs.scipy.org/doc/numpy/reference/generated/numpy.loadtxt.html)"
   ]
  },
  {
   "cell_type": "code",
   "execution_count": null,
   "metadata": {
    "ExecuteTime": {
     "end_time": "2020-06-25T01:18:34.688647Z",
     "start_time": "2020-06-25T01:18:34.685498Z"
    }
   },
   "outputs": [],
   "source": [
    "x = datos[:,0]\n",
    "y = datos[:,1]"
   ]
  },
  {
   "cell_type": "code",
   "execution_count": null,
   "metadata": {
    "ExecuteTime": {
     "end_time": "2020-06-25T01:18:35.254222Z",
     "start_time": "2020-06-25T01:18:35.023068Z"
    },
    "scrolled": true
   },
   "outputs": [],
   "source": [
    "plt.plot(x, y, 'r^')\n",
    "plt.legend(['datos'], loc='best')\n",
    "plt.title('datos')\n",
    "plt.show()"
   ]
  },
  {
   "cell_type": "markdown",
   "metadata": {},
   "source": [
    "### Modelo 1"
   ]
  },
  {
   "cell_type": "code",
   "execution_count": null,
   "metadata": {
    "ExecuteTime": {
     "end_time": "2020-06-25T01:19:16.810488Z",
     "start_time": "2020-06-25T01:19:16.804797Z"
    }
   },
   "outputs": [],
   "source": [
    "phi_1 = lambda var: var/(var+1)"
   ]
  },
  {
   "cell_type": "markdown",
   "metadata": {},
   "source": [
    "Construimos a la matriz A como sigue:"
   ]
  },
  {
   "cell_type": "code",
   "execution_count": null,
   "metadata": {
    "ExecuteTime": {
     "end_time": "2020-06-25T01:19:23.835148Z",
     "start_time": "2020-06-25T01:19:23.831831Z"
    }
   },
   "outputs": [],
   "source": [
    "mpoints, = x.shape\n",
    "A=np.ones((mpoints,2))\n",
    "A[:,1] = phi_1(x)"
   ]
  },
  {
   "cell_type": "markdown",
   "metadata": {},
   "source": [
    "Calculamos la factorización QR y graficamos:"
   ]
  },
  {
   "cell_type": "code",
   "execution_count": null,
   "metadata": {
    "ExecuteTime": {
     "end_time": "2020-06-25T01:20:21.030188Z",
     "start_time": "2020-06-25T01:20:21.027026Z"
    }
   },
   "outputs": [],
   "source": [
    "Q,R = np.linalg.qr(A)\n",
    "beta = np.linalg.solve(R,Q.T@y)"
   ]
  },
  {
   "cell_type": "code",
   "execution_count": null,
   "metadata": {
    "ExecuteTime": {
     "end_time": "2020-06-25T01:20:24.495599Z",
     "start_time": "2020-06-25T01:20:24.492230Z"
    }
   },
   "outputs": [],
   "source": [
    "print('beta')\n",
    "pprint.pprint(beta)"
   ]
  },
  {
   "cell_type": "code",
   "execution_count": null,
   "metadata": {
    "ExecuteTime": {
     "end_time": "2020-06-25T01:20:34.138054Z",
     "start_time": "2020-06-25T01:20:34.135513Z"
    }
   },
   "outputs": [],
   "source": [
    "y_hat_QR = A@beta"
   ]
  },
  {
   "cell_type": "markdown",
   "metadata": {},
   "source": [
    "**Obs: que la línea anterior es equivalente a realizar: `y_hat_QR = beta[0] + beta[1]*phi_1(x)`**"
   ]
  },
  {
   "cell_type": "code",
   "execution_count": null,
   "metadata": {
    "ExecuteTime": {
     "end_time": "2020-06-25T01:21:19.016011Z",
     "start_time": "2020-06-25T01:21:18.875112Z"
    }
   },
   "outputs": [],
   "source": [
    "plt.plot(x, y_hat_QR , 'k-',x, y, 'r^')\n",
    "plt.legend(['modelo1','datos'], loc='best')\n",
    "plt.show()"
   ]
  },
  {
   "cell_type": "markdown",
   "metadata": {},
   "source": [
    "### Modelo 2"
   ]
  },
  {
   "cell_type": "markdown",
   "metadata": {},
   "source": [
    "No tenemos que construir A pues es un polinomio de grado 2 por lo que usamos `polyfit` de `numpy`:"
   ]
  },
  {
   "cell_type": "code",
   "execution_count": null,
   "metadata": {
    "ExecuteTime": {
     "end_time": "2020-06-25T01:21:24.117031Z",
     "start_time": "2020-06-25T01:21:24.108245Z"
    }
   },
   "outputs": [],
   "source": [
    "ndegree = 2\n",
    "coefficients = np.polyfit(x,y,ndegree)"
   ]
  },
  {
   "cell_type": "code",
   "execution_count": null,
   "metadata": {
    "ExecuteTime": {
     "end_time": "2020-06-25T01:21:24.270705Z",
     "start_time": "2020-06-25T01:21:24.267666Z"
    }
   },
   "outputs": [],
   "source": [
    "pprint.pprint(coefficients)"
   ]
  },
  {
   "cell_type": "code",
   "execution_count": null,
   "metadata": {
    "ExecuteTime": {
     "end_time": "2020-06-25T01:21:24.402267Z",
     "start_time": "2020-06-25T01:21:24.399464Z"
    }
   },
   "outputs": [],
   "source": [
    "y_hat_numpy = coefficients[2] + coefficients[1] * x + coefficients[0] * x**2"
   ]
  },
  {
   "cell_type": "code",
   "execution_count": null,
   "metadata": {
    "ExecuteTime": {
     "end_time": "2020-06-25T01:21:24.785950Z",
     "start_time": "2020-06-25T01:21:24.635549Z"
    }
   },
   "outputs": [],
   "source": [
    "plt.plot(x, y_hat_numpy, 'k-',x, y, 'r^')\n",
    "plt.legend(['modelo polinomio cuadrático','datos'], loc='best')\n",
    "plt.show()"
   ]
  },
  {
   "cell_type": "markdown",
   "metadata": {},
   "source": [
    "### Modelo 3"
   ]
  },
  {
   "cell_type": "markdown",
   "metadata": {},
   "source": [
    "**(Tarea) Ejercicio: ajustar el modelo 3. Calcular ECM de cada modelo y realizar en una sola gráfica los tres modelos. ¿Cuál es el modelo con menor ECM? Realizar este ejercicio en un notebook de jupyter.**"
   ]
  }
 ],
 "metadata": {
  "kernelspec": {
   "display_name": "Python 3",
   "language": "python",
   "name": "python3"
  },
  "language_info": {
   "codemirror_mode": {
    "name": "ipython",
    "version": 3
   },
   "file_extension": ".py",
   "mimetype": "text/x-python",
   "name": "python",
   "nbconvert_exporter": "python",
   "pygments_lexer": "ipython3",
   "version": "3.7.4"
  }
 },
 "nbformat": 4,
 "nbformat_minor": 4
}
